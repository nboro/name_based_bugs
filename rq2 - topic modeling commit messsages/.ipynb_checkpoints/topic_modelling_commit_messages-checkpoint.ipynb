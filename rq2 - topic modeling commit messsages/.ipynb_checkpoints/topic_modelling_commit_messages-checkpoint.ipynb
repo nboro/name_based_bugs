{
 "cells": [
  {
   "cell_type": "code",
   "execution_count": 1,
   "metadata": {},
   "outputs": [
    {
     "name": "stderr",
     "output_type": "stream",
     "text": [
      "[nltk_data] Downloading package punkt to\n",
      "[nltk_data]     C:\\Users\\Userpc\\AppData\\Roaming\\nltk_data...\n",
      "[nltk_data]   Package punkt is already up-to-date!\n",
      "[nltk_data] Downloading package stopwords to\n",
      "[nltk_data]     C:\\Users\\Userpc\\AppData\\Roaming\\nltk_data...\n",
      "[nltk_data]   Package stopwords is already up-to-date!\n"
     ]
    },
    {
     "data": {
      "text/plain": [
       "True"
      ]
     },
     "execution_count": 1,
     "metadata": {},
     "output_type": "execute_result"
    }
   ],
   "source": [
    "import pandas as pd\n",
    "import numpy as np\n",
    "import pickle\n",
    "import re\n",
    "from pprint import pprint\n",
    "import matplotlib.pyplot as plt\n",
    "import seaborn as sns\n",
    "from collections import defaultdict\n",
    "sns.set\n",
    "%matplotlib inline\n",
    "import spacy\n",
    "import nltk\n",
    "from nltk import word_tokenize,sent_tokenize\n",
    "from nltk.tokenize import word_tokenize\n",
    "from nltk.corpus import stopwords\n",
    "from nltk.stem import PorterStemmer\n",
    "from gensim import corpora\n",
    "from gensim.models.ldamodel import LdaModel\n",
    "from sklearn.feature_extraction.text import CountVectorizer\n",
    "from sklearn.feature_extraction.text import TfidfVectorizer\n",
    "import pyLDAvis.gensim\n",
    "from sklearn.decomposition import TruncatedSVD\n",
    "from sklearn.decomposition import LatentDirichletAllocation\n",
    "from sklearn.manifold import TSNE\n",
    "from bokeh.plotting import figure, output_file, show\n",
    "from bokeh.models import Label,ColumnDataSource,Legend, LegendItem\n",
    "from bokeh.io import output_notebook\n",
    "from gensim.models import CoherenceModel\n",
    "from collections import Counter\n",
    "nltk.download('punkt')\n",
    "nltk.download('stopwords')"
   ]
  },
  {
   "cell_type": "code",
   "execution_count": 2,
   "metadata": {},
   "outputs": [],
   "source": [
    "commits_df = pd.read_excel('commits_from_merged_repos.xlsx')"
   ]
  },
  {
   "cell_type": "code",
   "execution_count": 3,
   "metadata": {},
   "outputs": [
    {
     "data": {
      "text/html": [
       "<div>\n",
       "<style scoped>\n",
       "    .dataframe tbody tr th:only-of-type {\n",
       "        vertical-align: middle;\n",
       "    }\n",
       "\n",
       "    .dataframe tbody tr th {\n",
       "        vertical-align: top;\n",
       "    }\n",
       "\n",
       "    .dataframe thead th {\n",
       "        text-align: right;\n",
       "    }\n",
       "</style>\n",
       "<table border=\"1\" class=\"dataframe\">\n",
       "  <thead>\n",
       "    <tr style=\"text-align: right;\">\n",
       "      <th></th>\n",
       "      <th>Unnamed: 0</th>\n",
       "      <th>Repo name</th>\n",
       "      <th>Commit hash</th>\n",
       "      <th>Commit msg</th>\n",
       "      <th>keywords</th>\n",
       "      <th>full_commit_url</th>\n",
       "    </tr>\n",
       "  </thead>\n",
       "  <tbody>\n",
       "    <tr>\n",
       "      <th>0</th>\n",
       "      <td>0</td>\n",
       "      <td>hashnfv/hashnfv-qtip</td>\n",
       "      <td>9dec9cdeaafb8c336dda3d61a92542ff63e1c6ff</td>\n",
       "      <td>Resolved bug in sys_info_collection playbook\\n...</td>\n",
       "      <td>{'bug'}</td>\n",
       "      <td>https://github.com/hashnfv/hashnfv-qtip/commit...</td>\n",
       "    </tr>\n",
       "    <tr>\n",
       "      <th>1</th>\n",
       "      <td>1</td>\n",
       "      <td>hashnfv/hashnfv-qtip</td>\n",
       "      <td>4c06a4ed3b3b22e3dbcddb33dda33ca773dfae11</td>\n",
       "      <td>error handling for the files being input to th...</td>\n",
       "      <td>{'fix', 'bug'}</td>\n",
       "      <td>https://github.com/hashnfv/hashnfv-qtip/commit...</td>\n",
       "    </tr>\n",
       "    <tr>\n",
       "      <th>2</th>\n",
       "      <td>2</td>\n",
       "      <td>hashnfv/hashnfv-qtip</td>\n",
       "      <td>3602709256e3e060dbbaf26c85f38891be4c7aa9</td>\n",
       "      <td>Patch for fixing ramspeed result_transform bug...</td>\n",
       "      <td>{'bug'}</td>\n",
       "      <td>https://github.com/hashnfv/hashnfv-qtip/commit...</td>\n",
       "    </tr>\n",
       "    <tr>\n",
       "      <th>3</th>\n",
       "      <td>3</td>\n",
       "      <td>hashnfv/hashnfv-qtip</td>\n",
       "      <td>bec658afadacfeeca9fbfbe598ceb5c5601a3372</td>\n",
       "      <td>run_qtip.sh fix\\n\\nRenamed compute.txt to comp...</td>\n",
       "      <td>{'fix'}</td>\n",
       "      <td>https://github.com/hashnfv/hashnfv-qtip/commit...</td>\n",
       "    </tr>\n",
       "    <tr>\n",
       "      <th>4</th>\n",
       "      <td>4</td>\n",
       "      <td>hashnfv/hashnfv-qtip</td>\n",
       "      <td>9cff8cab939a91867f413d2ecdf09aa93f40bfc0</td>\n",
       "      <td>bug fix in pushtodb\\n\\nChange-Id: I2cba0a80527...</td>\n",
       "      <td>{'fix', 'bug'}</td>\n",
       "      <td>https://github.com/hashnfv/hashnfv-qtip/commit...</td>\n",
       "    </tr>\n",
       "  </tbody>\n",
       "</table>\n",
       "</div>"
      ],
      "text/plain": [
       "   Unnamed: 0             Repo name                               Commit hash  \\\n",
       "0           0  hashnfv/hashnfv-qtip  9dec9cdeaafb8c336dda3d61a92542ff63e1c6ff   \n",
       "1           1  hashnfv/hashnfv-qtip  4c06a4ed3b3b22e3dbcddb33dda33ca773dfae11   \n",
       "2           2  hashnfv/hashnfv-qtip  3602709256e3e060dbbaf26c85f38891be4c7aa9   \n",
       "3           3  hashnfv/hashnfv-qtip  bec658afadacfeeca9fbfbe598ceb5c5601a3372   \n",
       "4           4  hashnfv/hashnfv-qtip  9cff8cab939a91867f413d2ecdf09aa93f40bfc0   \n",
       "\n",
       "                                          Commit msg        keywords  \\\n",
       "0  Resolved bug in sys_info_collection playbook\\n...         {'bug'}   \n",
       "1  error handling for the files being input to th...  {'fix', 'bug'}   \n",
       "2  Patch for fixing ramspeed result_transform bug...         {'bug'}   \n",
       "3  run_qtip.sh fix\\n\\nRenamed compute.txt to comp...         {'fix'}   \n",
       "4  bug fix in pushtodb\\n\\nChange-Id: I2cba0a80527...  {'fix', 'bug'}   \n",
       "\n",
       "                                     full_commit_url  \n",
       "0  https://github.com/hashnfv/hashnfv-qtip/commit...  \n",
       "1  https://github.com/hashnfv/hashnfv-qtip/commit...  \n",
       "2  https://github.com/hashnfv/hashnfv-qtip/commit...  \n",
       "3  https://github.com/hashnfv/hashnfv-qtip/commit...  \n",
       "4  https://github.com/hashnfv/hashnfv-qtip/commit...  "
      ]
     },
     "execution_count": 3,
     "metadata": {},
     "output_type": "execute_result"
    }
   ],
   "source": [
    "commits_df.head()"
   ]
  },
  {
   "cell_type": "code",
   "execution_count": 4,
   "metadata": {},
   "outputs": [
    {
     "data": {
      "text/plain": [
       "0       Resolved bug in sys_info_collection playbook\\n...\n",
       "1       error handling for the files being input to th...\n",
       "2       Patch for fixing ramspeed result_transform bug...\n",
       "3       run_qtip.sh fix\\n\\nRenamed compute.txt to comp...\n",
       "4       bug fix in pushtodb\\n\\nChange-Id: I2cba0a80527...\n",
       "                              ...                        \n",
       "4488    Add support for enabling authentication on the...\n",
       "4489    Clearing things up, add documentation\\n\\nAdd d...\n",
       "4490    grafana: fix gnocchi datasource config\\n\\nGraf...\n",
       "4491    Open gnocchi port - Refactor gnocchi\\n\\nCurren...\n",
       "4492    Check management refactor\\n\\nCurrent Sensu che...\n",
       "Name: Commit msg, Length: 4493, dtype: object"
      ]
     },
     "execution_count": 4,
     "metadata": {},
     "output_type": "execute_result"
    }
   ],
   "source": [
    "commits_df['Commit msg']"
   ]
  },
  {
   "cell_type": "code",
   "execution_count": 5,
   "metadata": {},
   "outputs": [],
   "source": [
    "corpus_commits = [word_tokenize(token) for token in commits_df['Commit msg']]"
   ]
  },
  {
   "cell_type": "code",
   "execution_count": 6,
   "metadata": {},
   "outputs": [],
   "source": [
    "lowercase_commits = [[token.lower() for token in doc] for doc in corpus_commits]"
   ]
  },
  {
   "cell_type": "code",
   "execution_count": 7,
   "metadata": {},
   "outputs": [],
   "source": [
    "alphas_commits = [[token for token in doc if token.isalpha()] for doc in lowercase_commits]"
   ]
  },
  {
   "cell_type": "code",
   "execution_count": 98,
   "metadata": {},
   "outputs": [],
   "source": [
    "stop_words = stopwords.words('english')\n",
    "stop_words.extend(['workshop','id','han','inaugustcom','corvus','james',\n",
    "                   'blair','fix','change','zabbix','bug','com','boylan',\n",
    "                   'clark','inaugust','ceph','ansible','redhat','gmail',\n",
    "                   'signed','merge','openstack','abrioux','guillaume',\n",
    "                   'ocp','osd','azure','gabrioux','pod','opentic','seb',\n",
    "                  'client','docker','https','yml','org','jenkins','readme',\n",
    "                   'jeremy','stanley','fungi','kevin','carter','dimitri',\n",
    "                   'savineu','monty','tailor','pete','birley','andrew',\n",
    "                   'schoen','openstack_project','yuggoth','zhang','yujun',\n",
    "                   'yujunz','closes','fridim','review','name','common',\n",
    "                   'rgw','adoc','main','lab','rbd','pr','prometheus',\n",
    "                   'oidc','ps','ha','3scale','enmasse', 'cvmfs','pp',\n",
    "                   'git','rhcs','job','debian','keystone','bugzilla',\n",
    "                   'want','python','add','pull','merged','commit',\n",
    "                   'default','test','tests','crabby','i0f6c7c88f5a153efac70c52e3c39a5ab7261f1fc',\n",
    "                   'use','2201','2291','i9d6adbe293543f953b0fd8b94b94cf21e914cc0b',\n",
    "                   'testaccbigquerytable_viewwithlegacysql','1568029',\n",
    "                   '1744','typos','doc','minor','downs','downloaded',\n",
    "                   'drawing','draw','drastically','dramirezp','dramatically',\n",
    "                   'dpkg','drivers','driven','drives','drift','drew',\n",
    "                   'dreamhost','dreaded','drag','drafts','draft','dprince',\n",
    "                   'dpdkctl','loc','telescope','gxadmin','flavours',\n",
    "                   'build_location_urls','drops','dropping','dropped',\n",
    "                   'drmaa','drivers','driver','drive','dpdk','downtime',\n",
    "                   'downstreams','downstreaming','downstream','downsides',\n",
    "                   'i278210477676fdb23db059309b955e7408cf2ec0','downloading', \n",
    "                   'dsavineau','dsavinea','ds','dry','drush','drupal','drop',\n",
    "                   'downside','due','dtdream','dtdg','dsvm','dstat','dss',\n",
    "                   'dsd','opentlc','roles','playbooks','also','puppet','logstash',\n",
    "                   'kibana','instead','gerrit','reverts','identity','comments',\n",
    "                   'taylor','mordred','rabbitmq','grafana','elasticsearch',\n",
    "                   'label','dot','nova','tempest','ipa','fixes','kilo','selinux',\n",
    "                  'ldap', 'pip', 'bootstrap','galera','haproxy'])"
   ]
  },
  {
   "cell_type": "code",
   "execution_count": 99,
   "metadata": {},
   "outputs": [],
   "source": [
    "commits_no_stop = [[token for token in doc if token not in stop_words] for doc in alphas_commits]"
   ]
  },
  {
   "cell_type": "code",
   "execution_count": 100,
   "metadata": {},
   "outputs": [],
   "source": [
    "commits_clean_no_stem = [ ' '.join(doc) for doc in commits_no_stop]"
   ]
  },
  {
   "cell_type": "code",
   "execution_count": 101,
   "metadata": {},
   "outputs": [],
   "source": [
    "stemmer = PorterStemmer()\n",
    "stemmed_commits = [[stemmer.stem(token) for token in doc] for doc in commits_no_stop]"
   ]
  },
  {
   "cell_type": "code",
   "execution_count": 102,
   "metadata": {},
   "outputs": [],
   "source": [
    "commits_clean_str = [ ' '.join(doc) for doc in stemmed_commits]"
   ]
  },
  {
   "cell_type": "markdown",
   "metadata": {},
   "source": [
    "<h4>Length of sentence</h4>"
   ]
  },
  {
   "cell_type": "code",
   "execution_count": 103,
   "metadata": {},
   "outputs": [],
   "source": [
    "nb_words_commits_nostop  = [len(tokens) for tokens in commits_no_stop]"
   ]
  },
  {
   "cell_type": "markdown",
   "metadata": {},
   "source": [
    "<h4>Average number of words per commit message</h4>"
   ]
  },
  {
   "cell_type": "code",
   "execution_count": 104,
   "metadata": {},
   "outputs": [
    {
     "data": {
      "text/plain": [
       "16.551747162252394"
      ]
     },
     "execution_count": 104,
     "metadata": {},
     "output_type": "execute_result"
    }
   ],
   "source": [
    "avg_nostop = np.mean(nb_words_commits_nostop)\n",
    "avg_nostop"
   ]
  },
  {
   "cell_type": "code",
   "execution_count": 105,
   "metadata": {},
   "outputs": [
    {
     "data": {
      "text/plain": [
       "46.548853772535054"
      ]
     },
     "execution_count": 105,
     "metadata": {},
     "output_type": "execute_result"
    }
   ],
   "source": [
    "nb_words_commits_stop  = [len(tokens) for tokens in lowercase_commits]\n",
    "avg_stop = np.mean(nb_words_commits_stop)\n",
    "avg_stop"
   ]
  },
  {
   "cell_type": "code",
   "execution_count": 106,
   "metadata": {},
   "outputs": [
    {
     "data": {
      "text/plain": [
       "10.0"
      ]
     },
     "execution_count": 106,
     "metadata": {},
     "output_type": "execute_result"
    }
   ],
   "source": [
    "np.median(nb_words_commits_nostop)"
   ]
  },
  {
   "cell_type": "code",
   "execution_count": 107,
   "metadata": {},
   "outputs": [
    {
     "data": {
      "text/plain": [
       "32.0"
      ]
     },
     "execution_count": 107,
     "metadata": {},
     "output_type": "execute_result"
    }
   ],
   "source": [
    "np.median(nb_words_commits_stop)"
   ]
  },
  {
   "cell_type": "code",
   "execution_count": 108,
   "metadata": {},
   "outputs": [
    {
     "data": {
      "text/plain": [
       "[('file', 530),\n",
       " ('role', 424),\n",
       " ('set', 421),\n",
       " ('using', 405),\n",
       " ('security', 395),\n",
       " ('update', 395),\n",
       " ('patch', 357),\n",
       " ('run', 352),\n",
       " ('new', 348),\n",
       " ('remove', 327)]"
      ]
     },
     "execution_count": 108,
     "metadata": {},
     "output_type": "execute_result"
    }
   ],
   "source": [
    "commons"
   ]
  },
  {
   "cell_type": "markdown",
   "metadata": {},
   "source": [
    "<h4>Counting the ten most common words in the commits</h4>"
   ]
  },
  {
   "cell_type": "code",
   "execution_count": 109,
   "metadata": {},
   "outputs": [
    {
     "data": {
      "image/png": "[encoded data removed]",
      "text/plain": [
       "<Figure size 864x576 with 1 Axes>"
      ]
     },
     "metadata": {
      "needs_background": "light"
     },
     "output_type": "display_data"
    }
   ],
   "source": [
    "counter = defaultdict(int)\n",
    "for doc in commits_no_stop:\n",
    "    for token in doc:\n",
    "        counter[token] += 1\n",
    "\n",
    "c = Counter(counter)\n",
    "\n",
    "commons = c.most_common(10)\n",
    "x = [x[0] for x in commons]\n",
    "y = [x[1] for x in commons]\n",
    "fig = plt.figure(figsize=(12, 8))\n",
    "ax = fig.add_axes([0,0,1,1])\n",
    "ax.grid(False)\n",
    "plt.bar(x,y)\n",
    "plt.xticks(fontsize=14,rotation=45)\n",
    "plt.yticks(fontsize=14)\n",
    "plt.xlabel('Words', fontsize=15,labelpad=15)\n",
    "plt.ylabel('Occurence\\nnumber', fontsize=15,rotation=0,labelpad=55)\n",
    "# plt.savefig('top10_words_commits.jpg',bbox_inches = 'tight')\n",
    "plt.show()"
   ]
  },
  {
   "cell_type": "markdown",
   "metadata": {},
   "source": [
    "<h4>Topic modelling with LDA</h4>"
   ]
  },
  {
   "cell_type": "code",
   "execution_count": 110,
   "metadata": {},
   "outputs": [],
   "source": [
    "dictionary = corpora.Dictionary(commits_no_stop)"
   ]
  },
  {
   "cell_type": "code",
   "execution_count": 111,
   "metadata": {},
   "outputs": [],
   "source": [
    "corpus_1_commits = [dictionary.doc2bow(token) for token in commits_no_stop]"
   ]
  },
  {
   "cell_type": "code",
   "execution_count": 120,
   "metadata": {},
   "outputs": [
    {
     "name": "stdout",
     "output_type": "stream",
     "text": [
      "Perplexity:  -8.524329827871986\n",
      "Wall time: 7.12 s\n"
     ]
    }
   ],
   "source": [
    "%%time\n",
    "lda_model_commits = LdaModel(corpus = corpus_1_commits, id2word=dictionary, num_topics=10,random_state=47,iterations=300,alpha='asymmetric',eta='symmetric')\n",
    "print('Perplexity: ', lda_model_commits.log_perplexity(corpus_1_commits))"
   ]
  },
  {
   "cell_type": "code",
   "execution_count": 121,
   "metadata": {},
   "outputs": [
    {
     "name": "stdout",
     "output_type": "stream",
     "text": [
      "Coherence Score:  0.3622662392595717\n"
     ]
    }
   ],
   "source": [
    "coherence_model_lda = CoherenceModel(model=lda_model_commits, texts=commits_no_stop, dictionary=dictionary, coherence='c_v')\n",
    "coherence_lda = coherence_model_lda.get_coherence()\n",
    "print('Coherence Score: ', coherence_lda)"
   ]
  },
  {
   "cell_type": "code",
   "execution_count": 122,
   "metadata": {},
   "outputs": [
    {
     "name": "stdout",
     "output_type": "stream",
     "text": [
      "[(0,\n",
      "  '0.016*\"container\" + 0.009*\"typo\" + 0.007*\"file\" + 0.007*\"issue\" + '\n",
      "  '0.007*\"added\" + 0.007*\"script\" + 0.006*\"image\" + 0.006*\"install\" + '\n",
      "  '0.006*\"within\" + 0.006*\"using\"'),\n",
      " (1,\n",
      "  '0.026*\"role\" + 0.012*\"task\" + 0.011*\"file\" + 0.009*\"tasks\" + 0.008*\"user\" + '\n",
      "  '0.008*\"hosts\" + 0.008*\"configuration\" + 0.008*\"patch\" + 0.007*\"error\" + '\n",
      "  '0.007*\"service\"'),\n",
      " (2,\n",
      "  '0.013*\"set\" + 0.012*\"update\" + 0.011*\"run\" + 0.010*\"version\" + 0.009*\"file\" '\n",
      "  '+ 0.009*\"variable\" + 0.009*\"used\" + 0.008*\"support\" + 0.008*\"value\" + '\n",
      "  '0.007*\"environment\"'),\n",
      " (3,\n",
      "  '0.037*\"security\" + 0.022*\"update\" + 0.016*\"request\" + 0.012*\"context\" + '\n",
      "  '0.012*\"updated\" + 0.011*\"updates\" + 0.010*\"service\" + 0.008*\"list\" + '\n",
      "  '0.008*\"services\" + 0.008*\"container\"'),\n",
      " (4,\n",
      "  '0.011*\"host\" + 0.008*\"swap\" + 0.007*\"neutron\" + 0.007*\"role\" + '\n",
      "  '0.007*\"upgrade\" + 0.007*\"user\" + 0.007*\"changes\" + 0.007*\"patch\" + '\n",
      "  '0.006*\"playbook\" + 0.006*\"branch\"'),\n",
      " (5,\n",
      "  '0.020*\"docs\" + 0.013*\"file\" + 0.013*\"inventory\" + 0.013*\"configuration\" + '\n",
      "  '0.009*\"ssl\" + 0.009*\"files\" + 0.008*\"refactor\" + 0.008*\"patch\" + '\n",
      "  '0.008*\"guide\" + 0.006*\"resource\"'),\n",
      " (6,\n",
      "  '0.014*\"gate\" + 0.012*\"group\" + 0.011*\"rolling\" + 0.010*\"osds\" + '\n",
      "  '0.009*\"ironic\" + 0.009*\"value\" + 0.009*\"firewall\" + 0.009*\"css\" + '\n",
      "  '0.008*\"loop\" + 0.008*\"support\"'),\n",
      " (7,\n",
      "  '0.019*\"aio\" + 0.011*\"updated\" + 0.011*\"updates\" + 0.010*\"set\" + '\n",
      "  '0.010*\"using\" + 0.010*\"new\" + 0.009*\"patch\" + 0.007*\"small\" + '\n",
      "  '0.007*\"script\" + 0.006*\"sha\"'),\n",
      " (8,\n",
      "  '0.014*\"set\" + 0.013*\"ip\" + 0.013*\"edits\" + 0.011*\"patch\" + 0.010*\"upgrades\" '\n",
      "  '+ 0.010*\"docs\" + 0.010*\"removes\" + 0.009*\"link\" + 0.007*\"overall\" + '\n",
      "  '0.007*\"actual\"'),\n",
      " (9,\n",
      "  '0.049*\"memory\" + 0.019*\"setuptools\" + 0.017*\"options\" + 0.012*\"available\" + '\n",
      "  '0.010*\"reduce\" + 0.010*\"amount\" + 0.009*\"version\" + 0.009*\"ensure\" + '\n",
      "  '0.008*\"replace\" + 0.008*\"hardware\"')]\n"
     ]
    }
   ],
   "source": [
    "pprint(lda_model_commits.print_topics())"
   ]
  },
  {
   "cell_type": "code",
   "execution_count": 123,
   "metadata": {},
   "outputs": [
    {
     "name": "stdout",
     "output_type": "stream",
     "text": [
      "Topic 0 : container typo file issue added script image install within using\n",
      "-----------\n",
      "Topic 1 : role task file tasks user hosts configuration patch error service\n",
      "-----------\n",
      "Topic 2 : set update run version file variable used support value environment\n",
      "-----------\n",
      "Topic 3 : security update request context updated updates service list services container\n",
      "-----------\n",
      "Topic 4 : host swap neutron role upgrade user changes patch playbook branch\n",
      "-----------\n",
      "Topic 5 : docs file inventory configuration ssl files refactor patch guide resource\n",
      "-----------\n",
      "Topic 6 : gate group rolling osds ironic value firewall css loop support\n",
      "-----------\n",
      "Topic 7 : aio updated updates set using new patch small script sha\n",
      "-----------\n",
      "Topic 8 : set ip edits patch upgrades docs removes link overall actual\n",
      "-----------\n",
      "Topic 9 : memory setuptools options available reduce amount version ensure replace hardware\n",
      "-----------\n"
     ]
    }
   ],
   "source": [
    "x=lda_model_commits.show_topics(num_topics=25, num_words=10,formatted=False)\n",
    "topics_words = [(tp[0], [wd[0] for wd in tp[1]]) for tp in x]\n",
    "for topic,words in topics_words:\n",
    "    print('Topic',topic,':',\" \".join(words))\n",
    "    print('-----------')"
   ]
  },
  {
   "cell_type": "code",
   "execution_count": 96,
   "metadata": {},
   "outputs": [],
   "source": [
    "pyLDAvis.enable_notebook()"
   ]
  },
  {
   "cell_type": "code",
   "execution_count": 97,
   "metadata": {},
   "outputs": [
    {
     "data": {
      "text/html": [
       "\n",
       "<link rel=\"stylesheet\" type=\"text/css\" href=\"https://cdn.rawgit.com/bmabey/pyLDAvis/files/ldavis.v1.0.0.css\">\n",
       "\n",
       "\n",
       "<div id=\"ldavis_el83847349284790486208833470\"></div>\n",
       "<script type=\"text/javascript\">\n",
       "\n",
       "var ldavis_el83847349284790486208833470_data = {\"mdsDat\": {\"x\": [-0.07964316947455832, -0.0946494212530309, -0.08615272340415475, -0.06780927237144006, -0.04782472876124318, -0.03550190887441181, 0.0515615176674194, 0.061886505611020055, 0.13277222934455754, 0.1653609715158422], \"y\": [-0.01442522672224108, -0.021305340894554152, -0.018086345890808875, -0.016741087114306757, -0.004053312070381309, 0.15513569871038416, -0.00040143541195831426, -0.09245964769068286, -0.09689425657058541, 0.10923095365513447], \"topics\": [1, 2, 3, 4, 5, 6, 7, 8, 9, 10], \"cluster\": [1, 1, 1, 1, 1, 1, 1, 1, 1, 1], \"Freq\": [24.042495727539062, 18.95823097229004, 14.70916748046875, 11.139566421508789, 8.957707405090332, 5.933999061584473, 5.6304612159729, 4.1450324058532715, 3.9441633224487305, 2.539167881011963]}, \"tinfo\": {\"Term\": [\"update\", \"docs\", \"security\", \"memory\", \"container\", \"links\", \"sha\", \"haproxy\", \"replace\", \"aio\", \"http\", \"set\", \"ssl\", \"upgrade\", \"hosts\", \"opensuse\", \"swap\", \"patch\", \"value\", \"file\", \"task\", \"variable\", \"environment\", \"role\", \"host\", \"gate\", \"maintenance\", \"missing\", \"branch\", \"used\", \"filesystem\", \"utility\", \"cert\", \"os\", \"xrange\", \"cipher\", \"bind\", \"usability\", \"consistency\", \"lxc\", \"scope\", \"mistral\", \"installations\", \"receive\", \"apt\", \"catalog\", \"providing\", \"interpreter\", \"inconsistencies\", \"labs\", \"typo\", \"ips\", \"ops\", \"explanation\", \"comes\", \"journals\", \"improvement\", \"templating\", \"forcing\", \"mounts\", \"trivial\", \"mount\", \"profile\", \"plays\", \"locally\", \"container\", \"library\", \"linters\", \"request\", \"warnings\", \"cache\", \"within\", \"installed\", \"containers\", \"package\", \"setuptools\", \"version\", \"upstream\", \"appropriate\", \"install\", \"host\", \"script\", \"build\", \"ci\", \"issue\", \"variables\", \"venv\", \"directory\", \"update\", \"using\", \"packages\", \"role\", \"path\", \"file\", \"hosts\", \"need\", \"docs\", \"removed\", \"task\", \"configuration\", \"list\", \"ensure\", \"inventory\", \"make\", \"patch\", \"set\", \"hardening\", \"chart\", \"journal\", \"dictionary\", \"collect\", \"phase\", \"vs\", \"ring\", \"intention\", \"duplicated\", \"jewel\", \"suse\", \"rotation\", \"skipping\", \"ebtables\", \"backends\", \"apps\", \"permission\", \"partially\", \"secondary\", \"rally\", \"multinode\", \"temp\", \"tuned\", \"serial\", \"scenarios\", \"caching\", \"adjust\", \"jsonfile\", \"evan\", \"init\", \"security\", \"systemd\", \"namespace\", \"stopped\", \"middleware\", \"memcached\", \"gain\", \"api\", \"services\", \"protocol\", \"context\", \"apache\", \"neutron\", \"know\", \"performance\", \"firewall\", \"upgrades\", \"user\", \"jobs\", \"adds\", \"role\", \"support\", \"implements\", \"service\", \"patch\", \"changes\", \"nodes\", \"ensure\", \"blueprint\", \"run\", \"update\", \"check\", \"configuration\", \"set\", \"release\", \"deployment\", \"since\", \"file\", \"remove\", \"host\", \"new\", \"edits\", \"event\", \"revision\", \"alembic\", \"idp\", \"conntrackd\", \"listener\", \"replication\", \"pipefail\", \"subset\", \"increases\", \"compatibility\", \"delegate\", \"hyperlink\", \"rescue\", \"optimal\", \"fstab\", \"sink\", \"larger\", \"relying\", \"deployers\", \"stops\", \"fwaas\", \"rewrite\", \"expand\", \"becomes\", \"develop\", \"simplified\", \"temptest\", \"loopback\", \"migrations\", \"supports\", \"parsed\", \"todo\", \"minute\", \"containerized\", \"defined\", \"added\", \"updated\", \"pinned\", \"note\", \"neutron\", \"authentication\", \"facts\", \"updates\", \"branch\", \"docs\", \"policy\", \"referenced\", \"db\", \"release\", \"playbook\", \"migration\", \"auth\", \"content\", \"device\", \"configuration\", \"future\", \"link\", \"master\", \"using\", \"remove\", \"resource\", \"support\", \"refactor\", \"update\", \"image\", \"variable\", \"may\", \"file\", \"issue\", \"service\", \"install\", \"run\", \"set\", \"option\", \"role\", \"flush\", \"tooling\", \"css\", \"directive\", \"macros\", \"reverting\", \"src\", \"beyond\", \"dump\", \"duplicating\", \"sorts\", \"assets\", \"bundle\", \"venvs\", \"layout\", \"complicated\", \"dest\", \"tiny\", \"sizes\", \"mechanism\", \"pause\", \"issued\", \"hacking\", \"reboot\", \"platform\", \"existance\", \"unarchive\", \"nearly\", \"bare\", \"statically\", \"keys\", \"exit\", \"behaviour\", \"theme\", \"simplify\", \"reload\", \"bp\", \"appropriately\", \"effectively\", \"functions\", \"aio\", \"warning\", \"pypi\", \"juno\", \"arguments\", \"variable\", \"integrated\", \"understand\", \"file\", \"ip\", \"key\", \"pass\", \"call\", \"specified\", \"deprecated\", \"distro\", \"yaml\", \"cleanup\", \"right\", \"role\", \"set\", \"patch\", \"replace\", \"using\", \"new\", \"line\", \"need\", \"files\", \"used\", \"option\", \"repo\", \"variables\", \"tasks\", \"error\", \"config\", \"venv\", \"create\", \"user\", \"version\", \"code\", \"module\", \"work\", \"swap\", \"discovery\", \"constraint\", \"active\", \"applying\", \"folks\", \"intervals\", \"hacks\", \"threads\", \"occuring\", \"cirros\", \"shipped\", \"authenticate\", \"suggests\", \"live\", \"formatted\", \"accommodate\", \"distributions\", \"decide\", \"capable\", \"worth\", \"distribute\", \"io\", \"deb\", \"proof\", \"runtimes\", \"displays\", \"molecule\", \"remaining\", \"january\", \"distros\", \"total\", \"region\", \"coverage\", \"smart\", \"footprint\", \"long\", \"ram\", \"increase\", \"unnecessary\", \"inline\", \"limit\", \"memory\", \"gate\", \"bump\", \"timeout\", \"number\", \"amount\", \"available\", \"used\", \"processes\", \"sadly\", \"aio\", \"deployment\", \"horizon\", \"image\", \"plugin\", \"command\", \"files\", \"task\", \"set\", \"patch\", \"remove\", \"run\", \"running\", \"work\", \"host\", \"new\", \"get\", \"inventory\", \"service\", \"version\", \"performance\", \"constrained\", \"dashboard\", \"compression\", \"accordingly\", \"resize\", \"listen\", \"filesystems\", \"starvation\", \"ahead\", \"rolling\", \"listening\", \"ports\", \"login\", \"mac\", \"django\", \"insufficient\", \"tokens\", \"nature\", \"maintained\", \"quotes\", \"osprofiler\", \"redefine\", \"testenv\", \"dep\", \"basepython\", \"reviewed\", \"reduction\", \"flatten\", \"forks\", \"btrfs\", \"environments\", \"privileges\", \"testr\", \"conflict\", \"prior\", \"configurable\", \"interfaces\", \"gnocchi\", \"overrides\", \"value\", \"specify\", \"breaks\", \"upgrade\", \"environment\", \"override\", \"set\", \"true\", \"options\", \"tox\", \"keepalived\", \"ironic\", \"like\", \"used\", \"number\", \"module\", \"order\", \"run\", \"master\", \"version\", \"update\", \"running\", \"file\", \"adds\", \"patch\", \"cached\", \"vagrantfile\", \"vulnerable\", \"design\", \"bugfix\", \"displaying\", \"integer\", \"lowers\", \"chosen\", \"jinja\", \"critical\", \"activation\", \"stderr\", \"busy\", \"pods\", \"pools\", \"assume\", \"casting\", \"indicates\", \"parameterize\", \"exits\", \"unpin\", \"displayed\", \"continuous\", \"upper\", \"delta\", \"semantics\", \"pvc\", \"ease\", \"overwritten\", \"vagrant\", \"configuring\", \"repositories\", \"unblock\", \"memory\", \"rsync\", \"vm\", \"ssl\", \"wheels\", \"url\", \"scenario\", \"come\", \"reduce\", \"template\", \"check\", \"directory\", \"defaults\", \"two\", \"create\", \"needed\", \"inventory\", \"new\", \"request\", \"host\", \"used\", \"option\", \"list\", \"file\", \"patch\", \"netcat\", \"flushing\", \"uploads\", \"ovn\", \"experiencing\", \"favor\", \"understanding\", \"echo\", \"daemons\", \"syncs\", \"appending\", \"appeared\", \"clearer\", \"repeat\", \"alarm\", \"omit\", \"isolate\", \"pci\", \"printed\", \"statements\", \"refactoring\", \"gathered\", \"notices\", \"lb\", \"onwards\", \"operator\", \"transition\", \"tacker\", \"increasing\", \"capture\", \"entries\", \"simplifies\", \"haproxy\", \"show\", \"sha\", \"message\", \"rsync\", \"requirements\", \"hosts\", \"maintenance\", \"osa\", \"group\", \"stdout\", \"sadly\", \"patch\", \"run\", \"play\", \"register\", \"role\", \"branch\", \"changes\", \"set\", \"log\", \"using\", \"path\", \"output\", \"per\", \"host\", \"make\", \"repo\", \"would\", \"changed\", \"menu\", \"referring\", \"modifies\", \"spelling\", \"preferred\", \"openssl\", \"flow\", \"operators\", \"onto\", \"sphinxmark\", \"opensuse\", \"self\", \"enablement\", \"gpt\", \"continues\", \"parses\", \"underscore\", \"dangling\", \"reservation\", \"jeblair\", \"insecure\", \"openstacktheme\", \"nodeset\", \"focus\", \"osds\", \"distributed\", \"nonvoting\", \"expression\", \"dedicated\", \"copies\", \"podman\", \"delegation\", \"handles\", \"conditional\", \"undefined\", \"whenever\", \"going\", \"item\", \"symlink\", \"target\", \"syntax\", \"pool\", \"node\", \"maintenance\", \"section\", \"task\", \"kernel\", \"applied\", \"certificate\", \"already\", \"patch\", \"check\", \"configuration\", \"new\", \"branch\", \"removes\", \"error\", \"files\", \"page\", \"names\", \"mon\", \"inclusions\", \"ship\", \"translations\", \"fernet\", \"constantly\", \"responsible\", \"alignment\", \"rst\", \"importance\", \"newlines\", \"utilize\", \"investigated\", \"adapted\", \"aug\", \"spawning\", \"tuesday\", \"nothing\", \"act\", \"mask\", \"retrying\", \"purposes\", \"effect\", \"giturl\", \"links\", \"urls\", \"freezer\", \"march\", \"launched\", \"sec\", \"handler\", \"static\", \"suite\", \"networks\", \"dynamic\", \"document\", \"http\", \"balancer\", \"replace\", \"docs\", \"update\", \"ssl\", \"according\", \"missing\", \"admin\", \"wrong\", \"changed\", \"config\", \"port\", \"container\", \"content\", \"host\", \"containers\", \"migration\"], \"Freq\": [419.0, 325.0, 451.0, 219.0, 367.0, 72.0, 126.0, 117.0, 158.0, 149.0, 121.0, 447.0, 94.0, 186.0, 202.0, 59.0, 77.0, 487.0, 141.0, 564.0, 269.0, 276.0, 158.0, 507.0, 359.0, 204.0, 89.0, 107.0, 145.0, 319.0, 30.00705909729004, 24.600414276123047, 23.7099552154541, 23.700260162353516, 23.50511360168457, 22.753076553344727, 20.799339294433594, 19.031354904174805, 40.05896759033203, 49.097923278808594, 16.093576431274414, 13.860424041748047, 16.268762588500977, 13.16061782836914, 52.6722526550293, 12.172272682189941, 12.124085426330566, 11.631166458129883, 11.598647117614746, 11.29326057434082, 126.95332336425781, 16.70391845703125, 15.462145805358887, 9.347688674926758, 12.671163558959961, 16.595314025878906, 9.056268692016602, 8.853565216064453, 8.377178192138672, 8.36890983581543, 12.971338272094727, 40.630287170410156, 25.545513153076172, 26.349773406982422, 18.818635940551758, 266.9357604980469, 43.29777145385742, 35.482269287109375, 143.32150268554688, 31.553686141967773, 55.1719970703125, 131.8424835205078, 77.87049865722656, 125.8316879272461, 81.86976623535156, 35.19041442871094, 146.71104431152344, 91.19048309326172, 44.715328216552734, 114.60383605957031, 161.44432067871094, 113.3436508178711, 68.56973266601562, 49.30541229248047, 107.75797271728516, 78.27164459228516, 57.239288330078125, 65.86886596679688, 139.23934936523438, 133.7276153564453, 61.448665618896484, 143.70277404785156, 74.00584411621094, 133.619873046875, 79.79962921142578, 85.83097839355469, 96.53036499023438, 76.20820617675781, 84.97863006591797, 85.35731506347656, 68.37725067138672, 70.71785736083984, 70.30667877197266, 70.92565155029297, 72.4671401977539, 71.69786834716797, 67.15486907958984, 38.399131774902344, 36.263633728027344, 32.782169342041016, 20.76079559326172, 20.849266052246094, 17.379018783569336, 16.74677085876465, 17.030134201049805, 16.438053131103516, 15.883806228637695, 26.212697982788086, 13.482756614685059, 13.2708740234375, 13.198342323303223, 12.821186065673828, 11.250334739685059, 18.06495475769043, 33.23957824707031, 9.643463134765625, 11.11546516418457, 10.843095779418945, 9.116364479064941, 9.03557300567627, 30.39447021484375, 8.751788139343262, 21.266956329345703, 15.096155166625977, 8.537918090820312, 8.526378631591797, 21.22832489013672, 370.01678466796875, 60.90583419799805, 35.94728469848633, 16.31312370300293, 53.51554870605469, 23.371639251708984, 16.22264289855957, 71.78401947021484, 141.521240234375, 22.070634841918945, 68.85652160644531, 36.77676773071289, 91.37895202636719, 23.719160079956055, 83.1927261352539, 29.260791778564453, 39.51005554199219, 106.5308609008789, 82.25299072265625, 93.65284729003906, 158.7453155517578, 91.4919662475586, 87.21094512939453, 106.27253723144531, 140.1033477783203, 87.22881317138672, 54.09700393676758, 78.5818099975586, 61.86685562133789, 88.00372314453125, 99.22763061523438, 72.64608001708984, 73.59586334228516, 81.49635314941406, 55.61750793457031, 56.6130256652832, 53.157840728759766, 71.8071060180664, 60.95209884643555, 58.69249725341797, 56.615997314453125, 37.569732666015625, 23.346702575683594, 25.68865203857422, 21.906997680664062, 16.917158126831055, 17.596416473388672, 14.986193656921387, 14.527029991149902, 14.459199905395508, 14.456275939941406, 14.445660591125488, 13.999547958374023, 14.926194190979004, 12.789201736450195, 12.786243438720703, 12.750134468078613, 12.73275375366211, 12.64387321472168, 12.386007308959961, 12.388980865478516, 66.03011322021484, 13.395627975463867, 14.351105690002441, 11.024868965148926, 18.981233596801758, 9.722872734069824, 9.196810722351074, 9.138667106628418, 8.884608268737793, 8.835426330566406, 31.126737594604492, 18.42848777770996, 12.719659805297852, 15.03012466430664, 16.617761611938477, 24.0352725982666, 47.379371643066406, 120.55681610107422, 121.26935577392578, 26.133102416992188, 70.48937225341797, 74.275634765625, 55.651695251464844, 34.01555252075195, 92.99813842773438, 63.95854568481445, 107.19281005859375, 25.86079216003418, 21.48629379272461, 31.885404586791992, 61.45676040649414, 71.97018432617188, 26.629657745361328, 20.98711585998535, 43.96814727783203, 27.79701805114746, 71.83208465576172, 29.815750122070312, 35.0389518737793, 51.84465789794922, 74.07743835449219, 61.451873779296875, 48.01787567138672, 52.782325744628906, 46.673301696777344, 65.46431732177734, 41.890342712402344, 52.601585388183594, 42.09552764892578, 59.176021575927734, 46.9260139465332, 48.75407028198242, 45.14690017700195, 48.19166564941406, 47.9680061340332, 42.76863479614258, 44.03680419921875, 22.967790603637695, 17.22355842590332, 17.313457489013672, 15.027761459350586, 11.649048805236816, 10.68156909942627, 10.121830940246582, 9.573823928833008, 9.562915802001953, 9.760831832885742, 8.97217845916748, 8.929442405700684, 8.541914939880371, 13.453996658325195, 11.058243751525879, 9.73696517944336, 6.882897853851318, 6.876714706420898, 9.4182767868042, 24.94704246520996, 5.537741661071777, 5.453781604766846, 5.310272216796875, 5.302774429321289, 6.044488430023193, 5.22288179397583, 5.222139835357666, 5.2205610275268555, 12.167425155639648, 5.1909027099609375, 20.67900276184082, 16.0189208984375, 21.074729919433594, 9.217190742492676, 19.9005184173584, 21.657089233398438, 15.908018112182617, 22.40118980407715, 9.089056968688965, 25.156326293945312, 97.70909881591797, 47.4266357421875, 28.42310333251953, 27.670644760131836, 21.710378646850586, 126.73136138916016, 40.5989990234375, 18.298076629638672, 197.08897399902344, 59.66526794433594, 46.299400329589844, 22.404380798339844, 26.906246185302734, 21.38044548034668, 26.002017974853516, 28.631088256835938, 26.801162719726562, 42.51063919067383, 29.75333595275879, 91.04505920410156, 84.3171615600586, 84.46967315673828, 47.486732482910156, 70.70714569091797, 59.00581359863281, 34.67206573486328, 46.865196228027344, 42.5095100402832, 46.2100830078125, 38.98163604736328, 35.51447296142578, 35.966400146484375, 36.19265365600586, 35.37617492675781, 33.533023834228516, 30.45386505126953, 33.149784088134766, 34.44558334350586, 34.90473937988281, 32.605438232421875, 32.729984283447266, 31.92323112487793, 76.30377960205078, 19.88363265991211, 19.179964065551758, 21.290023803710938, 12.167028427124023, 13.501583099365234, 11.296337127685547, 10.647035598754883, 34.59144973754883, 10.253949165344238, 10.258502960205078, 9.73511028289795, 10.786742210388184, 6.695415496826172, 18.991779327392578, 6.436058521270752, 6.435216903686523, 6.076425552368164, 5.814528942108154, 5.814579010009766, 5.794493198394775, 5.409729480743408, 19.070480346679688, 5.168601989746094, 5.146749496459961, 5.129034996032715, 4.970602512359619, 11.562736511230469, 6.081310272216797, 4.907969951629639, 32.573368072509766, 11.853196144104004, 11.655094146728516, 30.80369758605957, 6.806759357452393, 12.751652717590332, 27.07020378112793, 22.93010139465332, 39.057979583740234, 20.764812469482422, 11.627964973449707, 24.604127883911133, 88.32267761230469, 81.78970336914062, 30.079387664794922, 25.914779663085938, 32.59485626220703, 22.22307014465332, 35.99198532104492, 65.79125213623047, 17.621875762939453, 17.369104385375977, 39.543453216552734, 40.833961486816406, 22.57951545715332, 35.18986892700195, 25.91390037536621, 33.2138557434082, 37.27804183959961, 38.96982192993164, 46.418663024902344, 47.27471160888672, 36.665889739990234, 36.85836410522461, 33.216312408447266, 31.72256088256836, 36.76316452026367, 35.244300842285156, 27.843576431274414, 28.622581481933594, 29.578022003173828, 28.023889541625977, 27.171491622924805, 27.249555587768555, 17.07752799987793, 18.737913131713867, 14.058780670166016, 13.760629653930664, 23.841716766357422, 11.379057884216309, 9.068787574768066, 8.981499671936035, 20.081331253051758, 9.899576187133789, 16.108295440673828, 6.6331939697265625, 13.374485969543457, 9.686635971069336, 5.276915073394775, 5.270308017730713, 5.268396377563477, 5.244731903076172, 25.415861129760742, 4.950006008148193, 4.927312850952148, 9.49924087524414, 9.49682903289795, 9.266067504882812, 4.671289443969727, 5.172019958496094, 4.628751277923584, 4.599079132080078, 4.555121421813965, 40.852508544921875, 6.251251697540283, 15.995187759399414, 10.448529243469238, 31.233047485351562, 28.600635528564453, 10.421804428100586, 24.83696746826172, 25.490629196166992, 64.84148406982422, 37.377777099609375, 21.233219146728516, 59.57426071166992, 51.69259262084961, 27.121551513671875, 71.67694854736328, 36.63629150390625, 38.340087890625, 24.04167938232422, 20.938798904418945, 15.128128051757812, 30.161212921142578, 46.0186882019043, 23.60811424255371, 32.99339294433594, 28.51897430419922, 34.567222595214844, 29.679471969604492, 32.00962829589844, 34.606746673583984, 26.779428482055664, 30.673351287841797, 24.234590530395508, 25.56598663330078, 24.057498931884766, 18.504837036132812, 19.033924102783203, 13.899169921875, 18.949172973632812, 13.06419849395752, 12.956418991088867, 12.879204750061035, 9.452897071838379, 33.854713439941406, 7.9316301345825195, 7.169332504272461, 7.167336463928223, 7.81772518157959, 25.535329818725586, 8.813840866088867, 6.501925945281982, 6.384047031402588, 6.376888751983643, 6.3577752113342285, 6.349216461181641, 6.314818382263184, 6.263978481292725, 6.212749004364014, 8.181904792785645, 5.763335704803467, 6.424717426300049, 6.820223331451416, 6.345547676086426, 4.998549938201904, 17.84290885925293, 27.569644927978516, 24.189172744750977, 13.11324405670166, 67.13495635986328, 28.30611801147461, 21.05386734008789, 36.4514274597168, 11.14134693145752, 26.692062377929688, 22.934040069580078, 8.659563064575195, 22.97538948059082, 25.692333221435547, 38.36806869506836, 26.338298797607422, 20.1002140045166, 21.278295516967773, 25.694929122924805, 21.38055992126465, 24.834678649902344, 27.964370727539062, 23.754981994628906, 24.05900764465332, 22.851451873779297, 20.288862228393555, 19.70903778076172, 22.554832458496094, 20.479949951171875, 20.266916275024414, 14.872387886047363, 12.325963020324707, 11.44279956817627, 9.922496795654297, 9.481057167053223, 10.840556144714355, 16.38037109375, 6.600118637084961, 5.893365383148193, 5.807782173156738, 5.241086959838867, 5.234135150909424, 5.206920146942139, 5.19363260269165, 5.183687686920166, 5.188382625579834, 5.066922664642334, 5.333183288574219, 27.450117111206055, 4.087343692779541, 6.045531272888184, 5.14982795715332, 9.987074851989746, 5.103612899780273, 8.392807960510254, 4.362604141235352, 3.3246562480926514, 6.513625621795654, 2.1273839473724365, 23.02167320251465, 6.4105000495910645, 55.63432312011719, 12.856465339660645, 49.381954193115234, 20.693809509277344, 26.364566802978516, 25.421566009521484, 38.61442947387695, 23.95895004272461, 22.144901275634766, 30.39531135559082, 11.2720365524292, 11.094074249267578, 38.397037506103516, 29.45855712890625, 14.157447814941406, 9.268969535827637, 30.566293716430664, 18.606197357177734, 21.444515228271484, 23.491832733154297, 17.04094696044922, 20.56000328063965, 15.855792999267578, 13.045978546142578, 12.387178421020508, 16.018312454223633, 14.943341255187988, 13.996184349060059, 13.103826522827148, 12.9597806930542, 31.698381423950195, 17.025466918945312, 16.34056854248047, 15.17469310760498, 12.5260009765625, 11.89920425415039, 15.204378128051758, 11.623903274536133, 11.999715805053711, 10.751317024230957, 54.230712890625, 7.440747261047363, 6.128873348236084, 6.780206203460693, 6.113481521606445, 5.750596523284912, 5.745753765106201, 5.477139472961426, 5.45709228515625, 5.439088344573975, 5.323901653289795, 5.302114963531494, 16.013357162475586, 6.207555294036865, 19.647035598754883, 9.878076553344727, 3.631936550140381, 3.6260862350463867, 17.782520294189453, 6.815408706665039, 6.410014629364014, 6.255703926086426, 12.594375610351562, 24.701004028320312, 25.838865280151367, 11.812397003173828, 17.483455657958984, 10.955427169799805, 9.184924125671387, 18.036575317382812, 17.627050399780273, 10.6546049118042, 25.342348098754883, 22.127620697021484, 20.75250244140625, 37.35755920410156, 14.368424415588379, 15.55679988861084, 13.596071243286133, 22.611955642700195, 24.56778907775879, 20.78134536743164, 20.22751235961914, 19.478687286376953, 17.01048469543457, 16.995588302612305, 16.951826095581055, 15.782990455627441, 13.828496932983398, 13.914178848266602, 22.222135543823242, 14.17756462097168, 13.38094425201416, 8.636590957641602, 20.762161254882812, 8.467305183410645, 8.998016357421875, 8.68764877319336, 17.253772735595703, 5.011568069458008, 5.019590854644775, 4.700870513916016, 4.946429252624512, 4.488219738006592, 4.459114074707031, 4.369593143463135, 3.1807994842529297, 6.402121543884277, 2.90513277053833, 2.441350221633911, 2.4317643642425537, 5.1142144203186035, 4.678838729858398, 2.3653013706207275, 52.59928512573242, 9.492907524108887, 1.5934966802597046, 1.573225498199463, 1.371060848236084, 1.3556137084960938, 20.225847244262695, 13.216503143310547, 11.278335571289062, 8.793869972229004, 20.09821319580078, 11.48089599609375, 30.597524642944336, 8.136722564697266, 29.28110694885254, 38.84071350097656, 42.32867431640625, 19.32585334777832, 11.282164573669434, 17.673583984375, 11.787522315979004, 11.005041122436523, 15.52718448638916, 15.26506233215332, 11.606270790100098, 16.70939064025879, 11.710505485534668, 12.484474182128906, 10.929024696350098, 9.261070251464844], \"Total\": [419.0, 325.0, 451.0, 219.0, 367.0, 72.0, 126.0, 117.0, 158.0, 149.0, 121.0, 447.0, 94.0, 186.0, 202.0, 59.0, 77.0, 487.0, 141.0, 564.0, 269.0, 276.0, 158.0, 507.0, 359.0, 204.0, 89.0, 107.0, 145.0, 319.0, 30.80931854248047, 25.40284538269043, 24.51254653930664, 24.503034591674805, 24.308612823486328, 23.56790542602539, 21.601470947265625, 19.845203399658203, 42.2031364440918, 51.925926208496094, 17.023147583007812, 14.662564277648926, 17.227182388305664, 13.963109016418457, 56.01789855957031, 12.975085258483887, 12.929228782653809, 12.433740615844727, 12.403491973876953, 12.09580135345459, 137.00949096679688, 18.051530838012695, 16.752180099487305, 10.14999008178711, 13.789472579956055, 18.065961837768555, 9.859052658081055, 9.656452178955078, 9.179315567016602, 9.171216011047363, 14.248108863830566, 45.9468994140625, 28.63518524169922, 29.830522537231445, 21.32142448425293, 367.9650573730469, 53.1379280090332, 42.98262405395508, 209.01953125, 38.51211929321289, 77.5252456665039, 219.29872131347656, 122.8250503540039, 225.59735107421875, 136.2162628173828, 46.9019660949707, 292.1304931640625, 160.94577026367188, 64.2053451538086, 226.06521606445312, 359.44183349609375, 231.14739990234375, 119.05239868164062, 76.163818359375, 250.37025451660156, 156.36572265625, 97.50518035888672, 123.05208587646484, 419.83819580078125, 415.6170959472656, 115.87954711914062, 507.7493591308594, 172.63951110839844, 564.1332397460938, 202.30929565429688, 247.95819091796875, 325.77520751953125, 197.52890014648438, 269.09234619140625, 297.620849609375, 177.79574584960938, 210.8733673095703, 208.23533630371094, 220.55999755859375, 487.5930480957031, 447.07183837890625, 68.41720581054688, 39.196197509765625, 37.059757232666016, 33.57832336425781, 21.556791305541992, 21.651052474975586, 18.17646598815918, 17.544082641601562, 17.84351921081543, 17.251691818237305, 16.679655075073242, 27.658153533935547, 14.279426574707031, 14.066887855529785, 13.993865966796875, 13.617847442626953, 12.046026229858398, 19.408363342285156, 35.858436584472656, 10.439713478088379, 12.0592622756958, 11.780815124511719, 9.912535667419434, 9.83138370513916, 33.115962982177734, 9.54813289642334, 23.207881927490234, 16.479034423828125, 9.334758758544922, 9.323907852172852, 23.69818115234375, 451.9249267578125, 70.3529281616211, 41.26021957397461, 18.294076919555664, 65.40467834472656, 26.922531127929688, 18.226757049560547, 100.60836029052734, 221.2190399169922, 25.998310089111328, 103.38197326660156, 52.63643264770508, 177.51089477539062, 30.044281005859375, 163.81532287597656, 39.96833419799805, 60.75954818725586, 249.35989379882812, 175.1147918701172, 216.27842712402344, 507.7493591308594, 225.82907104492188, 216.36795043945312, 303.3140563964844, 487.5930480957031, 241.33834838867188, 109.69425201416016, 210.8733673095703, 147.26441955566406, 314.5664367675781, 419.83819580078125, 251.7794952392578, 297.620849609375, 447.07183837890625, 166.66458129882812, 181.55722045898438, 161.73330688476562, 564.1332397460938, 291.6030578613281, 359.44183349609375, 318.41705322265625, 38.37264633178711, 24.14241600036621, 26.620389938354492, 22.92022132873535, 17.713947296142578, 18.506284713745117, 15.78138256072998, 15.322591781616211, 15.254293441772461, 15.251520156860352, 15.240989685058594, 14.794784545898438, 15.775592803955078, 13.585450172424316, 13.583661079406738, 13.547074317932129, 13.531065940856934, 13.444442749023438, 13.181792259216309, 13.198036193847656, 70.37834930419922, 14.29802131652832, 15.382976531982422, 11.819954872131348, 20.509601593017578, 10.51859188079834, 9.99191951751709, 9.935515403747559, 9.679739952087402, 9.632222175598145, 34.86724853515625, 20.775009155273438, 14.07417106628418, 17.387149810791016, 19.735143661499023, 31.16605567932129, 73.46515655517578, 265.2441101074219, 270.39117431640625, 35.81300735473633, 154.587158203125, 177.51089477539062, 116.36221313476562, 56.525875091552734, 250.11534118652344, 145.5733642578125, 325.77520751953125, 38.2424201965332, 29.486019134521484, 55.76169967651367, 166.66458129882812, 219.33413696289062, 43.320892333984375, 28.836063385009766, 108.04802703857422, 47.643802642822266, 297.620849609375, 55.81863021850586, 78.36915588378906, 190.68995666503906, 415.6170959472656, 291.6030578613281, 175.69566345214844, 225.82907104492188, 168.68934631347656, 419.83819580078125, 143.2924041748047, 276.50018310546875, 146.3306884765625, 564.1332397460938, 250.37025451660156, 303.3140563964844, 226.06521606445312, 314.5664367675781, 447.07183837890625, 184.4440460205078, 507.7493591308594, 24.01870346069336, 18.026124954223633, 18.19048500061035, 15.820024490356445, 12.440950393676758, 11.475327491760254, 10.91402816772461, 10.365602493286133, 10.354886054992676, 10.589313507080078, 9.764509201049805, 9.72327995300293, 9.33389663696289, 14.745216369628906, 12.252449035644531, 10.84250545501709, 7.674871444702148, 7.668694972991943, 10.576136589050293, 28.440725326538086, 6.329908847808838, 6.245535850524902, 6.1020660400390625, 6.0946879386901855, 6.958424091339111, 6.014549255371094, 6.0138750076293945, 6.012324333190918, 14.038779258728027, 6.010104656219482, 24.070892333984375, 18.86200714111328, 25.10456085205078, 10.77090835571289, 23.859302520751953, 26.44548797607422, 19.141990661621094, 28.42060089111328, 10.811373710632324, 33.012088775634766, 149.95191955566406, 67.84917449951172, 38.138427734375, 37.1325569152832, 29.78385353088379, 276.50018310546875, 66.3806381225586, 24.62751007080078, 564.1332397460938, 116.95298767089844, 85.32659149169922, 35.618446350097656, 49.416114807128906, 34.38450241088867, 47.04268264770508, 55.251708984375, 49.79080581665039, 114.18955993652344, 60.69627380371094, 507.7493591308594, 447.07183837890625, 487.5930480957031, 158.24119567871094, 415.6170959472656, 318.41705322265625, 92.11183166503906, 247.95819091796875, 213.9678192138672, 319.1819152832031, 184.4440460205078, 143.88546752929688, 156.36572265625, 176.0243682861328, 174.37367248535156, 158.78660583496094, 97.50518035888672, 176.24378967285156, 249.35989379882812, 292.1304931640625, 171.66595458984375, 181.7546844482422, 173.0904541015625, 77.08629608154297, 20.736066818237305, 20.095857620239258, 22.350791931152344, 12.949475288391113, 14.411429405212402, 12.07856273651123, 11.429752349853516, 37.20119094848633, 11.037169456481934, 11.04699993133545, 10.523170471191406, 11.95744514465332, 7.477816581726074, 21.22051239013672, 7.218395233154297, 7.217624664306641, 6.858700275421143, 6.596922874450684, 6.597014904022217, 6.577293395996094, 6.193348407745361, 21.880691528320312, 5.951207637786865, 5.929900646209717, 5.9127326011657715, 5.757836818695068, 13.419448852539062, 7.0770440101623535, 5.7187371253967285, 38.7067756652832, 13.940741539001465, 14.209885597229004, 40.63041687011719, 8.01598072052002, 16.343788146972656, 38.56128692626953, 31.935237884521484, 59.90001678466797, 32.529518127441406, 15.702483177185059, 41.419979095458984, 219.52769470214844, 204.4152069091797, 55.5821533203125, 49.47636413574219, 73.63480377197266, 42.19990158081055, 102.5027847290039, 319.1819152832031, 29.096471786499023, 29.17198371887207, 149.95191955566406, 181.55722045898438, 54.20612335205078, 143.2924041748047, 73.91397094726562, 142.19166564941406, 213.9678192138672, 269.09234619140625, 447.07183837890625, 487.5930480957031, 291.6030578613281, 314.5664367675781, 208.42002868652344, 173.0904541015625, 359.44183349609375, 318.41705322265625, 114.31900787353516, 208.23533630371094, 303.3140563964844, 292.1304931640625, 163.81532287597656, 28.04290771484375, 17.86882972717285, 19.785282135009766, 14.850360870361328, 14.551594734191895, 25.486270904541016, 12.169900894165039, 9.861376762390137, 9.775169372558594, 22.007640838623047, 11.022295951843262, 17.950889587402344, 7.4242730140686035, 15.15246868133545, 11.136598587036133, 6.067971229553223, 6.06174373626709, 6.059751987457275, 6.036516189575195, 29.288545608520508, 5.740930080413818, 5.719204425811768, 11.059297561645508, 11.095680236816406, 10.82631778717041, 5.463144779205322, 6.0590338706970215, 5.42383337020874, 5.3933634757995605, 5.348885536193848, 51.73493194580078, 7.420687675476074, 19.782785415649414, 12.779852867126465, 42.01861572265625, 39.643978118896484, 13.340611457824707, 39.73093795776367, 41.65298080444336, 141.71444702148438, 81.4002456665039, 41.293739318847656, 186.91278076171875, 158.9517059326172, 67.3302993774414, 447.07183837890625, 131.9549102783203, 147.13507080078125, 61.344486236572266, 50.166908264160156, 27.879392623901367, 123.9820327758789, 319.1819152832031, 73.63480377197266, 181.7546844482422, 153.50643920898438, 314.5664367675781, 190.68995666503906, 292.1304931640625, 419.83819580078125, 208.42002868652344, 564.1332397460938, 216.27842712402344, 487.5930480957031, 24.822072982788086, 19.265636444091797, 19.852371215820312, 14.660614013671875, 20.150915145874023, 13.902546882629395, 13.841487884521484, 13.787948608398438, 10.213895797729492, 36.98045349121094, 8.69262409210205, 7.93027400970459, 7.9283576011657715, 8.669241905212402, 28.33224105834961, 9.834787368774414, 7.263301849365234, 7.145069599151611, 7.13793420791626, 7.11962890625, 7.110741138458252, 7.077037334442139, 7.02704381942749, 6.978276252746582, 9.229837417602539, 6.524321556091309, 7.376232624053955, 7.831701278686523, 7.302246570587158, 5.759468078613281, 21.93339729309082, 37.511329650878906, 35.4844970703125, 19.62844467163086, 219.52769470214844, 62.89364242553711, 41.40127944946289, 94.98749542236328, 16.76919937133789, 72.6865005493164, 67.243408203125, 12.44163990020752, 84.13810729980469, 110.0127182006836, 251.7794952392578, 123.05208587646484, 72.58779907226562, 95.85655975341797, 176.24378967285156, 117.41819763183594, 208.23533630371094, 318.41705322265625, 209.01953125, 359.44183349609375, 319.1819152832031, 184.4440460205078, 177.79574584960938, 564.1332397460938, 487.5930480957031, 21.048202514648438, 15.663203239440918, 13.107275009155273, 12.22385311126709, 10.709014892578125, 10.367329597473145, 11.862836837768555, 18.017438888549805, 7.387536525726318, 6.674474716186523, 6.665890216827393, 6.023031711578369, 6.015573501586914, 5.988798141479492, 5.976274490356445, 5.9656829833984375, 5.971242904663086, 5.851929664611816, 6.233027935028076, 32.2016487121582, 4.868849754333496, 7.229874134063721, 6.2429585456848145, 12.312420845031738, 6.483219146728516, 10.746694564819336, 5.713648796081543, 4.387964248657227, 8.784067153930664, 2.908433675765991, 33.50853729248047, 9.006462097167969, 117.51795959472656, 20.732797622680664, 126.01823425292969, 44.127540588378906, 62.89364242553711, 77.63003540039062, 202.30929565429688, 89.7646484375, 84.8885498046875, 152.73533630371094, 26.774436950683594, 29.17198371887207, 487.5930480957031, 314.5664367675781, 59.70616912841797, 21.225482940673828, 507.7493591308594, 145.5733642578125, 241.33834838867188, 447.07183837890625, 159.20919799804688, 415.6170959472656, 172.63951110839844, 66.51303100585938, 48.60393142700195, 359.44183349609375, 220.55999755859375, 143.88546752929688, 173.32281494140625, 126.3486099243164, 32.476139068603516, 17.802772521972656, 17.118566513061523, 15.952195167541504, 13.304056167602539, 12.676613807678223, 16.438905715942383, 12.588091850280762, 13.167466163635254, 11.836268424987793, 59.821197509765625, 8.218023300170898, 6.906233310699463, 7.640366077423096, 6.891363620758057, 6.528055191040039, 6.523303031921387, 6.254403591156006, 6.235012531280518, 6.217470645904541, 6.104415416717529, 6.172680377960205, 18.822973251342773, 7.391968250274658, 23.481185913085938, 11.871634483337402, 4.409167766571045, 4.403456687927246, 21.65323829650879, 8.350401878356934, 8.071237564086914, 7.903998851776123, 17.1494083404541, 42.29431915283203, 53.48291778564453, 18.37168312072754, 32.846702575683594, 17.401763916015625, 14.083651542663574, 44.4474983215332, 47.32817077636719, 20.65239906311035, 114.78632354736328, 89.7646484375, 79.32344055175781, 269.09234619140625, 38.695716857910156, 50.40163040161133, 36.63454818725586, 135.38330078125, 487.5930480957031, 251.7794952392578, 297.620849609375, 318.41705322265625, 145.5733642578125, 157.34547424316406, 174.37367248535156, 213.9678192138672, 50.01784896850586, 59.60535430908203, 23.017730712890625, 14.972760200500488, 14.176716804504395, 9.43281078338623, 22.691919326782227, 9.355367660522461, 10.036171913146973, 9.703479766845703, 19.919530868530273, 5.806964874267578, 5.820949077606201, 5.496026992797852, 5.8152947425842285, 5.283050537109375, 5.2553839683532715, 5.183149814605713, 3.992321252822876, 8.230629920959473, 3.7803001403808594, 3.2363924980163574, 3.235299587249756, 6.850579261779785, 6.276897430419922, 3.2096805572509766, 72.65522766113281, 14.126265525817871, 2.3883724212646484, 2.386864185333252, 2.1657872200012207, 2.1507694721221924, 33.863746643066406, 24.639047622680664, 23.265987396240234, 17.55561065673828, 51.17117691040039, 28.639816284179688, 121.05065155029297, 18.956424713134766, 158.24119567871094, 325.77520751953125, 419.83819580078125, 94.98749542236328, 36.58793258666992, 107.7801513671875, 46.41831588745117, 42.92808532714844, 126.3486099243164, 158.78660583496094, 72.50616455078125, 367.9650573730469, 108.04802703857422, 359.44183349609375, 225.59735107421875, 43.320892333984375], \"Category\": [\"Default\", \"Default\", \"Default\", \"Default\", \"Default\", \"Default\", \"Default\", \"Default\", \"Default\", \"Default\", \"Default\", \"Default\", \"Default\", \"Default\", \"Default\", \"Default\", \"Default\", \"Default\", \"Default\", \"Default\", \"Default\", \"Default\", \"Default\", \"Default\", \"Default\", \"Default\", \"Default\", \"Default\", \"Default\", \"Default\", \"Topic1\", \"Topic1\", \"Topic1\", \"Topic1\", \"Topic1\", \"Topic1\", \"Topic1\", \"Topic1\", \"Topic1\", \"Topic1\", \"Topic1\", \"Topic1\", \"Topic1\", \"Topic1\", \"Topic1\", \"Topic1\", \"Topic1\", \"Topic1\", \"Topic1\", \"Topic1\", \"Topic1\", \"Topic1\", \"Topic1\", \"Topic1\", \"Topic1\", \"Topic1\", \"Topic1\", \"Topic1\", \"Topic1\", \"Topic1\", \"Topic1\", \"Topic1\", \"Topic1\", \"Topic1\", \"Topic1\", \"Topic1\", \"Topic1\", \"Topic1\", \"Topic1\", \"Topic1\", \"Topic1\", \"Topic1\", \"Topic1\", \"Topic1\", \"Topic1\", \"Topic1\", \"Topic1\", \"Topic1\", \"Topic1\", \"Topic1\", \"Topic1\", \"Topic1\", \"Topic1\", \"Topic1\", \"Topic1\", \"Topic1\", \"Topic1\", \"Topic1\", \"Topic1\", \"Topic1\", \"Topic1\", \"Topic1\", \"Topic1\", \"Topic1\", \"Topic1\", \"Topic1\", \"Topic1\", \"Topic1\", \"Topic1\", \"Topic1\", \"Topic1\", \"Topic1\", \"Topic1\", \"Topic1\", \"Topic1\", \"Topic1\", \"Topic2\", \"Topic2\", \"Topic2\", \"Topic2\", \"Topic2\", \"Topic2\", \"Topic2\", \"Topic2\", \"Topic2\", \"Topic2\", \"Topic2\", \"Topic2\", \"Topic2\", \"Topic2\", \"Topic2\", \"Topic2\", \"Topic2\", \"Topic2\", \"Topic2\", \"Topic2\", \"Topic2\", \"Topic2\", \"Topic2\", \"Topic2\", \"Topic2\", \"Topic2\", \"Topic2\", \"Topic2\", \"Topic2\", \"Topic2\", \"Topic2\", \"Topic2\", \"Topic2\", \"Topic2\", \"Topic2\", \"Topic2\", \"Topic2\", \"Topic2\", \"Topic2\", \"Topic2\", \"Topic2\", \"Topic2\", \"Topic2\", \"Topic2\", \"Topic2\", \"Topic2\", \"Topic2\", \"Topic2\", \"Topic2\", \"Topic2\", \"Topic2\", \"Topic2\", \"Topic2\", \"Topic2\", \"Topic2\", \"Topic2\", \"Topic2\", \"Topic2\", \"Topic2\", \"Topic2\", \"Topic2\", \"Topic2\", \"Topic2\", \"Topic2\", \"Topic2\", \"Topic2\", \"Topic2\", \"Topic2\", \"Topic2\", \"Topic2\", \"Topic2\", \"Topic2\", \"Topic3\", \"Topic3\", \"Topic3\", \"Topic3\", \"Topic3\", \"Topic3\", \"Topic3\", \"Topic3\", \"Topic3\", \"Topic3\", \"Topic3\", \"Topic3\", \"Topic3\", \"Topic3\", \"Topic3\", \"Topic3\", \"Topic3\", \"Topic3\", \"Topic3\", \"Topic3\", \"Topic3\", \"Topic3\", \"Topic3\", \"Topic3\", \"Topic3\", \"Topic3\", \"Topic3\", \"Topic3\", \"Topic3\", \"Topic3\", \"Topic3\", \"Topic3\", \"Topic3\", \"Topic3\", \"Topic3\", \"Topic3\", \"Topic3\", \"Topic3\", \"Topic3\", \"Topic3\", \"Topic3\", \"Topic3\", \"Topic3\", \"Topic3\", \"Topic3\", \"Topic3\", \"Topic3\", \"Topic3\", \"Topic3\", \"Topic3\", \"Topic3\", \"Topic3\", \"Topic3\", \"Topic3\", \"Topic3\", \"Topic3\", \"Topic3\", \"Topic3\", \"Topic3\", \"Topic3\", \"Topic3\", \"Topic3\", \"Topic3\", \"Topic3\", \"Topic3\", \"Topic3\", \"Topic3\", \"Topic3\", \"Topic3\", \"Topic3\", \"Topic3\", \"Topic3\", \"Topic3\", \"Topic3\", \"Topic3\", \"Topic3\", \"Topic3\", \"Topic4\", \"Topic4\", \"Topic4\", \"Topic4\", \"Topic4\", \"Topic4\", \"Topic4\", \"Topic4\", \"Topic4\", \"Topic4\", \"Topic4\", \"Topic4\", \"Topic4\", \"Topic4\", \"Topic4\", \"Topic4\", \"Topic4\", \"Topic4\", \"Topic4\", \"Topic4\", \"Topic4\", \"Topic4\", \"Topic4\", \"Topic4\", \"Topic4\", \"Topic4\", \"Topic4\", \"Topic4\", \"Topic4\", \"Topic4\", \"Topic4\", \"Topic4\", \"Topic4\", \"Topic4\", \"Topic4\", \"Topic4\", \"Topic4\", \"Topic4\", \"Topic4\", \"Topic4\", \"Topic4\", \"Topic4\", \"Topic4\", \"Topic4\", \"Topic4\", \"Topic4\", \"Topic4\", \"Topic4\", \"Topic4\", \"Topic4\", \"Topic4\", \"Topic4\", \"Topic4\", \"Topic4\", \"Topic4\", \"Topic4\", \"Topic4\", \"Topic4\", \"Topic4\", \"Topic4\", \"Topic4\", \"Topic4\", \"Topic4\", \"Topic4\", \"Topic4\", \"Topic4\", \"Topic4\", \"Topic4\", \"Topic4\", \"Topic4\", \"Topic4\", \"Topic4\", \"Topic4\", \"Topic4\", \"Topic4\", \"Topic4\", \"Topic4\", \"Topic4\", \"Topic4\", \"Topic4\", \"Topic4\", \"Topic4\", \"Topic5\", \"Topic5\", \"Topic5\", \"Topic5\", \"Topic5\", \"Topic5\", \"Topic5\", \"Topic5\", \"Topic5\", \"Topic5\", \"Topic5\", \"Topic5\", \"Topic5\", \"Topic5\", \"Topic5\", \"Topic5\", \"Topic5\", \"Topic5\", \"Topic5\", \"Topic5\", \"Topic5\", \"Topic5\", \"Topic5\", \"Topic5\", \"Topic5\", \"Topic5\", \"Topic5\", \"Topic5\", \"Topic5\", \"Topic5\", \"Topic5\", \"Topic5\", \"Topic5\", \"Topic5\", \"Topic5\", \"Topic5\", \"Topic5\", \"Topic5\", \"Topic5\", \"Topic5\", \"Topic5\", \"Topic5\", \"Topic5\", \"Topic5\", \"Topic5\", \"Topic5\", \"Topic5\", \"Topic5\", \"Topic5\", \"Topic5\", \"Topic5\", \"Topic5\", \"Topic5\", \"Topic5\", \"Topic5\", \"Topic5\", \"Topic5\", \"Topic5\", \"Topic5\", \"Topic5\", \"Topic5\", \"Topic5\", \"Topic5\", \"Topic5\", \"Topic5\", \"Topic5\", \"Topic5\", \"Topic5\", \"Topic5\", \"Topic5\", \"Topic5\", \"Topic5\", \"Topic5\", \"Topic6\", \"Topic6\", \"Topic6\", \"Topic6\", \"Topic6\", \"Topic6\", \"Topic6\", \"Topic6\", \"Topic6\", \"Topic6\", \"Topic6\", \"Topic6\", \"Topic6\", \"Topic6\", \"Topic6\", \"Topic6\", \"Topic6\", \"Topic6\", \"Topic6\", \"Topic6\", \"Topic6\", \"Topic6\", \"Topic6\", \"Topic6\", \"Topic6\", \"Topic6\", \"Topic6\", \"Topic6\", \"Topic6\", \"Topic6\", \"Topic6\", \"Topic6\", \"Topic6\", \"Topic6\", \"Topic6\", \"Topic6\", \"Topic6\", \"Topic6\", \"Topic6\", \"Topic6\", \"Topic6\", \"Topic6\", \"Topic6\", \"Topic6\", \"Topic6\", \"Topic6\", \"Topic6\", \"Topic6\", \"Topic6\", \"Topic6\", \"Topic6\", \"Topic6\", \"Topic6\", \"Topic6\", \"Topic6\", \"Topic6\", \"Topic6\", \"Topic6\", \"Topic6\", \"Topic6\", \"Topic6\", \"Topic6\", \"Topic6\", \"Topic6\", \"Topic7\", \"Topic7\", \"Topic7\", \"Topic7\", \"Topic7\", \"Topic7\", \"Topic7\", \"Topic7\", \"Topic7\", \"Topic7\", \"Topic7\", \"Topic7\", \"Topic7\", \"Topic7\", \"Topic7\", \"Topic7\", \"Topic7\", \"Topic7\", \"Topic7\", \"Topic7\", \"Topic7\", \"Topic7\", \"Topic7\", \"Topic7\", \"Topic7\", \"Topic7\", \"Topic7\", \"Topic7\", \"Topic7\", \"Topic7\", \"Topic7\", \"Topic7\", \"Topic7\", \"Topic7\", \"Topic7\", \"Topic7\", \"Topic7\", \"Topic7\", \"Topic7\", \"Topic7\", \"Topic7\", \"Topic7\", \"Topic7\", \"Topic7\", \"Topic7\", \"Topic7\", \"Topic7\", \"Topic7\", \"Topic7\", \"Topic7\", \"Topic7\", \"Topic7\", \"Topic7\", \"Topic7\", \"Topic7\", \"Topic7\", \"Topic7\", \"Topic7\", \"Topic7\", \"Topic8\", \"Topic8\", \"Topic8\", \"Topic8\", \"Topic8\", \"Topic8\", \"Topic8\", \"Topic8\", \"Topic8\", \"Topic8\", \"Topic8\", \"Topic8\", \"Topic8\", \"Topic8\", \"Topic8\", \"Topic8\", \"Topic8\", \"Topic8\", \"Topic8\", \"Topic8\", \"Topic8\", \"Topic8\", \"Topic8\", \"Topic8\", \"Topic8\", \"Topic8\", \"Topic8\", \"Topic8\", \"Topic8\", \"Topic8\", \"Topic8\", \"Topic8\", \"Topic8\", \"Topic8\", \"Topic8\", \"Topic8\", \"Topic8\", \"Topic8\", \"Topic8\", \"Topic8\", \"Topic8\", \"Topic8\", \"Topic8\", \"Topic8\", \"Topic8\", \"Topic8\", \"Topic8\", \"Topic8\", \"Topic8\", \"Topic8\", \"Topic8\", \"Topic8\", \"Topic8\", \"Topic8\", \"Topic8\", \"Topic8\", \"Topic8\", \"Topic8\", \"Topic8\", \"Topic8\", \"Topic8\", \"Topic8\", \"Topic9\", \"Topic9\", \"Topic9\", \"Topic9\", \"Topic9\", \"Topic9\", \"Topic9\", \"Topic9\", \"Topic9\", \"Topic9\", \"Topic9\", \"Topic9\", \"Topic9\", \"Topic9\", \"Topic9\", \"Topic9\", \"Topic9\", \"Topic9\", \"Topic9\", \"Topic9\", \"Topic9\", \"Topic9\", \"Topic9\", \"Topic9\", \"Topic9\", \"Topic9\", \"Topic9\", \"Topic9\", \"Topic9\", \"Topic9\", \"Topic9\", \"Topic9\", \"Topic9\", \"Topic9\", \"Topic9\", \"Topic9\", \"Topic9\", \"Topic9\", \"Topic9\", \"Topic9\", \"Topic9\", \"Topic9\", \"Topic9\", \"Topic9\", \"Topic9\", \"Topic9\", \"Topic9\", \"Topic9\", \"Topic9\", \"Topic9\", \"Topic9\", \"Topic9\", \"Topic9\", \"Topic9\", \"Topic9\", \"Topic9\", \"Topic9\", \"Topic9\", \"Topic9\", \"Topic9\", \"Topic10\", \"Topic10\", \"Topic10\", \"Topic10\", \"Topic10\", \"Topic10\", \"Topic10\", \"Topic10\", \"Topic10\", \"Topic10\", \"Topic10\", \"Topic10\", \"Topic10\", \"Topic10\", \"Topic10\", \"Topic10\", \"Topic10\", \"Topic10\", \"Topic10\", \"Topic10\", \"Topic10\", \"Topic10\", \"Topic10\", \"Topic10\", \"Topic10\", \"Topic10\", \"Topic10\", \"Topic10\", \"Topic10\", \"Topic10\", \"Topic10\", \"Topic10\", \"Topic10\", \"Topic10\", \"Topic10\", \"Topic10\", \"Topic10\", \"Topic10\", \"Topic10\", \"Topic10\", \"Topic10\", \"Topic10\", \"Topic10\", \"Topic10\", \"Topic10\", \"Topic10\", \"Topic10\", \"Topic10\", \"Topic10\", \"Topic10\", \"Topic10\", \"Topic10\", \"Topic10\", \"Topic10\"], \"logprob\": [30.0, 29.0, 28.0, 27.0, 26.0, 25.0, 24.0, 23.0, 22.0, 21.0, 20.0, 19.0, 18.0, 17.0, 16.0, 15.0, 14.0, 13.0, 12.0, 11.0, 10.0, 9.0, 8.0, 7.0, 6.0, 5.0, 4.0, 3.0, 2.0, 1.0, -6.3907999992370605, -6.5894999504089355, -6.626399993896484, -6.626800060272217, -6.6350998878479, -6.667600154876709, -6.757400035858154, -6.846199989318848, -6.101900100708008, -5.898499965667725, -7.013899803161621, -7.1631999015808105, -7.002999782562256, -7.215099811553955, -5.828199863433838, -7.293099880218506, -7.297100067138672, -7.338600158691406, -7.341400146484375, -7.368100166320801, -4.948500156402588, -6.976600170135498, -7.053899765014648, -7.557199954986572, -7.252999782562256, -6.9832000732421875, -7.588799953460693, -7.611499786376953, -7.666800022125244, -7.667799949645996, -7.229499816894531, -6.087800025939941, -6.551799774169922, -6.5208001136779785, -6.857399940490723, -4.2052998542785645, -6.024199962615967, -6.223199844360352, -4.827199935913086, -6.34060001373291, -5.781799793243408, -4.910699844360352, -5.43720006942749, -4.957300186157227, -5.387199878692627, -6.231500148773193, -4.803800106048584, -5.279300212860107, -5.992000102996826, -5.05079984664917, -4.708099842071533, -5.0619001388549805, -5.5644001960754395, -5.894199848175049, -5.112400054931641, -5.43209981918335, -5.744999885559082, -5.604599952697754, -4.856100082397461, -4.896500110626221, -5.674099922180176, -4.82450008392334, -5.488100051879883, -4.897299766540527, -5.412799835205078, -5.339900016784668, -5.222400188446045, -5.458799839019775, -5.349899768829346, -5.345399856567383, -5.567200183868408, -5.533599853515625, -5.539400100708008, -5.530600070953369, -5.509099960327148, -5.519800186157227, -5.347700119018555, -5.906700134277344, -5.963900089263916, -6.064799785614014, -6.521599769592285, -6.517399787902832, -6.699399948120117, -6.736499786376953, -6.719699859619141, -6.755099773406982, -6.789400100708008, -6.28849983215332, -6.9532999992370605, -6.969099998474121, -6.974599838256836, -7.003600120544434, -7.134300231933594, -6.660699844360352, -6.051000118255615, -7.288400173187256, -7.146399974822998, -7.171199798583984, -7.344600200653076, -7.353499889373779, -6.140399932861328, -7.38539981842041, -6.497499942779541, -6.8403000831604, -7.410200119018555, -7.411499977111816, -6.4994001388549805, -3.6410999298095703, -5.445400238037109, -5.972599983215332, -6.762700080871582, -5.574699878692627, -6.403200149536133, -6.7683000564575195, -5.281000137329102, -4.602200031280518, -6.460400104522705, -5.322700023651123, -5.94980001449585, -5.039700031280518, -6.388400077819824, -5.133500099182129, -6.178400039672852, -5.8780999183654785, -4.886300086975098, -5.144899845123291, -5.015100002288818, -4.487400054931641, -5.038400173187256, -5.086400032043457, -4.888700008392334, -4.612299919128418, -5.08620023727417, -5.563899993896484, -5.1905999183654785, -5.429699897766113, -5.077300071716309, -4.957300186157227, -5.269100189208984, -5.256100177764893, -5.154099941253662, -5.536200046539307, -5.518499851226807, -5.581399917602539, -5.280700206756592, -5.4446001052856445, -5.482399940490723, -5.518400192260742, -5.674699783325195, -6.1504998207092285, -6.054900169372559, -6.214099884033203, -6.472599983215332, -6.433199882507324, -6.593800067901611, -6.624899864196777, -6.6296000480651855, -6.629799842834473, -6.630499839782715, -6.661900043487549, -6.597799777984619, -6.752299785614014, -6.752600193023682, -6.75540018081665, -6.756800174713135, -6.763800144195557, -6.78439998626709, -6.78410005569458, -5.110799789428711, -6.705999851226807, -6.6371002197265625, -6.9008002281188965, -6.357500076293945, -7.026400089263916, -7.082099914550781, -7.088399887084961, -7.116600036621094, -7.122200012207031, -5.8628997802734375, -6.38700008392334, -6.757800102233887, -6.59089994430542, -6.490499973297119, -6.121399879455566, -5.442699909210205, -4.508800029754639, -4.502900123596191, -6.037700176239014, -5.045499801635742, -4.993100166320801, -5.281799793243408, -5.774099826812744, -4.7683000564575195, -5.1427001953125, -4.626299858093262, -6.0482001304626465, -6.233500003814697, -5.838799953460693, -5.182600021362305, -5.024700164794922, -6.018899917602539, -6.256999969482422, -5.517499923706055, -5.97599983215332, -5.026599884033203, -5.905900001525879, -5.744500160217285, -5.352700233459473, -4.995800018310547, -5.182700157165527, -5.4293999671936035, -5.334799766540527, -5.457799911499023, -5.1194000244140625, -5.565899848937988, -5.338200092315674, -5.560999870300293, -5.220399856567383, -5.452400207519531, -5.414100170135498, -5.491000175476074, -5.4257001876831055, -5.4303998947143555, -5.545100212097168, -5.515900135040283, -5.888899803161621, -6.176700115203857, -6.171500205993652, -6.3130998611450195, -6.567699909210205, -6.654399871826172, -6.7083001136779785, -6.763899803161621, -6.765100002288818, -6.74459981918335, -6.828800201416016, -6.833600044250488, -6.877999782562256, -6.423699855804443, -6.619800090789795, -6.747000217437744, -7.093900203704834, -7.094799995422363, -6.780300140380859, -5.80620002746582, -7.311399936676025, -7.326700210571289, -7.353300094604492, -7.354700088500977, -7.223800182342529, -7.369900226593018, -7.370100021362305, -7.3703999519348145, -6.524199962615967, -7.376100063323975, -5.993800163269043, -6.249199867248535, -5.974899768829346, -6.8018999099731445, -6.032199859619141, -5.9475998878479, -6.256100177764893, -5.91379976272583, -6.815899848937988, -5.797900199890137, -4.440999984741211, -5.16379976272583, -5.67579984664917, -5.702600002288818, -5.945199966430664, -4.1809000968933105, -5.319200038909912, -6.116199970245361, -3.739300012588501, -4.934199810028076, -5.18779993057251, -5.913700103759766, -5.730599880218506, -5.9604997634887695, -5.764800071716309, -5.668499946594238, -5.734499931335449, -5.273200035095215, -5.630000114440918, -4.511600017547607, -4.588399887084961, -4.586599826812744, -5.162499904632568, -4.764400005340576, -4.945300102233887, -5.4770002365112305, -5.1757001876831055, -5.273200035095215, -5.189799785614014, -5.359899997711182, -5.453000068664551, -5.440400123596191, -5.434100151062012, -5.456900119781494, -5.51039981842041, -5.6066999435424805, -5.521900177001953, -5.48360013961792, -5.470300197601318, -5.53849983215332, -5.5346999168396, -5.559599876403809, -4.470200061798096, -5.815100193023682, -5.851099967956543, -5.746699810028076, -6.30620002746582, -6.202199935913086, -6.380499839782715, -6.439700126647949, -5.26140022277832, -6.47730016708374, -6.476900100708008, -6.529200077056885, -6.426700115203857, -6.903500080108643, -5.861000061035156, -6.9430999755859375, -6.94320011138916, -7.0005998611450195, -7.044600009918213, -7.044600009918213, -7.048099994659424, -7.116799831390381, -5.856800079345703, -7.162399768829346, -7.166600227355957, -7.170100212097168, -7.201399803161621, -6.3572001457214355, -6.999800205230713, -7.214099884033203, -5.321499824523926, -6.332399845123291, -6.3491997718811035, -5.377299785614014, -6.8871002197265625, -6.259300231933594, -5.506499767303467, -5.672500133514404, -5.139900207519531, -5.771699905395508, -6.351600170135498, -5.602099895477295, -4.323999881744385, -4.4008002281188965, -5.401100158691406, -5.55019998550415, -5.320799827575684, -5.703800201416016, -5.221700191497803, -4.618500232696533, -5.935800075531006, -5.950300216674805, -5.127600193023682, -5.0954999923706055, -5.687900066375732, -5.244200229644775, -5.55019998550415, -5.302000045776367, -5.186600208282471, -5.142199993133545, -4.967299938201904, -4.948999881744385, -5.203100204467773, -5.19789981842041, -5.3018999099731445, -5.347899913787842, -5.200500011444092, -5.242700099945068, -5.478400230407715, -5.450799942016602, -5.417900085449219, -5.47189998626709, -5.502799987792969, -5.088099956512451, -5.5553998947143555, -5.462600231170654, -5.749899864196777, -5.771299839019775, -5.221700191497803, -5.961400032043457, -6.188300132751465, -6.197999954223633, -5.393400192260742, -6.1006999015808105, -5.613800048828125, -6.501100063323975, -5.799799919128418, -6.122399806976318, -6.729800224304199, -6.731100082397461, -6.731400012969971, -6.735899925231934, -5.157800197601318, -6.793799877166748, -6.798399925231934, -6.141900062561035, -6.142199993133545, -6.166800022125244, -6.8516998291015625, -6.749899864196777, -6.860899925231934, -6.867300033569336, -6.8769001960754395, -4.683199882507324, -6.560400009155273, -5.6209001541137695, -6.0467000007629395, -4.951700210571289, -5.039700031280518, -6.049300193786621, -5.180799961090088, -5.154799938201904, -4.221199989318848, -4.77209997177124, -5.337600231170654, -4.3059000968933105, -4.447800159454346, -5.092800140380859, -4.120999813079834, -4.792099952697754, -4.746699810028076, -5.213399887084961, -5.351600170135498, -5.676599979400635, -4.986599922180176, -4.5640997886657715, -5.231599807739258, -4.8968000411987305, -5.042600154876709, -4.850200176239014, -5.002699851989746, -4.92710018157959, -4.849100112915039, -5.105500221252441, -4.969799995422363, -5.205399990081787, -5.151899814605713, -5.160200119018555, -5.422599792480469, -5.394400119781494, -5.708799839019775, -5.398900032043457, -5.7708001136779785, -5.779099941253662, -5.784999847412109, -6.094299793243408, -4.818600177764893, -6.269800186157227, -6.370800018310547, -6.371099948883057, -6.284299850463867, -5.100599765777588, -6.164299964904785, -6.468599796295166, -6.486800193786621, -6.48799991607666, -6.491000175476074, -6.492300033569336, -6.497700214385986, -6.505799770355225, -6.513999938964844, -6.238699913024902, -6.589099884033203, -6.480500221252441, -6.42080020904541, -6.4928998947143555, -6.731500148773193, -5.459000110626221, -5.023900032043457, -5.154699802398682, -5.767000198364258, -4.133900165557861, -4.997600078582764, -5.293600082397461, -4.744699954986572, -5.929999828338623, -5.056300163269043, -5.208000183105469, -6.182000160217285, -5.206200122833252, -5.0945000648498535, -4.693399906158447, -5.0696001052856445, -5.339900016784668, -5.2829999923706055, -5.094399929046631, -5.278200149536133, -5.128399848937988, -5.009699821472168, -5.172900199890137, -5.160099983215332, -5.211599826812744, -5.330599784851074, -5.359600067138672, -5.224699974060059, -5.321199893951416, -5.025400161743164, -5.33489990234375, -5.52269983291626, -5.5970001220703125, -5.73960018157959, -5.785099983215332, -5.651100158691406, -5.23829984664917, -6.147299766540527, -6.260499954223633, -6.275199890136719, -6.377799987792969, -6.379199981689453, -6.384399890899658, -6.386899948120117, -6.388899803161621, -6.387899875640869, -6.411600112915039, -6.360400199890137, -4.7220001220703125, -6.626500129699707, -6.235000133514404, -6.395400047302246, -5.733099937438965, -6.404399871826172, -5.9070000648498535, -6.561299800872803, -6.833000183105469, -6.1605000495910645, -7.2795000076293945, -4.897900104522705, -6.176400184631348, -4.015600204467773, -5.480500221252441, -4.134799957275391, -5.004499912261963, -4.76230001449585, -4.798799991607666, -4.38070011138916, -4.857999801635742, -4.936800003051758, -4.620100021362305, -5.611999988555908, -5.627999782562256, -4.38640022277832, -4.651400089263916, -5.384099960327148, -5.807700157165527, -4.614500045776367, -5.110899925231934, -4.968900203704834, -4.877699851989746, -5.198699951171875, -5.011000156402588, -5.2708001136779785, -5.46589994430542, -5.5177001953125, -5.2606000900268555, -5.330100059509277, -5.395599842071533, -5.46150016784668, -5.472499847412109, -4.52839994430542, -5.150000095367432, -5.190999984741211, -5.265100002288818, -5.456900119781494, -5.508200168609619, -5.2631001472473145, -5.531599998474121, -5.499800205230713, -5.6097002029418945, -3.9914000034332275, -5.977700233459473, -6.1717000007629395, -6.070700168609619, -6.174200057983398, -6.235400199890137, -6.236199855804443, -6.28410005569458, -6.287799835205078, -6.291100025177002, -6.3125, -6.3165998458862305, -5.211299896240234, -6.158899784088135, -5.006800174713135, -5.694399833679199, -6.694900035858154, -6.696499824523926, -5.106500148773193, -6.065499782562256, -6.126800060272217, -6.151199817657471, -5.451399803161621, -4.7778000831604, -4.732800006866455, -5.515500068664551, -5.1234002113342285, -5.59089994430542, -5.767099857330322, -5.092299938201904, -5.115300178527832, -5.61870002746582, -4.752200126647949, -4.887899875640869, -4.952000141143799, -4.364200115203857, -5.319699764251709, -5.240200042724609, -5.374899864196777, -4.866199970245361, -4.783299922943115, -4.9506001472473145, -4.97760009765625, -5.015399932861328, -5.150899887084961, -5.151700019836426, -5.154300212860107, -5.225800037384033, -5.357999801635742, -5.351799964904785, -4.44320011138916, -4.892600059509277, -4.950500011444092, -5.388299942016602, -4.511199951171875, -5.408100128173828, -5.347300052642822, -5.382400035858154, -4.696300029754639, -5.932499885559082, -5.9309000968933105, -5.996500015258789, -5.9456000328063965, -6.042799949645996, -6.049300193786621, -6.0696001052856445, -6.387199878692627, -5.687699794769287, -6.477799892425537, -6.651700019836426, -6.655700206756592, -5.912300109863281, -6.001200199127197, -6.6834001541137695, -3.5815999507904053, -5.293700218200684, -7.078400135040283, -7.09119987487793, -7.228700160980225, -7.239999771118164, -4.537300109863281, -4.962800025939941, -5.121399879455566, -5.370200157165527, -4.543700218200684, -5.103600025177002, -4.1234002113342285, -5.44789981842041, -4.167399883270264, -3.8847999572753906, -3.798799991607666, -4.582799911499023, -5.121099948883057, -4.6722002029418945, -5.077300071716309, -5.145899772644043, -4.801700115203857, -4.818699836730957, -5.092700004577637, -4.728300094604492, -5.083799839019775, -5.019800186157227, -5.152900218963623, -5.31850004196167], \"loglift\": [30.0, 29.0, 28.0, 27.0, 26.0, 25.0, 24.0, 23.0, 22.0, 21.0, 20.0, 19.0, 18.0, 17.0, 16.0, 15.0, 14.0, 13.0, 12.0, 11.0, 10.0, 9.0, 8.0, 7.0, 6.0, 5.0, 4.0, 3.0, 2.0, 1.0, 1.3990000486373901, 1.3932000398635864, 1.3920999765396118, 1.3919999599456787, 1.391700029373169, 1.3902000188827515, 1.3875000476837158, 1.3834999799728394, 1.3732000589370728, 1.3693000078201294, 1.3691999912261963, 1.3690999746322632, 1.3681000471115112, 1.3661999702453613, 1.363800048828125, 1.3615000247955322, 1.3610999584197998, 1.3586000204086304, 1.358299970626831, 1.3566999435424805, 1.3490999937057495, 1.3478000164031982, 1.3451999425888062, 1.343000054359436, 1.3408000469207764, 1.340399980545044, 1.340399980545044, 1.3385000228881836, 1.333899974822998, 1.333799958229065, 1.3315000534057617, 1.30239999294281, 1.3112000226974487, 1.301300048828125, 1.3005000352859497, 1.1044000387191772, 1.2206000089645386, 1.2336000204086304, 1.0479999780654907, 1.226099967956543, 1.0851999521255493, 0.9164999723434448, 0.9696000218391418, 0.8414999842643738, 0.9161999821662903, 1.138100028038025, 0.7365999817848206, 0.857200026512146, 1.063599944114685, 0.7459999918937683, 0.625, 0.7127000093460083, 0.8736000061035156, 0.9904999732971191, 0.5823000073432922, 0.733299970626831, 0.8927000164985657, 0.8004000186920166, 0.32170000672340393, 0.2913999855518341, 0.7910000085830688, 0.163100004196167, 0.5782999992370605, -0.01489999983459711, 0.4950999915599823, 0.3644999861717224, 0.20900000631809235, 0.47290000319480896, 0.2727000117301941, 0.17640000581741333, 0.4697999954223633, 0.3328000009059906, 0.3395000100135803, 0.290800005197525, -0.48100000619888306, -0.4049000144004822, 1.6442999839782715, 1.6424000263214111, 1.6411999464035034, 1.6389000415802002, 1.6253000497817993, 1.6252000331878662, 1.6181000471115112, 1.6164000034332275, 1.6162999868392944, 1.6145999431610107, 1.6139999628067017, 1.6093000173568726, 1.6054999828338623, 1.604699969291687, 1.6044000387191772, 1.6025999784469604, 1.594599962234497, 1.5911999940872192, 1.5871000289916992, 1.5836000442504883, 1.5814000368118286, 1.5800000429153442, 1.579200029373169, 1.5785000324249268, 1.5772000551223755, 1.5757999420166016, 1.575600028038025, 1.5752999782562256, 1.573699951171875, 1.5735000371932983, 1.552899956703186, 1.4630000591278076, 1.5187000036239624, 1.5250999927520752, 1.54830002784729, 1.4622999429702759, 1.5214999914169312, 1.5463999509811401, 1.3253999948501587, 1.2161999940872192, 1.4990999698638916, 1.256500005722046, 1.3043999671936035, 0.9988999962806702, 1.4264999628067017, 0.9854000210762024, 1.351099967956543, 1.2325999736785889, 0.8125, 0.9072999954223633, 0.8259999752044678, 0.5001999735832214, 0.7594000101089478, 0.7542999982833862, 0.6141999959945679, 0.415800005197525, 0.6452999711036682, 0.9559999704360962, 0.6758000254631042, 0.7957000136375427, 0.38909998536109924, 0.22050000727176666, 0.41999998688697815, 0.26570001244544983, -0.03920000046491623, 0.5654000043869019, 0.4975999891757965, 0.5501999855041504, -0.3984000086784363, 0.09759999811649323, -0.1492999941110611, -0.0640999972820282, 1.8955999612808228, 1.8832000494003296, 1.881100058555603, 1.871500015258789, 1.8707000017166138, 1.8662999868392944, 1.8650000095367432, 1.8633999824523926, 1.8631999492645264, 1.8631000518798828, 1.8631000518798828, 1.8614000082015991, 1.8614000082015991, 1.8562999963760376, 1.8561999797821045, 1.8560999631881714, 1.8559000492095947, 1.855299949645996, 1.8544000387191772, 1.8533999919891357, 1.8529000282287598, 1.8515000343322754, 1.8473000526428223, 1.847100019454956, 1.8393000364303589, 1.8380000591278076, 1.833799958229065, 1.8330999612808228, 1.8309999704360962, 1.830399990081787, 1.8032000064849854, 1.7968000173568726, 1.815500020980835, 1.7710000276565552, 1.7447999715805054, 1.6569000482559204, 1.4780999422073364, 1.1282000541687012, 1.114799976348877, 1.6016000509262085, 1.1313999891281128, 1.0455000400543213, 1.1791000366210938, 1.4088000059127808, 0.9273999929428101, 1.0943000316619873, 0.8051000237464905, 1.5255000591278076, 1.6002000570297241, 1.357800006866455, 0.9190000295639038, 0.8023999929428101, 1.4300999641418457, 1.5989999771118164, 1.0176000595092773, 1.3779000043869019, 0.4952000081539154, 1.2896000146865845, 1.1117000579833984, 0.614300012588501, 0.19200000166893005, 0.3596000075340271, 0.6194999814033508, 0.46309998631477356, 0.6317999958992004, 0.05829999968409538, 0.6869000196456909, 0.2572000026702881, 0.670799970626831, -0.33809998631477356, 0.24230000376701355, 0.08869999647140503, 0.3057999908924103, 0.040699999779462814, -0.3154999911785126, 0.4551999866962433, -0.5282999873161316, 2.149899959564209, 2.1491000652313232, 2.1452999114990234, 2.1433000564575195, 2.1289000511169434, 2.122999906539917, 2.11929988861084, 2.1152000427246094, 2.1150999069213867, 2.1131999492645264, 2.109999895095825, 2.109499931335449, 2.1059999465942383, 2.1029999256134033, 2.092099905014038, 2.087100028991699, 2.0857999324798584, 2.085700035095215, 2.078700065612793, 2.0636000633239746, 2.061000108718872, 2.0590999126434326, 2.0557000637054443, 2.055500030517578, 2.0539000034332275, 2.053499937057495, 2.053499937057495, 2.053499937057495, 2.0515999794006348, 2.048099994659424, 2.042799949645996, 2.0313000679016113, 2.019700050354004, 2.0388998985290527, 2.013200044631958, 1.9948999881744385, 2.0095999240875244, 1.9566999673843384, 2.0211000442504883, 1.9228999614715576, 1.7662999629974365, 1.8365999460220337, 1.9005999565124512, 1.9005000591278076, 1.878499984741211, 1.4144999980926514, 1.7029999494552612, 1.8976000547409058, 1.1430000066757202, 1.5216000080108643, 1.583299994468689, 1.7310999631881714, 1.5866999626159668, 1.719499945640564, 1.6017999649047852, 1.5372999906539917, 1.5752999782562256, 1.2065999507904053, 1.4816999435424805, 0.47600001096725464, 0.5264999866485596, 0.4415999948978424, 0.9909999966621399, 0.42340001463890076, 0.508899986743927, 1.2175999879837036, 0.5286999940872192, 0.5785999894142151, 0.2621000111103058, 0.6403999924659729, 0.7955999970436096, 0.7250999808311462, 0.6129000186920166, 0.5995000004768372, 0.6395999789237976, 1.031000018119812, 0.5238000154495239, 0.2152000069618225, 0.07010000199079514, 0.5335999727249146, 0.48030000925064087, 0.5041999816894531, 2.4024999141693115, 2.370699882507324, 2.365999937057495, 2.364000082015991, 2.3503000736236572, 2.347399950027466, 2.3457000255584717, 2.3417000770568848, 2.339900016784668, 2.339099884033203, 2.338599920272827, 2.3348000049591064, 2.3096001148223877, 2.3020999431610107, 2.3017001152038574, 2.2978999614715576, 2.2978999614715576, 2.291599988937378, 2.286400079727173, 2.286400079727173, 2.285900115966797, 2.277400016784668, 2.2751998901367188, 2.271699905395508, 2.2709999084472656, 2.2704999446868896, 2.2655999660491943, 2.263700008392334, 2.260999917984009, 2.2597999572753906, 2.2400999069213867, 2.2504000663757324, 2.2144999504089355, 2.1357998847961426, 2.2490999698638916, 2.1644999980926514, 2.058799982070923, 2.081399917602539, 1.9850000143051147, 1.9637999534606934, 2.1122000217437744, 1.891800045967102, 1.5022000074386597, 1.4967000484466553, 1.7985999584197998, 1.7660000324249268, 1.5976999998092651, 1.771399974822998, 1.3660999536514282, 0.8334000110626221, 1.9112000465393066, 1.8940999507904053, 1.079699993133545, 0.9205999970436096, 1.5369000434875488, 1.0084999799728394, 1.3645000457763672, 0.9584000110626221, 0.6651999950408936, 0.4803999960422516, 0.147599995136261, 0.07919999957084656, 0.3391000032424927, 0.2685000002384186, 0.5760999917984009, 0.7159000039100647, 0.13259999454021454, 0.21160000562667847, 1.0003000497817993, 0.42820000648498535, 0.08489999920129776, 0.06849999725818634, 0.616100013256073, 2.795799970626831, 2.7792000770568848, 2.7701001167297363, 2.769700050354004, 2.7685999870300293, 2.7578001022338867, 2.7572999000549316, 2.7407000064849854, 2.739799976348877, 2.7328999042510986, 2.7170000076293945, 2.716200113296509, 2.7118000984191895, 2.699700117111206, 2.684999942779541, 2.684799909591675, 2.6846001148223877, 2.684499979019165, 2.6839001178741455, 2.6826000213623047, 2.6761999130249023, 2.6754000186920166, 2.6723999977111816, 2.6689000129699707, 2.6689000129699707, 2.6679000854492188, 2.6661999225616455, 2.6659998893737793, 2.6651999950408936, 2.663800001144409, 2.5882999897003174, 2.6530001163482666, 2.6119000911712646, 2.6231000423431396, 2.5278000831604004, 2.497999906539917, 2.5776000022888184, 2.3547000885009766, 2.333400011062622, 2.04259991645813, 2.0462000370025635, 2.1593000888824463, 1.6811000108718872, 1.701200008392334, 1.9151999950408936, 0.9939000010490417, 1.5430999994277954, 1.479599952697754, 1.8877999782562256, 1.950700044631958, 2.213099956512451, 1.4108999967575073, 0.8877999782562256, 1.686900019645691, 1.1181000471115112, 1.1412999629974365, 0.6161999702453613, 0.9642999768257141, 0.6133000254631042, 0.3287000060081482, 0.772599995136261, -0.08739999681711197, 0.635699987411499, -0.12370000034570694, 2.8457000255584717, 2.836699962615967, 2.83489990234375, 2.8236000537872314, 2.815500020980835, 2.8148000240325928, 2.8108999729156494, 2.808799982070923, 2.7995998859405518, 2.7887001037597656, 2.785399913787842, 2.776099920272827, 2.776099920272827, 2.7736001014709473, 2.7730000019073486, 2.767400026321411, 2.766200065612793, 2.764400005340576, 2.76419997215271, 2.7637999057769775, 2.763700008392334, 2.763000011444092, 2.76200008392334, 2.7607998847961426, 2.756500005722046, 2.753000020980835, 2.7388999462127686, 2.7386999130249023, 2.736599922180176, 2.735300064086914, 2.670599937438965, 2.5690999031066895, 2.493799924850464, 2.473599910736084, 1.692199945449829, 2.0785999298095703, 2.2007999420166016, 1.9191999435424805, 2.468100070953369, 1.8752000331878662, 1.801300048828125, 2.5146000385284424, 1.5788999795913696, 1.4226000308990479, 0.9957000017166138, 1.3353999853134155, 1.592900037765503, 1.3717999458312988, 0.9513999819755554, 1.173699975013733, 0.7505999803543091, 0.44449999928474426, 0.7023000121116638, 0.1729000061750412, 0.2401999980211258, 0.669700026512146, 0.6773999929428101, -0.3424000144004822, -0.2930999994277954, 3.145400047302246, 3.131500005722046, 3.121799945831299, 3.1171998977661133, 3.1070001125335693, 3.093899965286255, 3.093100070953369, 3.0880000591278076, 3.0706000328063965, 3.058799982070923, 3.0455000400543213, 3.0441999435424805, 3.044100046157837, 3.0434000492095947, 3.0429000854492188, 3.042799949645996, 3.0427000522613525, 3.0392000675201416, 3.0272998809814453, 3.0236001014709473, 3.0083000659942627, 3.0044000148773193, 2.990799903869629, 2.973900079727173, 2.944000005722046, 2.936000108718872, 2.9135000705718994, 2.9058001041412354, 2.884200096130371, 2.870500087738037, 2.8078999519348145, 2.8433001041412354, 2.435499906539917, 2.705399990081787, 2.2464001178741455, 2.4260001182556152, 2.313800096511841, 2.0669000148773193, 1.5270999670028687, 1.8624000549316406, 1.8394999504089355, 1.5687999725341797, 2.3180999755859375, 2.2165000438690186, 0.6417999863624573, 0.8149999976158142, 1.7440999746322632, 2.3547000885009766, 0.373199999332428, 1.126099944114685, 0.762499988079071, 0.23720000684261322, 0.9487000107765198, 0.17679999768733978, 0.7955999970436096, 1.5542999505996704, 1.8162000179290771, 0.07240000367164612, 0.49140000343322754, 0.8529999852180481, 0.6010000109672546, 0.9060999751091003, 3.208699941635132, 3.1882998943328857, 3.1863999366760254, 3.183000087738037, 3.1726999282836914, 3.169600009918213, 3.154900074005127, 3.1531999111175537, 3.1401000022888184, 3.1368000507354736, 3.1347999572753906, 3.1335999965667725, 3.1135001182556152, 3.1135001182556152, 3.1131999492645264, 3.106100082397461, 3.1059999465942383, 3.1001999378204346, 3.0996999740600586, 3.0992000102996826, 3.096100091934204, 3.080899953842163, 3.0713000297546387, 3.058300018310547, 3.0546998977661133, 3.049099922180176, 3.0390000343322754, 3.0387001037597656, 3.0360000133514404, 3.0297999382019043, 3.002500057220459, 2.9990999698638916, 2.9242000579833984, 2.6951000690460205, 2.505500078201294, 2.791300058364868, 2.602299928665161, 2.77020001411438, 2.805500030517578, 2.3310000896453857, 2.245300054550171, 2.5710999965667725, 1.7223000526428223, 1.8325999975204468, 1.8920999765396118, 1.2583999633789062, 2.2421998977661133, 2.0573999881744385, 2.2416999340057373, 1.4433000087738037, 0.24490000307559967, 0.7383999824523926, 0.5442000031471252, 0.4388999938964844, 1.0860999822616577, 1.0074000358581543, 0.9021000266075134, 0.6259999871253967, 1.9472999572753906, 1.7781000137329102, 3.638200044631958, 3.618799924850464, 3.615600109100342, 3.585099935531616, 3.5845000743865967, 3.5736000537872314, 3.5641000270843506, 3.5627999305725098, 3.5297000408172607, 3.5260000228881836, 3.5251998901367188, 3.5171000957489014, 3.5114998817443848, 3.5102999210357666, 3.509000062942505, 3.5025999546051025, 3.4460999965667725, 3.422100067138672, 3.4100000858306885, 3.391400098800659, 3.3877999782562256, 3.38100004196167, 3.379499912261963, 3.3680999279022217, 3.3503000736236572, 3.2757999897003174, 3.268699884414673, 3.256500005722046, 3.216099977493286, 3.2118000984191895, 3.1579999923706055, 3.05049991607666, 2.949199914932251, 2.9820001125335693, 2.738800048828125, 2.759200096130371, 2.2980000972747803, 2.8276000022888184, 1.986199975013733, 1.5465999841690063, 1.3789000511169434, 2.0810000896453857, 2.496799945831299, 1.8653000593185425, 2.3027000427246094, 2.3122000694274902, 1.5769000053405762, 1.3313000202178955, 1.8411999940872192, 0.5813000202178955, 1.451200008392334, 0.3133000135421753, 0.6460000276565552, 2.130500078201294]}, \"token.table\": {\"Topic\": [5, 2, 3, 5, 6, 10, 6, 10, 7, 5, 10, 1, 2, 3, 4, 5, 6, 7, 8, 10, 1, 2, 3, 4, 5, 6, 7, 8, 9, 10, 2, 7, 1, 3, 6, 8, 10, 6, 2, 4, 5, 6, 8, 3, 10, 1, 2, 3, 4, 5, 6, 7, 8, 9, 10, 1, 2, 3, 4, 5, 6, 1, 2, 4, 6, 8, 1, 2, 3, 4, 5, 6, 7, 9, 8, 8, 1, 2, 7, 9, 5, 1, 2, 6, 1, 2, 4, 2, 1, 2, 6, 1, 2, 4, 4, 7, 10, 1, 2, 3, 5, 1, 2, 3, 4, 5, 6, 7, 1, 2, 3, 4, 5, 6, 8, 9, 10, 2, 2, 5, 6, 8, 10, 4, 7, 5, 6, 3, 3, 4, 4, 1, 1, 2, 3, 4, 5, 7, 8, 9, 2, 4, 1, 2, 3, 4, 6, 7, 8, 9, 1, 2, 3, 4, 5, 6, 8, 9, 6, 2, 7, 1, 2, 3, 4, 5, 6, 7, 8, 9, 1, 2, 3, 4, 5, 6, 7, 4, 7, 1, 2, 3, 4, 6, 8, 7, 2, 5, 1, 2, 3, 4, 5, 6, 7, 5, 8, 7, 1, 1, 2, 9, 1, 2, 3, 4, 5, 6, 7, 8, 9, 10, 1, 2, 3, 4, 5, 6, 7, 8, 10, 2, 1, 2, 3, 4, 5, 6, 7, 8, 9, 10, 7, 1, 2, 3, 4, 5, 6, 8, 1, 5, 1, 2, 4, 5, 6, 7, 9, 8, 1, 2, 3, 4, 5, 6, 7, 9, 10, 2, 2, 7, 1, 1, 2, 3, 4, 5, 6, 7, 8, 9, 10, 3, 4, 6, 1, 2, 3, 5, 9, 1, 2, 3, 4, 5, 6, 7, 8, 9, 10, 2, 3, 6, 1, 2, 3, 4, 5, 6, 7, 8, 9, 10, 1, 7, 3, 6, 3, 1, 3, 10, 6, 5, 1, 2, 3, 4, 5, 6, 7, 8, 10, 2, 3, 4, 5, 1, 2, 3, 4, 5, 6, 7, 8, 9, 10, 1, 2, 3, 4, 7, 9, 10, 1, 2, 3, 4, 6, 9, 7, 5, 9, 1, 4, 5, 1, 2, 3, 4, 5, 6, 7, 8, 9, 10, 7, 4, 8, 9, 6, 1, 2, 3, 6, 5, 5, 4, 5, 9, 1, 2, 3, 4, 5, 7, 9, 1, 2, 3, 4, 6, 7, 8, 9, 3, 2, 9, 7, 6, 7, 2, 3, 8, 1, 2, 3, 4, 5, 6, 7, 8, 9, 10, 1, 2, 3, 4, 5, 6, 7, 7, 4, 3, 1, 3, 4, 2, 4, 1, 2, 3, 4, 5, 6, 7, 8, 9, 10, 5, 7, 7, 5, 5, 1, 9, 5, 1, 2, 3, 4, 5, 8, 9, 10, 2, 5, 2, 6, 1, 2, 3, 4, 6, 7, 8, 9, 10, 1, 2, 3, 4, 7, 8, 9, 10, 4, 2, 4, 1, 2, 4, 5, 7, 9, 10, 7, 2, 4, 8, 3, 10, 1, 4, 9, 1, 2, 3, 4, 5, 6, 7, 8, 9, 10, 1, 2, 3, 6, 7, 8, 9, 1, 2, 3, 4, 5, 6, 7, 8, 10, 2, 3, 5, 6, 1, 2, 3, 4, 5, 6, 7, 8, 9, 10, 2, 3, 4, 4, 6, 7, 1, 3, 8, 1, 9, 2, 3, 4, 7, 8, 9, 8, 1, 10, 1, 2, 3, 4, 5, 6, 7, 8, 9, 10, 1, 2, 3, 4, 5, 6, 7, 8, 9, 10, 1, 6, 2, 5, 6, 9, 10, 4, 8, 9, 5, 2, 3, 5, 1, 6, 5, 10, 3, 1, 2, 3, 4, 1, 2, 3, 8, 10, 3, 2, 7, 1, 2, 3, 4, 5, 6, 7, 8, 9, 8, 1, 2, 3, 4, 5, 6, 7, 8, 9, 10, 10, 2, 6, 1, 2, 4, 5, 6, 8, 9, 10, 9, 1, 2, 3, 4, 5, 6, 7, 8, 10, 4, 5, 1, 3, 10, 2, 3, 9, 1, 2, 3, 4, 6, 8, 9, 2, 6, 1, 2, 3, 4, 5, 6, 1, 2, 3, 4, 5, 6, 7, 8, 9, 10, 1, 2, 3, 4, 5, 6, 7, 8, 9, 1, 2, 3, 4, 5, 6, 7, 8, 9, 10, 3, 3, 1, 2, 3, 4, 5, 7, 8, 9, 1, 2, 3, 4, 5, 6, 7, 10, 1, 10, 1, 1, 2, 3, 4, 5, 8, 9, 3, 5, 8, 7, 2, 5, 1, 3, 4, 5, 9, 1, 2, 3, 4, 5, 6, 7, 8, 10, 1, 1, 2, 3, 5, 6, 7, 8, 10, 6, 7, 1, 4, 5, 6, 9, 2, 5, 6, 1, 5, 1, 2, 3, 4, 5, 7, 8, 9, 10, 5, 9, 1, 2, 3, 4, 5, 6, 7, 8, 9, 10, 1, 6, 1, 2, 3, 4, 6, 8, 1, 2, 3, 4, 5, 6, 7, 8, 9, 10, 4, 1, 7, 8, 9, 10, 5, 9, 2, 5, 7, 1, 2, 3, 4, 5, 6, 7, 8, 9, 10, 2, 1, 9, 2, 4, 5, 1, 6, 1, 3, 5, 6, 8, 9, 1, 2, 3, 4, 5, 1, 4, 1, 2, 8, 9, 1, 3, 10, 4, 2, 3, 8, 1, 4, 6, 9, 1, 2, 3, 4, 5, 6, 7, 8, 9, 1, 2, 3, 4, 5, 6, 7, 8, 9, 1, 2, 3, 4, 5, 7, 8, 9, 1, 2, 3, 4, 5, 6, 7, 9, 10, 1, 3, 4, 8, 9, 10, 1, 3, 4, 6, 1, 2, 3, 4, 5, 6, 7, 8, 9, 10, 2, 6, 3, 6, 1, 5, 1, 4, 1, 2, 3, 4, 5, 6, 7, 8, 6, 1, 2, 3, 5, 6, 7, 3, 7, 1, 4, 5, 1, 3, 6, 4, 6, 1, 2, 3, 4, 5, 7, 8, 9, 1, 2, 3, 4, 5, 6, 7, 8, 9, 10, 10, 10, 1, 2, 3, 4, 5, 6, 7, 8, 1, 2, 3, 4, 5, 6, 7, 8, 10, 3, 4, 1, 2, 1, 2, 3, 4, 5, 6, 7, 8, 9, 1, 3, 4, 5, 6, 8, 1, 2, 3, 6, 1, 2, 3, 5, 6, 9, 10, 3, 6, 9, 1, 2, 3, 1, 2, 3, 5, 6, 7, 8, 9, 10, 1, 9, 1, 2, 3, 4, 5, 6, 7, 8, 9, 10, 1, 5, 7, 10, 1, 2, 5, 6, 1, 2, 1, 2, 3, 4, 5, 6, 7, 8, 9, 1, 2, 5, 10, 6, 4, 1, 2, 3, 4, 5, 6, 7, 8, 9, 10, 1, 2, 3, 4, 5, 6, 7, 8, 9, 8, 2, 3, 4, 10, 1, 2, 3, 4, 5, 6, 7, 8, 1, 2, 3, 4, 5, 6, 7, 8, 9, 10, 10, 1, 2, 3, 4, 5, 6, 7, 8, 9, 1, 2, 3, 4, 5, 6, 7, 8, 9, 2, 8, 9, 9, 1, 2, 3, 4, 5, 6, 7, 8, 9, 10, 3, 10, 8, 1, 2, 3, 4, 5, 6, 7, 8, 9, 10, 5, 8, 9, 8, 9, 9, 5, 9, 3, 7, 8, 9, 1, 3, 1, 2, 3, 4, 5, 6, 7, 8, 9, 10, 1, 2, 3, 4, 5, 6, 7, 1, 2, 3, 4, 5, 6, 8, 10, 1, 1, 2, 5, 8, 1, 9, 6, 1, 2, 3, 4, 5, 6, 7, 8, 1, 2, 5, 6, 8, 9, 10, 2, 3, 4, 5, 6, 7, 8, 1, 2, 3, 4, 5, 6, 7, 8, 9, 10, 1, 2, 3, 4, 5, 6, 7, 8, 1, 2, 3, 7, 8, 9, 7, 1, 3, 9, 1, 2, 1, 2, 3, 4, 6, 7, 9, 10, 1, 2, 3, 4, 5, 6, 7, 8, 9, 10, 1, 2, 3, 4, 5, 6, 7, 8, 9, 10, 4, 8, 1, 2, 3, 4, 5, 6, 7, 8, 9, 1, 2, 3, 4, 5, 6, 7, 8, 9, 2, 2, 1, 2, 3, 3, 4, 1, 3, 4, 5, 8, 1, 2, 3, 4, 5, 6, 7, 8, 9, 1, 2, 4, 5, 1, 2, 3, 4, 5, 7, 8, 1, 9, 1, 7, 1, 2, 3, 4, 9, 1, 3, 4, 6, 8, 9, 10, 7, 1, 2, 3, 4, 5, 6, 10, 1, 6, 9, 8, 1, 6, 7, 9, 6, 1, 2, 3, 4, 5, 1, 2, 5, 2, 6, 10, 1, 10, 7, 1, 2, 3, 4, 7, 8, 3, 6, 2, 1, 4, 5, 6, 7, 8, 4, 1, 6, 1, 2, 3, 4, 6, 7, 9, 6, 1, 2, 3, 4, 5, 6, 7, 8, 10, 8, 2, 3, 7, 9, 3, 5, 2, 3, 5, 8, 1, 2, 3, 4, 5, 6, 7, 8, 9, 10, 1, 4, 3, 5, 1, 2, 3, 4, 5, 6, 7, 8, 9, 10, 1, 2, 3, 4, 5, 6, 7, 8, 1, 2, 3, 4, 5, 6, 7, 8, 9, 8, 1, 2, 3, 4, 5, 6, 7, 8, 9, 10, 3, 1, 2, 3, 4, 5, 6, 7, 8, 9, 1, 3, 7, 8, 1, 2, 3, 4, 6, 7, 8, 10, 1, 2, 3, 4, 5, 6, 7, 8, 3, 9, 6, 1, 2, 3, 4, 5, 6, 7, 9, 10, 10, 10, 4, 6, 3, 3, 1, 2, 4, 5, 6, 7, 8, 9, 10, 2, 1, 2, 3, 4, 5, 6, 7, 8, 9, 10, 1, 6, 2, 2, 9, 10, 2, 4, 7, 8, 10, 1, 2, 3, 4, 5, 6, 7, 8, 9, 10, 1, 2, 3, 4, 5, 6, 7, 8, 9, 5, 5, 8, 1, 2, 7, 2, 1, 1, 2, 3, 4, 5, 6, 7, 8, 9, 10, 10, 2, 1, 2, 3, 4, 5, 6, 7, 8, 9, 1, 2, 3, 4, 5, 6, 9, 10, 9, 7, 2, 3, 7, 1, 2, 3, 4, 5, 6, 7, 8, 9, 10, 1, 2, 3, 4, 5, 6, 7, 8, 9, 1, 2, 3, 4, 5, 6, 7, 8, 9, 10, 1, 3, 4, 5, 1, 2, 3, 6, 8, 9, 10, 5, 1, 2, 8, 3, 4, 7, 8, 4, 6, 1, 2, 3, 4, 5, 6, 7, 8, 10, 3, 4, 2, 5, 9, 4, 10, 1, 3, 4, 5, 7, 1, 2, 3, 4, 5, 6, 9, 9, 9, 4, 1, 3, 4, 7, 10, 6, 2, 3, 8, 2, 4, 5, 9, 10, 4, 7, 2, 5, 7, 8, 2, 7, 3, 3, 5, 2, 6, 10, 1, 2, 3, 4, 5, 6, 7, 8, 10, 3, 4, 2, 5, 5, 7, 9, 8, 1, 2, 3, 4, 9, 10, 2, 3, 7, 8, 1, 2, 3, 4, 7, 9, 1, 2, 3, 4, 5, 6, 7, 8, 9, 10, 1, 2, 3, 4, 5, 6, 8, 9, 10, 2, 1, 2, 3, 4, 5, 6, 7, 9, 10, 1, 3, 5, 6, 1, 2, 6, 1, 4, 5, 6, 1, 2, 3, 4, 5, 7, 8, 4, 3, 4, 6, 4, 2, 5, 1, 2, 3, 4, 5, 6, 7, 8, 9, 10, 3, 8, 10, 1, 2, 1, 2, 3, 4, 5, 6, 7, 8, 9, 10, 10, 2, 1, 2, 3, 4, 5, 6, 7, 8, 9, 10, 1, 2, 3, 4, 6, 7, 8, 4, 6, 7, 3, 4, 5, 8, 9, 9, 2, 4, 8, 1, 2, 5, 8, 7, 1, 2, 3, 4, 5, 6, 7, 8, 9, 10, 1, 2, 3, 4, 5, 6, 7, 8, 9, 10, 1, 2, 3, 4, 5, 8, 9, 10, 1, 2, 3, 4, 5, 6, 7, 9, 1, 2, 3, 5, 7, 8, 7, 1, 2, 3, 4, 5, 6, 7, 8, 9, 10, 1, 2, 3, 4, 5, 6, 7, 8, 9, 10, 1, 7, 10, 1, 1, 2, 3, 4, 5, 6, 7, 8, 9, 10, 1, 2, 3, 4, 5, 6, 7, 9, 10, 1, 2, 3, 4, 5, 6, 7, 8, 9, 10, 1, 10, 3, 6, 7, 10, 7, 1, 2, 3, 4, 5, 6, 7, 8, 10, 1, 2, 3, 4, 5, 6, 7, 8, 9, 10, 1, 2, 3, 4, 5, 6, 7, 8, 9, 10, 1, 2, 4, 5, 6, 8, 9, 4, 1, 2, 3, 4, 5, 6, 7, 8, 9, 10, 1, 2, 3, 4, 5, 6, 7, 9, 2, 7, 1, 2, 3, 4, 8, 1, 5, 10, 1, 3, 7, 5, 9, 1, 2, 3, 4, 5, 6, 7, 8, 9, 1, 2, 3, 4, 5, 6, 7, 8, 9, 10, 5, 1, 2, 3, 4, 5, 6, 7, 8, 10, 1, 2, 3, 4, 7, 8, 10, 1, 1, 2, 3, 4, 5, 7, 10], \"Freq\": [0.8312984108924866, 0.054662831127643585, 0.08199425041675568, 0.16398850083351135, 0.4099712371826172, 0.3006455600261688, 0.9427380561828613, 0.7935878038406372, 0.882693350315094, 0.939564049243927, 0.7571383118629456, 0.20735615491867065, 0.16211481392383575, 0.4561835527420044, 0.05655167996883392, 0.01885055936872959, 0.04147123172879219, 0.04147123172879219, 0.007540224120020866, 0.007540224120020866, 0.18957045674324036, 0.43462494015693665, 0.12483908236026764, 0.03236568719148636, 0.06935504823923111, 0.11096806824207306, 0.009247339330613613, 0.009247339330613613, 0.009247339330613613, 0.0046236696653068066, 0.9102475047111511, 0.06068316847085953, 0.25851863622665405, 0.32314831018447876, 0.12925931811332703, 0.04308643937110901, 0.25851863622665405, 0.9207001328468323, 0.013337608426809311, 0.6535428166389465, 0.2667521834373474, 0.06668804585933685, 0.8366416096687317, 0.959851086139679, 0.9275023341178894, 0.30284383893013, 0.0590914823114872, 0.14772871136665344, 0.13295583426952362, 0.08125078678131104, 0.0295457411557436, 0.0073864352889359, 0.0590914823114872, 0.16988801956176758, 0.0147728705778718, 0.1421804279088974, 0.18957389891147614, 0.023696737363934517, 0.09478694945573807, 0.5213282108306885, 0.023696737363934517, 0.018998248502612114, 0.7029351592063904, 0.17098423838615417, 0.09499123692512512, 0.018998248502612114, 0.03975812718272209, 0.7156462669372559, 0.06957672536373138, 0.12921391427516937, 0.009939531795680523, 0.009939531795680523, 0.009939531795680523, 0.009939531795680523, 0.8301467299461365, 0.900104820728302, 0.23808753490447998, 0.37697193026542664, 0.059521883726119995, 0.31745004653930664, 0.926678478717804, 0.7008762359619141, 0.2336254119873047, 0.046725083142519, 0.1407429724931717, 0.07037148624658585, 0.7740863561630249, 0.9131641983985901, 0.9461261630058289, 0.017851436510682106, 0.03570287302136421, 0.13430096209049225, 0.10072571784257889, 0.7386552691459656, 0.9256135821342468, 0.9637489914894104, 0.7611241936683655, 0.13871519267559052, 0.10403639078140259, 0.7282547354698181, 0.9199289679527283, 0.18047095835208893, 0.2664095163345337, 0.4812558889389038, 0.008593855425715446, 0.008593855425715446, 0.04296927526593208, 0.008593855425715446, 0.2731633186340332, 0.18536081910133362, 0.009755832143127918, 0.09755832701921463, 0.35120996832847595, 0.009755832143127918, 0.02926749736070633, 0.019511664286255836, 0.02926749736070633, 0.9546296000480652, 0.21101024746894836, 0.21101024746894836, 0.05275256186723709, 0.05275256186723709, 0.42202049493789673, 0.8547751903533936, 0.07123126089572906, 0.0923675075173378, 0.831307590007782, 0.9506976008415222, 0.11950019747018814, 0.8365013599395752, 0.9647292494773865, 0.9721560478210449, 0.20371519029140472, 0.42101141810417175, 0.13581013679504395, 0.13581013679504395, 0.06111455708742142, 0.020371519029140472, 0.013581013306975365, 0.006790506653487682, 0.1567235141992569, 0.8358587026596069, 0.07556327432394028, 0.13738776743412018, 0.4396408796310425, 0.020608166232705116, 0.0618244968354702, 0.013738777488470078, 0.13051837682724, 0.11677960306406021, 0.024216746911406517, 0.0726502388715744, 0.1453004777431488, 0.024216746911406517, 0.12108372896909714, 0.5085516571998596, 0.048433493822813034, 0.0726502388715744, 0.9347741603851318, 0.04962553828954697, 0.9428852200508118, 0.5795767307281494, 0.0335986502468586, 0.025198988616466522, 0.18479257822036743, 0.025198988616466522, 0.00839966256171465, 0.0167993251234293, 0.0671973004937172, 0.05879763886332512, 0.17991386353969574, 0.017991386353969574, 0.12593971192836761, 0.03598277270793915, 0.539741575717926, 0.017991386353969574, 0.08995693176984787, 0.9642274975776672, 0.922802746295929, 0.7094463109970093, 0.07739414274692535, 0.05159609392285347, 0.11609121412038803, 0.025798046961426735, 0.012899023480713367, 0.9668813943862915, 0.9048649668693542, 0.04308880865573883, 0.24283576011657715, 0.04047262668609619, 0.04047262668609619, 0.5463804602622986, 0.04047262668609619, 0.020236313343048096, 0.08094525337219238, 0.9095022678375244, 0.6876553297042847, 0.8397399187088013, 0.9248493909835815, 0.9790904521942139, 0.6005260348320007, 0.3821529448032379, 0.23743830621242523, 0.1345483809709549, 0.06331688165664673, 0.1345483809709549, 0.08706071227788925, 0.007914610207080841, 0.07914610207080841, 0.10288993269205093, 0.015829220414161682, 0.12663376331329346, 0.24447005987167358, 0.36048975586891174, 0.1035890057682991, 0.09944544732570648, 0.0621534027159214, 0.00828712061047554, 0.02900492213666439, 0.08701476454734802, 0.00414356030523777, 0.9694818258285522, 0.24227549135684967, 0.28993624448776245, 0.08340631425380707, 0.051632482558488846, 0.03971729427576065, 0.027802105993032455, 0.15092571079730988, 0.019858647137880325, 0.08340631425380707, 0.01588691771030426, 0.8811525106430054, 0.6433501243591309, 0.09190715849399567, 0.17068472504615784, 0.02625918760895729, 0.02625918760895729, 0.013129593804478645, 0.02625918760895729, 0.9759034514427185, 0.9052231311798096, 0.23644894361495972, 0.28023576736450195, 0.3765668272972107, 0.017514735460281372, 0.04378683865070343, 0.026272103190422058, 0.017514735460281372, 0.8311759233474731, 0.34951600432395935, 0.0990295335650444, 0.1980590671300888, 0.19223380088806152, 0.058252669870853424, 0.029126334935426712, 0.017475800588726997, 0.05242740362882614, 0.00582526670768857, 0.974170982837677, 0.24112577736377716, 0.7233772873878479, 0.9427481889724731, 0.11955693364143372, 0.20395006239414215, 0.10549141466617584, 0.1336224526166916, 0.2320811152458191, 0.09142589569091797, 0.014065521769225597, 0.028131043538451195, 0.04219656437635422, 0.028131043538451195, 0.9462794065475464, 0.9222960472106934, 0.9603098034858704, 0.23643837869167328, 0.04728767275810242, 0.07093150913715363, 0.02364383637905121, 0.5910959243774414, 0.17003953456878662, 0.15114624798297882, 0.11335968971252441, 0.21412386000156403, 0.08816864341497421, 0.044084321707487106, 0.044084321707487106, 0.044084321707487106, 0.031488802284002304, 0.09446640312671661, 0.10089804977178574, 0.1513470709323883, 0.7315108180046082, 0.2855982780456543, 0.24863849580287933, 0.24191853404045105, 0.020159877836704254, 0.04367973655462265, 0.047039713710546494, 0.03023981675505638, 0.0033599797170609236, 0.06719959527254105, 0.010079938918352127, 0.2399275153875351, 0.746441125869751, 0.1564963310956955, 0.7824816107749939, 0.9726425409317017, 0.9477968811988831, 0.023694921284914017, 0.8551240563392639, 0.9628102779388428, 0.9454684853553772, 0.7256124019622803, 0.10870597511529922, 0.03804709017276764, 0.016305895522236824, 0.03804709017276764, 0.01902354508638382, 0.002717649331316352, 0.005435298662632704, 0.046200040727853775, 0.06417237967252731, 0.7700685858726501, 0.03208618983626366, 0.12834475934505463, 0.5585172176361084, 0.013298028148710728, 0.17287437617778778, 0.07535549253225327, 0.03989408537745476, 0.06649014353752136, 0.008865352720022202, 0.004432676360011101, 0.008865352720022202, 0.04875943809747696, 0.20361316204071045, 0.18510286509990692, 0.4072263240814209, 0.03702057525515556, 0.03702057525515556, 0.01851028762757778, 0.11106172204017639, 0.08705579489469528, 0.6674277782440186, 0.029018599539995193, 0.13542012870311737, 0.07738292962312698, 0.8706550002098083, 0.8598111867904663, 0.11975471675395966, 0.8382830023765564, 0.19689682126045227, 0.024612102657556534, 0.7629752159118652, 0.22695834934711456, 0.2099364697933197, 0.07943542301654816, 0.18724064528942108, 0.062413547188043594, 0.011347917839884758, 0.1475229263305664, 0.005673958919942379, 0.06808750331401825, 0.005673958919942379, 0.9203205108642578, 0.9345545172691345, 0.9475418329238892, 0.7994367480278015, 0.9513773322105408, 0.12553419172763824, 0.10760073363780975, 0.5738705992698669, 0.16140110790729523, 0.8401656150817871, 0.9095149636268616, 0.09236493706703186, 0.04618246853351593, 0.8312844634056091, 0.12398777902126312, 0.3030812442302704, 0.1515406221151352, 0.11021135747432709, 0.013776419684290886, 0.2755284011363983, 0.013776419684290886, 0.06805947422981262, 0.05444758012890816, 0.6397590637207031, 0.06805947422981262, 0.09528326243162155, 0.04083568602800369, 0.02722379006445408, 0.02722379006445408, 0.9508358836174011, 0.12651823461055756, 0.7591094374656677, 0.9196358323097229, 0.8111264705657959, 0.09012516587972641, 0.028417831286787987, 0.9377884268760681, 0.028417831286787987, 0.1597292572259903, 0.3139505982398987, 0.165237158536911, 0.06609486788511276, 0.22582411766052246, 0.005507905501872301, 0.022031622007489204, 0.01652371697127819, 0.01652371697127819, 0.005507905501872301, 0.021257290616631508, 0.042514581233263016, 0.21257291734218597, 0.5526895523071289, 0.042514581233263016, 0.08502916246652603, 0.021257290616631508, 0.9549395442008972, 0.9120674133300781, 0.9007278084754944, 0.20989088714122772, 0.5876944661140442, 0.18890179693698883, 0.9827768802642822, 0.9481654167175293, 0.5363582372665405, 0.07313975691795349, 0.024379920214414597, 0.040633201599121094, 0.016253279522061348, 0.024379920214414597, 0.21129263937473297, 0.008126639761030674, 0.04875984042882919, 0.008126639761030674, 0.9645030498504639, 0.8538441061973572, 0.9350804686546326, 0.868381679058075, 0.8073177337646484, 0.08423440158367157, 0.8423439860343933, 0.8748013377189636, 0.21718785166740417, 0.018098987638950348, 0.018098987638950348, 0.5248706340789795, 0.036197975277900696, 0.12669292092323303, 0.036197975277900696, 0.036197975277900696, 0.12917634844779968, 0.8525639176368713, 0.08979402482509613, 0.8979402184486389, 0.2977513372898102, 0.150410458445549, 0.3284473419189453, 0.06446162611246109, 0.0030696012545377016, 0.015348006039857864, 0.0030696012545377016, 0.018417607992887497, 0.11971445381641388, 0.2094985544681549, 0.13966569304466248, 0.06983284652233124, 0.06983284652233124, 0.03491642326116562, 0.06983284652233124, 0.06983284652233124, 0.3840806782245636, 0.965727686882019, 0.9274452924728394, 0.9443482756614685, 0.019542250782251358, 0.35176053643226624, 0.07816900312900543, 0.07816900312900543, 0.039084501564502716, 0.019542250782251358, 0.39084503054618835, 0.8216649293899536, 0.928978443145752, 0.0555017851293087, 0.8880285620689392, 0.9902887344360352, 0.7965719103813171, 0.09249518066644669, 0.832456648349762, 0.8687803745269775, 0.33669495582580566, 0.37463241815567017, 0.13752329349517822, 0.03319527953863144, 0.037937458604574203, 0.023710912093520164, 0.023710912093520164, 0.023710912093520164, 0.009484364651143551, 0.0047421823255717754, 0.02984314039349556, 0.02984314039349556, 0.02984314039349556, 0.02984314039349556, 0.17905884981155396, 0.6863922476768494, 0.02984314039349556, 0.3523082733154297, 0.10065950453281403, 0.05032975226640701, 0.056620970368385315, 0.08178585022687912, 0.3271434009075165, 0.012582438066601753, 0.018873658031225204, 0.006291219033300877, 0.01932930015027523, 0.03865860030055046, 0.13530509173870087, 0.7925012707710266, 0.12616583704948425, 0.17777913808822632, 0.13763545453548431, 0.20071837306022644, 0.03440886363387108, 0.10896140336990356, 0.06881772726774216, 0.01720443181693554, 0.0974917784333229, 0.03440886363387108, 0.9652605056762695, 0.9526801109313965, 0.8313174843788147, 0.8482660055160522, 0.10603325068950653, 0.8437939286231995, 0.0487576499581337, 0.9263953566551208, 0.9337927103042603, 0.8867003917694092, 0.9083772897720337, 0.15921911597251892, 0.6014944314956665, 0.01769101247191429, 0.05307304114103317, 0.12383709102869034, 0.03538202494382858, 0.8681116700172424, 0.04406855255365372, 0.9254395961761475, 0.23753254115581512, 0.12762942910194397, 0.10458522289991379, 0.3492082953453064, 0.04608840122818947, 0.05495155602693558, 0.0407705083489418, 0.01949894055724144, 0.012408415786921978, 0.008863154798746109, 0.19629119336605072, 0.1775967925786972, 0.07945120334625244, 0.2009647935628891, 0.17292320728302002, 0.028041599318385124, 0.014020799659192562, 0.028041599318385124, 0.07477760314941406, 0.03271520137786865, 0.9737313985824585, 0.9038693308830261, 0.7255743741989136, 0.22517825663089752, 0.9218572378158569, 0.9124695062637329, 0.06083130091428757, 0.9575870633125305, 0.9576585292816162, 0.8116918206214905, 0.9714511632919312, 0.1223706528544426, 0.0611853264272213, 0.7954092621803284, 0.8715246915817261, 0.9270652532577515, 0.831209659576416, 0.8373903632164001, 0.9607520699501038, 0.06058386713266373, 0.12116773426532745, 0.06058386713266373, 0.7572983503341675, 0.03583033010363579, 0.34038814902305603, 0.5374549627304077, 0.03583033010363579, 0.017915165051817894, 0.9100969433784485, 0.8778303265571594, 0.054864395409822464, 0.14676012098789215, 0.21035617589950562, 0.02935202419757843, 0.0929480716586113, 0.4011443257331848, 0.04892003908753395, 0.024460019543766975, 0.00489200372248888, 0.04892003908753395, 0.8298899531364441, 0.3061608076095581, 0.14870667457580566, 0.05248470976948738, 0.11371687054634094, 0.24492864310741425, 0.05248470976948738, 0.02624235488474369, 0.02624235488474369, 0.01749490387737751, 0.008747451938688755, 0.6231149435043335, 0.3523702323436737, 0.6292325854301453, 0.03044445626437664, 0.12177782505750656, 0.03044445626437664, 0.06088891252875328, 0.06088891252875328, 0.12177782505750656, 0.5175557732582092, 0.03044445626437664, 0.9161864519119263, 0.4190255105495453, 0.01309454720467329, 0.09820909798145294, 0.08511455357074738, 0.10475637763738632, 0.03273636847734451, 0.02618909440934658, 0.19641819596290588, 0.019641820341348648, 0.819394588470459, 0.9624005556106567, 0.11812041699886322, 0.23624083399772644, 0.5906020998954773, 0.05831104889512062, 0.11662209779024124, 0.758043646812439, 0.12764006853103638, 0.17869609594345093, 0.025528013706207275, 0.03403735160827637, 0.06807470321655273, 0.47652292251586914, 0.08509337902069092, 0.9792858362197876, 0.014616206288337708, 0.05534430220723152, 0.18448100984096527, 0.2582733929157257, 0.018448099493980408, 0.42430630326271057, 0.036896198987960815, 0.4479166865348816, 0.1641433835029602, 0.005564182531088591, 0.063988097012043, 0.10293737798929214, 0.047295551747083664, 0.06677018851041794, 0.044513460248708725, 0.022256730124354362, 0.03338509425520897, 0.3954341411590576, 0.21254584193229675, 0.08897268027067184, 0.0247146338224411, 0.014828779734671116, 0.0247146338224411, 0.029657559469342232, 0.19277413189411163, 0.0247146338224411, 0.15695908665657043, 0.17348109185695648, 0.1073930636048317, 0.12391506880521774, 0.03304401785135269, 0.04956602677702904, 0.06608803570270538, 0.03304401785135269, 0.008261004462838173, 0.2560911476612091, 0.9569060802459717, 0.9596957564353943, 0.31404316425323486, 0.06280863285064697, 0.29310694336891174, 0.03489368408918381, 0.24425579607486725, 0.020936211571097374, 0.006978737190365791, 0.013957474380731583, 0.2541966140270233, 0.4020928144454956, 0.16176147758960724, 0.09243512898683548, 0.06008283421397209, 0.018487026914954185, 0.009243513457477093, 0.8610349893569946, 0.9128665924072266, 0.9350313544273376, 0.9674695134162903, 0.0500834584236145, 0.21702831983566284, 0.016694486141204834, 0.016694486141204834, 0.6510849595069885, 0.016694486141204834, 0.03338897228240967, 0.9185755252838135, 0.22768495976924896, 0.7968973517417908, 0.8405793309211731, 0.8861439824104309, 0.0843946635723114, 0.06368419528007507, 0.06368419528007507, 0.12736839056015015, 0.7642103433609009, 0.8190792202949524, 0.5087027549743652, 0.09289354830980301, 0.19905760884284973, 0.08404654264450073, 0.039811521768569946, 0.008847004733979702, 0.02654101327061653, 0.03096451610326767, 0.008847004733979702, 0.9287647604942322, 0.63504958152771, 0.07327495515346527, 0.06513329595327377, 0.17097489535808563, 0.02442498505115509, 0.008141661994159222, 0.008141661994159222, 0.008141661994159222, 0.8239986300468445, 0.9392054080963135, 0.34648656845092773, 0.6176499724388123, 0.015064633451402187, 0.015064633451402187, 0.015064633451402187, 0.9527268409729004, 0.14991816878318787, 0.7495908141136169, 0.9651158452033997, 0.9107043743133545, 0.3361581265926361, 0.09604518115520477, 0.15367227792739868, 0.10564969480037689, 0.1392655074596405, 0.12005647271871567, 0.04322033002972603, 0.004802258685231209, 0.8598016500473022, 0.8683454990386963, 0.09140478819608688, 0.13680711388587952, 0.13680711388587952, 0.02565133199095726, 0.5130266547203064, 0.00855044461786747, 0.06840355694293976, 0.05130266398191452, 0.03420177847146988, 0.00855044461786747, 0.02565133199095726, 0.9417483806610107, 0.05539696291089058, 0.07173757255077362, 0.2510814964771271, 0.03586878627538681, 0.03586878627538681, 0.538031816482544, 0.837346613407135, 0.4313611388206482, 0.11982253938913345, 0.18772198259830475, 0.027958592399954796, 0.0678994432091713, 0.05591718479990959, 0.04393493011593819, 0.035946764051914215, 0.01597633957862854, 0.01597633957862854, 0.8005717992782593, 0.057465437799692154, 0.057465437799692154, 0.11493087559938431, 0.6321198344230652, 0.057465437799692154, 0.8743188977241516, 0.8041855692863464, 0.9592524766921997, 0.05408262461423874, 0.9194046258926392, 0.09707918018102646, 0.46826428174972534, 0.09136863797903061, 0.028552699834108353, 0.06852647662162781, 0.017131619155406952, 0.09136863797903061, 0.057105399668216705, 0.07423701882362366, 0.005710539873689413, 0.9714040756225586, 0.9409961104393005, 0.05535271391272545, 0.9641384482383728, 0.7540552616119385, 0.24237491190433502, 0.5780702829360962, 0.4186026453971863, 0.051685307174921036, 0.2584265470504761, 0.0775279626250267, 0.18089857697486877, 0.025842653587460518, 0.36179715394973755, 0.2695525586605072, 0.011719675734639168, 0.0703180581331253, 0.5391051173210144, 0.09375740587711334, 0.1246318593621254, 0.872422993183136, 0.09985261410474777, 0.7988209128379822, 0.033284205943346024, 0.033284205943346024, 0.9094064831733704, 0.9103466272354126, 0.4617258608341217, 0.8977797031402588, 0.08121879398822784, 0.08121879398822784, 0.8121879696846008, 0.8092148303985596, 0.07527580112218857, 0.07527580112218857, 0.018818950280547142, 0.06452547758817673, 0.19357644021511078, 0.2097078114748001, 0.08872253447771072, 0.11291958391666412, 0.24197053909301758, 0.016131369397044182, 0.048394110053777695, 0.032262738794088364, 0.02414293773472309, 0.02414293773472309, 0.1690005660057068, 0.02414293773472309, 0.6035734415054321, 0.02414293773472309, 0.07242881506681442, 0.02414293773472309, 0.02414293773472309, 0.0759945809841156, 0.10856368392705917, 0.1519891619682312, 0.379972904920578, 0.08685094863176346, 0.11942005157470703, 0.05428184196352959, 0.03256910666823387, 0.17864170670509338, 0.038280367851257324, 0.44660428166389465, 0.11484109610319138, 0.025520244613289833, 0.012760122306644917, 0.012760122306644917, 0.1531214714050293, 0.012760122306644917, 0.11010907590389252, 0.02752726897597313, 0.08258181065320969, 0.013763634487986565, 0.04129090532660484, 0.7294726371765137, 0.8142825365066528, 0.023265214636921883, 0.1395912915468216, 0.023265214636921883, 0.3824613392353058, 0.12373749166727066, 0.1856062412261963, 0.04499545320868492, 0.005624431651085615, 0.033746588975191116, 0.11248862743377686, 0.07311760634183884, 0.033746588975191116, 0.01124886330217123, 0.03923681005835533, 0.9416834712028503, 0.9504870772361755, 0.9072520136833191, 0.047124214470386505, 0.8953601121902466, 0.8911224603652954, 0.04690118134021759, 0.38942474126815796, 0.2763659358024597, 0.018843133002519608, 0.037686266005039215, 0.08165357261896133, 0.02512417733669281, 0.06281044334173203, 0.10677774995565414, 0.9428532719612122, 0.10373097658157349, 0.07779823243618011, 0.02593274414539337, 0.7001841068267822, 0.05186548829078674, 0.02593274414539337, 0.934363842010498, 0.9428523778915405, 0.9436519145965576, 0.03851640596985817, 0.019258202984929085, 0.06599584966897964, 0.06599584966897964, 0.85794597864151, 0.9645565152168274, 0.8282923102378845, 0.14482316374778748, 0.17824389040470123, 0.10026218742132187, 0.033420730382204056, 0.011140243150293827, 0.011140243150293827, 0.26736584305763245, 0.24508534371852875, 0.3219078779220581, 0.23122960329055786, 0.06800870597362518, 0.07707653194665909, 0.1133478432893753, 0.031737394630908966, 0.04080522432923317, 0.06800870597362518, 0.04080522432923317, 0.013601740822196007, 0.8379194736480713, 0.6179720163345337, 0.12061464041471481, 0.19927635788917542, 0.2726939618587494, 0.11537051945924759, 0.026220573112368584, 0.1573234349489212, 0.06292937695980072, 0.05244114622473717, 0.2528519630432129, 0.12984289228916168, 0.28702113032341003, 0.07517220079898834, 0.17767974734306335, 0.04783685505390167, 0.0068338364362716675, 0.0068338364362716675, 0.0068338364362716675, 0.0703216940164566, 0.879021167755127, 0.1114308312535286, 0.8543030619621277, 0.14121225476264954, 0.036441870033741, 0.07743897289037704, 0.00911046750843525, 0.40086057782173157, 0.0182209350168705, 0.3052006661891937, 0.00911046750843525, 0.9853388071060181, 0.2719390094280243, 0.022661585360765457, 0.18129268288612366, 0.022661585360765457, 0.022661585360765457, 0.4758932888507843, 0.0305788516998291, 0.8256289958953857, 0.0917365550994873, 0.04586827754974365, 0.046167101711034775, 0.023083550855517387, 0.6232558488845825, 0.046167101711034775, 0.023083550855517387, 0.046167101711034775, 0.20775195956230164, 0.8890864849090576, 0.028680209070444107, 0.057360418140888214, 0.05067102611064911, 0.10134205222129822, 0.861407458782196, 0.1484503448009491, 0.31545695662498474, 0.018556293100118637, 0.05566887557506561, 0.13917219638824463, 0.11133775115013123, 0.018556293100118637, 0.027834437787532806, 0.16700662672519684, 0.9548125267028809, 0.9346576929092407, 0.357624888420105, 0.11554034799337387, 0.02750960737466812, 0.18156340718269348, 0.06602305918931961, 0.18156340718269348, 0.02750960737466812, 0.016505764797329903, 0.02750960737466812, 0.005501921288669109, 0.07451871037483215, 0.8942245244979858, 0.07451871037483215, 0.9557849168777466, 0.8923344016075134, 0.06529276072978973, 0.021764254197478294, 0.021764254197478294, 0.8722943663597107, 0.9337214827537537, 0.13421612977981567, 0.0838850811123848, 0.15099315345287323, 0.01677701622247696, 0.21810121834278107, 0.01677701622247696, 0.05033104866743088, 0.0838850811123848, 0.23487822711467743, 0.04847284033894539, 0.872511088848114, 0.024236420169472694, 0.04847284033894539, 0.8251162767410278, 0.8316251039505005, 0.34683266282081604, 0.15325164794921875, 0.10888932645320892, 0.1895480901002884, 0.10082344710826874, 0.020164689049124718, 0.020164689049124718, 0.04839525371789932, 0.008065875619649887, 0.008065875619649887, 0.1192319467663765, 0.30659642815589905, 0.10219880938529968, 0.10219880938529968, 0.11071537435054779, 0.02554970234632492, 0.17884792387485504, 0.008516567759215832, 0.042582836002111435, 0.9501999020576477, 0.2848092317581177, 0.11392369121313095, 0.056961845606565475, 0.5126566290855408, 0.011266914196312428, 0.5126445889472961, 0.41687580943107605, 0.022533828392624855, 0.005633457098156214, 0.01690037176012993, 0.005633457098156214, 0.005633457098156214, 0.20413479208946228, 0.1790105104446411, 0.1161998063325882, 0.185291588306427, 0.1099187359213829, 0.02198374643921852, 0.08793498575687408, 0.01570267602801323, 0.05967017263174057, 0.018843211233615875, 0.8589664697647095, 0.1568130999803543, 0.2700670063495636, 0.13938942551612854, 0.0522710345685482, 0.1045420691370964, 0.008711839094758034, 0.008711839094758034, 0.0261355172842741, 0.2177959829568863, 0.15497621893882751, 0.4922773838043213, 0.0729299858212471, 0.03646499291062355, 0.12762747704982758, 0.0729299858212471, 0.018232496455311775, 0.009116248227655888, 0.009116248227655888, 0.05312656983733177, 0.05312656983733177, 0.8500251173973083, 0.9072006940841675, 0.18112759292125702, 0.18112759292125702, 0.45281898975372314, 0.03881305456161499, 0.00646884273737669, 0.09703263640403748, 0.00646884273737669, 0.019406527280807495, 0.00646884273737669, 0.00646884273737669, 0.12149738520383835, 0.7289842963218689, 0.8009023070335388, 0.027161069214344025, 0.05432213842868805, 0.013580534607172012, 0.04074160382151604, 0.4481576383113861, 0.3259328305721283, 0.013580534607172012, 0.04074160382151604, 0.013580534607172012, 0.027161069214344025, 0.9060294032096863, 0.8381270170211792, 0.9113370776176453, 0.7712218165397644, 0.9466250538825989, 0.8100208640098572, 0.08358240872621536, 0.902690052986145, 0.09305186569690704, 0.09305186569690704, 0.7444149255752563, 0.9532818794250488, 0.8954058289527893, 0.9596167802810669, 0.10843396931886673, 0.23313303291797638, 0.23313303291797638, 0.21144624054431915, 0.04337358847260475, 0.04337358847260475, 0.10843396931886673, 0.010843397118151188, 0.005421698559075594, 0.005421698559075594, 0.08835419267416, 0.15631894767284393, 0.16991190612316132, 0.11554009467363358, 0.16991190612316132, 0.2582660913467407, 0.04757533222436905, 0.31269046664237976, 0.2019459307193756, 0.0846870020031929, 0.13028769195079803, 0.058629460632801056, 0.1889171600341797, 0.019543154165148735, 0.006514384876936674, 0.9794704914093018, 0.5301068425178528, 0.047120608389377594, 0.15314197540283203, 0.25916334986686707, 0.1277618557214737, 0.8517457246780396, 0.8709390163421631, 0.09020788967609406, 0.2104850709438324, 0.07517323642969131, 0.25558900833129883, 0.015034647658467293, 0.015034647658467293, 0.12027718126773834, 0.19545042514801025, 0.20793016254901886, 0.04455646127462387, 0.25248661637306213, 0.40100815892219543, 0.014852154068648815, 0.05940861627459526, 0.014852154068648815, 0.0480157695710659, 0.0480157695710659, 0.1440473198890686, 0.1440473198890686, 0.6001971364021301, 0.8681357502937317, 0.8998799324035645, 0.601983904838562, 0.13948407769203186, 0.05138887092471123, 0.05138887092471123, 0.022023802623152733, 0.07341267168521881, 0.022023802623152733, 0.022023802623152733, 0.014682535082101822, 0.007341267541050911, 0.5264086723327637, 0.051777902990579605, 0.1467040628194809, 0.07766685634851456, 0.03451860323548317, 0.025888951495289803, 0.06903720647096634, 0.051777902990579605, 0.29989293217658997, 0.25990721583366394, 0.01999286375939846, 0.01999286375939846, 0.11995717883110046, 0.27990007400512695, 0.842740535736084, 0.07105214148759842, 0.9236778616905212, 0.9191098809242249, 0.027887439355254173, 0.9202855229377747, 0.028075341135263443, 0.056150682270526886, 0.056150682270526886, 0.617657482624054, 0.08422601968050003, 0.028075341135263443, 0.056150682270526886, 0.056150682270526886, 0.1476641297340393, 0.2871246933937073, 0.061526719480752945, 0.17227481305599213, 0.09639185667037964, 0.053323157131671906, 0.0410178117454052, 0.07793384045362473, 0.05127226561307907, 0.00820356234908104, 0.42863884568214417, 0.06950899958610535, 0.057924166321754456, 0.15639525651931763, 0.017377249896526337, 0.08109383285045624, 0.05213174968957901, 0.09267866611480713, 0.017377249896526337, 0.028962083160877228, 0.9478809237480164, 0.8544189929962158, 0.16459573805332184, 0.04114893451333046, 0.18517020344734192, 0.14402127265930176, 0.08229786902666092, 0.08229786902666092, 0.02057446725666523, 0.24689361453056335, 0.02057446725666523, 0.1526108831167221, 0.5066680908203125, 0.054939914494752884, 0.0061044348403811455, 0.16481974720954895, 0.06714878231287003, 0.024417739361524582, 0.012208869680762291, 0.012208869680762291, 0.9274352192878723, 0.9699297547340393, 0.11169125884771347, 0.139614075422287, 0.7259932160377502, 0.9177743792533875, 0.8622642159461975, 0.43546590209007263, 0.1842355728149414, 0.016748687252402306, 0.11724081635475159, 0.23448163270950317, 0.28267374634742737, 0.15045537054538727, 0.3282662630081177, 0.07750731706619263, 0.03191477805376053, 0.013677761889994144, 0.009118507616221905, 0.05471104755997658, 0.05015179142355919, 0.8715904951095581, 0.03352271020412445, 0.0670454204082489, 0.03352271020412445, 0.2976433336734772, 0.12176317721605301, 0.12176317721605301, 0.04058772698044777, 0.35176029801368713, 0.05411696806550026, 0.013529242016375065, 0.12389674037694931, 0.7433804273605347, 0.07059095799922943, 0.917682409286499, 0.07844691723585129, 0.15689383447170258, 0.6798732876777649, 0.026148973032832146, 0.026148973032832146, 0.14526157081127167, 0.14526157081127167, 0.04842052608728409, 0.09684105217456818, 0.04842052608728409, 0.5326257944107056, 0.04842052608728409, 0.915118932723999, 0.05516772344708443, 0.5654691457748413, 0.027583861723542213, 0.05516772344708443, 0.013791930861771107, 0.12412737309932709, 0.16550317406654358, 0.05570754408836365, 0.8913207054138184, 0.9771456122398376, 0.8021783232688904, 0.023798976093530655, 0.7377682328224182, 0.09519590437412262, 0.14279384911060333, 0.8085504174232483, 0.03436842933297157, 0.03436842933297157, 0.10310528427362442, 0.20621056854724884, 0.6186317205429077, 0.9079738855361938, 0.06984414160251617, 0.8431844711303711, 0.8462088704109192, 0.07692807912826538, 0.03846403956413269, 0.9281296133995056, 0.729865312576294, 0.8938032388687134, 0.026220273226499557, 0.052440546452999115, 0.052440546452999115, 0.7341676354408264, 0.026220273226499557, 0.07866082340478897, 0.10242912173271179, 0.8535760045051575, 0.9121619462966919, 0.15656685829162598, 0.031313370913267136, 0.7202075719833374, 0.031313370913267136, 0.031313370913267136, 0.031313370913267136, 0.820386528968811, 0.9310247302055359, 0.8742474913597107, 0.28524529933929443, 0.1901635378599167, 0.04754088446497917, 0.10696698725223541, 0.05942610651254654, 0.27336007356643677, 0.035655662417411804, 0.8252140879631042, 0.2489783763885498, 0.1659855842590332, 0.2786186635494232, 0.07113668322563171, 0.13041724264621735, 0.01185611356049776, 0.02371222712099552, 0.0414963960647583, 0.029640283435583115, 0.8215492963790894, 0.23740065097808838, 0.7122019529342651, 0.03391437977552414, 0.9549074172973633, 0.1407470852136612, 0.8444825410842896, 0.18845272064208984, 0.18845272064208984, 0.18845272064208984, 0.42401862144470215, 0.09000112861394882, 0.33600419759750366, 0.3660045862197876, 0.024000300094485283, 0.06000075116753578, 0.006000075023621321, 0.018000224605202675, 0.006000075023621321, 0.08400104939937592, 0.006000075023621321, 0.1512545347213745, 0.8318999409675598, 0.9092261791229248, 0.8478115797042847, 0.24005235731601715, 0.20918847620487213, 0.20918847620487213, 0.10630889981985092, 0.1268848180770874, 0.03772251307964325, 0.02057591639459133, 0.010287958197295666, 0.02743455395102501, 0.010287958197295666, 0.3847538232803345, 0.12656375765800476, 0.18731436133384705, 0.10125100612640381, 0.13162630796432495, 0.030375301837921143, 0.015187650918960571, 0.025312751531600952, 0.29235032200813293, 0.3050611913204193, 0.10804250836372375, 0.0444880910217762, 0.038132648915052414, 0.025421766564249992, 0.006355441641062498, 0.06990986317396164, 0.10804250836372375, 0.8348920345306396, 0.20854240655899048, 0.0821530669927597, 0.09479200094938278, 0.2970149517059326, 0.031597334891557693, 0.04423626884818077, 0.018958400934934616, 0.018958400934934616, 0.012638933956623077, 0.18326453864574432, 0.9789466857910156, 0.36834853887557983, 0.03474986180663109, 0.08339966833591461, 0.25019899010658264, 0.09034963697195053, 0.020849917083978653, 0.041699834167957306, 0.09729961305856705, 0.020849917083978653, 0.16908793151378632, 0.08454396575689316, 0.6763517260551453, 0.028181320056319237, 0.6841465830802917, 0.028705451637506485, 0.08611635118722916, 0.014352725818753242, 0.05262666195631027, 0.11482180655002594, 0.004784241784363985, 0.014352725818753242, 0.3349219262599945, 0.07728967070579529, 0.025763224810361862, 0.09017128497362137, 0.012881612405180931, 0.012881612405180931, 0.10305289924144745, 0.32204028964042664, 0.9570321440696716, 0.8019230365753174, 0.9620938897132874, 0.14229150116443634, 0.16505813598632812, 0.2731996774673462, 0.14798316359519958, 0.09675822407007217, 0.07968324422836304, 0.022766640409827232, 0.034149959683418274, 0.028458300977945328, 0.8967562317848206, 0.6181807518005371, 0.9585782885551453, 0.9152237772941589, 0.9766949415206909, 0.9306296110153198, 0.18123023211956024, 0.08237738162279129, 0.49426427483558655, 0.032950952649116516, 0.1153283342719078, 0.016475476324558258, 0.016475476324558258, 0.032950952649116516, 0.032950952649116516, 0.9689877033233643, 0.2836045026779175, 0.3131466209888458, 0.08665692806243896, 0.17922228574752808, 0.031511612236499786, 0.0019694757647812366, 0.017725281417369843, 0.061053745448589325, 0.02363370731472969, 0.003938951529562473, 0.04543876275420189, 0.908775269985199, 0.9104006886482239, 0.050201985985040665, 0.050201985985040665, 0.8534337282180786, 0.031799715012311935, 0.06359943002462387, 0.4451960325241089, 0.41339632868766785, 0.031799715012311935, 0.1080852746963501, 0.27975013852119446, 0.15259097516536713, 0.07947446405887604, 0.11762221157550812, 0.11126425117254257, 0.03814774379134178, 0.09219038486480713, 0.015894893556833267, 0.003178978804498911, 0.17752613127231598, 0.26389017701148987, 0.14394010603427887, 0.028788020834326744, 0.15833410620689392, 0.12954609096050262, 0.028788020834326744, 0.03358602523803711, 0.03358602523803711, 0.8456326723098755, 0.5827509164810181, 0.37707412242889404, 0.2528128921985626, 0.3866550028324127, 0.3420409560203552, 0.9425926804542542, 0.9398967027664185, 0.48886555433273315, 0.12113482505083084, 0.12546107172966003, 0.08652487397193909, 0.056241169571876526, 0.06056741252541542, 0.008652487769722939, 0.025957463309168816, 0.012978731654584408, 0.012978731654584408, 0.4649498760700226, 0.9578806757926941, 0.050426457077264786, 0.15127937495708466, 0.20170582830905914, 0.20170582830905914, 0.07563968747854233, 0.025213228538632393, 0.012606614269316196, 0.012606614269316196, 0.26473888754844666, 0.10621233284473419, 0.8187200427055359, 0.019914811477065086, 0.00885102804750204, 0.01106378436088562, 0.019914811477065086, 0.00885102804750204, 0.006638270802795887, 0.8517863154411316, 0.8134233951568604, 0.9059075117111206, 0.030196918174624443, 0.030196918174624443, 0.2077055126428604, 0.3494727611541748, 0.16154873371124268, 0.06264134496450424, 0.09890738129615784, 0.0032969128806144, 0.06264134496450424, 0.02307838946580887, 0.016484564170241356, 0.02307838946580887, 0.04520406574010849, 0.6418977379798889, 0.13109178841114044, 0.013561219908297062, 0.08588772267103195, 0.013561219908297062, 0.04068366065621376, 0.009040812961757183, 0.018081625923514366, 0.16104795038700104, 0.18117894232273102, 0.10736529529094696, 0.18788926303386688, 0.10289174318313599, 0.16104795038700104, 0.03131487965583801, 0.05144587159156799, 0.0022367769852280617, 0.011183884926140308, 0.7462373971939087, 0.021321067586541176, 0.021321067586541176, 0.19188961386680603, 0.301543653011322, 0.0634828731417656, 0.17457790672779083, 0.0079353591427207, 0.38883262872695923, 0.0634828731417656, 0.9169965386390686, 0.950283944606781, 0.09646551311016083, 0.24116379022598267, 0.627025842666626, 0.9058412909507751, 0.11103139072656631, 0.11103139072656631, 0.6661883592605591, 0.8382474780082703, 0.12573711574077606, 0.3215169608592987, 0.3276999592781067, 0.13602639734745026, 0.0494641475379467, 0.0494641475379467, 0.02473207376897335, 0.04328112676739693, 0.04328112676739693, 0.006183018442243338, 0.9669422507286072, 0.8509723544120789, 0.9241560697555542, 0.8732556104660034, 0.12475080043077469, 0.9217053055763245, 0.7717314958572388, 0.029082870110869408, 0.1454143524169922, 0.6107402443885803, 0.11633148044347763, 0.08724860846996307, 0.14741970598697662, 0.1965596079826355, 0.08599482476711273, 0.036854926496744156, 0.06142487749457359, 0.4545440971851349, 0.012284975498914719, 0.940309464931488, 0.9293469786643982, 0.9162520170211792, 0.3158310353755951, 0.03158310428261757, 0.06316620856523514, 0.378997266292572, 0.20002633333206177, 0.9126514792442322, 0.09316293150186539, 0.031054310500621796, 0.8384664058685303, 0.20292992889881134, 0.04058598354458809, 0.16234393417835236, 0.04058598354458809, 0.5276178121566772, 0.8319322466850281, 0.8829066753387451, 0.14939622581005096, 0.11204717308282852, 0.29879245162010193, 0.41083964705467224, 0.8745999932289124, 0.05466249957680702, 0.9092167019844055, 0.9179412722587585, 0.9361021518707275, 0.38683077692985535, 0.08596239238977432, 0.4727931618690491, 0.14612822234630585, 0.4029596447944641, 0.23469077050685883, 0.07085004448890686, 0.053137533366680145, 0.04428127780556679, 0.03542502224445343, 0.004428127780556679, 0.008856255561113358, 0.866425633430481, 0.09626951068639755, 0.9400482773780823, 0.985908031463623, 0.07100431621074677, 0.2130129337310791, 0.6390388011932373, 0.8989471197128296, 0.3380650281906128, 0.0633871927857399, 0.0633871927857399, 0.1267743855714798, 0.3803231716156006, 0.0211290642619133, 0.8670570254325867, 0.09949834644794464, 0.014214049093425274, 0.6836883425712585, 0.17998763918876648, 0.08999381959438324, 0.2024860829114914, 0.04499690979719162, 0.04499690979719162, 0.4049721658229828, 0.31587669253349304, 0.09290491044521332, 0.12635067105293274, 0.08918870985507965, 0.14493165910243988, 0.011148588731884956, 0.02972957119345665, 0.02972957119345665, 0.13749927282333374, 0.018580982461571693, 0.29541364312171936, 0.23292230069637299, 0.14202578365802765, 0.20451714098453522, 0.022724125534296036, 0.05681031569838524, 0.005681031383574009, 0.02840515784919262, 0.011362062767148018, 0.9079412221908569, 0.4363131821155548, 0.07271886616945267, 0.036359433084726334, 0.14543773233890533, 0.036359433084726334, 0.009089858271181583, 0.23633630573749542, 0.009089858271181583, 0.018179716542363167, 0.9320192933082581, 0.9297770261764526, 0.0904216542840004, 0.8137949109077454, 0.05054900050163269, 0.10109800100326538, 0.808784008026123, 0.09284268319606781, 0.8355841040611267, 0.9408301115036011, 0.05376172065734863, 0.02021167054772377, 0.22232837975025177, 0.02021167054772377, 0.10105835646390915, 0.5255034565925598, 0.02021167054772377, 0.08084668219089508, 0.91280198097229, 0.8627060651779175, 0.05751373991370201, 0.8248451352119446, 0.9430756568908691, 0.07173219323158264, 0.8607863187789917, 0.14671245217323303, 0.08150691539049149, 0.016301384195685387, 0.03260276839137077, 0.16301383078098297, 0.3912332057952881, 0.016301384195685387, 0.11410968750715256, 0.016301384195685387, 0.016301384195685387, 0.1750195026397705, 0.700078010559082, 0.9541164636611938, 0.9124017953872681, 0.07018475234508514, 0.08336181193590164, 0.23492872714996338, 0.0985184982419014, 0.09094015508890152, 0.11367519199848175, 0.28039881587028503, 0.030313385650515556, 0.007578346412628889, 0.04547007754445076, 0.02273503877222538, 0.751442551612854, 0.9154357314109802, 0.13561929762363434, 0.23994185030460358, 0.03129676356911659, 0.09389028698205948, 0.07302577793598175, 0.05216127261519432, 0.21907733380794525, 0.12518705427646637, 0.010432254523038864, 0.02086450904607773, 0.9269430637359619, 0.014597528614103794, 0.014597528614103794, 0.007298764307051897, 0.007298764307051897, 0.02189629338681698, 0.007298764307051897, 0.8314107060432434, 0.3056788444519043, 0.6623041033744812, 0.3365560472011566, 0.09348779171705246, 0.037395115941762924, 0.037395115941762924, 0.4861365258693695, 0.9197794198989868, 0.24362999200820923, 0.7308899760246277, 0.9272655844688416, 0.1229652389883995, 0.21518917381763458, 0.6455675363540649, 0.030741309747099876, 0.8478124141693115, 0.3310799300670624, 0.23580512404441833, 0.15482154488563538, 0.033346179872751236, 0.02381869964301586, 0.08336544781923294, 0.007145610172301531, 0.0023818700574338436, 0.02381869964301586, 0.100038543343544, 0.2292974293231964, 0.11095036566257477, 0.4474998116493225, 0.08136360347270966, 0.051776837557554245, 0.03328511118888855, 0.01479338202625513, 0.011095036752521992, 0.007396691013127565, 0.007396691013127565, 0.26787641644477844, 0.1479317545890808, 0.37182843685150146, 0.09195757657289505, 0.07596495002508163, 0.015992620959877968, 0.003998155239969492, 0.023988932371139526, 0.0963016003370285, 0.2728545367717743, 0.20865346491336823, 0.02140035666525364, 0.02675044536590576, 0.32100534439086914, 0.04815080016851425, 0.00535008916631341, 0.06583327054977417, 0.6583327651023865, 0.2304164618253708, 0.032916635274887085, 0.016458317637443542, 0.9155220985412598, 0.8667541742324829, 0.5654078125953674, 0.024853091686964035, 0.16775837540626526, 0.13047872483730316, 0.03106636554002762, 0.04970618337392807, 0.006213272921741009, 0.006213272921741009, 0.0186398196965456, 0.006213272921741009, 0.2338811159133911, 0.02751542627811432, 0.24763883650302887, 0.01375771313905716, 0.01375771313905716, 0.02751542627811432, 0.3714582324028015, 0.02751542627811432, 0.02751542627811432, 0.01375771313905716, 0.1415802389383316, 0.0707901194691658, 0.6371110677719116, 0.9574102163314819, 0.1942465901374817, 0.09399028867483139, 0.09712329506874084, 0.14411844313144684, 0.2067786306142807, 0.14411844313144684, 0.07205922156572342, 0.015665048733353615, 0.01879805698990822, 0.015665048733353615, 0.24462634325027466, 0.4290986657142639, 0.0601540207862854, 0.13634911179542542, 0.06817455589771271, 0.04411294683814049, 0.008020536042749882, 0.004010268021374941, 0.008020536042749882, 0.3224121332168579, 0.09624243527650833, 0.1780484914779663, 0.17083030939102173, 0.05774546042084694, 0.04090303182601929, 0.04090303182601929, 0.05052727833390236, 0.024060608819127083, 0.019248485565185547, 0.9841417074203491, 0.9097480773925781, 0.045592572540044785, 0.045592572540044785, 0.8206663131713867, 0.045592572540044785, 0.986211895942688, 0.11290309578180313, 0.09879021346569061, 0.07056443393230438, 0.12701597809791565, 0.028225773945450783, 0.4586688280105591, 0.07056443393230438, 0.007056443486362696, 0.021169330924749374, 0.1772150695323944, 0.08679921925067902, 0.1916816085577011, 0.4593125283718109, 0.007233268115669489, 0.010849902406334877, 0.04339960962533951, 0.014466536231338978, 0.0036166340578347445, 0.007233268115669489, 0.49883055686950684, 0.04476684331893921, 0.006395263597369194, 0.2302294820547104, 0.05116210877895355, 0.07034789770841599, 0.019185790792107582, 0.025581054389476776, 0.04476684331893921, 0.006395263597369194, 0.5845842957496643, 0.010255865752696991, 0.30767595767974854, 0.041023463010787964, 0.010255865752696991, 0.010255865752696991, 0.020511731505393982, 0.8816418647766113, 0.5031997561454773, 0.07873193919658661, 0.04107753187417984, 0.11980947107076645, 0.09584757685661316, 0.10954008996486664, 0.04450066015124321, 0.0034231278114020824, 0.0034231278114020824, 0.0034231278114020824, 0.02415384352207184, 0.04830768704414368, 0.02415384352207184, 0.04830768704414368, 0.14492306113243103, 0.12076921761035919, 0.5072306990623474, 0.04830768704414368, 0.9352753162384033, 0.9570645093917847, 0.16212430596351624, 0.08843144029378891, 0.014738572761416435, 0.6927129030227661, 0.044215720146894455, 0.8309072852134705, 0.025965852662920952, 0.1557951122522354, 0.11926627904176712, 0.17889942228794098, 0.6559645533561707, 0.32658955454826355, 0.6531791090965271, 0.6019186973571777, 0.16871963441371918, 0.05927987024188042, 0.050159890204668045, 0.09119980037212372, 0.009119980037212372, 0.009119980037212372, 0.004559990018606186, 0.004559990018606186, 0.2195383906364441, 0.15021048486232758, 0.15021048486232758, 0.18487443029880524, 0.18487443029880524, 0.011554651893675327, 0.04621860757470131, 0.023109303787350655, 0.02888663113117218, 0.005777325946837664, 0.9122293591499329, 0.19039617478847504, 0.2884790301322937, 0.14423951506614685, 0.06346538662910461, 0.13846993446350098, 0.011539162136614323, 0.04038706794381142, 0.07500454783439636, 0.04038706794381142, 0.11647386103868484, 0.04658954590559006, 0.2562425136566162, 0.06988431513309479, 0.09317909181118011, 0.13976863026618958, 0.2562425136566162, 0.9873043894767761, 0.08033611625432968, 0.12050417810678482, 0.08033611625432968, 0.5422688126564026, 0.12050417810678482, 0.02008402906358242, 0.02008402906358242], \"Term\": [\"accommodate\", \"according\", \"according\", \"according\", \"according\", \"according\", \"accordingly\", \"act\", \"activation\", \"active\", \"adapted\", \"added\", \"added\", \"added\", \"added\", \"added\", \"added\", \"added\", \"added\", \"added\", \"adds\", \"adds\", \"adds\", \"adds\", \"adds\", \"adds\", \"adds\", \"adds\", \"adds\", \"adds\", \"adjust\", \"adjust\", \"admin\", \"admin\", \"admin\", \"admin\", \"admin\", \"ahead\", \"aio\", \"aio\", \"aio\", \"aio\", \"alarm\", \"alembic\", \"alignment\", \"already\", \"already\", \"already\", \"already\", \"already\", \"already\", \"already\", \"already\", \"already\", \"already\", \"amount\", \"amount\", \"amount\", \"amount\", \"amount\", \"amount\", \"apache\", \"apache\", \"apache\", \"apache\", \"apache\", \"api\", \"api\", \"api\", \"api\", \"api\", \"api\", \"api\", \"api\", \"appeared\", \"appending\", \"applied\", \"applied\", \"applied\", \"applied\", \"applying\", \"appropriate\", \"appropriate\", \"appropriate\", \"appropriately\", \"appropriately\", \"appropriately\", \"apps\", \"apt\", \"apt\", \"apt\", \"arguments\", \"arguments\", \"arguments\", \"assets\", \"assume\", \"aug\", \"auth\", \"auth\", \"auth\", \"authenticate\", \"authentication\", \"authentication\", \"authentication\", \"authentication\", \"authentication\", \"authentication\", \"authentication\", \"available\", \"available\", \"available\", \"available\", \"available\", \"available\", \"available\", \"available\", \"available\", \"backends\", \"balancer\", \"balancer\", \"balancer\", \"balancer\", \"balancer\", \"bare\", \"bare\", \"basepython\", \"basepython\", \"becomes\", \"behaviour\", \"behaviour\", \"beyond\", \"bind\", \"blueprint\", \"blueprint\", \"blueprint\", \"blueprint\", \"blueprint\", \"blueprint\", \"blueprint\", \"blueprint\", \"bp\", \"bp\", \"branch\", \"branch\", \"branch\", \"branch\", \"branch\", \"branch\", \"branch\", \"branch\", \"breaks\", \"breaks\", \"breaks\", \"breaks\", \"breaks\", \"breaks\", \"breaks\", \"breaks\", \"btrfs\", \"bugfix\", \"bugfix\", \"build\", \"build\", \"build\", \"build\", \"build\", \"build\", \"build\", \"build\", \"build\", \"bump\", \"bump\", \"bump\", \"bump\", \"bump\", \"bump\", \"bump\", \"bundle\", \"busy\", \"cache\", \"cache\", \"cache\", \"cache\", \"cache\", \"cache\", \"cached\", \"caching\", \"caching\", \"call\", \"call\", \"call\", \"call\", \"call\", \"call\", \"call\", \"capable\", \"capture\", \"casting\", \"catalog\", \"cert\", \"certificate\", \"certificate\", \"changed\", \"changed\", \"changed\", \"changed\", \"changed\", \"changed\", \"changed\", \"changed\", \"changed\", \"changed\", \"changes\", \"changes\", \"changes\", \"changes\", \"changes\", \"changes\", \"changes\", \"changes\", \"changes\", \"chart\", \"check\", \"check\", \"check\", \"check\", \"check\", \"check\", \"check\", \"check\", \"check\", \"check\", \"chosen\", \"ci\", \"ci\", \"ci\", \"ci\", \"ci\", \"ci\", \"ci\", \"cipher\", \"cirros\", \"cleanup\", \"cleanup\", \"cleanup\", \"cleanup\", \"cleanup\", \"cleanup\", \"cleanup\", \"clearer\", \"code\", \"code\", \"code\", \"code\", \"code\", \"code\", \"code\", \"code\", \"code\", \"collect\", \"come\", \"come\", \"comes\", \"command\", \"command\", \"command\", \"command\", \"command\", \"command\", \"command\", \"command\", \"command\", \"command\", \"compatibility\", \"complicated\", \"compression\", \"conditional\", \"conditional\", \"conditional\", \"conditional\", \"conditional\", \"config\", \"config\", \"config\", \"config\", \"config\", \"config\", \"config\", \"config\", \"config\", \"config\", \"configurable\", \"configurable\", \"configurable\", \"configuration\", \"configuration\", \"configuration\", \"configuration\", \"configuration\", \"configuration\", \"configuration\", \"configuration\", \"configuration\", \"configuration\", \"configuring\", \"configuring\", \"conflict\", \"conflict\", \"conntrackd\", \"consistency\", \"consistency\", \"constantly\", \"constrained\", \"constraint\", \"container\", \"container\", \"container\", \"container\", \"container\", \"container\", \"container\", \"container\", \"container\", \"containerized\", \"containerized\", \"containerized\", \"containerized\", \"containers\", \"containers\", \"containers\", \"containers\", \"containers\", \"containers\", \"containers\", \"containers\", \"containers\", \"containers\", \"content\", \"content\", \"content\", \"content\", \"content\", \"content\", \"content\", \"context\", \"context\", \"context\", \"context\", \"context\", \"continues\", \"continuous\", \"copies\", \"copies\", \"coverage\", \"coverage\", \"coverage\", \"create\", \"create\", \"create\", \"create\", \"create\", \"create\", \"create\", \"create\", \"create\", \"create\", \"critical\", \"css\", \"daemons\", \"dangling\", \"dashboard\", \"db\", \"db\", \"db\", \"db\", \"deb\", \"decide\", \"dedicated\", \"dedicated\", \"dedicated\", \"defaults\", \"defaults\", \"defaults\", \"defaults\", \"defaults\", \"defaults\", \"defaults\", \"defined\", \"defined\", \"defined\", \"defined\", \"defined\", \"defined\", \"defined\", \"defined\", \"delegate\", \"delegation\", \"delegation\", \"delta\", \"dep\", \"dep\", \"deployers\", \"deployers\", \"deployers\", \"deployment\", \"deployment\", \"deployment\", \"deployment\", \"deployment\", \"deployment\", \"deployment\", \"deployment\", \"deployment\", \"deployment\", \"deprecated\", \"deprecated\", \"deprecated\", \"deprecated\", \"deprecated\", \"deprecated\", \"deprecated\", \"design\", \"dest\", \"develop\", \"device\", \"device\", \"device\", \"dictionary\", \"directive\", \"directory\", \"directory\", \"directory\", \"directory\", \"directory\", \"directory\", \"directory\", \"directory\", \"directory\", \"directory\", \"discovery\", \"displayed\", \"displaying\", \"displays\", \"distribute\", \"distributed\", \"distributed\", \"distributions\", \"distro\", \"distro\", \"distro\", \"distro\", \"distro\", \"distro\", \"distro\", \"distro\", \"distros\", \"distros\", \"django\", \"django\", \"docs\", \"docs\", \"docs\", \"docs\", \"docs\", \"docs\", \"docs\", \"docs\", \"docs\", \"document\", \"document\", \"document\", \"document\", \"document\", \"document\", \"document\", \"document\", \"dump\", \"duplicated\", \"duplicating\", \"dynamic\", \"dynamic\", \"dynamic\", \"dynamic\", \"dynamic\", \"dynamic\", \"dynamic\", \"ease\", \"ebtables\", \"echo\", \"echo\", \"edits\", \"effect\", \"effectively\", \"effectively\", \"enablement\", \"ensure\", \"ensure\", \"ensure\", \"ensure\", \"ensure\", \"ensure\", \"ensure\", \"ensure\", \"ensure\", \"ensure\", \"entries\", \"entries\", \"entries\", \"entries\", \"entries\", \"entries\", \"entries\", \"environment\", \"environment\", \"environment\", \"environment\", \"environment\", \"environment\", \"environment\", \"environment\", \"environment\", \"environments\", \"environments\", \"environments\", \"environments\", \"error\", \"error\", \"error\", \"error\", \"error\", \"error\", \"error\", \"error\", \"error\", \"error\", \"evan\", \"event\", \"existance\", \"exit\", \"exit\", \"exits\", \"expand\", \"expand\", \"experiencing\", \"explanation\", \"expression\", \"facts\", \"facts\", \"facts\", \"facts\", \"facts\", \"facts\", \"favor\", \"fernet\", \"fernet\", \"file\", \"file\", \"file\", \"file\", \"file\", \"file\", \"file\", \"file\", \"file\", \"file\", \"files\", \"files\", \"files\", \"files\", \"files\", \"files\", \"files\", \"files\", \"files\", \"files\", \"filesystem\", \"filesystems\", \"firewall\", \"firewall\", \"flatten\", \"flow\", \"flow\", \"flush\", \"flushing\", \"focus\", \"folks\", \"footprint\", \"footprint\", \"footprint\", \"forcing\", \"forks\", \"formatted\", \"freezer\", \"fstab\", \"functions\", \"functions\", \"functions\", \"functions\", \"future\", \"future\", \"future\", \"future\", \"future\", \"fwaas\", \"gain\", \"gain\", \"gate\", \"gate\", \"gate\", \"gate\", \"gate\", \"gate\", \"gate\", \"gate\", \"gate\", \"gathered\", \"get\", \"get\", \"get\", \"get\", \"get\", \"get\", \"get\", \"get\", \"get\", \"get\", \"giturl\", \"gnocchi\", \"gnocchi\", \"going\", \"going\", \"going\", \"going\", \"going\", \"going\", \"going\", \"going\", \"gpt\", \"group\", \"group\", \"group\", \"group\", \"group\", \"group\", \"group\", \"group\", \"group\", \"hacking\", \"hacks\", \"handler\", \"handler\", \"handler\", \"handles\", \"handles\", \"handles\", \"haproxy\", \"haproxy\", \"haproxy\", \"haproxy\", \"haproxy\", \"haproxy\", \"haproxy\", \"hardening\", \"hardening\", \"horizon\", \"horizon\", \"horizon\", \"horizon\", \"horizon\", \"horizon\", \"host\", \"host\", \"host\", \"host\", \"host\", \"host\", \"host\", \"host\", \"host\", \"host\", \"hosts\", \"hosts\", \"hosts\", \"hosts\", \"hosts\", \"hosts\", \"hosts\", \"hosts\", \"hosts\", \"http\", \"http\", \"http\", \"http\", \"http\", \"http\", \"http\", \"http\", \"http\", \"http\", \"hyperlink\", \"idp\", \"image\", \"image\", \"image\", \"image\", \"image\", \"image\", \"image\", \"image\", \"implements\", \"implements\", \"implements\", \"implements\", \"implements\", \"implements\", \"implements\", \"importance\", \"improvement\", \"inclusions\", \"inconsistencies\", \"increase\", \"increase\", \"increase\", \"increase\", \"increase\", \"increase\", \"increase\", \"increases\", \"increasing\", \"increasing\", \"indicates\", \"init\", \"init\", \"inline\", \"inline\", \"inline\", \"inline\", \"insecure\", \"install\", \"install\", \"install\", \"install\", \"install\", \"install\", \"install\", \"install\", \"install\", \"installations\", \"installed\", \"installed\", \"installed\", \"installed\", \"installed\", \"installed\", \"installed\", \"installed\", \"insufficient\", \"integer\", \"integrated\", \"integrated\", \"integrated\", \"integrated\", \"integrated\", \"intention\", \"interfaces\", \"interfaces\", \"interpreter\", \"intervals\", \"inventory\", \"inventory\", \"inventory\", \"inventory\", \"inventory\", \"inventory\", \"inventory\", \"inventory\", \"investigated\", \"io\", \"io\", \"ip\", \"ip\", \"ip\", \"ip\", \"ip\", \"ip\", \"ip\", \"ip\", \"ip\", \"ip\", \"ips\", \"ips\", \"ironic\", \"ironic\", \"ironic\", \"ironic\", \"ironic\", \"isolate\", \"issue\", \"issue\", \"issue\", \"issue\", \"issue\", \"issue\", \"issue\", \"issue\", \"issue\", \"issue\", \"issued\", \"item\", \"item\", \"item\", \"item\", \"item\", \"january\", \"jeblair\", \"jewel\", \"jinja\", \"jinja\", \"jobs\", \"jobs\", \"jobs\", \"jobs\", \"jobs\", \"jobs\", \"jobs\", \"jobs\", \"jobs\", \"jobs\", \"journal\", \"journals\", \"journals\", \"jsonfile\", \"juno\", \"juno\", \"keepalived\", \"keepalived\", \"kernel\", \"kernel\", \"kernel\", \"kernel\", \"kernel\", \"kernel\", \"key\", \"key\", \"key\", \"key\", \"key\", \"keys\", \"keys\", \"know\", \"know\", \"know\", \"know\", \"labs\", \"larger\", \"launched\", \"layout\", \"lb\", \"lb\", \"lb\", \"library\", \"library\", \"library\", \"library\", \"like\", \"like\", \"like\", \"like\", \"like\", \"like\", \"like\", \"like\", \"like\", \"limit\", \"limit\", \"limit\", \"limit\", \"limit\", \"limit\", \"limit\", \"limit\", \"limit\", \"line\", \"line\", \"line\", \"line\", \"line\", \"line\", \"line\", \"line\", \"link\", \"link\", \"link\", \"link\", \"link\", \"link\", \"link\", \"link\", \"link\", \"links\", \"links\", \"links\", \"links\", \"links\", \"links\", \"linters\", \"linters\", \"linters\", \"linters\", \"list\", \"list\", \"list\", \"list\", \"list\", \"list\", \"list\", \"list\", \"list\", \"list\", \"listen\", \"listen\", \"listener\", \"listening\", \"live\", \"live\", \"locally\", \"locally\", \"log\", \"log\", \"log\", \"log\", \"log\", \"log\", \"log\", \"log\", \"login\", \"long\", \"long\", \"long\", \"long\", \"long\", \"long\", \"loopback\", \"lowers\", \"lxc\", \"lxc\", \"lxc\", \"mac\", \"mac\", \"mac\", \"macros\", \"maintained\", \"maintenance\", \"maintenance\", \"maintenance\", \"maintenance\", \"maintenance\", \"maintenance\", \"maintenance\", \"maintenance\", \"make\", \"make\", \"make\", \"make\", \"make\", \"make\", \"make\", \"make\", \"make\", \"make\", \"march\", \"mask\", \"master\", \"master\", \"master\", \"master\", \"master\", \"master\", \"master\", \"master\", \"may\", \"may\", \"may\", \"may\", \"may\", \"may\", \"may\", \"may\", \"may\", \"mechanism\", \"mechanism\", \"memcached\", \"memcached\", \"memory\", \"memory\", \"memory\", \"memory\", \"memory\", \"memory\", \"memory\", \"memory\", \"menu\", \"message\", \"message\", \"message\", \"message\", \"message\", \"message\", \"middleware\", \"middleware\", \"middleware\", \"middleware\", \"migration\", \"migration\", \"migration\", \"migration\", \"migration\", \"migration\", \"migration\", \"migrations\", \"migrations\", \"migrations\", \"minute\", \"minute\", \"minute\", \"missing\", \"missing\", \"missing\", \"missing\", \"missing\", \"missing\", \"missing\", \"missing\", \"missing\", \"mistral\", \"modifies\", \"module\", \"module\", \"module\", \"module\", \"module\", \"module\", \"module\", \"module\", \"module\", \"module\", \"molecule\", \"molecule\", \"molecule\", \"mon\", \"mount\", \"mount\", \"mount\", \"mount\", \"mounts\", \"multinode\", \"names\", \"names\", \"names\", \"names\", \"names\", \"names\", \"names\", \"names\", \"names\", \"namespace\", \"namespace\", \"namespace\", \"namespace\", \"nature\", \"nearly\", \"need\", \"need\", \"need\", \"need\", \"need\", \"need\", \"need\", \"need\", \"need\", \"need\", \"needed\", \"needed\", \"needed\", \"needed\", \"needed\", \"needed\", \"needed\", \"needed\", \"needed\", \"netcat\", \"networks\", \"networks\", \"networks\", \"networks\", \"neutron\", \"neutron\", \"neutron\", \"neutron\", \"neutron\", \"neutron\", \"neutron\", \"neutron\", \"new\", \"new\", \"new\", \"new\", \"new\", \"new\", \"new\", \"new\", \"new\", \"new\", \"newlines\", \"node\", \"node\", \"node\", \"node\", \"node\", \"node\", \"node\", \"node\", \"node\", \"nodes\", \"nodes\", \"nodes\", \"nodes\", \"nodes\", \"nodes\", \"nodes\", \"nodes\", \"nodes\", \"nodeset\", \"nodeset\", \"nodeset\", \"nonvoting\", \"note\", \"note\", \"note\", \"note\", \"note\", \"note\", \"note\", \"note\", \"note\", \"note\", \"nothing\", \"nothing\", \"notices\", \"number\", \"number\", \"number\", \"number\", \"number\", \"number\", \"number\", \"number\", \"number\", \"number\", \"occuring\", \"omit\", \"onto\", \"onwards\", \"openssl\", \"openstacktheme\", \"opensuse\", \"opensuse\", \"operator\", \"operator\", \"operator\", \"operators\", \"ops\", \"optimal\", \"option\", \"option\", \"option\", \"option\", \"option\", \"option\", \"option\", \"option\", \"option\", \"option\", \"options\", \"options\", \"options\", \"options\", \"options\", \"options\", \"options\", \"order\", \"order\", \"order\", \"order\", \"order\", \"order\", \"order\", \"order\", \"os\", \"osa\", \"osa\", \"osa\", \"osa\", \"osds\", \"osds\", \"osprofiler\", \"output\", \"output\", \"output\", \"output\", \"output\", \"output\", \"output\", \"output\", \"override\", \"override\", \"override\", \"override\", \"override\", \"override\", \"override\", \"overrides\", \"overrides\", \"overrides\", \"overrides\", \"overrides\", \"overwritten\", \"ovn\", \"package\", \"package\", \"package\", \"package\", \"package\", \"package\", \"package\", \"package\", \"package\", \"package\", \"packages\", \"packages\", \"packages\", \"packages\", \"packages\", \"packages\", \"packages\", \"packages\", \"page\", \"page\", \"page\", \"page\", \"page\", \"page\", \"parameterize\", \"parsed\", \"parsed\", \"parses\", \"partially\", \"partially\", \"pass\", \"pass\", \"pass\", \"pass\", \"pass\", \"pass\", \"pass\", \"pass\", \"patch\", \"patch\", \"patch\", \"patch\", \"patch\", \"patch\", \"patch\", \"patch\", \"patch\", \"patch\", \"path\", \"path\", \"path\", \"path\", \"path\", \"path\", \"path\", \"path\", \"path\", \"path\", \"pause\", \"pci\", \"per\", \"per\", \"per\", \"per\", \"per\", \"per\", \"per\", \"per\", \"per\", \"performance\", \"performance\", \"performance\", \"performance\", \"performance\", \"performance\", \"performance\", \"performance\", \"performance\", \"permission\", \"phase\", \"pinned\", \"pinned\", \"pinned\", \"pipefail\", \"platform\", \"play\", \"play\", \"play\", \"play\", \"play\", \"playbook\", \"playbook\", \"playbook\", \"playbook\", \"playbook\", \"playbook\", \"playbook\", \"playbook\", \"playbook\", \"plays\", \"plays\", \"plays\", \"plays\", \"plugin\", \"plugin\", \"plugin\", \"plugin\", \"plugin\", \"plugin\", \"plugin\", \"podman\", \"podman\", \"pods\", \"pods\", \"policy\", \"policy\", \"policy\", \"policy\", \"policy\", \"pool\", \"pool\", \"pool\", \"pool\", \"pool\", \"pool\", \"pool\", \"pools\", \"port\", \"port\", \"port\", \"port\", \"port\", \"port\", \"port\", \"ports\", \"ports\", \"preferred\", \"printed\", \"prior\", \"prior\", \"prior\", \"prior\", \"privileges\", \"processes\", \"processes\", \"processes\", \"processes\", \"processes\", \"profile\", \"profile\", \"proof\", \"protocol\", \"protocol\", \"protocol\", \"providing\", \"purposes\", \"pvc\", \"pypi\", \"pypi\", \"pypi\", \"pypi\", \"pypi\", \"pypi\", \"quotes\", \"quotes\", \"rally\", \"ram\", \"ram\", \"ram\", \"ram\", \"ram\", \"ram\", \"reboot\", \"receive\", \"redefine\", \"reduce\", \"reduce\", \"reduce\", \"reduce\", \"reduce\", \"reduce\", \"reduce\", \"reduction\", \"refactor\", \"refactor\", \"refactor\", \"refactor\", \"refactor\", \"refactor\", \"refactor\", \"refactor\", \"refactor\", \"refactoring\", \"referenced\", \"referenced\", \"referenced\", \"referring\", \"region\", \"region\", \"register\", \"register\", \"register\", \"register\", \"release\", \"release\", \"release\", \"release\", \"release\", \"release\", \"release\", \"release\", \"release\", \"release\", \"reload\", \"reload\", \"relying\", \"remaining\", \"remove\", \"remove\", \"remove\", \"remove\", \"remove\", \"remove\", \"remove\", \"remove\", \"remove\", \"remove\", \"removed\", \"removed\", \"removed\", \"removed\", \"removed\", \"removed\", \"removed\", \"removed\", \"removes\", \"removes\", \"removes\", \"removes\", \"removes\", \"removes\", \"removes\", \"removes\", \"removes\", \"repeat\", \"replace\", \"replace\", \"replace\", \"replace\", \"replace\", \"replace\", \"replace\", \"replace\", \"replace\", \"replace\", \"replication\", \"repo\", \"repo\", \"repo\", \"repo\", \"repo\", \"repo\", \"repo\", \"repo\", \"repo\", \"repositories\", \"repositories\", \"repositories\", \"repositories\", \"request\", \"request\", \"request\", \"request\", \"request\", \"request\", \"request\", \"request\", \"requirements\", \"requirements\", \"requirements\", \"requirements\", \"requirements\", \"requirements\", \"requirements\", \"requirements\", \"rescue\", \"reservation\", \"resize\", \"resource\", \"resource\", \"resource\", \"resource\", \"resource\", \"resource\", \"resource\", \"resource\", \"resource\", \"responsible\", \"retrying\", \"reverting\", \"reviewed\", \"revision\", \"rewrite\", \"right\", \"right\", \"right\", \"right\", \"right\", \"right\", \"right\", \"right\", \"right\", \"ring\", \"role\", \"role\", \"role\", \"role\", \"role\", \"role\", \"role\", \"role\", \"role\", \"role\", \"rolling\", \"rolling\", \"rotation\", \"rst\", \"rst\", \"rst\", \"rsync\", \"rsync\", \"rsync\", \"rsync\", \"rsync\", \"run\", \"run\", \"run\", \"run\", \"run\", \"run\", \"run\", \"run\", \"run\", \"run\", \"running\", \"running\", \"running\", \"running\", \"running\", \"running\", \"running\", \"running\", \"running\", \"runtimes\", \"sadly\", \"sadly\", \"scenario\", \"scenario\", \"scenario\", \"scenarios\", \"scope\", \"script\", \"script\", \"script\", \"script\", \"script\", \"script\", \"script\", \"script\", \"script\", \"script\", \"sec\", \"secondary\", \"section\", \"section\", \"section\", \"section\", \"section\", \"section\", \"section\", \"section\", \"section\", \"security\", \"security\", \"security\", \"security\", \"security\", \"security\", \"security\", \"security\", \"self\", \"semantics\", \"serial\", \"serial\", \"serial\", \"service\", \"service\", \"service\", \"service\", \"service\", \"service\", \"service\", \"service\", \"service\", \"service\", \"services\", \"services\", \"services\", \"services\", \"services\", \"services\", \"services\", \"services\", \"services\", \"set\", \"set\", \"set\", \"set\", \"set\", \"set\", \"set\", \"set\", \"set\", \"set\", \"setuptools\", \"setuptools\", \"setuptools\", \"setuptools\", \"sha\", \"sha\", \"sha\", \"sha\", \"sha\", \"sha\", \"ship\", \"shipped\", \"show\", \"show\", \"show\", \"simplified\", \"simplifies\", \"simplifies\", \"simplifies\", \"simplify\", \"simplify\", \"since\", \"since\", \"since\", \"since\", \"since\", \"since\", \"since\", \"since\", \"since\", \"sink\", \"sizes\", \"skipping\", \"smart\", \"smart\", \"sorts\", \"spawning\", \"specified\", \"specified\", \"specified\", \"specified\", \"specified\", \"specify\", \"specify\", \"specify\", \"specify\", \"specify\", \"specify\", \"specify\", \"spelling\", \"sphinxmark\", \"src\", \"ssl\", \"ssl\", \"ssl\", \"ssl\", \"ssl\", \"starvation\", \"statements\", \"statements\", \"statements\", \"static\", \"static\", \"static\", \"static\", \"static\", \"statically\", \"stderr\", \"stdout\", \"stdout\", \"stdout\", \"stdout\", \"stopped\", \"stopped\", \"stops\", \"subset\", \"suggests\", \"suite\", \"suite\", \"suite\", \"support\", \"support\", \"support\", \"support\", \"support\", \"support\", \"support\", \"support\", \"support\", \"supports\", \"supports\", \"suse\", \"swap\", \"symlink\", \"symlink\", \"symlink\", \"syncs\", \"syntax\", \"syntax\", \"syntax\", \"syntax\", \"syntax\", \"syntax\", \"systemd\", \"systemd\", \"systemd\", \"tacker\", \"target\", \"target\", \"target\", \"target\", \"target\", \"target\", \"task\", \"task\", \"task\", \"task\", \"task\", \"task\", \"task\", \"task\", \"task\", \"task\", \"tasks\", \"tasks\", \"tasks\", \"tasks\", \"tasks\", \"tasks\", \"tasks\", \"tasks\", \"tasks\", \"temp\", \"template\", \"template\", \"template\", \"template\", \"template\", \"template\", \"template\", \"template\", \"template\", \"templating\", \"temptest\", \"testenv\", \"testenv\", \"testr\", \"testr\", \"testr\", \"theme\", \"theme\", \"threads\", \"threads\", \"timeout\", \"timeout\", \"timeout\", \"timeout\", \"timeout\", \"timeout\", \"timeout\", \"tiny\", \"todo\", \"todo\", \"tokens\", \"tooling\", \"total\", \"total\", \"tox\", \"tox\", \"tox\", \"tox\", \"tox\", \"tox\", \"tox\", \"tox\", \"tox\", \"tox\", \"transition\", \"transition\", \"translations\", \"trivial\", \"trivial\", \"true\", \"true\", \"true\", \"true\", \"true\", \"true\", \"true\", \"true\", \"true\", \"true\", \"tuesday\", \"tuned\", \"two\", \"two\", \"two\", \"two\", \"two\", \"two\", \"two\", \"two\", \"two\", \"two\", \"typo\", \"typo\", \"typo\", \"typo\", \"typo\", \"typo\", \"typo\", \"unarchive\", \"unblock\", \"unblock\", \"undefined\", \"undefined\", \"undefined\", \"undefined\", \"undefined\", \"underscore\", \"understand\", \"understand\", \"understanding\", \"unnecessary\", \"unnecessary\", \"unnecessary\", \"unnecessary\", \"unpin\", \"update\", \"update\", \"update\", \"update\", \"update\", \"update\", \"update\", \"update\", \"update\", \"update\", \"updated\", \"updated\", \"updated\", \"updated\", \"updated\", \"updated\", \"updated\", \"updated\", \"updated\", \"updated\", \"updates\", \"updates\", \"updates\", \"updates\", \"updates\", \"updates\", \"updates\", \"updates\", \"upgrade\", \"upgrade\", \"upgrade\", \"upgrade\", \"upgrade\", \"upgrade\", \"upgrade\", \"upgrade\", \"upgrades\", \"upgrades\", \"upgrades\", \"upgrades\", \"upgrades\", \"uploads\", \"upper\", \"upstream\", \"upstream\", \"upstream\", \"upstream\", \"upstream\", \"upstream\", \"upstream\", \"upstream\", \"upstream\", \"upstream\", \"url\", \"url\", \"url\", \"url\", \"url\", \"url\", \"url\", \"url\", \"url\", \"url\", \"urls\", \"urls\", \"urls\", \"usability\", \"used\", \"used\", \"used\", \"used\", \"used\", \"used\", \"used\", \"used\", \"used\", \"used\", \"user\", \"user\", \"user\", \"user\", \"user\", \"user\", \"user\", \"user\", \"user\", \"using\", \"using\", \"using\", \"using\", \"using\", \"using\", \"using\", \"using\", \"using\", \"using\", \"utility\", \"utilize\", \"vagrant\", \"vagrant\", \"vagrant\", \"vagrant\", \"vagrantfile\", \"value\", \"value\", \"value\", \"value\", \"value\", \"value\", \"value\", \"value\", \"value\", \"variable\", \"variable\", \"variable\", \"variable\", \"variable\", \"variable\", \"variable\", \"variable\", \"variable\", \"variable\", \"variables\", \"variables\", \"variables\", \"variables\", \"variables\", \"variables\", \"variables\", \"variables\", \"variables\", \"variables\", \"venv\", \"venv\", \"venv\", \"venv\", \"venv\", \"venv\", \"venv\", \"venvs\", \"version\", \"version\", \"version\", \"version\", \"version\", \"version\", \"version\", \"version\", \"version\", \"version\", \"vm\", \"vm\", \"vm\", \"vm\", \"vm\", \"vm\", \"vm\", \"vm\", \"vs\", \"vulnerable\", \"warning\", \"warning\", \"warning\", \"warning\", \"warning\", \"warnings\", \"warnings\", \"warnings\", \"wheels\", \"wheels\", \"wheels\", \"whenever\", \"whenever\", \"within\", \"within\", \"within\", \"within\", \"within\", \"within\", \"within\", \"within\", \"within\", \"work\", \"work\", \"work\", \"work\", \"work\", \"work\", \"work\", \"work\", \"work\", \"work\", \"worth\", \"would\", \"would\", \"would\", \"would\", \"would\", \"would\", \"would\", \"would\", \"would\", \"wrong\", \"wrong\", \"wrong\", \"wrong\", \"wrong\", \"wrong\", \"wrong\", \"xrange\", \"yaml\", \"yaml\", \"yaml\", \"yaml\", \"yaml\", \"yaml\", \"yaml\"]}, \"R\": 30, \"lambda.step\": 0.01, \"plot.opts\": {\"xlab\": \"PC1\", \"ylab\": \"PC2\"}, \"topic.order\": [1, 2, 3, 5, 8, 6, 4, 7, 9, 10]};\n",
       "\n",
       "function LDAvis_load_lib(url, callback){\n",
       "  var s = document.createElement('script');\n",
       "  s.src = url;\n",
       "  s.async = true;\n",
       "  s.onreadystatechange = s.onload = callback;\n",
       "  s.onerror = function(){console.warn(\"failed to load library \" + url);};\n",
       "  document.getElementsByTagName(\"head\")[0].appendChild(s);\n",
       "}\n",
       "\n",
       "if(typeof(LDAvis) !== \"undefined\"){\n",
       "   // already loaded: just create the visualization\n",
       "   !function(LDAvis){\n",
       "       new LDAvis(\"#\" + \"ldavis_el83847349284790486208833470\", ldavis_el83847349284790486208833470_data);\n",
       "   }(LDAvis);\n",
       "}else if(typeof define === \"function\" && define.amd){\n",
       "   // require.js is available: use it to load d3/LDAvis\n",
       "   require.config({paths: {d3: \"https://cdnjs.cloudflare.com/ajax/libs/d3/3.5.5/d3.min\"}});\n",
       "   require([\"d3\"], function(d3){\n",
       "      window.d3 = d3;\n",
       "      LDAvis_load_lib(\"https://cdn.rawgit.com/bmabey/pyLDAvis/files/ldavis.v1.0.0.js\", function(){\n",
       "        new LDAvis(\"#\" + \"ldavis_el83847349284790486208833470\", ldavis_el83847349284790486208833470_data);\n",
       "      });\n",
       "    });\n",
       "}else{\n",
       "    // require.js not available: dynamically load d3 & LDAvis\n",
       "    LDAvis_load_lib(\"https://cdnjs.cloudflare.com/ajax/libs/d3/3.5.5/d3.min.js\", function(){\n",
       "         LDAvis_load_lib(\"https://cdn.rawgit.com/bmabey/pyLDAvis/files/ldavis.v1.0.0.js\", function(){\n",
       "                 new LDAvis(\"#\" + \"ldavis_el83847349284790486208833470\", ldavis_el83847349284790486208833470_data);\n",
       "            })\n",
       "         });\n",
       "}\n",
       "</script>"
      ],
      "text/plain": [
       "PreparedData(topic_coordinates=              x         y  topics  cluster       Freq\n",
       "topic                                                \n",
       "0     -0.079643 -0.014425       1        1  24.042496\n",
       "1     -0.094649 -0.021305       2        1  18.958231\n",
       "2     -0.086153 -0.018086       3        1  14.709167\n",
       "4     -0.067809 -0.016741       4        1  11.139566\n",
       "7     -0.047825 -0.004053       5        1   8.957707\n",
       "5     -0.035502  0.155136       6        1   5.933999\n",
       "3      0.051562 -0.000401       7        1   5.630461\n",
       "6      0.061887 -0.092460       8        1   4.145032\n",
       "8      0.132772 -0.096894       9        1   3.944163\n",
       "9      0.165361  0.109231      10        1   2.539168, topic_info=            Term        Freq       Total Category  logprob  loglift\n",
       "223       update  419.000000  419.000000  Default  30.0000  30.0000\n",
       "1245        docs  325.000000  325.000000  Default  29.0000  29.0000\n",
       "84      security  451.000000  451.000000  Default  28.0000  28.0000\n",
       "294       memory  219.000000  219.000000  Default  27.0000  27.0000\n",
       "210    container  367.000000  367.000000  Default  26.0000  26.0000\n",
       "...          ...         ...         ...      ...      ...      ...\n",
       "210    container   16.709391  367.965057  Topic10  -4.7283   0.5813\n",
       "267      content   11.710505  108.048027  Topic10  -5.0838   1.4512\n",
       "469         host   12.484474  359.441833  Topic10  -5.0198   0.3133\n",
       "42    containers   10.929025  225.597351  Topic10  -5.1529   0.6460\n",
       "969    migration    9.261070   43.320892  Topic10  -5.3185   2.1305\n",
       "\n",
       "[709 rows x 6 columns], token_table=      Topic      Freq         Term\n",
       "term                              \n",
       "3188      5  0.831298  accommodate\n",
       "1316      2  0.054663    according\n",
       "1316      3  0.081994    according\n",
       "1316      5  0.163989    according\n",
       "1316      6  0.409971    according\n",
       "...     ...       ...          ...\n",
       "312       3  0.080336         yaml\n",
       "312       4  0.542269         yaml\n",
       "312       5  0.120504         yaml\n",
       "312       7  0.020084         yaml\n",
       "312      10  0.020084         yaml\n",
       "\n",
       "[2097 rows x 3 columns], R=30, lambda_step=0.01, plot_opts={'xlab': 'PC1', 'ylab': 'PC2'}, topic_order=[1, 2, 3, 5, 8, 6, 4, 7, 9, 10])"
      ]
     },
     "execution_count": 97,
     "metadata": {},
     "output_type": "execute_result"
    }
   ],
   "source": [
    "pyLDAvis.gensim.prepare(lda_model_commits, corpus_1_commits, dictionary)"
   ]
  },
  {
   "cell_type": "code",
   "execution_count": null,
   "metadata": {},
   "outputs": [],
   "source": [
    "def get_top_n_words(corpus, n=None):\n",
    "    vec = CountVectorizer().fit(corpus)\n",
    "    bag_of_words = vec.transform(corpus)\n",
    "    sum_words = bag_of_words.sum(axis=0) \n",
    "    words_freq = [(word, sum_words[0, idx]) for word, idx in vec.vocabulary_.items()]\n",
    "    words_freq =sorted(words_freq, key = lambda x: x[1], reverse=True)\n",
    "    return words_freq[:n]\n",
    "common_words = get_top_n_words(commits_df['Commit msg'], 20)\n",
    "for word, freq in common_words:\n",
    "    print(word, freq)\n",
    "df1 = pd.DataFrame(common_words, columns = ['Commit msg' , 'count'])"
   ]
  },
  {
   "cell_type": "markdown",
   "metadata": {},
   "source": [
    "<h4>Top unigrams after removing stop words</h4>"
   ]
  },
  {
   "cell_type": "code",
   "execution_count": null,
   "metadata": {},
   "outputs": [],
   "source": [
    "def get_top_n_words(corpus, n=None):\n",
    "    vec = CountVectorizer(stop_words = stop_words).fit(corpus)\n",
    "    bag_of_words = vec.transform(corpus)\n",
    "    sum_words = bag_of_words.sum(axis=0) \n",
    "    words_freq = [(word, sum_words[0, idx]) for word, idx in vec.vocabulary_.items()]\n",
    "    words_freq =sorted(words_freq, key = lambda x: x[1], reverse=True)\n",
    "    return words_freq[:n]\n",
    "common_words = get_top_n_words(commits_df['Commit msg'], 20)\n",
    "for word, freq in common_words:\n",
    "    print(word, freq)\n",
    "df2 = pd.DataFrame(common_words, columns = ['Commit msg' , 'count'])"
   ]
  },
  {
   "cell_type": "markdown",
   "metadata": {},
   "source": [
    "<h4>Top bigrams before removing stop words</h4>"
   ]
  },
  {
   "cell_type": "code",
   "execution_count": null,
   "metadata": {},
   "outputs": [],
   "source": [
    "def get_top_n_bigram(corpus, n=None):\n",
    "    vec = CountVectorizer(ngram_range=(2, 2)).fit(corpus)\n",
    "    bag_of_words = vec.transform(corpus)\n",
    "    sum_words = bag_of_words.sum(axis=0) \n",
    "    words_freq = [(word, sum_words[0, idx]) for word, idx in vec.vocabulary_.items()]\n",
    "    words_freq =sorted(words_freq, key = lambda x: x[1], reverse=True)\n",
    "    return words_freq[:n]\n",
    "common_words = get_top_n_bigram(commits_df['Commit msg'], 20)\n",
    "for word, freq in common_words:\n",
    "    print(word, freq)\n",
    "df3 = pd.DataFrame(common_words, columns = ['Commit msg' , 'count'])"
   ]
  },
  {
   "cell_type": "markdown",
   "metadata": {},
   "source": [
    "<h4>Top bigrams after removing stop words</h4>"
   ]
  },
  {
   "cell_type": "code",
   "execution_count": null,
   "metadata": {},
   "outputs": [],
   "source": [
    "def get_top_n_bigram(corpus, n=None):\n",
    "    vec = CountVectorizer(ngram_range=(2, 2), stop_words=stop_words).fit(corpus)\n",
    "    bag_of_words = vec.transform(corpus)\n",
    "    sum_words = bag_of_words.sum(axis=0) \n",
    "    words_freq = [(word, sum_words[0, idx]) for word, idx in vec.vocabulary_.items()]\n",
    "    words_freq =sorted(words_freq, key = lambda x: x[1], reverse=True)\n",
    "    return words_freq[:n]\n",
    "common_words = get_top_n_bigram(commits_df['Commit msg'], 20)\n",
    "for word, freq in common_words:\n",
    "    print(word, freq)\n",
    "df4 = pd.DataFrame(common_words, columns = ['Commit msg' , 'count'])"
   ]
  },
  {
   "cell_type": "markdown",
   "metadata": {},
   "source": [
    "<h4>Top trigrams before removing stop words</h4>"
   ]
  },
  {
   "cell_type": "code",
   "execution_count": null,
   "metadata": {},
   "outputs": [],
   "source": [
    "def get_top_n_trigram(corpus, n=None):\n",
    "    vec = CountVectorizer(ngram_range=(3, 3)).fit(corpus)\n",
    "    bag_of_words = vec.transform(corpus)\n",
    "    sum_words = bag_of_words.sum(axis=0) \n",
    "    words_freq = [(word, sum_words[0, idx]) for word, idx in vec.vocabulary_.items()]\n",
    "    words_freq =sorted(words_freq, key = lambda x: x[1], reverse=True)\n",
    "    return words_freq[:n]\n",
    "common_words = get_top_n_trigram(commits_df['Commit msg'], 20)\n",
    "for word, freq in common_words:\n",
    "    print(word, freq)\n",
    "df5 = pd.DataFrame(common_words, columns = ['Commit msg' , 'count'])"
   ]
  },
  {
   "cell_type": "markdown",
   "metadata": {},
   "source": [
    "<h4>Top trigrams after removing stop words</h4>"
   ]
  },
  {
   "cell_type": "code",
   "execution_count": null,
   "metadata": {},
   "outputs": [],
   "source": [
    "def get_top_n_trigram(corpus, n=None):\n",
    "    vec = CountVectorizer(ngram_range=(3, 3), stop_words=stop_words).fit(corpus)\n",
    "    bag_of_words = vec.transform(corpus)\n",
    "    sum_words = bag_of_words.sum(axis=0) \n",
    "    words_freq = [(word, sum_words[0, idx]) for word, idx in vec.vocabulary_.items()]\n",
    "    words_freq =sorted(words_freq, key = lambda x: x[1], reverse=True)\n",
    "    return words_freq[:n]\n",
    "common_words = get_top_n_trigram(commits_df['Commit msg'], 20)\n",
    "for word, freq in common_words:\n",
    "    print(word, freq)\n",
    "df6 = pd.DataFrame(common_words, columns = ['Commit msg' , 'count'])"
   ]
  },
  {
   "cell_type": "markdown",
   "metadata": {},
   "source": [
    "<h4>Topic Modeling with LSA</h4>"
   ]
  },
  {
   "cell_type": "code",
   "execution_count": null,
   "metadata": {},
   "outputs": [],
   "source": [
    "reindexed_data = commits_df['Commit msg']\n",
    "# stop_words = stopwords.words('english')\n",
    "# stop_words.extend(['workshop','id','han','inaugustcom','corvus','james','blair','fix','change','zabbix','bug','com','boylan','clark','inaugust','ceph',\n",
    "#                   'ansible','redhat','gmail','signed','merge','openstack','abrioux','guillaume','ocp','osd','azure','gabrioux','pod','opentic','seb',\n",
    "#                   'client','docker','https','yml','org','jenkins','readme','jeremy','stanley','fungi','kevin','carter','dimitri','savineu','monty',\n",
    "#                   'tailor','pete','birley','andrew','schoen','openstack_project','yuggoth','zhang','yujun','yujunz','closes','fridim','review','name',\n",
    "#                   'common','rgw','adoc','main','lab','rbd','pr','prometheus','oidc','ps','ha','3scale','enmasse', 'cvmfs','pp','git','rhcs',\n",
    "#                    'job','debian','keystone','bugzilla','want','python','add','pull','merged','commit','default','test','tests','crabby',\n",
    "#                    'i0f6c7c88f5a153efac70c52e3c39a5ab7261f1fc','use','2201','2291','i9d6adbe293543f953b0fd8b94b94cf21e914cc0b',\n",
    "#                    'testaccbigquerytable_viewwithlegacysql','1568029','1744','typos','doc','minor','downs','downloaded','drawing','draw','drastically',\n",
    "#                    'dramirezp','dramatically','dpkg','drivers','driven','drives','drift','drew','dreamhost','dreaded','drag','drafts','draft','dprince',\n",
    "#                    'dpdkctl','loc','telescope','gxadmin','flavours','build_location_urls','drops','dropping','dropped','drmaa','drivers','driver','drive', \n",
    "#                    'dpdk','downtime','downstreams','downstreaming','downstream','downsides','i278210477676fdb23db059309b955e7408cf2ec0','downloading', \n",
    "#                    'dsavineau','dsavinea','ds','dry','drush','drupal','drop','downside','due','dtdream','dtdg','dsvm','dstat','dss','dsd','opentlc',\n",
    "#                    'roles','playbooks','also','puppet','logstash','kibana','instead','gerrit','reverts','identity','comments','taylor','mordred',\n",
    "#                   'rabbitmq','grafana','elasticsearch','label','dot','nova','tempest','ipa'])\n",
    "\n",
    "tfidf_vectorizer = TfidfVectorizer(stop_words=stop_words, use_idf=True, smooth_idf=True)\n",
    "# reindexed_data = reindexed_data.values\n",
    "document_term_matrix = tfidf_vectorizer.fit_transform(reindexed_data)"
   ]
  },
  {
   "cell_type": "code",
   "execution_count": null,
   "metadata": {},
   "outputs": [],
   "source": [
    "# stop_words"
   ]
  },
  {
   "cell_type": "code",
   "execution_count": null,
   "metadata": {},
   "outputs": [],
   "source": [
    "n_topics = 10\n",
    "lsa_model = TruncatedSVD(n_components=n_topics)\n",
    "lsa_topic_matrix = lsa_model.fit_transform(document_term_matrix)"
   ]
  },
  {
   "cell_type": "code",
   "execution_count": null,
   "metadata": {},
   "outputs": [],
   "source": [
    "def get_keys(topic_matrix):\n",
    "    '''\n",
    "    returns an integer list of predicted topic \n",
    "    categories for a given topic matrix\n",
    "    '''\n",
    "    keys = topic_matrix.argmax(axis=1).tolist()\n",
    "    return keys\n",
    "\n",
    "def keys_to_counts(keys):\n",
    "    '''\n",
    "    returns a tuple of topic categories and their \n",
    "    accompanying magnitudes for a given list of keys\n",
    "    '''\n",
    "    count_pairs = Counter(keys).items()\n",
    "    categories = [pair[0] for pair in count_pairs]\n",
    "    counts = [pair[1] for pair in count_pairs]\n",
    "    return (categories, counts)"
   ]
  },
  {
   "cell_type": "code",
   "execution_count": null,
   "metadata": {},
   "outputs": [],
   "source": [
    "lsa_keys = get_keys(lsa_topic_matrix)\n",
    "lsa_categories, lsa_counts = keys_to_counts(lsa_keys)"
   ]
  },
  {
   "cell_type": "code",
   "execution_count": null,
   "metadata": {},
   "outputs": [],
   "source": [
    "def get_top_n_words(n, keys, document_term_matrix, tfidf_vectorizer):\n",
    "    '''\n",
    "    returns a list of n_topic strings, where each string contains the n most common \n",
    "    words in a predicted category, in order\n",
    "    '''\n",
    "    top_word_indices = []\n",
    "    for topic in range(n_topics):\n",
    "        temp_vector_sum = 0\n",
    "        for i in range(len(keys)):\n",
    "            if keys[i] == topic:\n",
    "                temp_vector_sum += document_term_matrix[i]\n",
    "        temp_vector_sum = temp_vector_sum.toarray()\n",
    "        top_n_word_indices = np.flip(np.argsort(temp_vector_sum)[0][-n:],0)\n",
    "        top_word_indices.append(top_n_word_indices)   \n",
    "    top_words = []\n",
    "    for topic in top_word_indices:\n",
    "        topic_words = []\n",
    "        for index in topic:\n",
    "            temp_word_vector = np.zeros((1,document_term_matrix.shape[1]))\n",
    "            temp_word_vector[:,index] = 1\n",
    "            the_word = tfidf_vectorizer.inverse_transform(temp_word_vector)[0][0]\n",
    "            try:\n",
    "                topic_words.append(the_word.encode('ascii').decode('utf-8'))\n",
    "            except:\n",
    "#                 print('ASCII')\n",
    "                continue\n",
    "        top_words.append(\" \".join(topic_words))         \n",
    "    return top_words"
   ]
  },
  {
   "cell_type": "code",
   "execution_count": null,
   "metadata": {},
   "outputs": [],
   "source": [
    "top_n_words_lsa = get_top_n_words(15, lsa_keys, document_term_matrix, tfidf_vectorizer)\n",
    "\n",
    "for i in range(len(top_n_words_lsa)):\n",
    "    print(\"Topic {}: \".format(i+1), top_n_words_lsa[i])"
   ]
  },
  {
   "cell_type": "code",
   "execution_count": null,
   "metadata": {},
   "outputs": [],
   "source": [
    "from copy import deepcopy"
   ]
  },
  {
   "cell_type": "code",
   "execution_count": null,
   "metadata": {},
   "outputs": [],
   "source": [
    "top_3_words = get_top_n_words(3, lsa_keys, document_term_matrix, tfidf_vectorizer)\n",
    "labels = ['Topic {}: \\n'.format(i) + top_3_words[i] for i in lsa_categories]\n",
    "print(top_3_words)\n",
    "labels2 = deepcopy(labels)\n",
    "for label in labels2:\n",
    "    index = labels2.index(label)\n",
    "    new = label.replace('\\n', '')\n",
    "    labels2[index] = new\n",
    "labels2\n",
    "\n",
    "fig, ax = plt.subplots(figsize=(16,8))\n",
    "ax.barh(lsa_categories, lsa_counts);\n",
    "# ax.set_xticks(lsa_counts);\n",
    "# plt.rcParams['ytick.major.pad'] = 15\n",
    "# plt.rcParams['ytick.minor.pad'] = 15\n",
    "plt.xlim(0, 5000)\n",
    "ax.set_yticks(lsa_categories)\n",
    "ax.set_yticklabels(labels2)\n",
    "ax.tick_params(axis='y', which='major', pad=10,length=32)\n",
    "# ax.set_ylabel('Topics',rotation=0,fontsize=12)\n",
    "ax.set_title('LSA topic counts')\n",
    "plt.show();"
   ]
  },
  {
   "cell_type": "code",
   "execution_count": null,
   "metadata": {},
   "outputs": [],
   "source": [
    "tsne_lsa_model = TSNE(n_components=2, perplexity=50, learning_rate=100, \n",
    "                        n_iter=2000, verbose=1, random_state=0, angle=0.75)\n",
    "tsne_lsa_vectors = tsne_lsa_model.fit_transform(lsa_topic_matrix)"
   ]
  },
  {
   "cell_type": "code",
   "execution_count": null,
   "metadata": {},
   "outputs": [],
   "source": [
    "def get_mean_topic_vectors(keys, two_dim_vectors):\n",
    "    '''\n",
    "    returns a list of centroid vectors from each predicted topic category\n",
    "    '''\n",
    "    mean_topic_vectors = []\n",
    "    for t in range(n_topics):\n",
    "        reviews_in_that_topic = []\n",
    "        for i in range(len(keys)):\n",
    "            if keys[i] == t:\n",
    "                reviews_in_that_topic.append(two_dim_vectors[i])    \n",
    "        \n",
    "        reviews_in_that_topic = np.vstack(reviews_in_that_topic)\n",
    "        mean_review_in_that_topic = np.mean(reviews_in_that_topic, axis=0)\n",
    "        mean_topic_vectors.append(mean_review_in_that_topic)\n",
    "    return mean_topic_vectors"
   ]
  },
  {
   "cell_type": "code",
   "execution_count": null,
   "metadata": {},
   "outputs": [],
   "source": [
    "colormap = np.array([\n",
    "    \"#1f77b4\", \"#aec7e8\", \"#ff7f0e\", \"#ffbb78\", \"#2ca02c\",\n",
    "    \"#98df8a\", \"#d62728\", \"#ff9896\", \"#9467bd\", \"#c5b0d5\",\n",
    "    \"#8c564b\", \"#c49c94\", \"#e377c2\", \"#f7b6d2\", \"#7f7f7f\",\n",
    "    \"#c7c7c7\", \"#bcbd22\", \"#dbdb8d\", \"#17becf\", \"#9edae5\" ])\n",
    "colormap = colormap[:n_topics]"
   ]
  },
  {
   "cell_type": "code",
   "execution_count": null,
   "metadata": {},
   "outputs": [],
   "source": [
    "top_3_words_lsa = get_top_n_words(3, lsa_keys, document_term_matrix, tfidf_vectorizer)\n",
    "lsa_mean_topic_vectors = get_mean_topic_vectors(lsa_keys, tsne_lsa_vectors)\n",
    "\n",
    "source = ColumnDataSource(dict(\n",
    "    x=tsne_lsa_vectors[:,0],\n",
    "    y=tsne_lsa_vectors[:,1],\n",
    "    color=colormap[lsa_keys],\n",
    "    label=top_3_words_lsa,\n",
    "))\n",
    "\n",
    "plot = figure(title=\"t-SNE Clustering of {} LSA Topics\".format(n_topics), plot_width=700, plot_height=700)\n",
    "plot.scatter(x='x', y='y', color='color',legend_field='label', source = source)\n",
    "    \n",
    "show(plot)"
   ]
  },
  {
   "cell_type": "code",
   "execution_count": null,
   "metadata": {},
   "outputs": [],
   "source": []
  }
 ],
 "metadata": {
  "kernelspec": {
   "display_name": "Python 3",
   "language": "python",
   "name": "python3"
  },
  "language_info": {
   "codemirror_mode": {
    "name": "ipython",
    "version": 3
   },
   "file_extension": ".py",
   "mimetype": "text/x-python",
   "name": "python",
   "nbconvert_exporter": "python",
   "pygments_lexer": "ipython3",
   "version": "3.7.4"
  }
 },
 "nbformat": 4,
 "nbformat_minor": 4
}
