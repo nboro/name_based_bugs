{
 "cells": [
  {
   "cell_type": "code",
   "execution_count": 1,
   "metadata": {},
   "outputs": [],
   "source": [
    "import pandas as pd\n",
    "import numpy as np\n",
    "import pickle\n",
    "import re\n",
    "from pprint import pprint\n",
    "import matplotlib.pyplot as plt\n",
    "import seaborn as sns\n",
    "from collections import defaultdict\n",
    "sns.set\n",
    "%matplotlib inline"
   ]
  },
  {
   "cell_type": "code",
   "execution_count": 2,
   "metadata": {},
   "outputs": [
    {
     "name": "stderr",
     "output_type": "stream",
     "text": [
      "[nltk_data] Downloading package punkt to\n",
      "[nltk_data]     C:\\Users\\Userpc\\AppData\\Roaming\\nltk_data...\n",
      "[nltk_data]   Package punkt is already up-to-date!\n",
      "[nltk_data] Downloading package stopwords to\n",
      "[nltk_data]     C:\\Users\\Userpc\\AppData\\Roaming\\nltk_data...\n",
      "[nltk_data]   Package stopwords is already up-to-date!\n"
     ]
    },
    {
     "data": {
      "text/plain": [
       "True"
      ]
     },
     "execution_count": 2,
     "metadata": {},
     "output_type": "execute_result"
    }
   ],
   "source": [
    "import spacy\n",
    "import nltk\n",
    "from nltk import word_tokenize,sent_tokenize\n",
    "from nltk.tokenize import word_tokenize\n",
    "from nltk.corpus import stopwords\n",
    "from nltk.stem import PorterStemmer\n",
    "from gensim import corpora\n",
    "from gensim.models.ldamodel import LdaModel\n",
    "from sklearn.feature_extraction.text import CountVectorizer\n",
    "from sklearn.feature_extraction.text import TfidfVectorizer\n",
    "import pyLDAvis.gensim\n",
    "from sklearn.decomposition import TruncatedSVD\n",
    "from sklearn.decomposition import LatentDirichletAllocation\n",
    "from sklearn.manifold import TSNE\n",
    "from bokeh.plotting import figure, output_file, show\n",
    "from bokeh.models import Label,ColumnDataSource,Legend, LegendItem\n",
    "from bokeh.io import output_notebook\n",
    "from gensim.models import CoherenceModel\n",
    "nltk.download('punkt')\n",
    "nltk.download('stopwords')"
   ]
  },
  {
   "cell_type": "markdown",
   "metadata": {},
   "source": [
    "<h4>Load tasks table</h4>"
   ]
  },
  {
   "cell_type": "code",
   "execution_count": 3,
   "metadata": {},
   "outputs": [
    {
     "data": {
      "text/plain": [
       "Index(['repo_count', 'task_name', 'method_description', 'mod_keys_found',\n",
       "       'mod_values_found', 'key_module_text', 'value_module_text',\n",
       "       'mod_keys_found_string', 'found_used_parameters', 'has_params',\n",
       "       'third_ast', 'third_tokens', 'token_task_names', 'descr_one_string',\n",
       "       'consistent', 'task_com', 'task_complete'],\n",
       "      dtype='object')"
      ]
     },
     "execution_count": 3,
     "metadata": {},
     "output_type": "execute_result"
    }
   ],
   "source": [
    "with open('tasks_eda.pkl', 'rb') as input_file:\n",
    "    tasks = pickle.load(input_file)   \n",
    "tasks.columns"
   ]
  },
  {
   "cell_type": "code",
   "execution_count": 4,
   "metadata": {},
   "outputs": [
    {
     "data": {
      "text/plain": [
       "(10396, 17)"
      ]
     },
     "execution_count": 4,
     "metadata": {},
     "output_type": "execute_result"
    }
   ],
   "source": [
    "tasks = tasks[tasks['consistent'] == True]\n",
    "tasks.shape"
   ]
  },
  {
   "cell_type": "code",
   "execution_count": 5,
   "metadata": {},
   "outputs": [],
   "source": [
    "def remove_first(lst):\n",
    "    \n",
    "    lst.remove(lst[0])\n",
    "    return lst"
   ]
  },
  {
   "cell_type": "code",
   "execution_count": 6,
   "metadata": {},
   "outputs": [],
   "source": [
    "tasks['token_task_names'] = tasks['token_task_names'].apply(lambda x: remove_first(x))"
   ]
  },
  {
   "cell_type": "code",
   "execution_count": 7,
   "metadata": {},
   "outputs": [],
   "source": [
    "tasks['token_task_names_one_string'] = tasks['token_task_names'].apply(lambda x: ' '.join(x))"
   ]
  },
  {
   "cell_type": "code",
   "execution_count": 8,
   "metadata": {},
   "outputs": [
    {
     "data": {
      "text/plain": [
       "0                                    restart datadog-agent\n",
       "1                    Create Datadog agent config directory\n",
       "2             Create main Datadog agent configuration file\n",
       "3        Ensure configuration directories are present f...\n",
       "4        Create a configuration file for each Datadog c...\n",
       "                               ...                        \n",
       "10391    RedHat 6 | Enabling Red Hat Software Collectio...\n",
       "10392     Set Distribution CIS filename for RHEL5/CentOS-5\n",
       "10393     Set Distribution CIS filename for RHEL6/CentOS-6\n",
       "10394     Set Distribution CIS filename for RHEL7/CentOS-7\n",
       "10395    Set Distribution CIS filename for RHEL7/CentOS...\n",
       "Name: token_task_names_one_string, Length: 10396, dtype: object"
      ]
     },
     "execution_count": 8,
     "metadata": {},
     "output_type": "execute_result"
    }
   ],
   "source": [
    "tasks['token_task_names_one_string']"
   ]
  },
  {
   "cell_type": "code",
   "execution_count": 9,
   "metadata": {},
   "outputs": [],
   "source": [
    "# tasks_names = tasks['task_name']"
   ]
  },
  {
   "cell_type": "code",
   "execution_count": 10,
   "metadata": {},
   "outputs": [],
   "source": [
    "corpus_tasks = [token for token in tasks['token_task_names']]"
   ]
  },
  {
   "cell_type": "code",
   "execution_count": 11,
   "metadata": {},
   "outputs": [],
   "source": [
    "lowercase_tasks = [[token.lower() for token in doc] for doc in corpus_tasks]"
   ]
  },
  {
   "cell_type": "code",
   "execution_count": 12,
   "metadata": {},
   "outputs": [],
   "source": [
    "alphas_tasks = [[token for token in doc if token.isalpha()] for doc in lowercase_tasks]"
   ]
  },
  {
   "cell_type": "code",
   "execution_count": 168,
   "metadata": {},
   "outputs": [],
   "source": [
    "stop_words = stopwords.words('english')\n",
    "stop_words.extend(['for','the','flight','elasticsearch', 'docker','ca'])"
   ]
  },
  {
   "cell_type": "code",
   "execution_count": 169,
   "metadata": {},
   "outputs": [],
   "source": [
    "tasks_no_stop = [[token for token in doc if token not in stop_words] for doc in alphas_tasks]\n",
    "# tasks_no_stop"
   ]
  },
  {
   "cell_type": "code",
   "execution_count": 170,
   "metadata": {},
   "outputs": [],
   "source": [
    "tasks_clean_no_stem = [ ' '.join(doc) for doc in tasks_no_stop]"
   ]
  },
  {
   "cell_type": "code",
   "execution_count": 171,
   "metadata": {},
   "outputs": [],
   "source": [
    "stemmer = PorterStemmer()\n",
    "stemmed_tasks = [[stemmer.stem(token) for token in doc] for doc in tasks_no_stop]"
   ]
  },
  {
   "cell_type": "code",
   "execution_count": 172,
   "metadata": {},
   "outputs": [],
   "source": [
    "tasks_clean_str = [ ' '.join(doc) for doc in stemmed_tasks]"
   ]
  },
  {
   "cell_type": "markdown",
   "metadata": {},
   "source": [
    "<h4>Number of words</h4>"
   ]
  },
  {
   "cell_type": "code",
   "execution_count": 173,
   "metadata": {},
   "outputs": [
    {
     "data": {
      "text/plain": [
       "list"
      ]
     },
     "execution_count": 173,
     "metadata": {},
     "output_type": "execute_result"
    }
   ],
   "source": [
    "nb_words = [len(tokens) for tokens in alphas_tasks]\n",
    "type(nb_words)"
   ]
  },
  {
   "cell_type": "markdown",
   "metadata": {},
   "source": [
    "<h4>Number of unique words</h4>"
   ]
  },
  {
   "cell_type": "code",
   "execution_count": 174,
   "metadata": {},
   "outputs": [],
   "source": [
    "alphas_unique = [set(doc) for doc in alphas_tasks]\n",
    "nb_words_unique = [len(doc) for doc in alphas_unique]"
   ]
  },
  {
   "cell_type": "markdown",
   "metadata": {},
   "source": [
    "<h4>Number of characters</h4>"
   ]
  },
  {
   "cell_type": "code",
   "execution_count": 175,
   "metadata": {},
   "outputs": [],
   "source": [
    "tasks_str = [' '.join(doc) for doc in lowercase_tasks]"
   ]
  },
  {
   "cell_type": "code",
   "execution_count": 176,
   "metadata": {},
   "outputs": [],
   "source": [
    "nb_characters = [len(doc) for doc in tasks_str]"
   ]
  },
  {
   "cell_type": "markdown",
   "metadata": {},
   "source": [
    "<h4>Number of stopwords</h4>"
   ]
  },
  {
   "cell_type": "code",
   "execution_count": 177,
   "metadata": {},
   "outputs": [],
   "source": [
    "tasks_stopwords = [[token for token in doc if token in stop_words] for doc in alphas_tasks]"
   ]
  },
  {
   "cell_type": "code",
   "execution_count": 178,
   "metadata": {},
   "outputs": [],
   "source": [
    "nb_stopwords  = [len(doc) for doc in tasks_stopwords]"
   ]
  },
  {
   "cell_type": "markdown",
   "metadata": {},
   "source": [
    "<h4>Number of punctuations</h4>"
   ]
  },
  {
   "cell_type": "code",
   "execution_count": 179,
   "metadata": {},
   "outputs": [],
   "source": [
    "non_alphas = [[token for token in doc if token.isalpha() == False] for doc in lowercase_tasks]"
   ]
  },
  {
   "cell_type": "code",
   "execution_count": 180,
   "metadata": {},
   "outputs": [],
   "source": [
    "nb_punctuation = [len(doc) for doc in non_alphas]"
   ]
  },
  {
   "cell_type": "markdown",
   "metadata": {},
   "source": [
    "<h4>Number of title case words</h4>"
   ]
  },
  {
   "cell_type": "code",
   "execution_count": 181,
   "metadata": {},
   "outputs": [],
   "source": [
    "tasks_title = [[token for token in doc if token.istitle() == True] for doc in corpus_tasks]"
   ]
  },
  {
   "cell_type": "code",
   "execution_count": 182,
   "metadata": {},
   "outputs": [],
   "source": [
    "nb_title = [len(doc) for doc in tasks_title]"
   ]
  },
  {
   "cell_type": "markdown",
   "metadata": {},
   "source": [
    "<h4>New DataFrame</h4>"
   ]
  },
  {
   "cell_type": "code",
   "execution_count": 183,
   "metadata": {},
   "outputs": [
    {
     "data": {
      "text/html": [
       "<div>\n",
       "<style scoped>\n",
       "    .dataframe tbody tr th:only-of-type {\n",
       "        vertical-align: middle;\n",
       "    }\n",
       "\n",
       "    .dataframe tbody tr th {\n",
       "        vertical-align: top;\n",
       "    }\n",
       "\n",
       "    .dataframe thead th {\n",
       "        text-align: right;\n",
       "    }\n",
       "</style>\n",
       "<table border=\"1\" class=\"dataframe\">\n",
       "  <thead>\n",
       "    <tr style=\"text-align: right;\">\n",
       "      <th></th>\n",
       "      <th>text_clean</th>\n",
       "    </tr>\n",
       "  </thead>\n",
       "  <tbody>\n",
       "    <tr>\n",
       "      <th>0</th>\n",
       "      <td>restart</td>\n",
       "    </tr>\n",
       "    <tr>\n",
       "      <th>1</th>\n",
       "      <td>creat datadog agent config directori</td>\n",
       "    </tr>\n",
       "    <tr>\n",
       "      <th>2</th>\n",
       "      <td>creat main datadog agent configur file</td>\n",
       "    </tr>\n",
       "    <tr>\n",
       "      <th>3</th>\n",
       "      <td>ensur configur directori present datadog check</td>\n",
       "    </tr>\n",
       "    <tr>\n",
       "      <th>4</th>\n",
       "      <td>creat configur file datadog check</td>\n",
       "    </tr>\n",
       "    <tr>\n",
       "      <th>...</th>\n",
       "      <td>...</td>\n",
       "    </tr>\n",
       "    <tr>\n",
       "      <th>10391</th>\n",
       "      <td>redhat enabl red hat softwar collect rhscl</td>\n",
       "    </tr>\n",
       "    <tr>\n",
       "      <th>10392</th>\n",
       "      <td>set distribut ci filenam</td>\n",
       "    </tr>\n",
       "    <tr>\n",
       "      <th>10393</th>\n",
       "      <td>set distribut ci filenam</td>\n",
       "    </tr>\n",
       "    <tr>\n",
       "      <th>10394</th>\n",
       "      <td>set distribut ci filenam</td>\n",
       "    </tr>\n",
       "    <tr>\n",
       "      <th>10395</th>\n",
       "      <td>set distribut ci filenam amazon</td>\n",
       "    </tr>\n",
       "  </tbody>\n",
       "</table>\n",
       "<p>10396 rows × 1 columns</p>\n",
       "</div>"
      ],
      "text/plain": [
       "                                           text_clean\n",
       "0                                             restart\n",
       "1                creat datadog agent config directori\n",
       "2              creat main datadog agent configur file\n",
       "3      ensur configur directori present datadog check\n",
       "4                   creat configur file datadog check\n",
       "...                                               ...\n",
       "10391      redhat enabl red hat softwar collect rhscl\n",
       "10392                        set distribut ci filenam\n",
       "10393                        set distribut ci filenam\n",
       "10394                        set distribut ci filenam\n",
       "10395                 set distribut ci filenam amazon\n",
       "\n",
       "[10396 rows x 1 columns]"
      ]
     },
     "execution_count": 183,
     "metadata": {},
     "output_type": "execute_result"
    }
   ],
   "source": [
    "df_clean = pd.DataFrame(data={'text_clean':tasks_clean_str})\n",
    "df_clean"
   ]
  },
  {
   "cell_type": "code",
   "execution_count": 184,
   "metadata": {},
   "outputs": [],
   "source": [
    "nb_words = pd.Series(nb_words)\n",
    "nb_words_unique = pd.Series(nb_words_unique)\n",
    "nb_characters = pd.Series(nb_characters)\n",
    "nb_stopwords = pd.Series(nb_stopwords)\n",
    "nb_punctuation = pd.Series(nb_punctuation)\n",
    "nb_title = pd.Series(nb_title)"
   ]
  },
  {
   "cell_type": "code",
   "execution_count": 185,
   "metadata": {},
   "outputs": [
    {
     "data": {
      "text/html": [
       "<div>\n",
       "<style scoped>\n",
       "    .dataframe tbody tr th:only-of-type {\n",
       "        vertical-align: middle;\n",
       "    }\n",
       "\n",
       "    .dataframe tbody tr th {\n",
       "        vertical-align: top;\n",
       "    }\n",
       "\n",
       "    .dataframe thead th {\n",
       "        text-align: right;\n",
       "    }\n",
       "</style>\n",
       "<table border=\"1\" class=\"dataframe\">\n",
       "  <thead>\n",
       "    <tr style=\"text-align: right;\">\n",
       "      <th></th>\n",
       "      <th>text_clean</th>\n",
       "      <th>Number of words</th>\n",
       "      <th>Number of unique words</th>\n",
       "      <th>Number of characters</th>\n",
       "      <th>Number of stopwords</th>\n",
       "      <th>Number of punctuations</th>\n",
       "      <th>Number of titlecase words</th>\n",
       "    </tr>\n",
       "  </thead>\n",
       "  <tbody>\n",
       "    <tr>\n",
       "      <th>0</th>\n",
       "      <td>restart</td>\n",
       "      <td>1</td>\n",
       "      <td>1</td>\n",
       "      <td>21</td>\n",
       "      <td>0</td>\n",
       "      <td>1</td>\n",
       "      <td>0</td>\n",
       "    </tr>\n",
       "    <tr>\n",
       "      <th>1</th>\n",
       "      <td>creat datadog agent config directori</td>\n",
       "      <td>5</td>\n",
       "      <td>5</td>\n",
       "      <td>37</td>\n",
       "      <td>0</td>\n",
       "      <td>0</td>\n",
       "      <td>2</td>\n",
       "    </tr>\n",
       "    <tr>\n",
       "      <th>2</th>\n",
       "      <td>creat main datadog agent configur file</td>\n",
       "      <td>6</td>\n",
       "      <td>6</td>\n",
       "      <td>44</td>\n",
       "      <td>0</td>\n",
       "      <td>0</td>\n",
       "      <td>2</td>\n",
       "    </tr>\n",
       "    <tr>\n",
       "      <th>3</th>\n",
       "      <td>ensur configur directori present datadog check</td>\n",
       "      <td>9</td>\n",
       "      <td>9</td>\n",
       "      <td>67</td>\n",
       "      <td>3</td>\n",
       "      <td>0</td>\n",
       "      <td>2</td>\n",
       "    </tr>\n",
       "    <tr>\n",
       "      <th>4</th>\n",
       "      <td>creat configur file datadog check</td>\n",
       "      <td>8</td>\n",
       "      <td>8</td>\n",
       "      <td>50</td>\n",
       "      <td>3</td>\n",
       "      <td>0</td>\n",
       "      <td>2</td>\n",
       "    </tr>\n",
       "    <tr>\n",
       "      <th>...</th>\n",
       "      <td>...</td>\n",
       "      <td>...</td>\n",
       "      <td>...</td>\n",
       "      <td>...</td>\n",
       "      <td>...</td>\n",
       "      <td>...</td>\n",
       "      <td>...</td>\n",
       "    </tr>\n",
       "    <tr>\n",
       "      <th>10391</th>\n",
       "      <td>redhat enabl red hat softwar collect rhscl</td>\n",
       "      <td>7</td>\n",
       "      <td>7</td>\n",
       "      <td>58</td>\n",
       "      <td>0</td>\n",
       "      <td>4</td>\n",
       "      <td>5</td>\n",
       "    </tr>\n",
       "    <tr>\n",
       "      <th>10392</th>\n",
       "      <td>set distribut ci filenam</td>\n",
       "      <td>5</td>\n",
       "      <td>5</td>\n",
       "      <td>48</td>\n",
       "      <td>1</td>\n",
       "      <td>1</td>\n",
       "      <td>2</td>\n",
       "    </tr>\n",
       "    <tr>\n",
       "      <th>10393</th>\n",
       "      <td>set distribut ci filenam</td>\n",
       "      <td>5</td>\n",
       "      <td>5</td>\n",
       "      <td>48</td>\n",
       "      <td>1</td>\n",
       "      <td>1</td>\n",
       "      <td>2</td>\n",
       "    </tr>\n",
       "    <tr>\n",
       "      <th>10394</th>\n",
       "      <td>set distribut ci filenam</td>\n",
       "      <td>5</td>\n",
       "      <td>5</td>\n",
       "      <td>48</td>\n",
       "      <td>1</td>\n",
       "      <td>1</td>\n",
       "      <td>2</td>\n",
       "    </tr>\n",
       "    <tr>\n",
       "      <th>10395</th>\n",
       "      <td>set distribut ci filenam amazon</td>\n",
       "      <td>6</td>\n",
       "      <td>6</td>\n",
       "      <td>59</td>\n",
       "      <td>1</td>\n",
       "      <td>3</td>\n",
       "      <td>3</td>\n",
       "    </tr>\n",
       "  </tbody>\n",
       "</table>\n",
       "<p>10396 rows × 7 columns</p>\n",
       "</div>"
      ],
      "text/plain": [
       "                                           text_clean  Number of words  \\\n",
       "0                                             restart                1   \n",
       "1                creat datadog agent config directori                5   \n",
       "2              creat main datadog agent configur file                6   \n",
       "3      ensur configur directori present datadog check                9   \n",
       "4                   creat configur file datadog check                8   \n",
       "...                                               ...              ...   \n",
       "10391      redhat enabl red hat softwar collect rhscl                7   \n",
       "10392                        set distribut ci filenam                5   \n",
       "10393                        set distribut ci filenam                5   \n",
       "10394                        set distribut ci filenam                5   \n",
       "10395                 set distribut ci filenam amazon                6   \n",
       "\n",
       "       Number of unique words  Number of characters  Number of stopwords  \\\n",
       "0                           1                    21                    0   \n",
       "1                           5                    37                    0   \n",
       "2                           6                    44                    0   \n",
       "3                           9                    67                    3   \n",
       "4                           8                    50                    3   \n",
       "...                       ...                   ...                  ...   \n",
       "10391                       7                    58                    0   \n",
       "10392                       5                    48                    1   \n",
       "10393                       5                    48                    1   \n",
       "10394                       5                    48                    1   \n",
       "10395                       6                    59                    1   \n",
       "\n",
       "       Number of punctuations  Number of titlecase words  \n",
       "0                           1                          0  \n",
       "1                           0                          2  \n",
       "2                           0                          2  \n",
       "3                           0                          2  \n",
       "4                           0                          2  \n",
       "...                       ...                        ...  \n",
       "10391                       4                          5  \n",
       "10392                       1                          2  \n",
       "10393                       1                          2  \n",
       "10394                       1                          2  \n",
       "10395                       3                          3  \n",
       "\n",
       "[10396 rows x 7 columns]"
      ]
     },
     "execution_count": 185,
     "metadata": {},
     "output_type": "execute_result"
    }
   ],
   "source": [
    "df_show = pd.concat([df_clean,nb_words,nb_words_unique,nb_characters,nb_stopwords,nb_punctuation,nb_title],\n",
    "                    axis=1).rename(columns={\n",
    "    0:'Number of words',1:'Number of unique words',2:'Number of characters',3:'Number of stopwords',4:'Number of punctuations',\n",
    "    5:'Number of titlecase words'\n",
    "})\n",
    "df_show"
   ]
  },
  {
   "cell_type": "code",
   "execution_count": 186,
   "metadata": {},
   "outputs": [
    {
     "data": {
      "text/html": [
       "<div>\n",
       "<style scoped>\n",
       "    .dataframe tbody tr th:only-of-type {\n",
       "        vertical-align: middle;\n",
       "    }\n",
       "\n",
       "    .dataframe tbody tr th {\n",
       "        vertical-align: top;\n",
       "    }\n",
       "\n",
       "    .dataframe thead th {\n",
       "        text-align: right;\n",
       "    }\n",
       "</style>\n",
       "<table border=\"1\" class=\"dataframe\">\n",
       "  <thead>\n",
       "    <tr style=\"text-align: right;\">\n",
       "      <th></th>\n",
       "      <th>Number of words</th>\n",
       "      <th>Number of unique words</th>\n",
       "      <th>Number of characters</th>\n",
       "      <th>Number of stopwords</th>\n",
       "      <th>Number of punctuations</th>\n",
       "      <th>Number of titlecase words</th>\n",
       "    </tr>\n",
       "  </thead>\n",
       "  <tbody>\n",
       "    <tr>\n",
       "      <th>0</th>\n",
       "      <td>1</td>\n",
       "      <td>1</td>\n",
       "      <td>21</td>\n",
       "      <td>0</td>\n",
       "      <td>1</td>\n",
       "      <td>0</td>\n",
       "    </tr>\n",
       "    <tr>\n",
       "      <th>1</th>\n",
       "      <td>5</td>\n",
       "      <td>5</td>\n",
       "      <td>37</td>\n",
       "      <td>0</td>\n",
       "      <td>0</td>\n",
       "      <td>2</td>\n",
       "    </tr>\n",
       "    <tr>\n",
       "      <th>2</th>\n",
       "      <td>6</td>\n",
       "      <td>6</td>\n",
       "      <td>44</td>\n",
       "      <td>0</td>\n",
       "      <td>0</td>\n",
       "      <td>2</td>\n",
       "    </tr>\n",
       "    <tr>\n",
       "      <th>3</th>\n",
       "      <td>9</td>\n",
       "      <td>9</td>\n",
       "      <td>67</td>\n",
       "      <td>3</td>\n",
       "      <td>0</td>\n",
       "      <td>2</td>\n",
       "    </tr>\n",
       "    <tr>\n",
       "      <th>4</th>\n",
       "      <td>8</td>\n",
       "      <td>8</td>\n",
       "      <td>50</td>\n",
       "      <td>3</td>\n",
       "      <td>0</td>\n",
       "      <td>2</td>\n",
       "    </tr>\n",
       "  </tbody>\n",
       "</table>\n",
       "</div>"
      ],
      "text/plain": [
       "   Number of words  Number of unique words  Number of characters  \\\n",
       "0                1                       1                    21   \n",
       "1                5                       5                    37   \n",
       "2                6                       6                    44   \n",
       "3                9                       9                    67   \n",
       "4                8                       8                    50   \n",
       "\n",
       "   Number of stopwords  Number of punctuations  Number of titlecase words  \n",
       "0                    0                       1                          0  \n",
       "1                    0                       0                          2  \n",
       "2                    0                       0                          2  \n",
       "3                    3                       0                          2  \n",
       "4                    3                       0                          2  "
      ]
     },
     "execution_count": 186,
     "metadata": {},
     "output_type": "execute_result"
    }
   ],
   "source": [
    "df_feat = df_show.drop(['text_clean'],axis=1)\n",
    "df_feat.head()"
   ]
  },
  {
   "cell_type": "code",
   "execution_count": 187,
   "metadata": {},
   "outputs": [
    {
     "name": "stdout",
     "output_type": "stream",
     "text": [
      "<class 'pandas.core.frame.DataFrame'>\n",
      "RangeIndex: 10396 entries, 0 to 10395\n",
      "Data columns (total 6 columns):\n",
      " #   Column                     Non-Null Count  Dtype\n",
      "---  ------                     --------------  -----\n",
      " 0   Number of words            10396 non-null  int64\n",
      " 1   Number of unique words     10396 non-null  int64\n",
      " 2   Number of characters       10396 non-null  int64\n",
      " 3   Number of stopwords        10396 non-null  int64\n",
      " 4   Number of punctuations     10396 non-null  int64\n",
      " 5   Number of titlecase words  10396 non-null  int64\n",
      "dtypes: int64(6)\n",
      "memory usage: 487.4 KB\n"
     ]
    }
   ],
   "source": [
    "df_feat.info()"
   ]
  },
  {
   "cell_type": "code",
   "execution_count": 188,
   "metadata": {},
   "outputs": [
    {
     "name": "stderr",
     "output_type": "stream",
     "text": [
      "C:\\ProgramData\\Anaconda3\\lib\\site-packages\\ipykernel_launcher.py:2: DeprecationWarning: The default dtype for empty Series will be 'object' instead of 'float64' in a future version. Specify a dtype explicitly to silence this warning.\n",
      "  \n"
     ]
    }
   ],
   "source": [
    "sth = []\n",
    "aa = pd.Series(sth)"
   ]
  },
  {
   "cell_type": "markdown",
   "metadata": {},
   "source": [
    "<h4>Length of sentence</h4>"
   ]
  },
  {
   "cell_type": "code",
   "execution_count": 189,
   "metadata": {},
   "outputs": [],
   "source": [
    "nb_words_tasks_nostop  = [len(tokens) for tokens in tasks_no_stop]"
   ]
  },
  {
   "cell_type": "markdown",
   "metadata": {},
   "source": [
    "<h4>Average number of words per task</h4>"
   ]
  },
  {
   "cell_type": "code",
   "execution_count": 190,
   "metadata": {},
   "outputs": [
    {
     "data": {
      "text/plain": [
       "3.4900923432089264"
      ]
     },
     "execution_count": 190,
     "metadata": {},
     "output_type": "execute_result"
    }
   ],
   "source": [
    "avg_nostop = np.mean(nb_words_tasks_nostop)\n",
    "avg_nostop"
   ]
  },
  {
   "cell_type": "code",
   "execution_count": 191,
   "metadata": {},
   "outputs": [
    {
     "data": {
      "text/plain": [
       "5.0957098884186225"
      ]
     },
     "execution_count": 191,
     "metadata": {},
     "output_type": "execute_result"
    }
   ],
   "source": [
    "nb_words_tasks_stop  = [len(tokens) for tokens in lowercase_tasks]\n",
    "avg_stop = np.mean(nb_words_tasks_stop)\n",
    "avg_stop"
   ]
  },
  {
   "cell_type": "code",
   "execution_count": 192,
   "metadata": {},
   "outputs": [
    {
     "data": {
      "text/plain": [
       "3.0"
      ]
     },
     "execution_count": 192,
     "metadata": {},
     "output_type": "execute_result"
    }
   ],
   "source": [
    "np.median(nb_words_tasks_nostop)"
   ]
  },
  {
   "cell_type": "code",
   "execution_count": 193,
   "metadata": {},
   "outputs": [
    {
     "data": {
      "text/plain": [
       "4.0"
      ]
     },
     "execution_count": 193,
     "metadata": {},
     "output_type": "execute_result"
    }
   ],
   "source": [
    "np.median(nb_words_tasks_stop)"
   ]
  },
  {
   "cell_type": "code",
   "execution_count": 194,
   "metadata": {},
   "outputs": [],
   "source": [
    "nb_words_tasks_stop = pd.Series(nb_words_tasks_stop)\n",
    "nb_words_tasks_nostop = pd.Series(nb_words_tasks_nostop)"
   ]
  },
  {
   "cell_type": "code",
   "execution_count": 195,
   "metadata": {},
   "outputs": [],
   "source": [
    "df_task_names = pd.DataFrame(tasks['token_task_names_one_string'])"
   ]
  },
  {
   "cell_type": "code",
   "execution_count": 196,
   "metadata": {},
   "outputs": [
    {
     "name": "stdout",
     "output_type": "stream",
     "text": [
      "<class 'pandas.core.frame.DataFrame'>\n",
      "Int64Index: 10396 entries, 0 to 10395\n",
      "Data columns (total 1 columns):\n",
      " #   Column                       Non-Null Count  Dtype \n",
      "---  ------                       --------------  ----- \n",
      " 0   token_task_names_one_string  10396 non-null  object\n",
      "dtypes: object(1)\n",
      "memory usage: 162.4+ KB\n"
     ]
    }
   ],
   "source": [
    "df_task_names.info()"
   ]
  },
  {
   "cell_type": "code",
   "execution_count": 197,
   "metadata": {},
   "outputs": [
    {
     "data": {
      "text/html": [
       "<div>\n",
       "<style scoped>\n",
       "    .dataframe tbody tr th:only-of-type {\n",
       "        vertical-align: middle;\n",
       "    }\n",
       "\n",
       "    .dataframe tbody tr th {\n",
       "        vertical-align: top;\n",
       "    }\n",
       "\n",
       "    .dataframe thead th {\n",
       "        text-align: right;\n",
       "    }\n",
       "</style>\n",
       "<table border=\"1\" class=\"dataframe\">\n",
       "  <thead>\n",
       "    <tr style=\"text-align: right;\">\n",
       "      <th></th>\n",
       "      <th>token_task_names_one_string</th>\n",
       "      <th>nb_words_no_stop</th>\n",
       "      <th>nb_words_stop</th>\n",
       "    </tr>\n",
       "    <tr>\n",
       "      <th>index</th>\n",
       "      <th></th>\n",
       "      <th></th>\n",
       "      <th></th>\n",
       "    </tr>\n",
       "  </thead>\n",
       "  <tbody>\n",
       "    <tr>\n",
       "      <th>0</th>\n",
       "      <td>restart datadog-agent</td>\n",
       "      <td>1</td>\n",
       "      <td>2</td>\n",
       "    </tr>\n",
       "    <tr>\n",
       "      <th>1</th>\n",
       "      <td>Create Datadog agent config directory</td>\n",
       "      <td>5</td>\n",
       "      <td>5</td>\n",
       "    </tr>\n",
       "    <tr>\n",
       "      <th>2</th>\n",
       "      <td>Create main Datadog agent configuration file</td>\n",
       "      <td>6</td>\n",
       "      <td>6</td>\n",
       "    </tr>\n",
       "    <tr>\n",
       "      <th>3</th>\n",
       "      <td>Ensure configuration directories are present f...</td>\n",
       "      <td>6</td>\n",
       "      <td>9</td>\n",
       "    </tr>\n",
       "    <tr>\n",
       "      <th>4</th>\n",
       "      <td>Create a configuration file for each Datadog c...</td>\n",
       "      <td>5</td>\n",
       "      <td>8</td>\n",
       "    </tr>\n",
       "  </tbody>\n",
       "</table>\n",
       "</div>"
      ],
      "text/plain": [
       "                             token_task_names_one_string  nb_words_no_stop  \\\n",
       "index                                                                        \n",
       "0                                  restart datadog-agent                 1   \n",
       "1                  Create Datadog agent config directory                 5   \n",
       "2           Create main Datadog agent configuration file                 6   \n",
       "3      Ensure configuration directories are present f...                 6   \n",
       "4      Create a configuration file for each Datadog c...                 5   \n",
       "\n",
       "       nb_words_stop  \n",
       "index                 \n",
       "0                  2  \n",
       "1                  5  \n",
       "2                  6  \n",
       "3                  9  \n",
       "4                  8  "
      ]
     },
     "execution_count": 197,
     "metadata": {},
     "output_type": "execute_result"
    }
   ],
   "source": [
    "df_name_tasks = pd.concat([df_task_names.reset_index(),nb_words_tasks_nostop,nb_words_tasks_stop],axis=1).set_index('index').rename(columns={\n",
    "    0: \"nb_words_no_stop\", 1: 'nb_words_stop'})\n",
    "df_name_tasks.head()"
   ]
  },
  {
   "cell_type": "code",
   "execution_count": 198,
   "metadata": {},
   "outputs": [
    {
     "name": "stderr",
     "output_type": "stream",
     "text": [
      "C:\\ProgramData\\Anaconda3\\lib\\site-packages\\scipy\\stats\\stats.py:1713: FutureWarning: Using a non-tuple sequence for multidimensional indexing is deprecated; use `arr[tuple(seq)]` instead of `arr[seq]`. In the future this will be interpreted as an array index, `arr[np.array(seq)]`, which will result either in an error or a different result.\n",
      "  return np.add.reduce(sorted[indexer] * weights, axis=axis) / sumval\n",
      "C:\\ProgramData\\Anaconda3\\lib\\site-packages\\scipy\\stats\\stats.py:1713: FutureWarning: Using a non-tuple sequence for multidimensional indexing is deprecated; use `arr[tuple(seq)]` instead of `arr[seq]`. In the future this will be interpreted as an array index, `arr[np.array(seq)]`, which will result either in an error or a different result.\n",
      "  return np.add.reduce(sorted[indexer] * weights, axis=axis) / sumval\n"
     ]
    },
    {
     "data": {
      "image/png": "[encoded data removed]",
      "text/plain": [
       "<Figure size 432x288 with 1 Axes>"
      ]
     },
     "metadata": {
      "needs_background": "light"
     },
     "output_type": "display_data"
    }
   ],
   "source": [
    "sns.distplot(np.log1p(nb_words_tasks_nostop), kde=False, label=\"No stop\")\n",
    "sns.distplot(np.log1p(nb_words_tasks_stop), kde=False, label=\"Stop\")\n",
    "plt.legend();"
   ]
  },
  {
   "cell_type": "code",
   "execution_count": 199,
   "metadata": {},
   "outputs": [
    {
     "name": "stderr",
     "output_type": "stream",
     "text": [
      "C:\\ProgramData\\Anaconda3\\lib\\site-packages\\scipy\\stats\\stats.py:1713: FutureWarning: Using a non-tuple sequence for multidimensional indexing is deprecated; use `arr[tuple(seq)]` instead of `arr[seq]`. In the future this will be interpreted as an array index, `arr[np.array(seq)]`, which will result either in an error or a different result.\n",
      "  return np.add.reduce(sorted[indexer] * weights, axis=axis) / sumval\n"
     ]
    },
    {
     "data": {
      "image/png": "[encoded data removed]",
      "text/plain": [
       "<Figure size 432x288 with 1 Axes>"
      ]
     },
     "metadata": {
      "needs_background": "light"
     },
     "output_type": "display_data"
    }
   ],
   "source": [
    "sns.distplot(nb_words_tasks_stop, hist=False, color='red', label='Stop')\n",
    "sns.distplot(nb_words_tasks_nostop, hist=False, color='blue', label='No stop')\n",
    "plt.legend();"
   ]
  },
  {
   "cell_type": "code",
   "execution_count": null,
   "metadata": {},
   "outputs": [],
   "source": []
  },
  {
   "cell_type": "markdown",
   "metadata": {},
   "source": [
    "<h4>Counting the ten most common words in the tasks</h4>"
   ]
  },
  {
   "cell_type": "code",
   "execution_count": 200,
   "metadata": {},
   "outputs": [
    {
     "data": {
      "image/png": "[encoded data removed]",
      "text/plain": [
       "<Figure size 864x576 with 1 Axes>"
      ]
     },
     "metadata": {
      "needs_background": "light"
     },
     "output_type": "display_data"
    }
   ],
   "source": [
    "counter = defaultdict(int)\n",
    "for doc in tasks_no_stop:\n",
    "    for token in doc:\n",
    "        counter[token] += 1\n",
    "\n",
    "from collections import Counter\n",
    "\n",
    "c = Counter(counter)\n",
    "\n",
    "commons = c.most_common(10)\n",
    "x = [x[0] for x in commons]\n",
    "y = [x[1] for x in commons]\n",
    "fig = plt.figure(figsize=(12, 8))\n",
    "ax = fig.add_axes([0,0,1,1])\n",
    "ax.grid(False)\n",
    "plt.bar(x,y)\n",
    "plt.xticks(fontsize=14,rotation=45)\n",
    "plt.yticks(fontsize=14)\n",
    "plt.xlabel('Words', fontsize=15,labelpad=15)\n",
    "plt.ylabel('Occurence\\nnumber', fontsize=15,rotation=0,labelpad=55)\n",
    "# plt.savefig('top10_words.jpg',bbox_inches = 'tight')\n",
    "plt.show()"
   ]
  },
  {
   "cell_type": "markdown",
   "metadata": {},
   "source": [
    "<h4>Topic modelling with LDA</h4>"
   ]
  },
  {
   "cell_type": "code",
   "execution_count": 201,
   "metadata": {},
   "outputs": [],
   "source": [
    "dictionary = corpora.Dictionary(tasks_no_stop)"
   ]
  },
  {
   "cell_type": "code",
   "execution_count": 202,
   "metadata": {},
   "outputs": [],
   "source": [
    "corpus_1_tasks = [dictionary.doc2bow(token) for token in tasks_no_stop]"
   ]
  },
  {
   "cell_type": "code",
   "execution_count": 203,
   "metadata": {},
   "outputs": [
    {
     "name": "stdout",
     "output_type": "stream",
     "text": [
      "Wall time: 3.71 s\n"
     ]
    }
   ],
   "source": [
    "%%time\n",
    "lda_model = LdaModel(corpus = corpus_1_tasks, id2word=dictionary, num_topics=6,random_state=45)"
   ]
  },
  {
   "cell_type": "code",
   "execution_count": 204,
   "metadata": {},
   "outputs": [
    {
     "name": "stdout",
     "output_type": "stream",
     "text": [
      "Perplexity:  -6.988860222356582\n"
     ]
    }
   ],
   "source": [
    "print('Perplexity: ', lda_model.log_perplexity(corpus_1_tasks))  "
   ]
  },
  {
   "cell_type": "code",
   "execution_count": 205,
   "metadata": {},
   "outputs": [],
   "source": [
    "coherence_model_lda = CoherenceModel(model=lda_model, texts=tasks_no_stop, dictionary=dictionary, coherence='c_v')\n",
    "coherence_lda = coherence_model_lda.get_coherence()"
   ]
  },
  {
   "cell_type": "code",
   "execution_count": 206,
   "metadata": {},
   "outputs": [
    {
     "name": "stdout",
     "output_type": "stream",
     "text": [
      "\n",
      "Coherence Score:  0.6109055074460227\n"
     ]
    }
   ],
   "source": [
    "print('\\nCoherence Score: ', coherence_lda)"
   ]
  },
  {
   "cell_type": "code",
   "execution_count": 207,
   "metadata": {},
   "outputs": [
    {
     "name": "stdout",
     "output_type": "stream",
     "text": [
      "[(0,\n",
      "  '0.054*\"facts\" + 0.044*\"testing\" + 0.041*\"files\" + 0.026*\"complete\" + '\n",
      "  '0.026*\"configure\" + 0.025*\"tasks\" + 0.024*\"deploy\" + 0.020*\"template\" + '\n",
      "  '0.017*\"ssh\" + 0.016*\"key\"'),\n",
      " (1,\n",
      "  '0.063*\"check\" + 0.049*\"populate\" + 0.028*\"enabled\" + 0.028*\"node\" + '\n",
      "  '0.027*\"get\" + 0.026*\"service\" + 0.021*\"services\" + 0.019*\"ensure\" + '\n",
      "  '0.018*\"version\" + 0.016*\"master\"'),\n",
      " (2,\n",
      "  '0.046*\"user\" + 0.046*\"run\" + 0.031*\"overcloud\" + 0.031*\"host\" + '\n",
      "  '0.028*\"install\" + 0.026*\"create\" + 0.024*\"config\" + 0.021*\"fail\" + '\n",
      "  '0.020*\"role\" + 0.019*\"output\"'),\n",
      " (3,\n",
      "  '0.147*\"set\" + 0.083*\"create\" + 0.056*\"directory\" + 0.041*\"ensure\" + '\n",
      "  '0.035*\"fact\" + 0.023*\"exists\" + 0.021*\"lack\" + 0.017*\"certificates\" + '\n",
      "  '0.016*\"file\" + 0.012*\"hosts\"'),\n",
      " (4,\n",
      "  '0.039*\"remove\" + 0.034*\"get\" + 0.029*\"list\" + 0.025*\"legacy\" + 0.024*\"nova\" '\n",
      "  '+ 0.024*\"verify\" + 0.023*\"undercloud\" + 0.022*\"copy\" + 0.019*\"add\" + '\n",
      "  '0.017*\"failed\"'),\n",
      " (5,\n",
      "  '0.040*\"warn\" + 0.035*\"file\" + 0.033*\"test\" + 0.033*\"fail\" + 0.032*\"restart\" '\n",
      "  '+ 0.029*\"script\" + 0.021*\"copy\" + 0.020*\"generate\" + 0.020*\"delete\" + '\n",
      "  '0.019*\"available\"')]\n"
     ]
    }
   ],
   "source": [
    "pprint(lda_model.print_topics())"
   ]
  },
  {
   "cell_type": "code",
   "execution_count": 208,
   "metadata": {},
   "outputs": [
    {
     "name": "stdout",
     "output_type": "stream",
     "text": [
      "facts testing files complete configure tasks deploy template ssh key\n",
      "check populate enabled node get service services ensure version master\n",
      "user run overcloud host install create config fail role output\n",
      "set create directory ensure fact exists lack certificates file hosts\n",
      "remove get list legacy nova verify undercloud copy add failed\n",
      "warn file test fail restart script copy generate delete available\n"
     ]
    }
   ],
   "source": [
    "x=lda_model.show_topics(num_topics=6, num_words=10,formatted=False)\n",
    "topics_words = [(tp[0], [wd[0] for wd in tp[1]]) for tp in x]\n",
    "for topic,words in topics_words:\n",
    "    print(\" \".join(words))"
   ]
  },
  {
   "cell_type": "code",
   "execution_count": 209,
   "metadata": {},
   "outputs": [
    {
     "name": "stdout",
     "output_type": "stream",
     "text": [
      "Wall time: 3.85 s\n"
     ]
    }
   ],
   "source": [
    "%%time\n",
    "lda_model_1 = LdaModel(corpus=corpus_1_tasks, id2word=dictionary, num_topics=6, random_state=42, iterations=100,alpha='asymmetric',eta='symmetric')"
   ]
  },
  {
   "cell_type": "code",
   "execution_count": 210,
   "metadata": {},
   "outputs": [
    {
     "name": "stdout",
     "output_type": "stream",
     "text": [
      "Perplexity:  -6.989738595300217\n"
     ]
    }
   ],
   "source": [
    "print('Perplexity: ', lda_model_1.log_perplexity(corpus_1_tasks))  "
   ]
  },
  {
   "cell_type": "code",
   "execution_count": 221,
   "metadata": {},
   "outputs": [],
   "source": [
    "coherence_model_lda_1 = CoherenceModel(model=lda_model_1, texts=tasks_no_stop, dictionary=dictionary, coherence='c_v')\n",
    "coherence_lda_1 = coherence_model_lda.get_coherence()"
   ]
  },
  {
   "cell_type": "code",
   "execution_count": 222,
   "metadata": {},
   "outputs": [
    {
     "name": "stdout",
     "output_type": "stream",
     "text": [
      "Coherence Score:  0.6109055074460227\n"
     ]
    }
   ],
   "source": [
    "print('Coherence Score: ', coherence_lda_1)"
   ]
  },
  {
   "cell_type": "code",
   "execution_count": 213,
   "metadata": {},
   "outputs": [
    {
     "name": "stdout",
     "output_type": "stream",
     "text": [
      "[(0,\n",
      "  '0.074*\"ensure\" + 0.053*\"directory\" + 0.038*\"config\" + 0.021*\"restart\" + '\n",
      "  '0.020*\"files\" + 0.020*\"create\" + 0.019*\"service\" + 0.016*\"image\" + '\n",
      "  '0.016*\"cli\" + 0.015*\"enable\"'),\n",
      " (1,\n",
      "  '0.049*\"check\" + 0.034*\"enabled\" + 0.032*\"get\" + 0.031*\"key\" + '\n",
      "  '0.030*\"configure\" + 0.029*\"generate\" + 0.029*\"set\" + 0.023*\"delete\" + '\n",
      "  '0.018*\"exists\" + 0.015*\"environment\"'),\n",
      " (2,\n",
      "  '0.044*\"get\" + 0.043*\"populate\" + 0.028*\"install\" + 0.027*\"fail\" + '\n",
      "  '0.021*\"certificates\" + 0.019*\"service\" + 0.018*\"legacy\" + 0.017*\"create\" + '\n",
      "  '0.017*\"copy\" + 0.017*\"deploy\"'),\n",
      " (3,\n",
      "  '0.040*\"testing\" + 0.037*\"fail\" + 0.033*\"run\" + 0.032*\"test\" + '\n",
      "  '0.025*\"directory\" + 0.025*\"overcloud\" + 0.022*\"nova\" + 0.022*\"create\" + '\n",
      "  '0.019*\"add\" + 0.018*\"undercloud\"'),\n",
      " (4,\n",
      "  '0.128*\"set\" + 0.038*\"fact\" + 0.027*\"file\" + 0.027*\"lack\" + 0.024*\"copy\" + '\n",
      "  '0.021*\"copying\" + 0.019*\"verify\" + 0.017*\"host\" + 0.017*\"services\" + '\n",
      "  '0.017*\"remove\"'),\n",
      " (5,\n",
      "  '0.063*\"create\" + 0.053*\"facts\" + 0.040*\"warn\" + 0.025*\"node\" + 0.025*\"user\" '\n",
      "  '+ 0.023*\"set\" + 0.022*\"complete\" + 0.022*\"tasks\" + 0.022*\"file\" + '\n",
      "  '0.018*\"hosts\"')]\n"
     ]
    }
   ],
   "source": [
    "pprint(lda_model_1.print_topics())"
   ]
  },
  {
   "cell_type": "code",
   "execution_count": 214,
   "metadata": {},
   "outputs": [
    {
     "name": "stdout",
     "output_type": "stream",
     "text": [
      "ensure directory config restart files create service image cli enable\n",
      "check enabled get key configure generate set delete exists environment\n",
      "get populate install fail certificates service legacy create copy deploy\n",
      "testing fail run test directory overcloud nova create add undercloud\n",
      "set fact file lack copy copying verify host services remove\n",
      "create facts warn node user set complete tasks file hosts\n"
     ]
    }
   ],
   "source": [
    "x=lda_model_1.show_topics(num_topics=6, num_words=10,formatted=False)\n",
    "topics_words = [(tp[0], [wd[0] for wd in tp[1]]) for tp in x]\n",
    "for topic,words in topics_words:\n",
    "    print(\" \".join(words))"
   ]
  },
  {
   "cell_type": "code",
   "execution_count": 215,
   "metadata": {},
   "outputs": [],
   "source": [
    "pyLDAvis.enable_notebook()"
   ]
  },
  {
   "cell_type": "code",
   "execution_count": 216,
   "metadata": {},
   "outputs": [
    {
     "data": {
      "text/html": [
       "\n",
       "<link rel=\"stylesheet\" type=\"text/css\" href=\"https://cdn.rawgit.com/bmabey/pyLDAvis/files/ldavis.v1.0.0.css\">\n",
       "\n",
       "\n",
       "<div id=\"ldavis_el15689504165476565785941603\"></div>\n",
       "<script type=\"text/javascript\">\n",
       "\n",
       "var ldavis_el15689504165476565785941603_data = {\"mdsDat\": {\"x\": [0.013436127812271466, -0.31513418165992263, -0.037428689620887065, 0.10609551451682071, 0.14666581423531772, 0.08636541471639954], \"y\": [-0.2693139760506205, 0.03049519282612088, 0.09850443889713696, 0.19201977755041524, 0.016726768052270625, -0.06843220127532283], \"topics\": [1, 2, 3, 4, 5, 6], \"cluster\": [1, 1, 1, 1, 1, 1], \"Freq\": [20.7484073638916, 17.45259666442871, 16.342666625976562, 15.711963653564453, 15.668121337890625, 14.076251029968262]}, \"tinfo\": {\"Term\": [\"set\", \"create\", \"facts\", \"directory\", \"check\", \"populate\", \"testing\", \"run\", \"warn\", \"fact\", \"remove\", \"files\", \"test\", \"ensure\", \"overcloud\", \"host\", \"user\", \"restart\", \"complete\", \"node\", \"script\", \"tasks\", \"list\", \"install\", \"enabled\", \"nova\", \"legacy\", \"verify\", \"deploy\", \"exists\", \"fact\", \"repositories\", \"access\", \"linux\", \"credentials\", \"folder\", \"args\", \"back\", \"directory\", \"entry\", \"permissions\", \"git\", \"home\", \"dependency\", \"certificates\", \"ovs\", \"cores\", \"disk\", \"crontab\", \"extra\", \"cpu\", \"prefix\", \"exists\", \"command\", \"folders\", \"try\", \"logstash\", \"updated\", \"var\", \"registry\", \"set\", \"setting\", \"hosts\", \"create\", \"lack\", \"container\", \"path\", \"clean\", \"ensure\", \"agent\", \"dir\", \"usable\", \"inventory\", \"workspace\", \"default\", \"project\", \"file\", \"config\", \"check\", \"image\", \"configuration\", \"facts\", \"testing\", \"content\", \"apply\", \"wait\", \"tasks\", \"complete\", \"deployed\", \"unit\", \"app\", \"following\", \"timeout\", \"become\", \"software\", \"ready\", \"gather\", \"lookup\", \"common\", \"builds\", \"destroy\", \"ssh\", \"without\", \"url\", \"global\", \"handlers\", \"working\", \"checks\", \"deployments\", \"found\", \"print\", \"template\", \"installing\", \"files\", \"step\", \"label\", \"deploy\", \"password\", \"configure\", \"ip\", \"network\", \"systemd\", \"namespace\", \"filename\", \"key\", \"resources\", \"developers\", \"molecule\", \"generate\", \"local\", \"fail\", \"copy\", \"start\", \"get\", \"warn\", \"test\", \"environment\", \"rabbitmq\", \"available\", \"delete\", \"upgrade\", \"podman\", \"downloaded\", \"correct\", \"register\", \"volume\", \"generated\", \"tempest\", \"secret\", \"certificate\", \"pv\", \"identify\", \"running\", \"account\", \"specified\", \"tenant\", \"containerized\", \"failure\", \"monitoring\", \"compile\", \"client\", \"networking\", \"via\", \"provisioning\", \"setup\", \"restart\", \"device\", \"distribution\", \"kibana\", \"script\", \"nodes\", \"define\", \"current\", \"generate\", \"name\", \"file\", \"fail\", \"copy\", \"server\", \"copying\", \"ssl\", \"configuration\", \"developers\", \"molecule\", \"service\", \"get\", \"config\", \"user\", \"nova\", \"failed\", \"point\", \"oc\", \"detect\", \"tree\", \"checking\", \"execute\", \"security\", \"servers\", \"move\", \"stack\", \"verify\", \"cli\", \"parameter\", \"retrieve\", \"id\", \"configs\", \"importing\", \"base\", \"old\", \"fix\", \"manager\", \"apps\", \"conf\", \"vms\", \"remove\", \"starting\", \"legacy\", \"ironic\", \"report\", \"removing\", \"list\", \"package\", \"undercloud\", \"system\", \"catalog\", \"status\", \"generating\", \"neutron\", \"repository\", \"add\", \"build\", \"validation\", \"get\", \"extract\", \"copy\", \"sure\", \"make\", \"file\", \"fail\", \"service\", \"image\", \"overcloud\", \"defaults\", \"cert\", \"volumes\", \"admin\", \"give\", \"missing\", \"permission\", \"output\", \"debug\", \"sync\", \"installation\", \"playbook\", \"exist\", \"pool\", \"pacemaker\", \"write\", \"tests\", \"message\", \"principal\", \"secrets\", \"rhel\", \"values\", \"modify\", \"run\", \"support\", \"convert\", \"idempotency\", \"env\", \"protocol\", \"host\", \"directories\", \"heat\", \"ensuring\", \"take\", \"role\", \"install\", \"user\", \"error\", \"plugin\", \"config\", \"enable\", \"create\", \"fail\", \"check\", \"populate\", \"prepare\", \"provided\", \"services\", \"number\", \"successful\", \"installed\", \"images\", \"count\", \"node\", \"started\", \"openscap\", \"previous\", \"background\", \"present\", \"integration\", \"runs\", \"windows\", \"existing\", \"pools\", \"disabled\", \"version\", \"stats\", \"enabled\", \"endpoint\", \"requested\", \"swap\", \"import\", \"firewalld\", \"currently\", \"master\", \"find\", \"defined\", \"repo\", \"dns\", \"drop\", \"check\", \"value\", \"names\", \"custom\", \"service\", \"get\", \"empty\", \"ensure\", \"hiera\", \"fail\", \"copying\", \"set\"], \"Freq\": [1178.0, 777.0, 343.0, 440.0, 434.0, 251.0, 277.0, 270.0, 241.0, 263.0, 231.0, 286.0, 199.0, 453.0, 179.0, 189.0, 400.0, 208.0, 169.0, 147.0, 202.0, 161.0, 181.0, 213.0, 152.0, 137.0, 148.0, 138.0, 170.0, 179.0, 260.9018859863281, 54.65660858154297, 45.42803955078125, 56.009979248046875, 31.147384643554688, 74.4916763305664, 34.594390869140625, 29.290157318115234, 424.8341369628906, 21.935592651367188, 40.6837158203125, 20.43778419494629, 20.069982528686523, 21.411144256591797, 129.95974731445312, 20.053245544433594, 19.961774826049805, 18.135601043701172, 20.997163772583008, 34.13336944580078, 19.476110458374023, 23.836915969848633, 171.0723876953125, 38.395477294921875, 20.59888458251953, 13.760663032531738, 13.273177146911621, 34.51753616333008, 15.936997413635254, 12.646684646606445, 1103.468505859375, 47.479488372802734, 87.96576690673828, 622.7421264648438, 159.4434814453125, 76.8797378540039, 59.73623275756836, 58.953887939453125, 311.9249572753906, 43.4957389831543, 64.37416076660156, 30.549148559570312, 51.573028564453125, 56.19190216064453, 70.80699920654297, 79.44680786132812, 120.78385162353516, 67.74166107177734, 68.63727569580078, 45.394710540771484, 45.42367172241211, 342.6199035644531, 277.0129699707031, 98.39715576171875, 68.96324157714844, 71.94117736816406, 159.29737854003906, 166.40109252929688, 46.70636749267578, 67.43842315673828, 38.467926025390625, 48.128929138183594, 48.17064666748047, 37.40731430053711, 81.33599090576172, 43.23471450805664, 40.00396728515625, 34.45206832885742, 28.70622444152832, 28.14419174194336, 27.04265785217285, 108.0777587890625, 37.02091979980469, 59.100772857666016, 22.874094009399414, 23.505407333374023, 23.88092041015625, 21.473020553588867, 29.130352020263672, 19.049100875854492, 35.008399963378906, 126.3957290649414, 97.05941772460938, 259.1126708984375, 48.38928985595703, 31.317289352416992, 151.52691650390625, 67.96041107177734, 164.61587524414062, 39.39948654174805, 54.190826416015625, 86.7904281616211, 44.34172821044922, 73.78488159179688, 98.82907104492188, 47.82748794555664, 63.967559814453125, 63.97457504272461, 65.9030532836914, 47.39278793334961, 68.21251678466797, 57.45149612426758, 47.9327392578125, 48.75901412963867, 239.34576416015625, 197.8416748046875, 73.82274627685547, 51.80192184448242, 111.02153778076172, 116.55254364013672, 51.17538833618164, 64.18687438964844, 37.723426818847656, 33.545650482177734, 32.33955764770508, 30.94272804260254, 29.652992248535156, 29.781085968017578, 23.320589065551758, 93.03353881835938, 21.669084548950195, 22.56940460205078, 106.95116424560547, 19.440202713012695, 23.108125686645508, 18.491928100585938, 24.00794792175293, 27.396472930908203, 24.532949447631836, 14.62332820892334, 39.743221282958984, 11.402483940124512, 11.275551795959473, 10.314704895019531, 65.4373550415039, 189.7589111328125, 35.812538146972656, 93.35736083984375, 79.59684753417969, 170.96905517578125, 92.03186798095703, 40.70108413696289, 52.46464157104492, 121.0543212890625, 56.65878677368164, 208.233642578125, 197.29478454589844, 126.3108901977539, 42.20901870727539, 84.96298217773438, 54.231422424316406, 73.26948547363281, 66.38835144042969, 66.395263671875, 66.9455795288086, 74.2304916381836, 58.087337493896484, 61.45246887207031, 136.5230255126953, 94.53223419189453, 66.50519561767578, 47.457313537597656, 43.84857940673828, 69.99617767333984, 37.119503021240234, 36.69906234741211, 40.26686096191406, 31.757417678833008, 28.09132957458496, 26.312164306640625, 134.8509521484375, 85.6601333618164, 25.127729415893555, 28.392242431640625, 20.63596534729004, 20.037363052368164, 21.099952697753906, 21.780391693115234, 72.05122375488281, 18.497835159301758, 18.34329605102539, 17.447298049926758, 32.16229248046875, 16.000459671020508, 220.4579620361328, 15.250868797302246, 140.58445739746094, 14.584750175476074, 25.845678329467773, 54.30911636352539, 163.66738891601562, 49.88327407836914, 131.47618103027344, 39.135135650634766, 39.6246337890625, 93.25608825683594, 40.85703659057617, 35.7550048828125, 59.882991790771484, 110.82131958007812, 58.8111572265625, 38.00230026245117, 193.0109405517578, 48.534637451171875, 126.1977767944336, 38.47917175292969, 47.955177307128906, 77.40353393554688, 82.06739807128906, 64.49640655517578, 49.90040969848633, 178.50978088378906, 63.045928955078125, 55.80475616455078, 52.671810150146484, 45.776554107666016, 42.56768035888672, 53.22719192504883, 39.9865608215332, 106.11689758300781, 28.955278396606445, 26.883846282958984, 46.74592590332031, 73.23445892333984, 61.92296600341797, 66.6240234375, 25.413957595825195, 62.57948684692383, 21.478063583374023, 24.922719955444336, 56.25996780395508, 20.303373336791992, 21.63599395751953, 25.40567398071289, 18.973384857177734, 258.8352355957031, 17.913917541503906, 20.890213012695312, 16.378482818603516, 14.880049705505371, 13.978630065917969, 178.41204833984375, 77.05738067626953, 38.46836471557617, 75.49046325683594, 44.151939392089844, 111.00426483154297, 160.37808227539062, 259.11785888671875, 42.2750129699707, 46.32570266723633, 135.20506286621094, 88.4516830444336, 148.13421630859375, 120.91883850097656, 38.55911636352539, 249.66705322265625, 60.213523864746094, 57.196624755859375, 109.14877319335938, 45.32695007324219, 45.306861877441406, 65.10585021972656, 43.19858932495117, 40.93851852416992, 143.85995483398438, 73.95355224609375, 25.080556869506836, 20.488365173339844, 19.33121681213379, 46.64236831665039, 18.58968162536621, 21.071399688720703, 32.522705078125, 27.965574264526367, 44.700836181640625, 27.89928436279297, 93.30968475341797, 14.013760566711426, 143.8758544921875, 12.591843605041504, 40.94411087036133, 11.925089836120605, 16.4294490814209, 13.995241165161133, 10.67995548248291, 82.22789001464844, 24.075057983398438, 17.968503952026367, 61.02033233642578, 55.91101837158203, 52.2685432434082, 319.67138671875, 63.41420364379883, 39.337669372558594, 71.27539825439453, 133.7158966064453, 136.3119659423828, 31.86795425415039, 99.319091796875, 42.396400451660156, 70.92967987060547, 44.48461151123047, 44.82103729248047], \"Total\": [1178.0, 777.0, 343.0, 440.0, 434.0, 251.0, 277.0, 270.0, 241.0, 263.0, 231.0, 286.0, 199.0, 453.0, 179.0, 189.0, 400.0, 208.0, 169.0, 147.0, 202.0, 161.0, 181.0, 213.0, 152.0, 137.0, 148.0, 138.0, 170.0, 179.0, 263.7214660644531, 55.47986602783203, 46.25559616088867, 57.36678695678711, 31.968017578125, 76.46794891357422, 35.552207946777344, 30.110219955444336, 440.0048522949219, 22.76606559753418, 42.30440902709961, 21.259357452392578, 20.89075469970703, 22.287445068359375, 135.3202362060547, 20.88502311706543, 20.810997009277344, 18.95660972595215, 21.948226928710938, 35.742034912109375, 20.415756225585938, 24.994760513305664, 179.76217651367188, 40.611328125, 21.831998825073242, 14.58713150024414, 14.096840858459473, 36.72217559814453, 16.95679473876953, 13.472844123840332, 1178.507080078125, 50.8326416015625, 99.32133483886719, 777.7840576171875, 199.9423370361328, 90.83765411376953, 70.26756286621094, 69.73936462402344, 453.3959045410156, 49.720558166503906, 86.86663818359375, 36.673728942871094, 76.46702575683594, 91.79034423828125, 144.44114685058594, 187.1295166015625, 440.54693603515625, 290.57086181640625, 434.9762268066406, 124.08071899414062, 185.51905822753906, 343.427978515625, 277.90283203125, 99.23149871826172, 69.78339385986328, 72.84220886230469, 161.74411010742188, 169.13967895507812, 47.524658203125, 68.63534545898438, 39.26393127441406, 49.12609100341797, 49.17439651489258, 38.20486831665039, 83.15925598144531, 44.227569580078125, 40.92311096191406, 35.380977630615234, 29.499006271362305, 28.938533782958984, 27.83902931213379, 111.49915313720703, 38.228981018066406, 61.04115295410156, 23.665613174438477, 24.33513069152832, 24.744117736816406, 22.295623779296875, 30.331989288330078, 19.841705322265625, 36.49967575073242, 133.28631591796875, 102.73783111572266, 286.4915466308594, 50.91217041015625, 32.68612289428711, 170.81228637695312, 73.84457397460938, 191.82594299316406, 41.8283805847168, 59.62599182128906, 115.54927062988281, 49.81599807739258, 108.84069061279297, 187.6705322265625, 63.82316207885742, 150.4575958251953, 155.71987915039062, 191.08721923828125, 71.11404418945312, 546.7586059570312, 336.09124755859375, 76.58800506591797, 487.5169677734375, 241.34371948242188, 199.6608428955078, 74.68074798583984, 52.61921310424805, 112.81134796142578, 118.58929443359375, 52.13010787963867, 65.48587036132812, 38.53224182128906, 34.35744857788086, 33.150665283203125, 31.752504348754883, 30.471282958984375, 30.647245407104492, 24.127967834472656, 96.39848327636719, 22.47425651550293, 23.429716110229492, 111.40353393554688, 20.251632690429688, 24.096206665039062, 19.301876068115234, 25.069488525390625, 28.713960647583008, 25.882083892822266, 15.552030563354492, 42.32908630371094, 12.209796905517578, 12.100228309631348, 11.121322631835938, 70.91214752197266, 208.0342559814453, 38.93667221069336, 105.4880599975586, 89.94314575195312, 202.6386260986328, 105.64232635498047, 44.770423889160156, 65.6082534790039, 191.08721923828125, 76.36943054199219, 440.54693603515625, 546.7586059570312, 336.09124755859375, 55.98587417602539, 195.98040771484375, 88.37352752685547, 185.51905822753906, 150.4575958251953, 155.71987915039062, 313.83917236328125, 487.5169677734375, 290.57086181640625, 400.5140075683594, 137.34866333007812, 95.34410095214844, 67.3170394897461, 48.266944885253906, 44.67535400390625, 71.52837371826172, 37.93205261230469, 37.51011657714844, 41.2326774597168, 32.56809997558594, 28.900373458862305, 27.120635986328125, 138.9984588623047, 88.38147735595703, 25.942541122436523, 29.322908401489258, 21.44524574279785, 20.848541259765625, 21.985200881958008, 22.71074676513672, 75.14649963378906, 19.306936264038086, 19.15926742553711, 18.28481674194336, 33.78471374511719, 16.813812255859375, 231.87811279296875, 16.06805419921875, 148.2737579345703, 15.39449691772461, 27.32419204711914, 58.350242614746094, 181.20875549316406, 53.66499328613281, 146.41920471191406, 42.04146194458008, 43.7255744934082, 113.62255859375, 45.76161193847656, 39.5161247253418, 74.52091217041016, 158.0359649658203, 73.5423355102539, 43.88711166381836, 487.5169677734375, 64.7184066772461, 336.09124755859375, 45.720706939697266, 71.7366943359375, 440.54693603515625, 546.7586059570312, 313.83917236328125, 124.08071899414062, 179.53981018066406, 63.87401580810547, 56.59937286376953, 53.4730339050293, 46.56060791015625, 43.352012634277344, 54.2609977722168, 40.772491455078125, 108.70098114013672, 29.738792419433594, 27.67586326599121, 48.16680145263672, 75.48109436035156, 63.870487213134766, 68.73987579345703, 26.236181259155273, 64.62321472167969, 22.27204704284668, 25.84946060180664, 58.36220169067383, 21.089881896972656, 22.541032791137695, 26.47713279724121, 19.77447509765625, 270.1968994140625, 18.70140266418457, 21.877857208251953, 17.18541717529297, 15.667136192321777, 14.782919883728027, 189.15240478515625, 82.8578872680664, 41.405948638916016, 83.91097259521484, 48.289024353027344, 130.92837524414062, 213.29766845703125, 400.5140075683594, 49.71894454956055, 62.61573028564453, 290.57086181640625, 164.71231079101562, 777.7840576171875, 546.7586059570312, 434.9762268066406, 251.17327880859375, 61.052940368652344, 58.171417236328125, 111.16769409179688, 46.18473815917969, 46.176483154296875, 66.59105682373047, 44.20725631713867, 42.06475830078125, 147.97061157226562, 76.21798706054688, 25.98149871826172, 21.320730209350586, 20.173221588134766, 48.67432403564453, 19.433116912841797, 22.043304443359375, 34.1416015625, 29.361677169799805, 46.97412872314453, 29.536365509033203, 98.869384765625, 14.862476348876953, 152.6643524169922, 13.4216947555542, 43.765594482421875, 12.763461112976074, 17.61103057861328, 15.066798210144043, 11.512955665588379, 89.49156188964844, 26.10785484313965, 19.437477111816406, 69.10807037353516, 63.23505401611328, 59.42221450805664, 434.9762268066406, 75.317626953125, 47.30649948120117, 122.7503662109375, 313.83917236328125, 487.5169677734375, 42.300106048583984, 453.3959045410156, 105.15150451660156, 546.7586059570312, 195.98040771484375, 1178.507080078125], \"Category\": [\"Default\", \"Default\", \"Default\", \"Default\", \"Default\", \"Default\", \"Default\", \"Default\", \"Default\", \"Default\", \"Default\", \"Default\", \"Default\", \"Default\", \"Default\", \"Default\", \"Default\", \"Default\", \"Default\", \"Default\", \"Default\", \"Default\", \"Default\", \"Default\", \"Default\", \"Default\", \"Default\", \"Default\", \"Default\", \"Default\", \"Topic1\", \"Topic1\", \"Topic1\", \"Topic1\", \"Topic1\", \"Topic1\", \"Topic1\", \"Topic1\", \"Topic1\", \"Topic1\", \"Topic1\", \"Topic1\", \"Topic1\", \"Topic1\", \"Topic1\", \"Topic1\", \"Topic1\", \"Topic1\", \"Topic1\", \"Topic1\", \"Topic1\", \"Topic1\", \"Topic1\", \"Topic1\", \"Topic1\", \"Topic1\", \"Topic1\", \"Topic1\", \"Topic1\", \"Topic1\", \"Topic1\", \"Topic1\", \"Topic1\", \"Topic1\", \"Topic1\", \"Topic1\", \"Topic1\", \"Topic1\", \"Topic1\", \"Topic1\", \"Topic1\", \"Topic1\", \"Topic1\", \"Topic1\", \"Topic1\", \"Topic1\", \"Topic1\", \"Topic1\", \"Topic1\", \"Topic1\", \"Topic1\", \"Topic2\", \"Topic2\", \"Topic2\", \"Topic2\", \"Topic2\", \"Topic2\", \"Topic2\", \"Topic2\", \"Topic2\", \"Topic2\", \"Topic2\", \"Topic2\", \"Topic2\", \"Topic2\", \"Topic2\", \"Topic2\", \"Topic2\", \"Topic2\", \"Topic2\", \"Topic2\", \"Topic2\", \"Topic2\", \"Topic2\", \"Topic2\", \"Topic2\", \"Topic2\", \"Topic2\", \"Topic2\", \"Topic2\", \"Topic2\", \"Topic2\", \"Topic2\", \"Topic2\", \"Topic2\", \"Topic2\", \"Topic2\", \"Topic2\", \"Topic2\", \"Topic2\", \"Topic2\", \"Topic2\", \"Topic2\", \"Topic2\", \"Topic2\", \"Topic2\", \"Topic2\", \"Topic2\", \"Topic2\", \"Topic2\", \"Topic2\", \"Topic2\", \"Topic2\", \"Topic2\", \"Topic3\", \"Topic3\", \"Topic3\", \"Topic3\", \"Topic3\", \"Topic3\", \"Topic3\", \"Topic3\", \"Topic3\", \"Topic3\", \"Topic3\", \"Topic3\", \"Topic3\", \"Topic3\", \"Topic3\", \"Topic3\", \"Topic3\", \"Topic3\", \"Topic3\", \"Topic3\", \"Topic3\", \"Topic3\", \"Topic3\", \"Topic3\", \"Topic3\", \"Topic3\", \"Topic3\", \"Topic3\", \"Topic3\", \"Topic3\", \"Topic3\", \"Topic3\", \"Topic3\", \"Topic3\", \"Topic3\", \"Topic3\", \"Topic3\", \"Topic3\", \"Topic3\", \"Topic3\", \"Topic3\", \"Topic3\", \"Topic3\", \"Topic3\", \"Topic3\", \"Topic3\", \"Topic3\", \"Topic3\", \"Topic3\", \"Topic3\", \"Topic3\", \"Topic3\", \"Topic3\", \"Topic3\", \"Topic4\", \"Topic4\", \"Topic4\", \"Topic4\", \"Topic4\", \"Topic4\", \"Topic4\", \"Topic4\", \"Topic4\", \"Topic4\", \"Topic4\", \"Topic4\", \"Topic4\", \"Topic4\", \"Topic4\", \"Topic4\", \"Topic4\", \"Topic4\", \"Topic4\", \"Topic4\", \"Topic4\", \"Topic4\", \"Topic4\", \"Topic4\", \"Topic4\", \"Topic4\", \"Topic4\", \"Topic4\", \"Topic4\", \"Topic4\", \"Topic4\", \"Topic4\", \"Topic4\", \"Topic4\", \"Topic4\", \"Topic4\", \"Topic4\", \"Topic4\", \"Topic4\", \"Topic4\", \"Topic4\", \"Topic4\", \"Topic4\", \"Topic4\", \"Topic4\", \"Topic4\", \"Topic4\", \"Topic4\", \"Topic4\", \"Topic4\", \"Topic4\", \"Topic4\", \"Topic4\", \"Topic5\", \"Topic5\", \"Topic5\", \"Topic5\", \"Topic5\", \"Topic5\", \"Topic5\", \"Topic5\", \"Topic5\", \"Topic5\", \"Topic5\", \"Topic5\", \"Topic5\", \"Topic5\", \"Topic5\", \"Topic5\", \"Topic5\", \"Topic5\", \"Topic5\", \"Topic5\", \"Topic5\", \"Topic5\", \"Topic5\", \"Topic5\", \"Topic5\", \"Topic5\", \"Topic5\", \"Topic5\", \"Topic5\", \"Topic5\", \"Topic5\", \"Topic5\", \"Topic5\", \"Topic5\", \"Topic5\", \"Topic5\", \"Topic5\", \"Topic5\", \"Topic5\", \"Topic5\", \"Topic5\", \"Topic5\", \"Topic5\", \"Topic5\", \"Topic5\", \"Topic6\", \"Topic6\", \"Topic6\", \"Topic6\", \"Topic6\", \"Topic6\", \"Topic6\", \"Topic6\", \"Topic6\", \"Topic6\", \"Topic6\", \"Topic6\", \"Topic6\", \"Topic6\", \"Topic6\", \"Topic6\", \"Topic6\", \"Topic6\", \"Topic6\", \"Topic6\", \"Topic6\", \"Topic6\", \"Topic6\", \"Topic6\", \"Topic6\", \"Topic6\", \"Topic6\", \"Topic6\", \"Topic6\", \"Topic6\", \"Topic6\", \"Topic6\", \"Topic6\", \"Topic6\", \"Topic6\", \"Topic6\", \"Topic6\", \"Topic6\", \"Topic6\", \"Topic6\", \"Topic6\", \"Topic6\", \"Topic6\", \"Topic6\", \"Topic6\", \"Topic6\", \"Topic6\", \"Topic6\"], \"logprob\": [30.0, 29.0, 28.0, 27.0, 26.0, 25.0, 24.0, 23.0, 22.0, 21.0, 20.0, 19.0, 18.0, 17.0, 16.0, 15.0, 14.0, 13.0, 12.0, 11.0, 10.0, 9.0, 8.0, 7.0, 6.0, 5.0, 4.0, 3.0, 2.0, 1.0, -3.362299919128418, -4.925300121307373, -5.110300064086914, -4.900899887084961, -5.48769998550415, -4.615699768066406, -5.382699966430664, -5.549099922180176, -2.8747000694274902, -5.8383002281188965, -5.220600128173828, -5.908999919891357, -5.927199840545654, -5.862500190734863, -4.059199810028076, -5.927999973297119, -5.932600021362305, -6.028500080108643, -5.881999969482422, -5.396100044250488, -5.957200050354004, -5.755199909210205, -3.7843000888824463, -5.278500080108643, -5.901199817657471, -6.304599761962891, -6.340700149536133, -5.384900093078613, -6.157800197601318, -6.388999938964844, -1.920199990272522, -5.066100120544434, -4.44950008392334, -2.492300033569336, -3.8547000885009766, -4.584199905395508, -4.83650016784668, -4.849599838256836, -3.1835999488830566, -5.15369987487793, -4.76170015335083, -5.5071001052856445, -4.983399868011475, -4.897600173950195, -4.666399955749512, -4.551300048828125, -4.132400035858154, -4.710700035095215, -4.6975998878479, -5.111000061035156, -5.110400199890137, -2.916800022125244, -3.1294000148773193, -4.164400100708008, -4.519800186157227, -4.47760009765625, -3.6826000213623047, -3.6389999389648438, -4.9095001220703125, -4.542200088500977, -5.103600025177002, -4.879499912261963, -4.878699779510498, -5.1315999031066895, -4.354800224304199, -4.986800193786621, -5.0644001960754395, -5.213799953460693, -5.396299839019775, -5.416100025177002, -5.455999851226807, -4.0706000328063965, -5.141900062561035, -4.674200057983398, -5.6234002113342285, -5.596199989318848, -5.5802998542785645, -5.686600208282471, -5.3815999031066895, -5.806399822235107, -5.197800159454346, -3.9140000343322754, -4.178100109100342, -3.196199893951416, -4.874100208282471, -5.309199810028076, -3.7327001094818115, -4.5345001220703125, -3.6498000621795654, -5.079699993133545, -4.760900020599365, -4.289899826049805, -4.96150016784668, -4.452300071716309, -4.159999847412109, -4.885799884796143, -4.59499979019165, -4.594900131225586, -4.565199851989746, -4.894899845123291, -4.530799865722656, -4.702499866485596, -4.883600234985352, -4.866499900817871, -3.2098000049591064, -3.4001998901367188, -4.386000156402588, -4.740300178527832, -3.9779999256134033, -3.9293999671936035, -4.752500057220459, -4.525899887084961, -5.057400226593018, -5.174799919128418, -5.211400032043457, -5.2555999755859375, -5.298099994659424, -5.293799877166748, -5.538400173187256, -4.154799938201904, -5.611800193786621, -5.571100234985352, -4.0152997970581055, -5.720399856567383, -5.547500133514404, -5.770400047302246, -5.509300231933594, -5.377299785614014, -5.48769998550415, -6.005099773406982, -5.005300045013428, -6.253900051116943, -6.265100002288818, -6.354100227355957, -4.5065999031066895, -3.441999912261963, -5.109399795532227, -4.151299953460693, -4.310699939727783, -3.5462000370025635, -4.165599822998047, -4.981500148773193, -4.72760009765625, -3.8914999961853027, -4.650700092315674, -3.3489999771118164, -3.4030001163482666, -3.8489999771118164, -4.945099830627441, -4.245500087738037, -4.694399833679199, -4.393599987030029, -4.492199897766113, -4.492099761962891, -4.483799934387207, -4.380499839782715, -4.625800132751465, -4.569399833679199, -3.7318999767303467, -4.099400043487549, -4.451099872589111, -4.78849983215332, -4.867599964141846, -4.399899959564209, -5.034200191497803, -5.045599937438965, -4.9527997970581055, -5.190199851989746, -5.312900066375732, -5.378300189971924, -3.7441999912261963, -4.197999954223633, -5.4243998527526855, -5.302199840545654, -5.621300220489502, -5.6508002281188965, -5.599100112915039, -5.567299842834473, -4.370999813079834, -5.7307000160217285, -5.739099979400635, -5.7891998291015625, -5.177599906921387, -5.875699996948242, -3.2525999546051025, -5.923699855804443, -3.702500104904175, -5.968400001525879, -5.396200180053711, -4.65369987487793, -3.55049991607666, -4.738699913024902, -3.7695000171661377, -4.981299877166748, -4.968900203704834, -4.11299991607666, -4.938300132751465, -5.071700096130371, -4.556000232696533, -3.9403998851776123, -4.573999881744385, -5.010700225830078, -3.3856000900268555, -4.76609992980957, -3.810499906539917, -4.998199939727783, -4.77810001373291, -4.299300193786621, -4.240799903869629, -4.4816999435424805, -4.73829984664917, -3.460900068283081, -4.501699924468994, -4.623700141906738, -4.68149995803833, -4.821800231933594, -4.894499778747559, -4.671000003814697, -4.956999778747559, -3.9809999465942383, -5.279799938201904, -5.354000091552734, -4.80079984664917, -4.351900100708008, -4.519700050354004, -4.446499824523926, -5.410299777984619, -4.509099960327148, -5.578499794006348, -5.429800033569336, -4.615600109100342, -5.634799957275391, -5.571199893951416, -5.410600185394287, -5.702499866485596, -3.089400053024292, -5.760000228881836, -5.606299877166748, -5.849599838256836, -5.945499897003174, -6.007999897003174, -3.4614999294281006, -4.301000118255615, -4.995699882507324, -4.321599960327148, -4.857900142669678, -3.936000108718872, -3.568000078201294, -3.0882999897003174, -4.901400089263916, -4.809899806976318, -3.738800048828125, -4.163099765777588, -3.64739990234375, -3.850399971008301, -4.9934000968933105, -3.0183000564575195, -4.440499782562256, -4.4918999671936035, -3.8457000255584717, -4.7245001792907715, -4.724999904632568, -4.362400054931641, -4.772600173950195, -4.826300144195557, -3.5696001052856445, -4.235000133514404, -5.316299915313721, -5.518599987030029, -5.576700210571289, -4.695899963378906, -5.615799903869629, -5.490499973297119, -5.05649995803833, -5.207399845123291, -4.738399982452393, -5.209799766540527, -4.002500057220459, -5.898399829864502, -3.569499969482422, -6.00540018081665, -4.826200008392334, -6.059800148010254, -5.739299774169922, -5.899700164794922, -6.170100212097168, -4.128900051116943, -5.3572001457214355, -5.649799823760986, -4.427199840545654, -4.514699935913086, -4.581999778747559, -2.7711000442504883, -4.388700008392334, -4.866199970245361, -4.271900177001953, -3.642699956893921, -3.623500108718872, -5.0767998695373535, -3.9400999546051025, -4.791399955749512, -4.276700019836426, -4.743299961090088, -4.7357001304626465], \"loglift\": [30.0, 29.0, 28.0, 27.0, 26.0, 25.0, 24.0, 23.0, 22.0, 21.0, 20.0, 19.0, 18.0, 17.0, 16.0, 15.0, 14.0, 13.0, 12.0, 11.0, 10.0, 9.0, 8.0, 7.0, 6.0, 5.0, 4.0, 3.0, 2.0, 1.0, 1.562000036239624, 1.557800054550171, 1.5546000003814697, 1.548799991607666, 1.5467000007629395, 1.5464999675750732, 1.5454000234603882, 1.5450999736785889, 1.537600040435791, 1.5355000495910645, 1.5335999727249146, 1.5333000421524048, 1.5326000452041626, 1.5326000452041626, 1.5322999954223633, 1.532099962234497, 1.531000018119812, 1.52839994430542, 1.52839994430542, 1.5266000032424927, 1.5255999565124512, 1.5253000259399414, 1.5232000350952148, 1.5166000127792358, 1.5146000385284424, 1.5144000053405762, 1.5125000476837158, 1.5108000040054321, 1.510699987411499, 1.5094000101089478, 1.5068999528884888, 1.5045000314712524, 1.451300024986267, 1.3503999710083008, 1.3464000225067139, 1.405900001525879, 1.4103000164031982, 1.4047000408172607, 1.198699951171875, 1.4388999938964844, 1.2730000019073486, 1.3899999856948853, 1.1787999868392944, 1.0820000171661377, 0.8597999811172485, 0.7160000205039978, 0.27869999408721924, 0.11659999936819077, -0.27379998564720154, 0.5672000050544739, 0.1656000018119812, 1.743299961090088, 1.7424999475479126, 1.7372000217437744, 1.7338999509811401, 1.733199954032898, 1.7303999662399292, 1.7294000387191772, 1.7282999753952026, 1.7280999422073364, 1.7252000570297241, 1.7252000570297241, 1.725100040435791, 1.7245999574661255, 1.7235000133514404, 1.7230000495910645, 1.7230000495910645, 1.719099998474121, 1.718400001525879, 1.7178000211715698, 1.7166999578475952, 1.7144999504089355, 1.7136000394821167, 1.7134000062942505, 1.7116999626159668, 1.7109999656677246, 1.7101999521255493, 1.7080999612808228, 1.705299973487854, 1.7049000263214111, 1.7039999961853027, 1.6926000118255615, 1.6887999773025513, 1.6452000141143799, 1.6949000358581543, 1.7029000520706177, 1.6259000301361084, 1.662600040435791, 1.5927000045776367, 1.6858999729156494, 1.6500999927520752, 1.4594999551773071, 1.6292999982833862, 1.3569999933242798, 1.1044000387191772, 1.457200050354004, 0.8903999924659729, 0.8561000227928162, 0.6811000108718872, 1.339900016784668, -0.33570000529289246, -0.020800000056624413, 1.2769999504089355, -0.5568000078201294, 1.8030999898910522, 1.8021999597549438, 1.7998000383377075, 1.795699954032898, 1.7954000234603882, 1.794100046157837, 1.7928999662399292, 1.7913999557495117, 1.7901999950408936, 1.787500023841858, 1.7865999937057495, 1.785599946975708, 1.7841999530792236, 1.7826999425888062, 1.777400016784668, 1.7759000062942505, 1.774899959564209, 1.7740000486373901, 1.7705999612808228, 1.7704999446868896, 1.7695000171661377, 1.7684999704360962, 1.7681000232696533, 1.7644000053405762, 1.7578999996185303, 1.7497999668121338, 1.7483999729156494, 1.7430000305175781, 1.7408000230789185, 1.7360999584197998, 1.7309999465942383, 1.7194000482559204, 1.7278000116348267, 1.6892000436782837, 1.6892000436782837, 1.6413999795913696, 1.6734999418258667, 1.7160999774932861, 1.5878000259399414, 1.3549000024795532, 1.5128999948501587, 1.062000036239624, 0.7921000123023987, 0.8327999711036682, 1.5289000272750854, 0.975600004196167, 1.323099970817566, 0.8823999762535095, 0.9932000041007996, 0.9589999914169312, 0.266400009393692, -0.07079999893903732, 0.20149999856948853, -0.06310000270605087, 1.8446999788284302, 1.8422000408172607, 1.8386000394821167, 1.833799958229065, 1.8321000337600708, 1.8291000127792358, 1.8291000127792358, 1.8288999795913696, 1.8270000219345093, 1.8255000114440918, 1.8223999738693237, 1.8205000162124634, 1.8205000162124634, 1.8194999694824219, 1.8187999725341797, 1.81850004196167, 1.8122999668121338, 1.8111000061035156, 1.8095999956130981, 1.808899998664856, 1.8086999654769897, 1.8078999519348145, 1.8071999549865723, 1.8039000034332275, 1.8014999628067017, 1.801200032234192, 1.8001999855041504, 1.7985999584197998, 1.7975000143051147, 1.7967000007629395, 1.7950999736785889, 1.7790000438690186, 1.748900055885315, 1.7776999473571777, 1.7431000471115112, 1.779099941253662, 1.7523000240325928, 1.6532000303268433, 1.7374000549316406, 1.7506999969482422, 1.632099986076355, 1.4958000183105469, 1.6272000074386597, 1.7067999839782715, 0.9241999983787537, 1.562999963760376, 0.8712000250816345, 1.6783000230789185, 1.4479999542236328, 0.11180000007152557, -0.04569999873638153, 0.2685000002384186, 0.9398000240325928, 1.8478000164031982, 1.840499997138977, 1.839400053024292, 1.8384000062942505, 1.8365999460220337, 1.8352999687194824, 1.8343000411987305, 1.8341000080108643, 1.8294999599456787, 1.826799988746643, 1.8244999647140503, 1.8236000537872314, 1.8233000040054321, 1.82260000705719, 1.8222999572753906, 1.8216999769210815, 1.8214000463485718, 1.817199945449829, 1.8170000314712524, 1.8169000148773193, 1.815500020980835, 1.812600016593933, 1.8121999502182007, 1.8121999502182007, 1.8106000423431396, 1.8105000257492065, 1.8072999715805054, 1.805400013923645, 1.8020000457763672, 1.7976000308990479, 1.7950999736785889, 1.781000018119812, 1.7799999713897705, 1.7477999925613403, 1.7640000581741333, 1.6885000467300415, 1.5684000253677368, 1.4180999994277954, 1.6914000511169434, 1.5521999597549438, 1.0885000228881836, 1.2317999601364136, 0.19519999623298645, 0.34470000863075256, -0.569599986076355, 1.954699993133545, 1.9467999935150146, 1.9437999725341797, 1.9423999786376953, 1.9419000148773193, 1.9416999816894531, 1.938099980354309, 1.937600016593933, 1.933500051498413, 1.9325000047683716, 1.9305000305175781, 1.9254000186920166, 1.9208999872207642, 1.9179999828338623, 1.9179999828338623, 1.9163000583648682, 1.9155999422073364, 1.9120999574661255, 1.9119999408721924, 1.9111000299453735, 1.9036999940872192, 1.9027999639511108, 1.901900053024292, 1.9013999700546265, 1.8969000577926636, 1.8940000534057617, 1.892699956893921, 1.8911999464035034, 1.8868999481201172, 1.885599970817566, 1.8760000467300415, 1.8796000480651855, 1.882099986076355, 1.8361999988555908, 1.8375999927520752, 1.8323999643325806, 1.6526999473571777, 1.788699984550476, 1.7762000560760498, 1.417099952697754, 1.1074999570846558, 0.6862999796867371, 1.6775000095367432, 0.4422999918460846, 1.052299976348877, -0.08160000294446945, 0.47780001163482666, -1.3085999488830566]}, \"token.table\": {\"Topic\": [1, 3, 1, 2, 3, 4, 5, 6, 5, 1, 2, 3, 5, 6, 2, 2, 4, 1, 3, 4, 1, 6, 4, 2, 4, 6, 2, 4, 6, 5, 2, 3, 5, 1, 2, 1, 2, 3, 4, 5, 6, 4, 2, 1, 4, 6, 2, 4, 1, 3, 1, 4, 2, 3, 1, 2, 4, 5, 2, 4, 1, 2, 3, 4, 5, 6, 4, 1, 2, 3, 4, 5, 6, 1, 2, 3, 4, 5, 6, 1, 2, 3, 4, 5, 6, 3, 2, 5, 1, 2, 3, 4, 5, 6, 1, 2, 3, 5, 6, 1, 3, 6, 1, 1, 3, 4, 5, 6, 1, 1, 2, 3, 5, 6, 1, 2, 3, 4, 5, 6, 5, 1, 2, 3, 4, 5, 6, 5, 3, 6, 6, 1, 2, 3, 1, 2, 3, 2, 2, 5, 2, 4, 1, 2, 3, 3, 5, 1, 4, 1, 3, 5, 6, 1, 2, 3, 4, 5, 6, 5, 6, 1, 3, 4, 1, 3, 4, 6, 3, 5, 6, 1, 6, 1, 2, 3, 5, 6, 1, 3, 4, 6, 6, 1, 3, 5, 6, 1, 2, 3, 5, 1, 5, 3, 4, 5, 4, 1, 5, 4, 6, 1, 3, 4, 6, 1, 3, 3, 4, 1, 5, 2, 1, 2, 3, 4, 5, 6, 4, 1, 3, 1, 2, 3, 4, 5, 6, 1, 2, 1, 2, 3, 4, 5, 6, 3, 4, 6, 6, 4, 1, 5, 1, 2, 2, 2, 1, 2, 3, 4, 5, 3, 2, 3, 4, 1, 2, 3, 4, 5, 6, 1, 5, 2, 2, 1, 5, 1, 2, 4, 5, 6, 1, 1, 4, 5, 1, 4, 6, 4, 5, 3, 1, 2, 4, 6, 6, 6, 4, 1, 3, 4, 5, 6, 1, 5, 4, 6, 2, 3, 5, 6, 6, 1, 3, 2, 3, 4, 4, 1, 2, 3, 4, 5, 1, 3, 5, 2, 3, 1, 2, 3, 1, 3, 4, 1, 1, 2, 4, 6, 1, 2, 3, 1, 2, 1, 2, 3, 4, 4, 5, 6, 5, 5, 5, 1, 2, 3, 3, 4, 1, 3, 5, 6, 1, 4, 6, 1, 2, 2, 4, 3, 2, 4, 5, 4, 6, 1, 2, 3, 6, 4, 6, 4, 4, 6, 6, 1, 4, 5, 5, 1, 5, 4, 5, 6, 4, 1, 2, 4, 5, 1, 3, 6, 5, 1, 5, 1, 4, 5, 1, 5, 3, 6, 4, 3, 5, 6, 2, 5, 6, 5, 6, 1, 6, 1, 5, 6, 6, 1, 2, 5, 1, 2, 1, 2, 3, 4, 5, 6, 5, 6, 3, 3, 3, 2, 3, 1, 1, 2, 3, 4, 5, 6, 4, 6, 2, 3, 5, 6, 1, 4, 1, 1, 3, 4, 5, 6, 2, 5, 1, 2, 3, 4, 5, 6, 4, 5, 4, 5, 1, 3, 5, 6, 3, 4, 5, 6, 3, 4, 5, 3, 5, 4, 1, 2, 3, 5, 6, 4, 1, 2, 3, 4, 5, 6, 4, 6, 1, 2, 3, 4, 5, 6, 1, 2, 3, 6, 1, 3, 5, 2, 6, 3, 2, 3, 1, 2, 3, 5, 6, 4, 1, 2, 3, 4, 6, 4, 6, 4, 6, 4, 5, 2, 3, 4, 5, 6, 5, 1, 3, 4, 6, 5, 1, 3, 4, 6, 1, 2, 4, 5, 6, 1, 5, 6, 2, 6, 3, 2, 4, 6, 3, 1, 3, 5, 2, 5, 2, 1, 4, 1, 4, 5, 2, 4, 1, 4, 6, 3, 1, 2, 1, 2, 3, 5, 1, 3, 4, 5, 6, 2, 4, 1, 3, 4, 6, 5, 1, 1, 4, 2, 4, 6, 3, 4, 3, 5, 2, 1, 3, 1, 6, 2, 5, 2, 1, 3, 4, 6, 3, 5], \"Freq\": [0.972855269908905, 0.9381959438323975, 0.0126553475856781, 0.0759320855140686, 0.00632767379283905, 0.7023717761039734, 0.1771748661994934, 0.03163836896419525, 0.987959623336792, 0.864833414554596, 0.020112404599785805, 0.020112404599785805, 0.020112404599785805, 0.060337215662002563, 0.9678093791007996, 0.9887739419937134, 0.929733157157898, 0.9844676852226257, 0.9839435815811157, 0.008864356204867363, 0.9631281495094299, 0.9418426156044006, 0.9687044024467468, 0.9684629440307617, 0.8022589683532715, 0.19036653637886047, 0.967568039894104, 0.9147964715957642, 0.06860973685979843, 0.9894102811813354, 0.010373607277870178, 0.9647454619407654, 0.020747214555740356, 0.9606841206550598, 0.036949388682842255, 0.15862935781478882, 0.002298976294696331, 0.016092833131551743, 0.002298976294696331, 0.08966007083654404, 0.7356724143028259, 0.9754283428192139, 0.9418888688087463, 0.8460071086883545, 0.14339104294776917, 0.014339104294776917, 0.02262917533516884, 0.9730545878410339, 0.04724883288145065, 0.9449766874313354, 0.9356995224952698, 0.024623671546578407, 0.983083963394165, 0.9645043015480042, 0.0059122731909155846, 0.9814373850822449, 0.0059122731909155846, 0.0059122731909155846, 0.029599186033010483, 0.9471739530563354, 0.2340220957994461, 0.003441501408815384, 0.19960707426071167, 0.07227152585983276, 0.46460267901420593, 0.024090509861707687, 0.9592997431755066, 0.2425626814365387, 0.037731971591711044, 0.39349058270454407, 0.05390281602740288, 0.05390281602740288, 0.2210015505552292, 0.06255671381950378, 0.8601547479629517, 0.005213059019297361, 0.010426118038594723, 0.015639178454875946, 0.05213059112429619, 0.8476660847663879, 0.044034603983163834, 0.011008650995790958, 0.0660519003868103, 0.011008650995790958, 0.022017301991581917, 0.9573390483856201, 0.9875896573066711, 0.9598746299743652, 0.011901529505848885, 0.1695968061685562, 0.37489819526672363, 0.37489819526672363, 0.011901529505848885, 0.053556885570287704, 0.14797396957874298, 0.1836918294429779, 0.4337168335914612, 0.010205102153122425, 0.2245122343301773, 0.9610303640365601, 0.9895961880683899, 0.9746876358985901, 0.9306537508964539, 0.8009935617446899, 0.0025714077055454254, 0.0038571117911487818, 0.19028417766094208, 0.0012857038527727127, 0.9697191715240479, 0.9567971229553223, 0.18290381133556366, 0.7925832271575928, 0.015241985209286213, 0.9554453492164612, 0.06517291814088821, 0.008146614767611027, 0.21181198954582214, 0.12219922989606857, 0.016293229535222054, 0.5784096717834473, 0.9751572608947754, 0.49154967069625854, 0.027692940086126328, 0.02076970413327217, 0.21462027728557587, 0.034616176038980484, 0.21462027728557587, 0.9863165616989136, 0.915783166885376, 0.06700852513313293, 0.9260461330413818, 0.008432464674115181, 0.008432464674115181, 0.9865983128547668, 0.9422345161437988, 0.8898657560348511, 0.10537883639335632, 0.9889602661132812, 0.9560863375663757, 0.03296849504113197, 0.9698613882064819, 0.9848830699920654, 0.12628142535686493, 0.4253690242767334, 0.4386618137359619, 0.9245782494544983, 0.051365457475185394, 0.7367615699768066, 0.2532617747783661, 0.03620656952261925, 0.024137714877724648, 0.9293019771575928, 0.012068857438862324, 0.9658984541893005, 0.011363510973751545, 0.0022727022878825665, 0.004545404575765133, 0.0022727022878825665, 0.013636212795972824, 0.03385657072067261, 0.9479839205741882, 0.9495368599891663, 0.8816163539886475, 0.10427720099687576, 0.04744204133749008, 0.04744204133749008, 0.01581401377916336, 0.8855847716331482, 0.9861871004104614, 0.10097233951091766, 0.8750935792922974, 0.23640602827072144, 0.7564992904663086, 0.06071191653609276, 0.1457086056470871, 0.09713906794786453, 0.534264862537384, 0.157850980758667, 0.006550317630171776, 0.019650952890515327, 0.026201270520687103, 0.9432457685470581, 0.9685810804367065, 0.688140332698822, 0.05293387174606323, 0.03749482333660126, 0.21835221350193024, 0.059586964547634125, 0.01191739272326231, 0.02383478544652462, 0.8938044309616089, 0.9663505554199219, 0.9574181437492371, 0.99088454246521, 0.1407914012670517, 0.8447484374046326, 0.9864005446434021, 0.01565668359398842, 0.9707143902778625, 0.03405800089240074, 0.9536240100860596, 0.9512568116188049, 0.027814527973532677, 0.011125811375677586, 0.005562905687838793, 0.9512608647346497, 0.027978261932730675, 0.23177331686019897, 0.7571261525154114, 0.9896805286407471, 0.007583758793771267, 0.9987537860870361, 0.012802724726498127, 0.12436933070421219, 0.3603052496910095, 0.1499747782945633, 0.22130423784255981, 0.12985621392726898, 0.9963909387588501, 0.034826263785362244, 0.9403091669082642, 0.27465859055519104, 0.01815924607217312, 0.472140371799469, 0.17478273808956146, 0.00907962303608656, 0.04993792623281479, 0.31238317489624023, 0.6798927783966064, 0.01745252124965191, 0.9040406346321106, 0.02094302698969841, 0.027924034744501114, 0.024433530867099762, 0.0034905043430626392, 0.038302648812532425, 0.038302648812532425, 0.9192636013031006, 0.9291954040527344, 0.9323074221611023, 0.9677256941795349, 0.013077374547719955, 0.9618908762931824, 0.9770775437355042, 0.9575789570808411, 0.9774428009986877, 0.005233212374150753, 0.34539201855659485, 0.6332187056541443, 0.010466424748301506, 0.005233212374150753, 0.9845335483551025, 0.08740951120853424, 0.02185237780213356, 0.8959474563598633, 0.002051210729405284, 0.10050932317972183, 0.151789590716362, 0.3958836495876312, 0.071792371571064, 0.278964638710022, 0.9407622218132019, 0.9918801188468933, 0.9718742370605469, 0.9862285256385803, 0.04830223694443703, 0.9177425503730774, 0.11412104964256287, 0.1902017444372177, 0.21873201429843903, 0.06657060980796814, 0.39942365884780884, 0.9573612809181213, 0.005286742001771927, 0.05286742374300957, 0.9410400986671448, 0.8860130906105042, 0.06040998175740242, 0.0503416508436203, 0.9792380332946777, 0.9310219287872314, 0.9816593527793884, 0.36266714334487915, 0.2256595492362976, 0.4029634892940521, 0.00805926974862814, 0.972690999507904, 0.9085215330123901, 0.955187976360321, 0.004688283894211054, 0.23441419005393982, 0.004688283894211054, 0.7501254081726074, 0.004688283894211054, 0.020761188119649887, 0.9757758378982544, 0.015017031691968441, 0.9761070609092712, 0.9441507458686829, 0.009733512997627258, 0.009733512997627258, 0.03893405199050903, 0.9777124524116516, 0.6800316572189331, 0.31386077404022217, 0.9323813319206238, 0.023907212540507317, 0.023907212540507317, 0.9743741750717163, 0.1811685562133789, 0.5275202393531799, 0.26642435789108276, 0.005328487139195204, 0.021313948556780815, 0.06670881062746048, 0.8894507884979248, 0.03335440531373024, 0.9484147429466248, 0.030594022944569588, 0.7952292561531067, 0.10002884268760681, 0.10002884268760681, 0.040465690195560455, 0.006744281854480505, 0.9509437084197998, 0.9761745929718018, 0.055184971541166306, 0.027592485770583153, 0.905033528804779, 0.011036993935704231, 0.26717647910118103, 0.6609102487564087, 0.0703096017241478, 0.9221924543380737, 0.9609683752059937, 0.16727840900421143, 0.08363920450210571, 0.06969933956861496, 0.6691136360168457, 0.9394931197166443, 0.07821966707706451, 0.9162874817848206, 0.9671381711959839, 0.9767605066299438, 0.9608346223831177, 0.16054469347000122, 0.41099441051483154, 0.4238379895687103, 0.9659191370010376, 0.9688456058502197, 0.22260215878486633, 0.7463719248771667, 0.01309424452483654, 0.02618848904967308, 0.12683247029781342, 0.021138744428753853, 0.8244110345840454, 0.08029548823833466, 0.8832504153251648, 0.9056453108787537, 0.06708484143018723, 0.9009158611297607, 0.025306126102805138, 0.9110205173492432, 0.050612252205610275, 0.020274296402931213, 0.9731662273406982, 0.04732951521873474, 0.06626132130622864, 0.8708630800247192, 0.009465903043746948, 0.9974614977836609, 0.9743478298187256, 0.9737513065338135, 0.9581284523010254, 0.026614679023623466, 0.9622231721878052, 0.009199549444019794, 0.009199549444019794, 0.9751521944999695, 0.996993362903595, 0.9576240181922913, 0.9528825879096985, 0.9317060708999634, 0.018634121865034103, 0.03726824373006821, 0.9636681079864502, 0.02708391286432743, 0.9208530187606812, 0.013541956432163715, 0.04062587022781372, 0.8538790345191956, 0.028462635353207588, 0.09961922466754913, 0.9810535907745361, 0.969166100025177, 0.023638198152184486, 0.013248350471258163, 0.013248350471258163, 0.9671295881271362, 0.2395564168691635, 0.7346397042274475, 0.977310061454773, 0.015270469710230827, 0.9952903389930725, 0.01454759668558836, 0.9746890068054199, 0.01454759668558836, 0.0212883148342371, 0.0212883148342371, 0.9579741358757019, 0.003981315065175295, 0.9953287839889526, 0.9602012634277344, 0.9827536344528198, 0.020544713363051414, 0.020544713363051414, 0.9656015038490295, 0.9380542039871216, 0.017134377732872963, 0.017134377732872963, 0.9595251679420471, 0.027397504076361656, 0.9589126110076904, 0.42216750979423523, 0.21375569701194763, 0.010687785223126411, 0.1389411985874176, 0.08550228178501129, 0.12825341522693634, 0.9470388889312744, 0.9798626899719238, 0.8991736173629761, 0.9788978099822998, 0.9882321953773499, 0.9722442626953125, 0.965289831161499, 0.9649038910865784, 0.02587566338479519, 0.004312610719352961, 0.004312610719352961, 0.9487743377685547, 0.008625221438705921, 0.008625221438705921, 0.9254460334777832, 0.05141366645693779, 0.02894018031656742, 0.01447009015828371, 0.05788036063313484, 0.8826754689216614, 0.0365976057946682, 0.9515377283096313, 0.9913506507873535, 0.1744476705789566, 0.01341905165463686, 0.8051431179046631, 0.04569799825549126, 0.9368089437484741, 0.7520780563354492, 0.23502439260482788, 0.01922760345041752, 0.00961380172520876, 0.9133111238479614, 0.00480690086260438, 0.04326210543513298, 0.014420702122151852, 0.9548848271369934, 0.9759978652000427, 0.14511750638484955, 0.8477917909622192, 0.014804018661379814, 0.011103014461696148, 0.9585602283477783, 0.011103014461696148, 0.9604722261428833, 0.008976375684142113, 0.026929127052426338, 0.9526702165603638, 0.843866765499115, 0.14311189949512482, 0.009869786910712719, 0.9532505869865417, 0.948322057723999, 0.9701043367385864, 0.01786164753139019, 0.01786164753139019, 0.7501892447471619, 0.0893082395195961, 0.12503154575824738, 0.9825565218925476, 0.06372690945863724, 0.08284498006105423, 0.21348513662815094, 0.20392610132694244, 0.00955903623253107, 0.4269702732563019, 0.00899541936814785, 0.9805006980895996, 0.9359298944473267, 0.016122091561555862, 0.003394124796614051, 0.0025455935392528772, 0.004242655821144581, 0.03818390145897865, 0.924602746963501, 0.019672399386763573, 0.019672399386763573, 0.019672399386763573, 0.01410195603966713, 0.9166271686553955, 0.05640782415866852, 0.9740346670150757, 0.012025119736790657, 0.9545071125030518, 0.9686172008514404, 0.026906033977866173, 0.29420575499534607, 0.022631211206316948, 0.6110427379608154, 0.045262422412633896, 0.022631211206316948, 0.9586795568466187, 0.013056875206530094, 0.6267299652099609, 0.1305687427520752, 0.02611375041306019, 0.2089100033044815, 0.013120262883603573, 0.9708994030952454, 0.9335293173789978, 0.9419695138931274, 0.8184994459152222, 0.17602138221263885, 0.9428001046180725, 0.01964166946709156, 0.01964166946709156, 0.01964166946709156, 0.974522054195404, 0.9624946713447571, 0.13123156130313873, 0.02187192812561989, 0.831133246421814, 0.9401838779449463, 0.9755793213844299, 0.023786041885614395, 0.023786041885614395, 0.9276556372642517, 0.023786041885614395, 0.19039496779441833, 0.7529255747795105, 0.04327158257365227, 0.008654316887259483, 0.008654316887259483, 0.020708639174699783, 0.9111801385879517, 0.06212591752409935, 0.9830342531204224, 0.006182605400681496, 0.9788808226585388, 0.9453333616256714, 0.015005291439592838, 0.03751322999596596, 0.9325518608093262, 0.005008493550121784, 0.991681694984436, 0.005008493550121784, 0.9967512488365173, 0.9428859353065491, 0.976117730140686, 0.013980465941131115, 0.9786326289176941, 0.9597500562667847, 0.8946913480758667, 0.09561587125062943, 0.9761734008789062, 0.014569752849638462, 0.9531025886535645, 0.027231501415371895, 0.027231501415371895, 0.978321373462677, 0.01638239063322544, 0.9665610194206238, 0.8452917337417603, 0.027267474681138992, 0.027267474681138992, 0.08180242776870728, 0.04743903875350952, 0.1523042917251587, 0.06991016119718552, 0.6466690301895142, 0.08239412307739258, 0.1139286607503891, 0.8658578395843506, 0.10621683299541473, 0.013277104124426842, 0.039831314235925674, 0.8364576101303101, 0.9442110061645508, 0.9435745477676392, 0.02158297225832939, 0.9712337851524353, 0.030343063175678253, 0.010114354081451893, 0.9406349658966064, 0.9090737700462341, 0.951598584651947, 0.9763009548187256, 0.9911537766456604, 0.9884378910064697, 0.004143468104302883, 0.9902888536453247, 0.02928978018462658, 0.9665627479553223, 0.9678521156311035, 0.0261581651866436, 0.9699274897575378, 0.6100859642028809, 0.010894391685724258, 0.3595149517059326, 0.010894391685724258, 0.015474315732717514, 0.9748818874359131], \"Term\": [\"access\", \"account\", \"add\", \"add\", \"add\", \"add\", \"add\", \"add\", \"admin\", \"agent\", \"agent\", \"agent\", \"agent\", \"agent\", \"app\", \"apply\", \"apps\", \"args\", \"available\", \"available\", \"back\", \"background\", \"base\", \"become\", \"build\", \"build\", \"builds\", \"catalog\", \"catalog\", \"cert\", \"certificate\", \"certificate\", \"certificate\", \"certificates\", \"certificates\", \"check\", \"check\", \"check\", \"check\", \"check\", \"check\", \"checking\", \"checks\", \"clean\", \"clean\", \"clean\", \"cli\", \"cli\", \"client\", \"client\", \"command\", \"command\", \"common\", \"compile\", \"complete\", \"complete\", \"complete\", \"complete\", \"conf\", \"conf\", \"config\", \"config\", \"config\", \"config\", \"config\", \"config\", \"configs\", \"configuration\", \"configuration\", \"configuration\", \"configuration\", \"configuration\", \"configuration\", \"configure\", \"configure\", \"configure\", \"configure\", \"configure\", \"configure\", \"container\", \"container\", \"container\", \"container\", \"container\", \"container\", \"containerized\", \"content\", \"convert\", \"copy\", \"copy\", \"copy\", \"copy\", \"copy\", \"copy\", \"copying\", \"copying\", \"copying\", \"copying\", \"copying\", \"cores\", \"correct\", \"count\", \"cpu\", \"create\", \"create\", \"create\", \"create\", \"create\", \"credentials\", \"crontab\", \"current\", \"current\", \"current\", \"currently\", \"custom\", \"custom\", \"custom\", \"custom\", \"custom\", \"custom\", \"debug\", \"default\", \"default\", \"default\", \"default\", \"default\", \"default\", \"defaults\", \"define\", \"define\", \"defined\", \"delete\", \"delete\", \"delete\", \"dependency\", \"deploy\", \"deploy\", \"deployed\", \"deployments\", \"deployments\", \"destroy\", \"detect\", \"developers\", \"developers\", \"developers\", \"device\", \"device\", \"dir\", \"dir\", \"directories\", \"directories\", \"directories\", \"directories\", \"directory\", \"directory\", \"directory\", \"directory\", \"directory\", \"directory\", \"disabled\", \"disabled\", \"disk\", \"distribution\", \"distribution\", \"dns\", \"dns\", \"dns\", \"dns\", \"downloaded\", \"drop\", \"drop\", \"empty\", \"empty\", \"enable\", \"enable\", \"enable\", \"enable\", \"enable\", \"enabled\", \"enabled\", \"enabled\", \"enabled\", \"endpoint\", \"ensure\", \"ensure\", \"ensure\", \"ensure\", \"ensuring\", \"ensuring\", \"ensuring\", \"ensuring\", \"entry\", \"env\", \"environment\", \"error\", \"error\", \"execute\", \"exist\", \"exist\", \"existing\", \"existing\", \"exists\", \"exists\", \"exists\", \"exists\", \"extra\", \"extra\", \"extract\", \"extract\", \"fact\", \"fact\", \"facts\", \"fail\", \"fail\", \"fail\", \"fail\", \"fail\", \"fail\", \"failed\", \"failure\", \"failure\", \"file\", \"file\", \"file\", \"file\", \"file\", \"file\", \"filename\", \"filename\", \"files\", \"files\", \"files\", \"files\", \"files\", \"files\", \"find\", \"find\", \"find\", \"firewalld\", \"fix\", \"folder\", \"folder\", \"folders\", \"following\", \"found\", \"gather\", \"generate\", \"generate\", \"generate\", \"generate\", \"generate\", \"generated\", \"generating\", \"generating\", \"generating\", \"get\", \"get\", \"get\", \"get\", \"get\", \"get\", \"git\", \"give\", \"global\", \"handlers\", \"heat\", \"heat\", \"hiera\", \"hiera\", \"hiera\", \"hiera\", \"hiera\", \"home\", \"host\", \"host\", \"host\", \"hosts\", \"hosts\", \"hosts\", \"id\", \"idempotency\", \"identify\", \"image\", \"image\", \"image\", \"image\", \"images\", \"import\", \"importing\", \"install\", \"install\", \"install\", \"install\", \"install\", \"installation\", \"installation\", \"installed\", \"installed\", \"installing\", \"installing\", \"installing\", \"installing\", \"integration\", \"inventory\", \"inventory\", \"ip\", \"ip\", \"ip\", \"ironic\", \"key\", \"key\", \"key\", \"key\", \"key\", \"kibana\", \"kibana\", \"kibana\", \"label\", \"label\", \"lack\", \"lack\", \"lack\", \"legacy\", \"legacy\", \"legacy\", \"linux\", \"list\", \"list\", \"list\", \"list\", \"local\", \"local\", \"local\", \"logstash\", \"lookup\", \"make\", \"make\", \"make\", \"make\", \"manager\", \"master\", \"master\", \"message\", \"missing\", \"modify\", \"molecule\", \"molecule\", \"molecule\", \"monitoring\", \"move\", \"name\", \"name\", \"name\", \"name\", \"names\", \"names\", \"names\", \"namespace\", \"namespace\", \"network\", \"network\", \"networking\", \"neutron\", \"neutron\", \"neutron\", \"node\", \"node\", \"nodes\", \"nodes\", \"nodes\", \"nodes\", \"nova\", \"number\", \"oc\", \"old\", \"old\", \"openscap\", \"output\", \"output\", \"output\", \"overcloud\", \"ovs\", \"pacemaker\", \"package\", \"package\", \"package\", \"parameter\", \"password\", \"password\", \"password\", \"password\", \"path\", \"path\", \"path\", \"permission\", \"permissions\", \"permissions\", \"playbook\", \"playbook\", \"playbook\", \"plugin\", \"plugin\", \"podman\", \"podman\", \"point\", \"pool\", \"pool\", \"pool\", \"pools\", \"pools\", \"pools\", \"populate\", \"populate\", \"prefix\", \"prepare\", \"present\", \"present\", \"present\", \"previous\", \"principal\", \"principal\", \"principal\", \"print\", \"print\", \"project\", \"project\", \"project\", \"project\", \"project\", \"project\", \"protocol\", \"provided\", \"provisioning\", \"pv\", \"rabbitmq\", \"ready\", \"register\", \"registry\", \"remove\", \"remove\", \"remove\", \"remove\", \"remove\", \"remove\", \"removing\", \"removing\", \"repo\", \"repo\", \"repo\", \"repo\", \"report\", \"report\", \"repositories\", \"repository\", \"repository\", \"repository\", \"requested\", \"requested\", \"resources\", \"resources\", \"restart\", \"restart\", \"restart\", \"restart\", \"restart\", \"restart\", \"retrieve\", \"rhel\", \"role\", \"role\", \"run\", \"run\", \"run\", \"run\", \"running\", \"running\", \"running\", \"runs\", \"script\", \"script\", \"script\", \"secret\", \"secrets\", \"security\", \"server\", \"server\", \"server\", \"server\", \"server\", \"servers\", \"service\", \"service\", \"service\", \"service\", \"service\", \"service\", \"services\", \"services\", \"set\", \"set\", \"set\", \"set\", \"set\", \"set\", \"setting\", \"setting\", \"setting\", \"setting\", \"setup\", \"setup\", \"setup\", \"software\", \"software\", \"specified\", \"ssh\", \"ssh\", \"ssl\", \"ssl\", \"ssl\", \"ssl\", \"ssl\", \"stack\", \"start\", \"start\", \"start\", \"start\", \"start\", \"started\", \"started\", \"starting\", \"stats\", \"status\", \"status\", \"step\", \"step\", \"step\", \"step\", \"successful\", \"support\", \"sure\", \"sure\", \"sure\", \"swap\", \"sync\", \"system\", \"system\", \"system\", \"system\", \"systemd\", \"systemd\", \"systemd\", \"systemd\", \"systemd\", \"take\", \"take\", \"take\", \"tasks\", \"tasks\", \"tempest\", \"template\", \"template\", \"template\", \"tenant\", \"test\", \"test\", \"test\", \"testing\", \"tests\", \"timeout\", \"tree\", \"tree\", \"try\", \"undercloud\", \"undercloud\", \"unit\", \"unit\", \"updated\", \"updated\", \"updated\", \"upgrade\", \"url\", \"url\", \"usable\", \"usable\", \"usable\", \"usable\", \"user\", \"user\", \"user\", \"user\", \"user\", \"validation\", \"validation\", \"value\", \"value\", \"value\", \"value\", \"values\", \"var\", \"verify\", \"verify\", \"version\", \"version\", \"version\", \"via\", \"vms\", \"volume\", \"volumes\", \"wait\", \"warn\", \"warn\", \"windows\", \"windows\", \"without\", \"without\", \"working\", \"workspace\", \"workspace\", \"workspace\", \"workspace\", \"write\", \"write\"]}, \"R\": 30, \"lambda.step\": 0.01, \"plot.opts\": {\"xlab\": \"PC1\", \"ylab\": \"PC2\"}, \"topic.order\": [4, 1, 6, 5, 3, 2]};\n",
       "\n",
       "function LDAvis_load_lib(url, callback){\n",
       "  var s = document.createElement('script');\n",
       "  s.src = url;\n",
       "  s.async = true;\n",
       "  s.onreadystatechange = s.onload = callback;\n",
       "  s.onerror = function(){console.warn(\"failed to load library \" + url);};\n",
       "  document.getElementsByTagName(\"head\")[0].appendChild(s);\n",
       "}\n",
       "\n",
       "if(typeof(LDAvis) !== \"undefined\"){\n",
       "   // already loaded: just create the visualization\n",
       "   !function(LDAvis){\n",
       "       new LDAvis(\"#\" + \"ldavis_el15689504165476565785941603\", ldavis_el15689504165476565785941603_data);\n",
       "   }(LDAvis);\n",
       "}else if(typeof define === \"function\" && define.amd){\n",
       "   // require.js is available: use it to load d3/LDAvis\n",
       "   require.config({paths: {d3: \"https://cdnjs.cloudflare.com/ajax/libs/d3/3.5.5/d3.min\"}});\n",
       "   require([\"d3\"], function(d3){\n",
       "      window.d3 = d3;\n",
       "      LDAvis_load_lib(\"https://cdn.rawgit.com/bmabey/pyLDAvis/files/ldavis.v1.0.0.js\", function(){\n",
       "        new LDAvis(\"#\" + \"ldavis_el15689504165476565785941603\", ldavis_el15689504165476565785941603_data);\n",
       "      });\n",
       "    });\n",
       "}else{\n",
       "    // require.js not available: dynamically load d3 & LDAvis\n",
       "    LDAvis_load_lib(\"https://cdnjs.cloudflare.com/ajax/libs/d3/3.5.5/d3.min.js\", function(){\n",
       "         LDAvis_load_lib(\"https://cdn.rawgit.com/bmabey/pyLDAvis/files/ldavis.v1.0.0.js\", function(){\n",
       "                 new LDAvis(\"#\" + \"ldavis_el15689504165476565785941603\", ldavis_el15689504165476565785941603_data);\n",
       "            })\n",
       "         });\n",
       "}\n",
       "</script>"
      ],
      "text/plain": [
       "PreparedData(topic_coordinates=              x         y  topics  cluster       Freq\n",
       "topic                                                \n",
       "3      0.013436 -0.269314       1        1  20.748407\n",
       "0     -0.315134  0.030495       2        1  17.452597\n",
       "5     -0.037429  0.098504       3        1  16.342667\n",
       "4      0.106096  0.192020       4        1  15.711964\n",
       "2      0.146666  0.016727       5        1  15.668121\n",
       "1      0.086365 -0.068432       6        1  14.076251, topic_info=           Term         Freq        Total Category  logprob  loglift\n",
       "20          set  1178.000000  1178.000000  Default  30.0000  30.0000\n",
       "3        create   777.000000   777.000000  Default  29.0000  29.0000\n",
       "793       facts   343.000000   343.000000  Default  28.0000  28.0000\n",
       "5     directory   440.000000   440.000000  Default  27.0000  27.0000\n",
       "9         check   434.000000   434.000000  Default  26.0000  26.0000\n",
       "...         ...          ...          ...      ...      ...      ...\n",
       "11       ensure    99.319092   453.395905   Topic6  -3.9401   0.4423\n",
       "2448      hiera    42.396400   105.151505   Topic6  -4.7914   1.0523\n",
       "39         fail    70.929680   546.758606   Topic6  -4.2767  -0.0816\n",
       "89      copying    44.484612   195.980408   Topic6  -4.7433   0.4778\n",
       "20          set    44.821037  1178.507080   Topic6  -4.7357  -1.3086\n",
       "\n",
       "[334 rows x 6 columns], token_table=      Topic      Freq       Term\n",
       "term                            \n",
       "582       1  0.972855     access\n",
       "527       3  0.938196    account\n",
       "223       1  0.012655        add\n",
       "223       2  0.075932        add\n",
       "223       3  0.006328        add\n",
       "...     ...       ...        ...\n",
       "2149      3  0.010894  workspace\n",
       "2149      4  0.359515  workspace\n",
       "2149      6  0.010894  workspace\n",
       "178       3  0.015474      write\n",
       "178       5  0.974882      write\n",
       "\n",
       "[622 rows x 3 columns], R=30, lambda_step=0.01, plot_opts={'xlab': 'PC1', 'ylab': 'PC2'}, topic_order=[4, 1, 6, 5, 3, 2])"
      ]
     },
     "execution_count": 216,
     "metadata": {},
     "output_type": "execute_result"
    }
   ],
   "source": [
    "pyLDAvis.gensim.prepare(lda_model, corpus_1_tasks, dictionary)"
   ]
  },
  {
   "cell_type": "code",
   "execution_count": 217,
   "metadata": {
    "scrolled": false
   },
   "outputs": [
    {
     "data": {
      "text/html": [
       "\n",
       "<link rel=\"stylesheet\" type=\"text/css\" href=\"https://cdn.rawgit.com/bmabey/pyLDAvis/files/ldavis.v1.0.0.css\">\n",
       "\n",
       "\n",
       "<div id=\"ldavis_el15689504190629846798102852\"></div>\n",
       "<script type=\"text/javascript\">\n",
       "\n",
       "var ldavis_el15689504190629846798102852_data = {\"mdsDat\": {\"x\": [0.04626783372138413, 0.0332199994440247, 0.06041435391319747, -0.08531482859260861, 0.21366823211726024, -0.26825559060325777], \"y\": [0.08805559327414965, -0.19953788338166656, 0.21056917438665892, -0.1341502307298974, -0.025327569320505092, 0.0603909157712605], \"topics\": [1, 2, 3, 4, 5, 6], \"cluster\": [1, 1, 1, 1, 1, 1], \"Freq\": [18.722728729248047, 17.319324493408203, 16.922794342041016, 15.996225357055664, 15.56225872039795, 15.47667121887207]}, \"tinfo\": {\"Term\": [\"set\", \"ensure\", \"facts\", \"directory\", \"populate\", \"warn\", \"get\", \"testing\", \"fact\", \"enabled\", \"test\", \"create\", \"check\", \"run\", \"install\", \"key\", \"config\", \"configure\", \"overcloud\", \"fail\", \"generate\", \"lack\", \"node\", \"nova\", \"certificates\", \"delete\", \"tasks\", \"copy\", \"verify\", \"complete\", \"role\", \"extract\", \"podman\", \"linux\", \"volumes\", \"configured\", \"verify\", \"fact\", \"args\", \"error\", \"move\", \"generated\", \"heat\", \"command\", \"pv\", \"zuul\", \"cores\", \"services\", \"fix\", \"apps\", \"existing\", \"updated\", \"specified\", \"family\", \"try\", \"endpoint\", \"ironic\", \"message\", \"used\", \"old\", \"certificate\", \"master\", \"db\", \"lack\", \"debian\", \"set\", \"policy\", \"copying\", \"host\", \"name\", \"server\", \"copy\", \"file\", \"remove\", \"template\", \"configuration\", \"user\", \"custom\", \"service\", \"container\", \"check\", \"running\", \"create\", \"fail\", \"cli\", \"access\", \"timeout\", \"libvirt\", \"permission\", \"app\", \"following\", \"become\", \"empty\", \"ready\", \"builds\", \"requested\", \"monitoring\", \"wait\", \"working\", \"pacemaker\", \"url\", \"checks\", \"skipped\", \"var\", \"background\", \"prefix\", \"starting\", \"directories\", \"rhel\", \"logstash\", \"github\", \"actual\", \"loop\", \"per\", \"client\", \"usable\", \"ensuring\", \"exist\", \"ensure\", \"base\", \"owner\", \"config\", \"take\", \"directory\", \"image\", \"workspace\", \"removing\", \"restart\", \"images\", \"enable\", \"files\", \"give\", \"service\", \"exists\", \"kibana\", \"create\", \"user\", \"project\", \"running\", \"set\", \"facts\", \"warn\", \"hosts\", \"defaults\", \"detect\", \"validation\", \"checking\", \"execute\", \"stack\", \"parameter\", \"nodes\", \"ovs\", \"configs\", \"installed\", \"initialize\", \"importing\", \"tenant\", \"vols\", \"value\", \"filter\", \"idempotency\", \"number\", \"resume\", \"disabled\", \"env\", \"array\", \"signed\", \"virtual\", \"provisioning\", \"chmod\", \"setting\", \"workload\", \"import\", \"node\", \"group\", \"tasks\", \"ansible\", \"complete\", \"started\", \"resources\", \"ssh\", \"variable\", \"write\", \"create\", \"inventory\", \"user\", \"list\", \"deployment\", \"file\", \"set\", \"developers\", \"molecule\", \"check\", \"version\", \"project\", \"fail\", \"template\", \"script\", \"restart\", \"certificates\", \"populate\", \"failed\", \"content\", \"point\", \"rabbitmq\", \"cert\", \"oc\", \"install\", \"downloaded\", \"repository\", \"folder\", \"containers\", \"security\", \"openstack\", \"place\", \"tempest\", \"current\", \"crontab\", \"settings\", \"git\", \"ip\", \"entry\", \"missing\", \"cpu\", \"status\", \"disk\", \"generating\", \"values\", \"stats\", \"repo\", \"device\", \"build\", \"start\", \"legacy\", \"present\", \"deploy\", \"get\", \"ssl\", \"script\", \"fail\", \"service\", \"copy\", \"configuration\", \"files\", \"create\", \"file\", \"check\", \"remove\", \"environment\", \"apply\", \"successful\", \"windows\", \"correct\", \"dns\", \"common\", \"internal\", \"unit\", \"define\", \"hash\", \"handlers\", \"names\", \"account\", \"manager\", \"integration\", \"found\", \"enabled\", \"vms\", \"support\", \"public\", \"nproc\", \"nofiles\", \"keys\", \"convert\", \"delete\", \"currently\", \"clone\", \"id\", \"roles\", \"report\", \"repositories\", \"key\", \"upgrade\", \"configure\", \"software\", \"generate\", \"keytab\", \"label\", \"without\", \"step\", \"check\", \"limit\", \"systemd\", \"get\", \"exists\", \"namespace\", \"set\", \"ensure\", \"files\", \"default\", \"setup\", \"testing\", \"test\", \"nova\", \"overcloud\", \"distribution\", \"tree\", \"provided\", \"prepare\", \"available\", \"filename\", \"register\", \"deployed\", \"lookup\", \"go\", \"ubuntu\", \"previous\", \"sync\", \"identify\", \"home\", \"global\", \"back\", \"mode\", \"tests\", \"data\", \"extra\", \"temp\", \"modify\", \"vm\", \"bootstrap\", \"make\", \"sure\", \"folders\", \"run\", \"add\", \"output\", \"undercloud\", \"installing\", \"location\", \"drop\", \"password\", \"fail\", \"servers\", \"cis\", \"directory\", \"version\", \"default\", \"create\", \"developers\", \"molecule\", \"list\", \"hiera\", \"get\"], \"Freq\": [1244.0, 560.0, 324.0, 496.0, 250.0, 249.0, 481.0, 228.0, 267.0, 202.0, 179.0, 801.0, 511.0, 215.0, 166.0, 203.0, 309.0, 207.0, 142.0, 489.0, 208.0, 206.0, 177.0, 124.0, 124.0, 136.0, 155.0, 310.0, 132.0, 161.0, 109.8641128540039, 60.50328826904297, 60.71607208251953, 57.25252151489258, 43.50764083862305, 61.090755462646484, 129.28549194335938, 260.90283203125, 35.126548767089844, 41.016475677490234, 26.677364349365234, 27.746538162231445, 33.63147735595703, 39.49237823486328, 20.35764503479004, 20.030948638916016, 20.2320556640625, 116.36918640136719, 17.569988250732422, 16.507678985595703, 30.2813720703125, 35.42375946044922, 21.466991424560547, 14.619344711303711, 13.933890342712402, 13.738245010375977, 13.835623741149902, 20.29537582397461, 18.125844955444336, 67.19999694824219, 84.52326202392578, 89.672119140625, 54.09896469116211, 181.606689453125, 30.5274715423584, 871.4396362304688, 38.52942657470703, 140.77447509765625, 117.90997314453125, 60.71795654296875, 45.414485931396484, 161.4301300048828, 182.74539184570312, 113.14645385742188, 71.41741943359375, 84.2065200805664, 97.69806671142578, 59.0637321472168, 83.63159942626953, 48.28972625732422, 81.51262664794922, 50.3373908996582, 65.42636108398438, 60.45779800415039, 100.92793273925781, 55.945068359375, 50.40281295776367, 42.45546340942383, 40.165225982666016, 40.163700103759766, 49.9119987487793, 38.76497268676758, 53.610443115234375, 44.855350494384766, 29.238739013671875, 55.70454788208008, 28.597362518310547, 73.31360626220703, 25.054698944091797, 25.53461456298828, 61.5537109375, 22.4703426361084, 24.17171859741211, 19.867115020751953, 25.288177490234375, 29.191770553588867, 17.62110710144043, 79.9166030883789, 21.577661514282227, 16.347126007080078, 14.805596351623535, 19.078292846679688, 13.783900260925293, 13.268118858337402, 45.33304214477539, 42.805137634277344, 79.552001953125, 58.13126754760742, 467.0775146484375, 24.351451873779297, 28.556615829467773, 237.9337921142578, 43.02995681762695, 333.2918395996094, 102.9473648071289, 83.84966278076172, 52.591590881347656, 131.2754669189453, 44.4114990234375, 97.02445220947266, 128.54891967773438, 36.59272003173828, 119.40434265136719, 83.19290161132812, 56.201622009277344, 123.0232162475586, 92.64888763427734, 54.39842987060547, 46.57423782348633, 48.873680114746094, 323.5404357910156, 248.3590087890625, 109.447265625, 57.291690826416016, 45.818199157714844, 44.443199157714844, 38.78805923461914, 38.34806442260742, 27.492591857910156, 26.27356719970703, 105.37474822998047, 22.330493927001953, 21.045486450195312, 76.52296447753906, 26.418306350708008, 21.920976638793945, 19.12909698486328, 22.088998794555664, 84.54058837890625, 15.070235252380371, 15.21392822265625, 52.519474029541016, 18.329021453857422, 33.2486457824707, 13.519606590270996, 11.619845390319824, 11.125311851501465, 11.106216430664062, 10.655152320861816, 10.623291969299316, 51.828956604003906, 43.161216735839844, 19.264911651611328, 154.88148498535156, 34.19430160522461, 133.30479431152344, 50.78232192993164, 136.1383514404297, 76.97583770751953, 49.59872055053711, 85.95793914794922, 34.774139404296875, 46.23345947265625, 387.5159606933594, 61.80537796020508, 150.98036193847656, 86.45076751708984, 39.19013977050781, 132.7483367919922, 143.85670471191406, 57.531341552734375, 57.5376091003418, 74.88214111328125, 45.993743896484375, 50.708953857421875, 51.27709197998047, 46.32942199707031, 46.570152282714844, 46.34205627441406, 123.60353088378906, 248.07362365722656, 81.9272689819336, 77.00491333007812, 57.63648986816406, 44.40445327758789, 42.0455207824707, 41.12301254272461, 162.83338928222656, 32.336029052734375, 63.87814712524414, 68.7814712524414, 46.45932388305664, 34.90222930908203, 27.720327377319336, 31.579524993896484, 25.53335952758789, 53.76280212402344, 19.511579513549805, 30.675264358520508, 18.88169288635254, 31.787080764770508, 20.197126388549805, 39.5387077331543, 18.115982055664062, 92.5511474609375, 16.75265121459961, 37.56330490112305, 19.25165557861328, 13.907010078430176, 63.12450408935547, 31.175064086914062, 60.19017028808594, 56.229618072509766, 101.65282440185547, 42.21684265136719, 98.5461654663086, 257.2901916503906, 58.77439880371094, 96.67811584472656, 154.54368591308594, 112.68408203125, 98.57398986816406, 74.28675079345703, 74.54991912841797, 100.96617889404297, 80.63321685791016, 62.57866668701172, 49.171138763427734, 85.92147827148438, 73.27791595458984, 60.81060028076172, 44.81279754638672, 39.01432418823242, 82.43378448486328, 30.50434684753418, 35.62112808227539, 70.56362915039062, 50.86919021606445, 24.069421768188477, 25.046009063720703, 60.67225646972656, 22.61113739013672, 21.56940269470215, 24.892045974731445, 20.231708526611328, 194.76466369628906, 18.812299728393555, 18.3173770904541, 17.408145904541016, 16.384647369384766, 16.3846378326416, 41.462955474853516, 21.216150283813477, 129.68804931640625, 14.193869590759277, 14.265812873840332, 23.55569839477539, 13.314745903015137, 29.713895797729492, 62.41213607788086, 176.80319213867188, 53.806339263916016, 167.28204345703125, 73.08768463134766, 163.46029663085938, 31.081069946289062, 31.05875015258789, 35.04128646850586, 43.97236633300781, 277.27716064453125, 47.49941635131836, 74.30374145507812, 180.0594482421875, 100.46067810058594, 38.86458206176758, 163.25047302246094, 78.31197357177734, 52.7115364074707, 40.83635330200195, 35.71271514892578, 227.139404296875, 178.30784606933594, 123.95646667480469, 141.09120178222656, 94.09666442871094, 63.85879898071289, 59.66720199584961, 62.47998046875, 99.39289855957031, 92.73871612548828, 29.047258377075195, 37.93804931640625, 28.421051025390625, 25.187898635864258, 22.807239532470703, 21.380130767822266, 21.226221084594727, 20.388477325439453, 19.419889450073242, 18.768213272094727, 27.906238555908203, 21.006433486938477, 17.116592407226562, 44.32699203491211, 32.91061019897461, 19.619415283203125, 14.985128402709961, 13.851340293884277, 15.537158966064453, 61.4108772277832, 38.628204345703125, 19.83736228942871, 183.44482421875, 108.21817016601562, 72.50138092041016, 100.29257202148438, 68.59613037109375, 31.05288314819336, 47.6132926940918, 47.1465950012207, 208.34774780273438, 26.17957305908203, 40.89404296875, 141.8551483154297, 54.46554183959961, 58.341121673583984, 123.5589370727539, 53.70297622680664, 53.70808029174805, 55.243438720703125, 45.57270431518555, 39.171783447265625], \"Total\": [1244.0, 560.0, 324.0, 496.0, 250.0, 249.0, 481.0, 228.0, 267.0, 202.0, 179.0, 801.0, 511.0, 215.0, 166.0, 203.0, 309.0, 207.0, 142.0, 489.0, 208.0, 206.0, 177.0, 124.0, 124.0, 136.0, 155.0, 310.0, 132.0, 161.0, 110.689453125, 61.3348503112793, 61.67259216308594, 58.197444915771484, 44.342079162597656, 62.425506591796875, 132.20913696289062, 267.4955139160156, 36.02353286743164, 42.074642181396484, 27.505565643310547, 28.63426399230957, 34.80038070678711, 40.97227478027344, 21.17898178100586, 20.870182037353516, 21.095149993896484, 121.58883666992188, 18.392553329467773, 17.37897300720215, 31.906204223632812, 37.35887145996094, 22.690900802612305, 15.464485168457031, 14.761402130126953, 14.562997817993164, 14.669419288635254, 21.592466354370117, 19.28913116455078, 71.94274139404297, 90.75102996826172, 97.06708526611328, 58.17517852783203, 206.6133270263672, 32.90957260131836, 1244.2576904296875, 43.98100280761719, 191.87619018554688, 158.64559936523438, 75.71729278564453, 54.36298751831055, 310.3863830566406, 436.81390380859375, 223.05250549316406, 120.33111572265625, 178.313720703125, 388.455322265625, 128.38136291503906, 326.9283447265625, 88.52059936523438, 511.3468322753906, 112.81039428710938, 801.404296875, 489.4495544433594, 101.74874877929688, 56.73234939575195, 51.300357818603516, 43.26264190673828, 40.95263671875, 40.95235061645508, 50.90990447998047, 39.561248779296875, 54.80480194091797, 45.926998138427734, 30.029794692993164, 57.23052215576172, 29.419654846191406, 75.63408660888672, 25.85420799255371, 26.35369873046875, 63.5676383972168, 23.27943229675293, 25.067487716674805, 20.6572265625, 26.35208511352539, 30.422183990478516, 18.414825439453125, 83.59436798095703, 22.600873947143555, 17.1372127532959, 15.619098663330078, 20.166513442993164, 14.617693901062012, 14.07837963104248, 48.13455581665039, 45.69536590576172, 86.27433013916016, 63.28836441040039, 560.4342651367188, 25.929460525512695, 30.73677635192871, 309.0152587890625, 48.60123825073242, 496.69085693359375, 133.677734375, 109.16279602050781, 64.67204284667969, 220.40635681152344, 55.536354064941406, 164.33302307128906, 274.2932434082031, 42.954830169677734, 326.9283447265625, 214.36917114257812, 94.87397766113281, 801.404296875, 388.455322265625, 200.34515380859375, 112.81039428710938, 1244.2576904296875, 324.3588562011719, 249.41897583007812, 110.45174407958984, 58.130619049072266, 46.65007019042969, 45.29124069213867, 39.59757995605469, 39.156307220458984, 28.29985237121582, 27.086071014404297, 108.7591323852539, 23.151046752929688, 21.852741241455078, 79.47498321533203, 27.464799880981445, 22.828510284423828, 19.935184478759766, 23.087568283081055, 88.67222595214844, 15.879291534423828, 16.03778839111328, 55.43421173095703, 19.36453628540039, 35.14033889770508, 14.32769775390625, 12.435994148254395, 11.929920196533203, 11.927117347717285, 11.463861465454102, 11.435392379760742, 56.3912467956543, 47.51455307006836, 20.894033432006836, 177.53811645507812, 37.792598724365234, 155.08090209960938, 57.303993225097656, 161.92532348632812, 90.03239440917969, 58.175472259521484, 107.56114959716797, 40.27237319946289, 57.051483154296875, 801.404296875, 85.24947357177734, 388.455322265625, 176.84698486328125, 51.53269577026367, 436.81390380859375, 1244.2576904296875, 142.8186492919922, 148.38339233398438, 511.3468322753906, 108.3926773071289, 200.34515380859375, 489.4495544433594, 120.33111572265625, 184.01866149902344, 220.40635681152344, 124.4413070678711, 250.05189514160156, 82.76566314697266, 77.94316864013672, 58.47524642944336, 45.25178527832031, 42.88408279418945, 41.96477508544922, 166.6898956298828, 33.17103576660156, 65.57772827148438, 70.62422943115234, 47.72382736206055, 35.8946533203125, 28.55944061279297, 32.66728210449219, 26.424280166625977, 55.76296615600586, 20.352378845214844, 32.016883850097656, 19.716182708740234, 33.19841384887695, 21.09690284729004, 41.44926071166992, 18.996679306030273, 97.0759048461914, 17.588565826416016, 39.57478332519531, 20.30321502685547, 14.799972534179688, 67.4575424194336, 33.43659973144531, 66.88933563232422, 65.95437622070312, 137.76683044433594, 49.78253936767578, 143.5314178466797, 481.2592468261719, 79.39125061035156, 184.01866149902344, 489.4495544433594, 326.9283447265625, 310.3863830566406, 178.313720703125, 274.2932434082031, 801.404296875, 436.81390380859375, 511.3468322753906, 223.05250549316406, 86.70637512207031, 74.0796890258789, 61.764060974121094, 45.690399169921875, 39.80412292480469, 84.19793701171875, 31.28786277770996, 36.68941116333008, 72.7806396484375, 52.51361083984375, 24.856889724731445, 25.889278411865234, 62.7393798828125, 23.398113250732422, 22.360321044921875, 25.809926986694336, 21.020023345947266, 202.78982543945312, 19.613449096679688, 19.102773666381836, 18.259817123413086, 17.21005630493164, 17.210046768188477, 43.59323501586914, 22.317617416381836, 136.49810791015625, 14.985259056091309, 15.065282821655273, 24.913265228271484, 14.102617263793945, 31.614757537841797, 68.60713958740234, 203.5110626220703, 59.35250473022461, 207.4181365966797, 86.67696380615234, 208.7347869873047, 34.2554817199707, 34.33479690551758, 39.63753128051758, 52.889404296875, 511.3468322753906, 59.714927673339844, 124.76924896240234, 481.2592468261719, 214.36917114257812, 52.57677459716797, 1244.2576904296875, 560.4342651367188, 274.2932434082031, 149.841796875, 71.60713958740234, 228.07763671875, 179.49630737304688, 124.79747772216797, 142.0525665283203, 95.16633605957031, 64.829833984375, 60.64045333862305, 63.712562561035156, 101.3828353881836, 94.80889129638672, 29.874380111694336, 39.06402587890625, 29.270828247070312, 26.019153594970703, 23.63981819152832, 22.207429885864258, 22.058073043823242, 21.22321319580078, 20.250078201293945, 19.59421157836914, 29.152145385742188, 21.95700454711914, 17.949966430664062, 46.50624084472656, 34.64200210571289, 20.653846740722656, 15.823015213012695, 14.679569244384766, 16.4890193939209, 65.45641326904297, 42.03516387939453, 21.223169326782227, 215.44534301757812, 140.755126953125, 90.0275650024414, 134.9263153076172, 88.95028686523438, 36.07595443725586, 61.3809928894043, 62.0873908996582, 489.4495544433594, 29.78326416015625, 60.98072052001953, 496.69085693359375, 108.3926773071289, 149.841796875, 801.404296875, 142.8186492919922, 148.38339233398438, 176.84698486328125, 101.22294616699219, 481.2592468261719], \"Category\": [\"Default\", \"Default\", \"Default\", \"Default\", \"Default\", \"Default\", \"Default\", \"Default\", \"Default\", \"Default\", \"Default\", \"Default\", \"Default\", \"Default\", \"Default\", \"Default\", \"Default\", \"Default\", \"Default\", \"Default\", \"Default\", \"Default\", \"Default\", \"Default\", \"Default\", \"Default\", \"Default\", \"Default\", \"Default\", \"Default\", \"Topic1\", \"Topic1\", \"Topic1\", \"Topic1\", \"Topic1\", \"Topic1\", \"Topic1\", \"Topic1\", \"Topic1\", \"Topic1\", \"Topic1\", \"Topic1\", \"Topic1\", \"Topic1\", \"Topic1\", \"Topic1\", \"Topic1\", \"Topic1\", \"Topic1\", \"Topic1\", \"Topic1\", \"Topic1\", \"Topic1\", \"Topic1\", \"Topic1\", \"Topic1\", \"Topic1\", \"Topic1\", \"Topic1\", \"Topic1\", \"Topic1\", \"Topic1\", \"Topic1\", \"Topic1\", \"Topic1\", \"Topic1\", \"Topic1\", \"Topic1\", \"Topic1\", \"Topic1\", \"Topic1\", \"Topic1\", \"Topic1\", \"Topic1\", \"Topic1\", \"Topic1\", \"Topic1\", \"Topic1\", \"Topic1\", \"Topic1\", \"Topic1\", \"Topic1\", \"Topic1\", \"Topic1\", \"Topic2\", \"Topic2\", \"Topic2\", \"Topic2\", \"Topic2\", \"Topic2\", \"Topic2\", \"Topic2\", \"Topic2\", \"Topic2\", \"Topic2\", \"Topic2\", \"Topic2\", \"Topic2\", \"Topic2\", \"Topic2\", \"Topic2\", \"Topic2\", \"Topic2\", \"Topic2\", \"Topic2\", \"Topic2\", \"Topic2\", \"Topic2\", \"Topic2\", \"Topic2\", \"Topic2\", \"Topic2\", \"Topic2\", \"Topic2\", \"Topic2\", \"Topic2\", \"Topic2\", \"Topic2\", \"Topic2\", \"Topic2\", \"Topic2\", \"Topic2\", \"Topic2\", \"Topic2\", \"Topic2\", \"Topic2\", \"Topic2\", \"Topic2\", \"Topic2\", \"Topic2\", \"Topic2\", \"Topic2\", \"Topic2\", \"Topic2\", \"Topic2\", \"Topic2\", \"Topic2\", \"Topic2\", \"Topic2\", \"Topic2\", \"Topic3\", \"Topic3\", \"Topic3\", \"Topic3\", \"Topic3\", \"Topic3\", \"Topic3\", \"Topic3\", \"Topic3\", \"Topic3\", \"Topic3\", \"Topic3\", \"Topic3\", \"Topic3\", \"Topic3\", \"Topic3\", \"Topic3\", \"Topic3\", \"Topic3\", \"Topic3\", \"Topic3\", \"Topic3\", \"Topic3\", \"Topic3\", \"Topic3\", \"Topic3\", \"Topic3\", \"Topic3\", \"Topic3\", \"Topic3\", \"Topic3\", \"Topic3\", \"Topic3\", \"Topic3\", \"Topic3\", \"Topic3\", \"Topic3\", \"Topic3\", \"Topic3\", \"Topic3\", \"Topic3\", \"Topic3\", \"Topic3\", \"Topic3\", \"Topic3\", \"Topic3\", \"Topic3\", \"Topic3\", \"Topic3\", \"Topic3\", \"Topic3\", \"Topic3\", \"Topic3\", \"Topic3\", \"Topic3\", \"Topic3\", \"Topic3\", \"Topic3\", \"Topic3\", \"Topic4\", \"Topic4\", \"Topic4\", \"Topic4\", \"Topic4\", \"Topic4\", \"Topic4\", \"Topic4\", \"Topic4\", \"Topic4\", \"Topic4\", \"Topic4\", \"Topic4\", \"Topic4\", \"Topic4\", \"Topic4\", \"Topic4\", \"Topic4\", \"Topic4\", \"Topic4\", \"Topic4\", \"Topic4\", \"Topic4\", \"Topic4\", \"Topic4\", \"Topic4\", \"Topic4\", \"Topic4\", \"Topic4\", \"Topic4\", \"Topic4\", \"Topic4\", \"Topic4\", \"Topic4\", \"Topic4\", \"Topic4\", \"Topic4\", \"Topic4\", \"Topic4\", \"Topic4\", \"Topic4\", \"Topic4\", \"Topic4\", \"Topic4\", \"Topic4\", \"Topic4\", \"Topic4\", \"Topic4\", \"Topic4\", \"Topic5\", \"Topic5\", \"Topic5\", \"Topic5\", \"Topic5\", \"Topic5\", \"Topic5\", \"Topic5\", \"Topic5\", \"Topic5\", \"Topic5\", \"Topic5\", \"Topic5\", \"Topic5\", \"Topic5\", \"Topic5\", \"Topic5\", \"Topic5\", \"Topic5\", \"Topic5\", \"Topic5\", \"Topic5\", \"Topic5\", \"Topic5\", \"Topic5\", \"Topic5\", \"Topic5\", \"Topic5\", \"Topic5\", \"Topic5\", \"Topic5\", \"Topic5\", \"Topic5\", \"Topic5\", \"Topic5\", \"Topic5\", \"Topic5\", \"Topic5\", \"Topic5\", \"Topic5\", \"Topic5\", \"Topic5\", \"Topic5\", \"Topic5\", \"Topic5\", \"Topic5\", \"Topic5\", \"Topic5\", \"Topic5\", \"Topic5\", \"Topic5\", \"Topic5\", \"Topic6\", \"Topic6\", \"Topic6\", \"Topic6\", \"Topic6\", \"Topic6\", \"Topic6\", \"Topic6\", \"Topic6\", \"Topic6\", \"Topic6\", \"Topic6\", \"Topic6\", \"Topic6\", \"Topic6\", \"Topic6\", \"Topic6\", \"Topic6\", \"Topic6\", \"Topic6\", \"Topic6\", \"Topic6\", \"Topic6\", \"Topic6\", \"Topic6\", \"Topic6\", \"Topic6\", \"Topic6\", \"Topic6\", \"Topic6\", \"Topic6\", \"Topic6\", \"Topic6\", \"Topic6\", \"Topic6\", \"Topic6\", \"Topic6\", \"Topic6\", \"Topic6\", \"Topic6\", \"Topic6\", \"Topic6\", \"Topic6\", \"Topic6\", \"Topic6\", \"Topic6\", \"Topic6\", \"Topic6\", \"Topic6\", \"Topic6\", \"Topic6\", \"Topic6\"], \"logprob\": [30.0, 29.0, 28.0, 27.0, 26.0, 25.0, 24.0, 23.0, 22.0, 21.0, 20.0, 19.0, 18.0, 17.0, 16.0, 15.0, 14.0, 13.0, 12.0, 11.0, 10.0, 9.0, 8.0, 7.0, 6.0, 5.0, 4.0, 3.0, 2.0, 1.0, -4.1244001388549805, -4.7210001945495605, -4.71750020980835, -4.776199817657471, -5.0507001876831055, -4.711299896240234, -3.9616000652313232, -3.259500026702881, -5.264699935913086, -5.1097002029418945, -5.539899826049805, -5.5005998611450195, -5.308199882507324, -5.147600173950195, -5.810200214385986, -5.826399803161621, -5.816400051116943, -4.06689977645874, -5.957499980926514, -6.019800186157227, -5.413099765777588, -5.25629997253418, -5.757199764251709, -6.141300201416016, -6.189300060272217, -6.203499794006348, -6.196400165557861, -5.813300132751465, -5.926300048828125, -4.616000175476074, -4.386600017547607, -4.327499866485596, -4.832900047302246, -3.621799945831299, -5.40500020980835, -2.053499937057495, -5.1722002029418945, -3.876499891281128, -4.053699970245361, -4.717400074005127, -5.007800102233887, -3.7395999431610107, -3.615600109100342, -4.09499979019165, -4.555099964141846, -4.390399932861328, -4.241799831390381, -4.745100021362305, -4.397200107574463, -4.946400165557861, -4.422900199890137, -4.904900074005127, -4.6427001953125, -4.721700191497803, -4.13129997253418, -4.721399784088135, -4.825699806213379, -4.997300148010254, -5.052800178527832, -5.052800178527832, -4.8354997634887695, -5.088200092315674, -4.763999938964844, -4.942299842834473, -5.370299816131592, -4.7256999015808105, -5.392399787902832, -4.451000213623047, -5.524700164794922, -5.50570011138916, -4.625800132751465, -5.633600234985352, -5.5605998039245605, -5.756700038909912, -5.515399932861328, -5.3719000816345215, -5.876699924468994, -4.364799976348877, -5.674099922180176, -5.951700210571289, -6.0507001876831055, -5.7972002029418945, -6.122300148010254, -6.160399913787842, -4.931700229644775, -4.989099979400635, -4.36929988861084, -4.683000087738037, -2.599299907684326, -5.553199768066406, -5.393899917602539, -3.2737998962402344, -4.98390007019043, -2.9367001056671143, -4.111499786376953, -4.316699981689453, -4.783199787139893, -3.868499994277954, -4.952300071716309, -4.17080020904541, -3.889400005340576, -5.145899772644043, -3.963200092315674, -4.3246002197265625, -4.716800212860107, -3.9333999156951904, -4.216899871826172, -4.7494001388549805, -4.904699802398682, -4.856500148773193, -2.9433000087738037, -3.20770001411438, -4.027100086212158, -4.6743998527526855, -4.897900104522705, -4.928400039672852, -5.064499855041504, -5.075900077819824, -5.408699989318848, -5.453999996185303, -4.065100193023682, -5.616600036621094, -5.675899982452393, -4.385000228881836, -5.448500156402588, -5.6350998878479, -5.771399974822998, -5.627500057220459, -4.285399913787842, -6.009900093078613, -6.000400066375732, -4.76140022277832, -5.8140997886657715, -5.218599796295166, -6.1184000968933105, -6.269899845123291, -6.313399791717529, -6.315100193023682, -6.356500148773193, -6.359499931335449, -4.774600028991699, -4.957600116729736, -5.7642998695373535, -3.6798999309539795, -5.190499782562256, -3.8299999237060547, -4.795000076293945, -3.8089001178741455, -4.3790998458862305, -4.818600177764893, -4.268700122833252, -5.173699855804443, -4.888899803161621, -2.7627999782562256, -4.598599910736084, -3.705399990081787, -4.263000011444092, -5.054200172424316, -3.8341000080108643, -3.7537999153137207, -4.670300006866455, -4.670199871063232, -4.406700134277344, -4.894100189208984, -4.796500205993652, -4.785299777984619, -4.8867998123168945, -4.8815999031066895, -4.886499881744385, -3.8492000102996826, -3.152600049972534, -4.260499954223633, -4.322400093078613, -4.612100124359131, -4.872900009155273, -4.927499771118164, -4.949699878692627, -3.5736000537872314, -5.190100193023682, -4.509300231933594, -4.435299873352051, -4.827700138092041, -5.113699913024902, -5.344099998474121, -5.213799953460693, -5.426300048828125, -4.681700229644775, -5.695300102233887, -5.242800235748291, -5.728099822998047, -5.207200050354004, -5.660699844360352, -4.988999843597412, -5.769499778747559, -4.138500213623047, -5.847700119018555, -5.040299892425537, -5.708700180053711, -6.033899784088135, -4.521200180053711, -5.2266998291015625, -4.56879997253418, -4.6367998123168945, -4.0447001457214355, -4.923500061035156, -4.075799942016602, -3.1161000728607178, -4.592599868774414, -4.094900131225586, -3.6257998943328857, -3.941699981689453, -4.075500011444092, -4.35830020904541, -4.354800224304199, -4.051499843597412, -4.276400089263916, -4.529900074005127, -4.770999908447266, -4.185299873352051, -4.3445000648498535, -4.531000137329102, -4.836299896240234, -4.974800109863281, -4.226799964904785, -5.220900058746338, -5.065800189971924, -4.382299900054932, -4.709499835968018, -5.457799911499023, -5.418099880218506, -4.533299922943115, -5.520299911499023, -5.567500114440918, -5.424200057983398, -5.631499767303467, -3.367000102996826, -5.7042999267578125, -5.730899810791016, -5.781799793243408, -5.842400074005127, -5.842400074005127, -4.914000034332275, -5.584000110626221, -3.7736001014709473, -5.986000061035156, -5.980899810791016, -5.479400157928467, -6.049900054931641, -5.247200012207031, -4.505000114440918, -3.46370005607605, -4.65339994430542, -3.5190999507904053, -4.347099781036377, -3.5422000885009766, -5.202199935913086, -5.202899932861328, -5.082300186157227, -4.855199813842773, -3.0137999057769775, -4.77810001373291, -4.330599784851074, -3.445499897003174, -4.0289998054504395, -4.978700160980225, -3.5434999465942383, -4.27810001373291, -4.673900127410889, -4.929200172424316, -5.063300132751465, -3.20770001411438, -3.4498000144958496, -3.8132998943328857, -3.6839001178741455, -4.088900089263916, -4.476600170135498, -4.54449987411499, -4.4984002113342285, -4.034200191497803, -4.103499889373779, -5.2642998695373535, -4.997300148010254, -5.286099910736084, -5.406899929046631, -5.506199836730957, -5.570799827575684, -5.578000068664551, -5.618299961090088, -5.666999816894531, -5.701099872589111, -5.3043999671936035, -5.588399887084961, -5.7932000160217285, -4.841700077056885, -5.139500141143799, -5.656700134277344, -5.926199913024902, -6.004899978637695, -5.889999866485596, -4.515699863433838, -4.979300022125244, -5.645699977874756, -3.421299934387207, -3.9491000175476074, -4.349699974060059, -4.025199890136719, -4.40500020980835, -5.1975998878479, -4.770199775695801, -4.78000020980835, -3.294100046157837, -5.368299961090088, -4.922299861907959, -3.678499937057495, -4.635700225830078, -4.566999912261963, -3.816499948501587, -4.649799823760986, -4.649700164794922, -4.621500015258789, -4.814000129699707, -4.9653000831604], \"loglift\": [30.0, 29.0, 28.0, 27.0, 26.0, 25.0, 24.0, 23.0, 22.0, 21.0, 20.0, 19.0, 18.0, 17.0, 16.0, 15.0, 14.0, 13.0, 12.0, 11.0, 10.0, 9.0, 8.0, 7.0, 6.0, 5.0, 4.0, 3.0, 2.0, 1.0, 1.6678999662399292, 1.6618000268936157, 1.6598000526428223, 1.65910005569458, 1.6563999652862549, 1.6538000106811523, 1.6531000137329102, 1.6505000591278076, 1.6502000093460083, 1.649999976158142, 1.6448999643325806, 1.6439000368118286, 1.6412999629974365, 1.6385999917984009, 1.6359000205993652, 1.6344000101089478, 1.6337000131607056, 1.631600022315979, 1.629699945449829, 1.6239999532699585, 1.6232000589370728, 1.6222000122070312, 1.6200000047683716, 1.6191999912261963, 1.6176999807357788, 1.6171000003814697, 1.6168999671936035, 1.6134999990463257, 1.6131999492645264, 1.607200026512146, 1.6043000221252441, 1.5961999893188477, 1.6028000116348267, 1.5463999509811401, 1.6002999544143677, 1.3193000555038452, 1.5430999994277954, 1.3657000064849854, 1.3787000179290771, 1.454699993133545, 1.4955999851226807, 1.0217000246047974, 0.8040000200271606, 0.9966999888420105, 1.1536999940872192, 0.9251999855041504, 0.29510000348091125, 0.8989999890327454, 0.31209999322891235, 1.0693999528884888, -0.16089999675750732, 0.8684999942779541, -0.8299999833106995, -0.41589999198913574, 1.7452000379562378, 1.739400029182434, 1.735700011253357, 1.7345000505447388, 1.7338999509811401, 1.7338999509811401, 1.7336000204086304, 1.7330000400543213, 1.7312999963760376, 1.729699969291687, 1.726699948310852, 1.7263000011444092, 1.725000023841858, 1.7222000360488892, 1.7218999862670898, 1.7217999696731567, 1.7211999893188477, 1.718000054359436, 1.7170000076293945, 1.7143000364303589, 1.7121000289916992, 1.7121000289916992, 1.7093000411987305, 1.708400011062622, 1.7070000171661377, 1.7060999870300293, 1.6999000310897827, 1.6979000568389893, 1.694599986076355, 1.694100022315979, 1.6934000253677368, 1.687999963760376, 1.6721999645233154, 1.6683000326156616, 1.5710999965667725, 1.690600037574768, 1.679800033569336, 1.4918999671936035, 1.631600022315979, 1.3544000387191772, 1.4921000003814697, 1.4895000457763672, 1.5465999841690063, 1.235200047492981, 1.5298000574111938, 1.2264000177383423, 0.9955000281333923, 1.593000054359436, 0.7461000084877014, 0.8068000078201294, 1.229699969291687, -0.12060000002384186, 0.3199999928474426, 0.4496000111103058, 0.8687000274658203, -1.4837000370025635, 1.7740000486373901, 1.7721999883651733, 1.7674000263214111, 1.7619999647140503, 1.7584999799728394, 1.757599949836731, 1.7559000253677368, 1.7556999921798706, 1.7475999593734741, 1.7460999488830566, 1.7448999881744385, 1.740399956703186, 1.7388999462127686, 1.738700032234192, 1.7376999855041504, 1.7359000444412231, 1.735200047492981, 1.732300043106079, 1.7288000583648682, 1.7242000102996826, 1.7237999439239502, 1.722499966621399, 1.72160005569458, 1.7211999893188477, 1.718500018119812, 1.7086000442504883, 1.7066999673843384, 1.705199956893921, 1.7034000158309937, 1.7028000354766846, 1.6921000480651855, 1.680400013923645, 1.6952999830245972, 1.6399999856948853, 1.6764999628067017, 1.6252000331878662, 1.6556999683380127, 1.6030000448226929, 1.6197999715805054, 1.6169999837875366, 1.552299976348877, 1.629699945449829, 1.5663000345230103, 1.0499000549316406, 1.4549000263214111, 0.8314999938011169, 1.0607999563217163, 1.5026999711990356, 0.5855000019073486, -0.38100001215934753, 0.8672999739646912, 0.8291000127792358, -0.1446000039577484, 0.9193000197410583, 0.4025999903678894, -0.4794999957084656, 0.8220000267028809, 0.4023999869823456, 0.21709999442100525, 1.8260999917984009, 1.8249000310897827, 1.82260000705719, 1.8207000494003296, 1.8184000253677368, 1.8138999938964844, 1.813099980354309, 1.812600016593933, 1.809399962425232, 1.8072999715805054, 1.8065999746322632, 1.806399941444397, 1.805999994277954, 1.804800033569336, 1.8029999732971191, 1.7990000247955322, 1.7984999418258667, 1.7963000535964966, 1.7905999422073364, 1.7899999618530273, 1.7896000146865845, 1.7893999814987183, 1.789199948310852, 1.785599946975708, 1.7853000164031982, 1.785099983215332, 1.78410005569458, 1.7806999683380127, 1.7796000242233276, 1.7705999612808228, 1.7663999795913696, 1.7627999782562256, 1.7273000478744507, 1.67330002784729, 1.5288000106811523, 1.6679999828338623, 1.4567999839782715, 1.2065999507904053, 1.532099962234497, 1.1892000436782837, 0.6800000071525574, 0.7677000164985657, 0.6858000159263611, 0.9571999907493591, 0.5300999879837036, -0.23880000412464142, 0.14319999516010284, -0.2678000032901764, 0.3206999897956848, 1.851199984550476, 1.8494000434875488, 1.8447999954223633, 1.84089994430542, 1.8402999639511108, 1.8391000032424927, 1.8350000381469727, 1.8308000564575195, 1.8293999433517456, 1.8285000324249268, 1.8280999660491943, 1.8272000551223755, 1.826799988746643, 1.8260999917984009, 1.8243000507354736, 1.8241000175476074, 1.822100043296814, 1.8199000358581543, 1.818600058555603, 1.8183000087738037, 1.812600016593933, 1.8112000226974487, 1.8112000226974487, 1.8101999759674072, 1.8097000122070312, 1.8091000318527222, 1.8061000108718872, 1.805799961090088, 1.8042999505996704, 1.8028000593185425, 1.79830002784729, 1.7656999826431274, 1.719599962234497, 1.7621999979019165, 1.645300030708313, 1.6898000240325928, 1.6158000230789185, 1.763100028038025, 1.7599999904632568, 1.7371000051498413, 1.6756999492645264, 1.2482999563217163, 1.631500005722046, 1.3420000076293945, 0.8772000074386597, 1.1023999452590942, 1.5580999851226807, -0.17069999873638153, -0.10769999772310257, 0.210999995470047, 0.5602999925613403, 1.1646000146865845, 1.8617000579833984, 1.8592000007629395, 1.8590999841690063, 1.8589999675750732, 1.8545000553131104, 1.8507000207901, 1.8496999740600586, 1.8463000059127808, 1.8459999561309814, 1.8437999486923218, 1.8378000259399414, 1.8365999460220337, 1.836400032043457, 1.833400011062622, 1.8300000429153442, 1.8279000520706177, 1.8273999691009521, 1.825700044631958, 1.8240000009536743, 1.8228000402450562, 1.8221999406814575, 1.8215999603271484, 1.8183000087738037, 1.8178000450134277, 1.8145999908447266, 1.8144999742507935, 1.811400055885315, 1.807800054550171, 1.806399941444397, 1.8020000457763672, 1.7812999486923218, 1.79830002784729, 1.7050000429153442, 1.6030000448226929, 1.6492999792099, 1.569200038909912, 1.6059999465942383, 1.71589994430542, 1.611799955368042, 1.5906000137329102, 1.0118000507354736, 1.736899971961975, 1.4663000106811523, 0.6126999855041504, 1.1776000261306763, 0.9225999712944031, -0.003800000064074993, 0.8877000212669373, 0.8496000170707703, 0.7023000121116638, 1.0678000450134277, -0.6425999999046326]}, \"token.table\": {\"Topic\": [2, 5, 2, 1, 2, 4, 5, 6, 3, 6, 2, 5, 1, 1, 3, 4, 6, 4, 6, 2, 2, 6, 2, 6, 1, 3, 4, 5, 2, 4, 1, 3, 4, 4, 1, 3, 4, 5, 6, 3, 2, 3, 1, 6, 2, 2, 3, 5, 1, 4, 5, 2, 3, 5, 6, 1, 2, 3, 4, 5, 6, 3, 1, 2, 3, 4, 5, 6, 1, 2, 3, 5, 1, 5, 1, 2, 4, 5, 6, 1, 4, 4, 5, 1, 2, 3, 4, 5, 6, 1, 2, 3, 4, 6, 1, 5, 4, 1, 2, 3, 4, 5, 6, 4, 2, 4, 5, 5, 1, 2, 4, 5, 2, 3, 4, 6, 1, 3, 6, 1, 2, 5, 1, 4, 5, 6, 3, 2, 5, 1, 3, 4, 5, 1, 2, 4, 6, 3, 4, 5, 3, 1, 3, 6, 1, 4, 1, 2, 4, 5, 1, 2, 3, 4, 5, 6, 2, 3, 4, 6, 2, 5, 4, 1, 3, 6, 2, 6, 1, 2, 3, 4, 5, 1, 4, 5, 1, 1, 2, 3, 4, 5, 6, 2, 4, 5, 6, 4, 3, 5, 1, 3, 1, 2, 6, 1, 2, 4, 1, 2, 3, 4, 5, 6, 1, 6, 1, 1, 2, 4, 5, 3, 1, 2, 3, 4, 5, 6, 4, 1, 1, 2, 3, 4, 5, 6, 2, 6, 1, 2, 3, 4, 5, 6, 3, 1, 1, 4, 1, 6, 2, 5, 1, 3, 4, 5, 6, 1, 4, 6, 1, 2, 3, 4, 5, 6, 4, 2, 2, 3, 6, 6, 1, 3, 5, 5, 1, 5, 2, 3, 4, 6, 6, 1, 2, 4, 5, 6, 3, 1, 5, 3, 6, 2, 4, 2, 6, 1, 3, 5, 3, 3, 1, 4, 6, 3, 4, 5, 6, 4, 5, 6, 5, 5, 2, 3, 2, 4, 1, 1, 2, 4, 5, 6, 4, 5, 6, 1, 3, 4, 5, 1, 2, 5, 2, 3, 5, 1, 3, 6, 2, 4, 2, 2, 5, 1, 1, 2, 3, 4, 5, 6, 1, 3, 4, 6, 2, 6, 2, 1, 4, 6, 5, 1, 2, 1, 3, 2, 4, 6, 6, 1, 3, 4, 6, 2, 1, 1, 2, 5, 2, 5, 2, 3, 5, 1, 2, 3, 2, 3, 4, 6, 5, 6, 5, 2, 3, 4, 1, 2, 4, 6, 4, 5, 6, 6, 3, 2, 4, 5, 2, 3, 1, 5, 6, 2, 2, 4, 1, 4, 1, 2, 5, 6, 1, 4, 2, 3, 6, 1, 2, 4, 5, 6, 6, 1, 2, 3, 4, 5, 6, 6, 3, 5, 1, 4, 2, 6, 1, 2, 3, 4, 5, 6, 2, 6, 4, 6, 4, 5, 3, 5, 3, 4, 2, 3, 3, 4, 1, 2, 3, 4, 3, 2, 1, 5, 1, 2, 4, 6, 1, 2, 4, 5, 6, 1, 2, 3, 4, 6, 4, 1, 2, 3, 5, 6, 1, 6, 1, 2, 3, 4, 5, 1, 2, 4, 1, 2, 3, 4, 5, 6, 1, 3, 5, 1, 4, 1, 5, 6, 3, 2, 1, 2, 3, 5, 1, 3, 2, 3, 1, 2, 3, 4, 6, 3, 1, 2, 3, 4, 5, 6, 1, 2, 3, 2, 4, 1, 2, 3, 4, 1, 2, 3, 5, 5, 5, 1, 6, 6, 1, 2, 4, 5, 1, 2, 5, 3, 5, 6, 4, 1, 3, 5, 3, 6, 6, 6, 2, 6, 1, 6, 1, 5, 6, 1, 2, 5, 1, 2, 1, 5, 2, 6, 2, 3, 5, 6, 1, 1, 2, 3, 4, 5, 6, 3, 1, 2, 3, 4, 4, 2, 3, 6, 1, 6, 1, 3, 4, 5, 6, 3, 6, 5, 3, 1, 1, 2, 6, 3, 5, 1, 5, 2, 3, 5, 1, 2, 4, 2, 3, 4, 6, 1], \"Freq\": [0.9870911240577698, 0.982985258102417, 0.9421558976173401, 0.06394083052873611, 0.021313611418008804, 0.12788166105747223, 0.021313611418008804, 0.7672899961471558, 0.8899903297424316, 0.08725395053625107, 0.9767448902130127, 0.9854252934455872, 0.9781935811042786, 0.9715871214866638, 0.9649409651756287, 0.009863602928817272, 0.9764966368675232, 0.03430279344320297, 0.9604781866073608, 0.9486915469169617, 0.925588071346283, 0.03856617212295532, 0.9858131408691406, 0.9703426957130432, 0.01495006587356329, 0.02990013174712658, 0.8970039486885071, 0.05980026349425316, 0.965707540512085, 0.9793843626976013, 0.9366284608840942, 0.055095791816711426, 0.011019159108400345, 0.9964537024497986, 0.16036082804203033, 0.14667148888111115, 0.12320404499769211, 0.5417066812515259, 0.0293342974036932, 0.9849086999893188, 0.945040225982666, 0.9619258642196655, 0.31157389283180237, 0.6723436713218689, 0.9926412105560303, 0.9348793029785156, 0.04155019298195839, 0.9292888641357422, 0.951863169670105, 0.02440674789249897, 0.9907995462417603, 0.04940548911690712, 0.8398933410644531, 0.09881097823381424, 0.00617568613961339, 0.07442998141050339, 0.7701885104179382, 0.07442998141050339, 0.00323608610779047, 0.02588868886232376, 0.05177737772464752, 0.9609778523445129, 0.47107985615730286, 0.09533758461475372, 0.005608093459159136, 0.4149989187717438, 0.005608093459159136, 0.005608093459159136, 0.0048211789689958096, 0.15909890830516815, 0.028927074745297432, 0.8051369190216064, 0.9771646857261658, 0.016019092872738838, 0.5422466397285461, 0.033890414983034134, 0.3840913772583008, 0.022593611851334572, 0.011296805925667286, 0.020953893661499023, 0.9638791084289551, 0.9878993034362793, 0.9409606456756592, 0.518708348274231, 0.00644358154386282, 0.14820237457752228, 0.31895729899406433, 0.00322179077193141, 0.00322179077193141, 0.7348488569259644, 0.10944557189941406, 0.015635082498192787, 0.07296371459960938, 0.06775202602148056, 0.9480852484703064, 0.9797980189323425, 0.9475340247154236, 0.08110762387514114, 0.15348058938980103, 0.48415014147758484, 0.12602877616882324, 0.001247809617780149, 0.15472839772701263, 0.9826861023902893, 0.01793304830789566, 0.9683846235275269, 0.01793304830789566, 0.9342514276504517, 0.4595682621002197, 0.23367877304553986, 0.2959931194782257, 0.007789292372763157, 0.02150249108672142, 0.02150249108672142, 0.02150249108672142, 0.9461095929145813, 0.9282309412956238, 0.03437892347574234, 0.01718946173787117, 0.9419751763343811, 0.030386295169591904, 0.030386295169591904, 0.30699044466018677, 0.026694821193814278, 0.27362191677093506, 0.38707491755485535, 0.9805503487586975, 0.01904268190264702, 0.97117680311203, 0.007326108869165182, 0.02197832614183426, 0.014652217738330364, 0.9523941278457642, 0.1254080832004547, 0.18811212480068207, 0.6897444725036621, 0.9727619886398315, 0.7568010687828064, 0.17464640736579895, 0.05821546912193298, 0.9860649704933167, 0.21705849468708038, 0.40610942244529724, 0.3781018853187561, 0.0299073476344347, 0.9271277785301208, 0.011962528340518475, 0.9570022821426392, 0.011962528340518475, 0.011962528340518475, 0.00603997427970171, 0.6704371571540833, 0.00603997427970171, 0.02818654663860798, 0.00201332475990057, 0.285892128944397, 0.02845732308924198, 0.939091682434082, 0.9665369987487793, 0.9877442121505737, 0.01187677588313818, 0.9738956093788147, 0.9646970629692078, 0.11404182016849518, 0.09775012731552124, 0.7820010185241699, 0.9853151440620422, 0.018246576189994812, 0.0060852039605379105, 0.5902647972106934, 0.11561887711286545, 0.23732295632362366, 0.05476683750748634, 0.029587283730506897, 0.004931213799864054, 0.9615867137908936, 0.9613405466079712, 0.005352991633117199, 0.8332824110984802, 0.01605897583067417, 0.003568661166355014, 0.13917778432369232, 0.003568661166355014, 0.9272746443748474, 0.011590933427214622, 0.023181866854429245, 0.03477279841899872, 0.9480064511299133, 0.9771283864974976, 0.9918532371520996, 0.9744586944580078, 0.9704694747924805, 0.01580069214105606, 0.9164401888847351, 0.04740207642316818, 0.9402559995651245, 0.03134186565876007, 0.03134186565876007, 0.01399454940110445, 0.3871825337409973, 0.009329699911177158, 0.01399454940110445, 0.46648499369621277, 0.10729154944419861, 0.028866691514849663, 0.9526008367538452, 0.9945406317710876, 0.975717306137085, 0.018691902980208397, 0.003738380502909422, 0.003738380502909422, 0.9988936185836792, 0.122586689889431, 0.028603561222553253, 0.10419868677854538, 0.31668227910995483, 0.0020431114826351404, 0.4249671995639801, 0.9907490015029907, 0.9699643850326538, 0.41894271969795227, 0.03891817480325699, 0.3044774830341339, 0.18543365597724915, 0.045786090195178986, 0.009157218039035797, 0.010547533631324768, 0.980920672416687, 0.040103066712617874, 0.4702996015548706, 0.02552013285458088, 0.2734299898147583, 0.19322386384010315, 0.003645733231678605, 0.94462651014328, 0.9786569476127625, 0.014159446582198143, 0.9770017862319946, 0.04711831733584404, 0.9423663020133972, 0.9821271896362305, 0.9514737129211426, 0.023953841999173164, 0.1772584319114685, 0.00958153698593378, 0.7808952331542969, 0.00479076849296689, 0.9778494834899902, 0.9602074027061462, 0.025268616154789925, 0.006233646534383297, 0.0020778821781277657, 0.0020778821781277657, 0.5340157151222229, 0.3740187883377075, 0.08103740215301514, 0.9636753797531128, 0.9603627324104309, 0.8613699674606323, 0.1396816074848175, 0.9696741104125977, 0.9608306288719177, 0.07938062399625778, 0.899647057056427, 0.9656506776809692, 0.9655270576477051, 0.9770008325576782, 0.028735317289829254, 0.09879183024168015, 0.029637549072504044, 0.4149256944656372, 0.45444241166114807, 0.9382680058479309, 0.7437962293624878, 0.06933693587779999, 0.01260671578347683, 0.01260671578347683, 0.15758395195007324, 0.9868562817573547, 0.04013925790786743, 0.9633421897888184, 0.935291051864624, 0.9423643946647644, 0.7705097794532776, 0.22442032396793365, 0.7922738194465637, 0.18006223440170288, 0.04786055162549019, 0.9093505144119263, 0.04786055162549019, 0.9637072086334229, 0.9466663002967834, 0.0059991637244820595, 0.9778637290000916, 0.017997492104768753, 0.9688583612442017, 0.012582575902342796, 0.012582575902342796, 0.012582575902342796, 0.03372670337557793, 0.17987576127052307, 0.7757142186164856, 0.9686195850372314, 0.9812095165252686, 0.2697964012622833, 0.7272772192955017, 0.030121920630335808, 0.9639014601707458, 0.9543663263320923, 0.07370606809854507, 0.004913737997412682, 0.04913737624883652, 0.869731605052948, 0.009827475994825363, 0.02293933928012848, 0.9405128955841064, 0.02293933928012848, 0.029192408546805382, 0.029192408546805382, 0.029192408546805382, 0.9049646258354187, 0.38999101519584656, 0.5902566909790039, 0.02108059637248516, 0.029124971479177475, 0.05824994295835495, 0.9028741121292114, 0.8808724880218506, 0.06291946768760681, 0.05807950720191002, 0.25405243039131165, 0.7403814196586609, 0.9708145260810852, 0.18420854210853577, 0.7870728969573975, 0.9794244170188904, 0.03958224132657051, 0.005654606036841869, 0.4862961173057556, 0.12440133094787598, 0.028273029252886772, 0.31100332736968994, 0.027719294652342796, 0.05543858930468559, 0.05543858930468559, 0.8592981100082397, 0.933640718460083, 0.9565837979316711, 0.9577434062957764, 0.04583202674984932, 0.015277341939508915, 0.9319178462028503, 0.9838857054710388, 0.927193820476532, 0.07211507111787796, 0.9262489676475525, 0.046312447637319565, 0.024125883355736732, 0.9650353193283081, 0.9564146399497986, 0.9479861855506897, 0.2089182585477829, 0.3908793330192566, 0.040435791015625, 0.363922119140625, 0.9857355356216431, 0.9816195368766785, 0.8056283593177795, 0.18489831686019897, 0.013207023032009602, 0.015938952565193176, 0.9722760915756226, 0.09509902447462082, 0.1521584391593933, 0.7417724132537842, 0.04506074637174606, 0.07885630428791046, 0.8730519413948059, 0.009194630198180676, 0.9654361605644226, 0.009194630198180676, 0.009194630198180676, 0.9296895265579224, 0.9936098456382751, 0.9296889901161194, 0.0360788032412529, 0.9560883045196533, 0.9770098924636841, 0.931296169757843, 0.027799885720014572, 0.013899942860007286, 0.013899942860007286, 0.9804113507270813, 0.18883106112480164, 0.8108627796173096, 0.9925903081893921, 0.950281023979187, 0.9434951543807983, 0.032534316182136536, 0.032534316182136536, 0.9865787625312805, 0.9599029421806335, 0.19327595829963684, 0.03221265971660614, 0.7569975256919861, 0.9234017133712769, 0.9767380952835083, 0.9795733690261841, 0.9890941381454468, 0.9918726682662964, 0.8867464661598206, 0.022737089544534683, 0.022737089544534683, 0.06821127235889435, 0.0039991699159145355, 0.9917941093444824, 0.9532517194747925, 0.015695491805672646, 0.9731205105781555, 0.020087365061044693, 0.12052418291568756, 0.8436692953109741, 0.020087365061044693, 0.020087365061044693, 0.9456294775009155, 0.18967266380786896, 0.2695348560810089, 0.2545606791973114, 0.009982772171497345, 0.15972435474395752, 0.11979326605796814, 0.989438533782959, 0.9595370888710022, 0.9310060143470764, 0.944332480430603, 0.9723373055458069, 0.9798158407211304, 0.9707314372062683, 0.506607174873352, 0.17036347091197968, 0.008966499008238316, 0.21967922151088715, 0.0224162470549345, 0.06724873930215836, 0.8195195198059082, 0.17008894681930542, 0.9339207410812378, 0.04447241872549057, 0.03163079917430878, 0.9489239454269409, 0.08745445311069489, 0.9036960601806641, 0.015249080024659634, 0.9759411215782166, 0.9784988760948181, 0.017473192885518074, 0.8594687581062317, 0.13751499354839325, 0.09074148535728455, 0.5943567156791687, 0.20870541036128998, 0.09981562942266464, 0.9295342564582825, 0.9734137058258057, 0.9937712550163269, 0.9218146800994873, 0.013924645259976387, 0.02320774272084236, 0.1113971620798111, 0.8494033813476562, 0.4432215690612793, 0.41662827134132385, 0.07977988570928574, 0.05318658798933029, 0.008864431641995907, 0.021736925467848778, 0.0054342313669621944, 0.2554088830947876, 0.5271204710006714, 0.19563233852386475, 0.9750756025314331, 0.8277691006660461, 0.03678973764181137, 0.018394868820905685, 0.09197434037923813, 0.03678973764181137, 0.10072770714759827, 0.8729735016822815, 0.25693702697753906, 0.36399412155151367, 0.01529387105256319, 0.34564149379730225, 0.018352646380662918, 0.9540349245071411, 0.03289775550365448, 0.00822443887591362, 0.7000157833099365, 0.039380911737680435, 0.11573165655136108, 0.009644304402172565, 0.1310018002986908, 0.004018460400402546, 0.03546649590134621, 0.9221289157867432, 0.03546649590134621, 0.031233521178364754, 0.9682391285896301, 0.04189526289701462, 0.5027431845664978, 0.44688281416893005, 0.9220514297485352, 0.9574154615402222, 0.011537090875208378, 0.011537090875208378, 0.13844509422779083, 0.8422076106071472, 0.9254810810089111, 0.0440705306828022, 0.19523778557777405, 0.799545168876648, 0.12595845758914948, 0.0377875380218029, 0.012595846317708492, 0.7431549429893494, 0.0755750760436058, 0.9540686011314392, 0.060647983103990555, 0.015161995775997639, 0.015161995775997639, 0.8490718007087708, 0.04548598825931549, 0.015161995775997639, 0.12217824906110764, 0.01110711321234703, 0.8552477359771729, 0.9774733185768127, 0.9459477066993713, 0.010301217436790466, 0.010301217436790466, 0.0309036523103714, 0.9580132365226746, 0.01890737935900688, 0.01890737935900688, 0.13235165178775787, 0.8319246768951416, 0.9876293540000916, 0.9422715306282043, 0.047579213976860046, 0.9277946352958679, 0.9520323872566223, 0.06411836296319962, 0.33662140369415283, 0.008014795370399952, 0.5930948853492737, 0.08230242878198624, 0.8847511410713196, 0.02057560719549656, 0.8576169013977051, 0.13541318476200104, 0.9683426022529602, 0.983943521976471, 0.5900385975837708, 0.3822785019874573, 0.016620805487036705, 0.9530887603759766, 0.9916638731956482, 0.9952751398086548, 0.9470769762992859, 0.9746520519256592, 0.9871998429298401, 0.9484193921089172, 0.9729347229003906, 0.15564051270484924, 0.0889374315738678, 0.7411452531814575, 0.013739917427301407, 0.013739917427301407, 0.9755341410636902, 0.936859130859375, 0.02676740474998951, 0.08424244076013565, 0.9098184108734131, 0.9753390550613403, 0.01573127508163452, 0.9410144686698914, 0.02188405767083168, 0.02188405767083168, 0.02188405767083168, 0.9331679940223694, 0.2522812783718109, 0.23940977454185486, 0.3887190818786621, 0.02574298530817032, 0.07980325818061829, 0.015445792116224766, 0.9714902639389038, 0.011277488432824612, 0.011277488432824612, 0.9585865139961243, 0.022554976865649223, 0.9358123540878296, 0.9681841731071472, 0.8690821528434753, 0.12415459007024765, 0.975726842880249, 0.015127547085285187, 0.009225715883076191, 0.42438292503356934, 0.04612857848405838, 0.018451431766152382, 0.49818864464759827, 0.9222680926322937, 0.9537064433097839, 0.9687230587005615, 0.9528937935829163, 0.992285430431366, 0.013221551664173603, 0.9651733040809631, 0.013221551664173603, 0.9943108558654785, 0.9848896265029907, 0.10091445595026016, 0.8830015063285828, 0.966960608959198, 0.9049859046936035, 0.06313855201005936, 0.03664252161979675, 0.7694929242134094, 0.18321260809898376, 0.017528027296066284, 0.8062893152236938, 0.15775224566459656, 0.017528027296066284, 0.9583050012588501], \"Term\": [\"access\", \"account\", \"actual\", \"add\", \"add\", \"add\", \"add\", \"add\", \"ansible\", \"ansible\", \"app\", \"apply\", \"apps\", \"args\", \"array\", \"available\", \"available\", \"back\", \"back\", \"background\", \"base\", \"base\", \"become\", \"bootstrap\", \"build\", \"build\", \"build\", \"build\", \"builds\", \"cert\", \"certificate\", \"certificate\", \"certificate\", \"certificates\", \"check\", \"check\", \"check\", \"check\", \"check\", \"checking\", \"checks\", \"chmod\", \"cis\", \"cis\", \"cli\", \"client\", \"client\", \"clone\", \"command\", \"command\", \"common\", \"complete\", \"complete\", \"complete\", \"complete\", \"config\", \"config\", \"config\", \"config\", \"config\", \"config\", \"configs\", \"configuration\", \"configuration\", \"configuration\", \"configuration\", \"configuration\", \"configuration\", \"configure\", \"configure\", \"configure\", \"configure\", \"configured\", \"configured\", \"container\", \"container\", \"container\", \"container\", \"container\", \"containers\", \"containers\", \"content\", \"convert\", \"copy\", \"copy\", \"copy\", \"copy\", \"copy\", \"copy\", \"copying\", \"copying\", \"copying\", \"copying\", \"copying\", \"cores\", \"correct\", \"cpu\", \"create\", \"create\", \"create\", \"create\", \"create\", \"create\", \"crontab\", \"current\", \"current\", \"current\", \"currently\", \"custom\", \"custom\", \"custom\", \"custom\", \"data\", \"data\", \"data\", \"data\", \"db\", \"db\", \"db\", \"debian\", \"debian\", \"debian\", \"default\", \"default\", \"default\", \"default\", \"defaults\", \"define\", \"define\", \"delete\", \"delete\", \"delete\", \"delete\", \"deploy\", \"deploy\", \"deploy\", \"deployed\", \"deployment\", \"deployment\", \"deployment\", \"detect\", \"developers\", \"developers\", \"developers\", \"device\", \"device\", \"directories\", \"directories\", \"directories\", \"directories\", \"directory\", \"directory\", \"directory\", \"directory\", \"directory\", \"directory\", \"disabled\", \"disabled\", \"disk\", \"distribution\", \"dns\", \"dns\", \"downloaded\", \"drop\", \"drop\", \"drop\", \"empty\", \"empty\", \"enable\", \"enable\", \"enable\", \"enable\", \"enable\", \"enabled\", \"enabled\", \"enabled\", \"endpoint\", \"ensure\", \"ensure\", \"ensure\", \"ensure\", \"ensure\", \"ensure\", \"ensuring\", \"ensuring\", \"ensuring\", \"ensuring\", \"entry\", \"env\", \"environment\", \"error\", \"execute\", \"exist\", \"exist\", \"exist\", \"existing\", \"existing\", \"existing\", \"exists\", \"exists\", \"exists\", \"exists\", \"exists\", \"exists\", \"extra\", \"extra\", \"extract\", \"fact\", \"fact\", \"fact\", \"fact\", \"facts\", \"fail\", \"fail\", \"fail\", \"fail\", \"fail\", \"fail\", \"failed\", \"family\", \"file\", \"file\", \"file\", \"file\", \"file\", \"file\", \"filename\", \"filename\", \"files\", \"files\", \"files\", \"files\", \"files\", \"files\", \"filter\", \"fix\", \"folder\", \"folder\", \"folders\", \"folders\", \"following\", \"found\", \"generate\", \"generate\", \"generate\", \"generate\", \"generate\", \"generated\", \"generating\", \"generating\", \"get\", \"get\", \"get\", \"get\", \"get\", \"get\", \"git\", \"github\", \"give\", \"give\", \"global\", \"go\", \"group\", \"group\", \"handlers\", \"hash\", \"heat\", \"heat\", \"hiera\", \"hiera\", \"hiera\", \"hiera\", \"home\", \"host\", \"host\", \"host\", \"host\", \"host\", \"hosts\", \"id\", \"id\", \"idempotency\", \"identify\", \"image\", \"image\", \"images\", \"images\", \"import\", \"import\", \"import\", \"importing\", \"initialize\", \"install\", \"install\", \"install\", \"installed\", \"installed\", \"installed\", \"installed\", \"installing\", \"installing\", \"installing\", \"integration\", \"internal\", \"inventory\", \"inventory\", \"ip\", \"ip\", \"ironic\", \"key\", \"key\", \"key\", \"key\", \"key\", \"keys\", \"keys\", \"keys\", \"keytab\", \"keytab\", \"keytab\", \"keytab\", \"kibana\", \"kibana\", \"kibana\", \"label\", \"label\", \"label\", \"lack\", \"lack\", \"lack\", \"legacy\", \"legacy\", \"libvirt\", \"limit\", \"limit\", \"linux\", \"list\", \"list\", \"list\", \"list\", \"list\", \"list\", \"location\", \"location\", \"location\", \"location\", \"logstash\", \"lookup\", \"loop\", \"make\", \"make\", \"make\", \"manager\", \"master\", \"master\", \"message\", \"message\", \"missing\", \"missing\", \"mode\", \"modify\", \"molecule\", \"molecule\", \"molecule\", \"molecule\", \"monitoring\", \"move\", \"name\", \"name\", \"name\", \"names\", \"names\", \"namespace\", \"namespace\", \"namespace\", \"node\", \"node\", \"node\", \"nodes\", \"nodes\", \"nodes\", \"nodes\", \"nofiles\", \"nova\", \"nproc\", \"number\", \"number\", \"oc\", \"old\", \"old\", \"old\", \"old\", \"openstack\", \"output\", \"output\", \"overcloud\", \"ovs\", \"owner\", \"owner\", \"owner\", \"pacemaker\", \"parameter\", \"password\", \"password\", \"password\", \"per\", \"permission\", \"place\", \"podman\", \"point\", \"policy\", \"policy\", \"policy\", \"policy\", \"populate\", \"populate\", \"prefix\", \"prepare\", \"prepare\", \"present\", \"present\", \"present\", \"present\", \"present\", \"previous\", \"project\", \"project\", \"project\", \"project\", \"project\", \"project\", \"provided\", \"provisioning\", \"public\", \"pv\", \"rabbitmq\", \"ready\", \"register\", \"remove\", \"remove\", \"remove\", \"remove\", \"remove\", \"remove\", \"removing\", \"removing\", \"repo\", \"repo\", \"report\", \"report\", \"repositories\", \"repositories\", \"repository\", \"repository\", \"requested\", \"requested\", \"resources\", \"resources\", \"restart\", \"restart\", \"restart\", \"restart\", \"resume\", \"rhel\", \"role\", \"roles\", \"run\", \"run\", \"run\", \"run\", \"running\", \"running\", \"running\", \"running\", \"running\", \"script\", \"script\", \"script\", \"script\", \"script\", \"security\", \"server\", \"server\", \"server\", \"server\", \"server\", \"servers\", \"servers\", \"service\", \"service\", \"service\", \"service\", \"service\", \"services\", \"services\", \"services\", \"set\", \"set\", \"set\", \"set\", \"set\", \"set\", \"setting\", \"setting\", \"setting\", \"settings\", \"settings\", \"setup\", \"setup\", \"setup\", \"signed\", \"skipped\", \"software\", \"software\", \"software\", \"software\", \"specified\", \"specified\", \"ssh\", \"ssh\", \"ssl\", \"ssl\", \"ssl\", \"ssl\", \"ssl\", \"stack\", \"start\", \"start\", \"start\", \"start\", \"start\", \"start\", \"started\", \"started\", \"started\", \"starting\", \"stats\", \"status\", \"status\", \"status\", \"status\", \"step\", \"step\", \"step\", \"step\", \"successful\", \"support\", \"sure\", \"sure\", \"sync\", \"systemd\", \"systemd\", \"systemd\", \"systemd\", \"take\", \"take\", \"take\", \"tasks\", \"tasks\", \"temp\", \"tempest\", \"template\", \"template\", \"template\", \"tenant\", \"test\", \"testing\", \"tests\", \"timeout\", \"tree\", \"try\", \"ubuntu\", \"undercloud\", \"undercloud\", \"undercloud\", \"unit\", \"unit\", \"unit\", \"updated\", \"updated\", \"upgrade\", \"upgrade\", \"url\", \"url\", \"usable\", \"usable\", \"usable\", \"usable\", \"used\", \"user\", \"user\", \"user\", \"user\", \"user\", \"user\", \"validation\", \"value\", \"value\", \"value\", \"value\", \"values\", \"var\", \"variable\", \"variable\", \"verify\", \"verify\", \"version\", \"version\", \"version\", \"version\", \"version\", \"virtual\", \"vm\", \"vms\", \"vols\", \"volumes\", \"wait\", \"wait\", \"wait\", \"warn\", \"windows\", \"without\", \"without\", \"working\", \"workload\", \"workload\", \"workspace\", \"workspace\", \"workspace\", \"write\", \"write\", \"write\", \"write\", \"zuul\"]}, \"R\": 30, \"lambda.step\": 0.01, \"plot.opts\": {\"xlab\": \"PC1\", \"ylab\": \"PC2\"}, \"topic.order\": [5, 1, 6, 3, 2, 4]};\n",
       "\n",
       "function LDAvis_load_lib(url, callback){\n",
       "  var s = document.createElement('script');\n",
       "  s.src = url;\n",
       "  s.async = true;\n",
       "  s.onreadystatechange = s.onload = callback;\n",
       "  s.onerror = function(){console.warn(\"failed to load library \" + url);};\n",
       "  document.getElementsByTagName(\"head\")[0].appendChild(s);\n",
       "}\n",
       "\n",
       "if(typeof(LDAvis) !== \"undefined\"){\n",
       "   // already loaded: just create the visualization\n",
       "   !function(LDAvis){\n",
       "       new LDAvis(\"#\" + \"ldavis_el15689504190629846798102852\", ldavis_el15689504190629846798102852_data);\n",
       "   }(LDAvis);\n",
       "}else if(typeof define === \"function\" && define.amd){\n",
       "   // require.js is available: use it to load d3/LDAvis\n",
       "   require.config({paths: {d3: \"https://cdnjs.cloudflare.com/ajax/libs/d3/3.5.5/d3.min\"}});\n",
       "   require([\"d3\"], function(d3){\n",
       "      window.d3 = d3;\n",
       "      LDAvis_load_lib(\"https://cdn.rawgit.com/bmabey/pyLDAvis/files/ldavis.v1.0.0.js\", function(){\n",
       "        new LDAvis(\"#\" + \"ldavis_el15689504190629846798102852\", ldavis_el15689504190629846798102852_data);\n",
       "      });\n",
       "    });\n",
       "}else{\n",
       "    // require.js not available: dynamically load d3 & LDAvis\n",
       "    LDAvis_load_lib(\"https://cdnjs.cloudflare.com/ajax/libs/d3/3.5.5/d3.min.js\", function(){\n",
       "         LDAvis_load_lib(\"https://cdn.rawgit.com/bmabey/pyLDAvis/files/ldavis.v1.0.0.js\", function(){\n",
       "                 new LDAvis(\"#\" + \"ldavis_el15689504190629846798102852\", ldavis_el15689504190629846798102852_data);\n",
       "            })\n",
       "         });\n",
       "}\n",
       "</script>"
      ],
      "text/plain": [
       "PreparedData(topic_coordinates=              x         y  topics  cluster       Freq\n",
       "topic                                                \n",
       "4      0.046268  0.088056       1        1  18.722729\n",
       "0      0.033220 -0.199538       2        1  17.319324\n",
       "5      0.060414  0.210569       3        1  16.922794\n",
       "2     -0.085315 -0.134150       4        1  15.996225\n",
       "1      0.213668 -0.025328       5        1  15.562259\n",
       "3     -0.268256  0.060391       6        1  15.476671, topic_info=            Term         Freq        Total Category  logprob  loglift\n",
       "20           set  1244.000000  1244.000000  Default  30.0000  30.0000\n",
       "11        ensure   560.000000   560.000000  Default  29.0000  29.0000\n",
       "793        facts   324.000000   324.000000  Default  28.0000  28.0000\n",
       "5      directory   496.000000   496.000000  Default  27.0000  27.0000\n",
       "979     populate   250.000000   250.000000  Default  26.0000  26.0000\n",
       "...          ...          ...          ...      ...      ...      ...\n",
       "2438  developers    53.702976   142.818649   Topic6  -4.6498   0.8877\n",
       "2437    molecule    53.708080   148.383392   Topic6  -4.6497   0.8496\n",
       "276         list    55.243439   176.846985   Topic6  -4.6215   0.7023\n",
       "2448       hiera    45.572704   101.222946   Topic6  -4.8140   1.0678\n",
       "286          get    39.171783   481.259247   Topic6  -4.9653  -0.6426\n",
       "\n",
       "[352 rows x 6 columns], token_table=      Topic      Freq     Term\n",
       "term                          \n",
       "582       2  0.987091   access\n",
       "527       5  0.982985  account\n",
       "160       2  0.942156   actual\n",
       "223       1  0.063941      add\n",
       "223       2  0.021314      add\n",
       "...     ...       ...      ...\n",
       "178       2  0.017528    write\n",
       "178       3  0.806289    write\n",
       "178       4  0.157752    write\n",
       "178       6  0.017528    write\n",
       "1913      1  0.958305     zuul\n",
       "\n",
       "[634 rows x 3 columns], R=30, lambda_step=0.01, plot_opts={'xlab': 'PC1', 'ylab': 'PC2'}, topic_order=[5, 1, 6, 3, 2, 4])"
      ]
     },
     "execution_count": 217,
     "metadata": {},
     "output_type": "execute_result"
    }
   ],
   "source": [
    "pyLDAvis.gensim.prepare(lda_model_1, corpus_1_tasks, dictionary)"
   ]
  },
  {
   "cell_type": "code",
   "execution_count": 63,
   "metadata": {},
   "outputs": [],
   "source": [
    "weight_topic = lda_model_1.top_topics(corpus=corpus_1_tasks, dictionary=dictionary, topn=30)"
   ]
  },
  {
   "cell_type": "markdown",
   "metadata": {},
   "source": [
    "<h4>Top unigrams before removing stop words</h4>"
   ]
  },
  {
   "cell_type": "code",
   "execution_count": 64,
   "metadata": {},
   "outputs": [
    {
     "name": "stdout",
     "output_type": "stream",
     "text": [
      "for 1221\n",
      "the 1121\n",
      "create 1010\n",
      "set 952\n",
      "to 930\n",
      "file 756\n",
      "user 617\n",
      "if 580\n",
      "check 568\n",
      "directory 505\n",
      "copy 496\n",
      "config 468\n",
      "project 404\n",
      "ensure 395\n",
      "get 392\n",
      "is 389\n",
      "service 385\n",
      "remove 383\n",
      "and 381\n",
      "files 361\n"
     ]
    }
   ],
   "source": [
    "def get_top_n_words(corpus, n=None):\n",
    "    vec = CountVectorizer().fit(corpus)\n",
    "    bag_of_words = vec.transform(corpus)\n",
    "    sum_words = bag_of_words.sum(axis=0) \n",
    "    words_freq = [(word, sum_words[0, idx]) for word, idx in vec.vocabulary_.items()]\n",
    "    words_freq =sorted(words_freq, key = lambda x: x[1], reverse=True)\n",
    "    return words_freq[:n]\n",
    "common_words = get_top_n_words(tasks['token_task_names_one_string'], 20)\n",
    "for word, freq in common_words:\n",
    "    print(word, freq)\n",
    "df1 = pd.DataFrame(common_words, columns = ['token_task_names_one_string' , 'count'])"
   ]
  },
  {
   "cell_type": "markdown",
   "metadata": {},
   "source": [
    "<h4>Top unigrams after removing stop words</h4>"
   ]
  },
  {
   "cell_type": "code",
   "execution_count": 65,
   "metadata": {},
   "outputs": [
    {
     "name": "stdout",
     "output_type": "stream",
     "text": [
      "create 1010\n",
      "set 952\n",
      "file 756\n",
      "user 617\n",
      "check 568\n",
      "directory 505\n",
      "copy 496\n",
      "config 468\n",
      "project 404\n",
      "ensure 395\n",
      "service 385\n",
      "remove 383\n",
      "files 361\n",
      "generate 338\n",
      "restart 313\n",
      "copying 304\n",
      "complete 289\n",
      "tasks 269\n",
      "exists 250\n",
      "run 249\n"
     ]
    }
   ],
   "source": [
    "def get_top_n_words(corpus, n=None):\n",
    "    vec = CountVectorizer(stop_words = 'english').fit(corpus)\n",
    "    bag_of_words = vec.transform(corpus)\n",
    "    sum_words = bag_of_words.sum(axis=0) \n",
    "    words_freq = [(word, sum_words[0, idx]) for word, idx in vec.vocabulary_.items()]\n",
    "    words_freq =sorted(words_freq, key = lambda x: x[1], reverse=True)\n",
    "    return words_freq[:n]\n",
    "common_words = get_top_n_words(tasks['token_task_names_one_string'], 20)\n",
    "for word, freq in common_words:\n",
    "    print(word, freq)\n",
    "df2 = pd.DataFrame(common_words, columns = ['token_task_names_one_string' , 'count'])"
   ]
  },
  {
   "cell_type": "markdown",
   "metadata": {},
   "source": [
    "<h4>Top bigrams before removing stop words</h4>"
   ]
  },
  {
   "cell_type": "code",
   "execution_count": 66,
   "metadata": {},
   "outputs": [
    {
     "name": "stdout",
     "output_type": "stream",
     "text": [
      "copying over 265\n",
      "tasks complete 246\n",
      "flight check 183\n",
      "check if 169\n",
      "remove user 164\n",
      "post_workload tasks 138\n",
      "fail if 133\n",
      "set fact 123\n",
      "fact for 120\n",
      "wait for 112\n",
      "ensure legacy 108\n",
      "legacy workspace 108\n",
      "workspace directory 108\n",
      "user quota 105\n",
      "create the 99\n",
      "make sure 96\n",
      "hosts file 94\n",
      "files for 92\n",
      "check for 92\n",
      "step 00xxxxx 89\n"
     ]
    }
   ],
   "source": [
    "def get_top_n_bigram(corpus, n=None):\n",
    "    vec = CountVectorizer(ngram_range=(2, 2)).fit(corpus)\n",
    "    bag_of_words = vec.transform(corpus)\n",
    "    sum_words = bag_of_words.sum(axis=0) \n",
    "    words_freq = [(word, sum_words[0, idx]) for word, idx in vec.vocabulary_.items()]\n",
    "    words_freq =sorted(words_freq, key = lambda x: x[1], reverse=True)\n",
    "    return words_freq[:n]\n",
    "common_words = get_top_n_bigram(tasks['token_task_names_one_string'], 20)\n",
    "for word, freq in common_words:\n",
    "    print(word, freq)\n",
    "df3 = pd.DataFrame(common_words, columns = ['token_task_names_one_string' , 'count'])"
   ]
  },
  {
   "cell_type": "markdown",
   "metadata": {},
   "source": [
    "<h4>Top bigrams after removing stop words</h4>"
   ]
  },
  {
   "cell_type": "code",
   "execution_count": 67,
   "metadata": {},
   "outputs": [
    {
     "name": "stdout",
     "output_type": "stream",
     "text": [
      "tasks complete 246\n",
      "flight check 183\n",
      "remove user 164\n",
      "post_workload tasks 138\n",
      "set fact 123\n",
      "ensure legacy 108\n",
      "legacy workspace 108\n",
      "workspace directory 108\n",
      "user quota 105\n",
      "hosts file 96\n",
      "make sure 96\n",
      "step 00xxxxx 89\n",
      "ansible hosts 88\n",
      "directory exists 86\n",
      "directories exist 82\n",
      "ensuring config 81\n",
      "create user 80\n",
      "generate ssh 77\n",
      "config directories 77\n",
      "policy file 76\n"
     ]
    }
   ],
   "source": [
    "def get_top_n_bigram(corpus, n=None):\n",
    "    vec = CountVectorizer(ngram_range=(2, 2), stop_words='english').fit(corpus)\n",
    "    bag_of_words = vec.transform(corpus)\n",
    "    sum_words = bag_of_words.sum(axis=0) \n",
    "    words_freq = [(word, sum_words[0, idx]) for word, idx in vec.vocabulary_.items()]\n",
    "    words_freq =sorted(words_freq, key = lambda x: x[1], reverse=True)\n",
    "    return words_freq[:n]\n",
    "common_words = get_top_n_bigram(tasks['token_task_names_one_string'], 20)\n",
    "for word, freq in common_words:\n",
    "    print(word, freq)\n",
    "df4 = pd.DataFrame(common_words, columns = ['token_task_names_one_string' , 'count'])"
   ]
  },
  {
   "cell_type": "markdown",
   "metadata": {},
   "source": [
    "<h4>Top trigrams before removing stop words</h4>"
   ]
  },
  {
   "cell_type": "code",
   "execution_count": 68,
   "metadata": {},
   "outputs": [
    {
     "name": "stdout",
     "output_type": "stream",
     "text": [
      "post_workload tasks complete 136\n",
      "set fact for 108\n",
      "ensure legacy workspace 108\n",
      "legacy workspace directory 108\n",
      "ansible hosts file 81\n",
      "config directories exist 76\n",
      "ensuring config directories 73\n",
      "config json files 73\n",
      "copying over config 70\n",
      "over config json 70\n",
      "presoftware flight check 69\n",
      "files for services 69\n",
      "json files for 67\n",
      "software flight check 64\n",
      "remove user quota 61\n",
      "user quota oc 61\n",
      "quota oc delete 61\n",
      "oc delete clusterresourcequota 61\n",
      "configure all hosts 60\n",
      "all hosts with 60\n"
     ]
    }
   ],
   "source": [
    "def get_top_n_trigram(corpus, n=None):\n",
    "    vec = CountVectorizer(ngram_range=(3, 3)).fit(corpus)\n",
    "    bag_of_words = vec.transform(corpus)\n",
    "    sum_words = bag_of_words.sum(axis=0) \n",
    "    words_freq = [(word, sum_words[0, idx]) for word, idx in vec.vocabulary_.items()]\n",
    "    words_freq =sorted(words_freq, key = lambda x: x[1], reverse=True)\n",
    "    return words_freq[:n]\n",
    "common_words = get_top_n_trigram(tasks['token_task_names_one_string'], 20)\n",
    "for word, freq in common_words:\n",
    "    print(word, freq)\n",
    "df5 = pd.DataFrame(common_words, columns = ['token_task_names_one_string' , 'count'])"
   ]
  },
  {
   "cell_type": "code",
   "execution_count": 69,
   "metadata": {},
   "outputs": [
    {
     "name": "stdout",
     "output_type": "stream",
     "text": [
      "post_workload tasks complete 136\n",
      "ensure legacy workspace 108\n",
      "legacy workspace directory 108\n",
      "ansible hosts file 81\n",
      "config directories exist 76\n",
      "ensuring config directories 73\n",
      "config json files 73\n",
      "copying config json 70\n",
      "presoftware flight check 69\n",
      "software flight check 64\n",
      "json files services 64\n",
      "remove user quota 61\n",
      "user quota oc 61\n",
      "quota oc delete 61\n",
      "oc delete clusterresourcequota 61\n",
      "configure hosts repositories 60\n",
      "hosts repositories common 60\n",
      "repositories common files 60\n",
      "common files set 60\n",
      "files set environment 60\n"
     ]
    }
   ],
   "source": [
    "def get_top_n_trigram(corpus, n=None):\n",
    "    vec = CountVectorizer(ngram_range=(3, 3), stop_words='english').fit(corpus)\n",
    "    bag_of_words = vec.transform(corpus)\n",
    "    sum_words = bag_of_words.sum(axis=0) \n",
    "    words_freq = [(word, sum_words[0, idx]) for word, idx in vec.vocabulary_.items()]\n",
    "    words_freq =sorted(words_freq, key = lambda x: x[1], reverse=True)\n",
    "    return words_freq[:n]\n",
    "common_words = get_top_n_trigram(tasks['token_task_names_one_string'], 20)\n",
    "for word, freq in common_words:\n",
    "    print(word, freq)\n",
    "df6 = pd.DataFrame(common_words, columns = ['token_task_names_one_string' , 'count'])"
   ]
  },
  {
   "cell_type": "markdown",
   "metadata": {},
   "source": [
    "<h4>Topic Modeling with LSA</h4>"
   ]
  },
  {
   "cell_type": "code",
   "execution_count": 79,
   "metadata": {},
   "outputs": [],
   "source": [
    "stop_words2 = stopwords.words('english')\n",
    "stop_words2.extend(['for','the','flight','copying'])"
   ]
  },
  {
   "cell_type": "code",
   "execution_count": 80,
   "metadata": {},
   "outputs": [],
   "source": [
    "reindexed_data = tasks_clean_no_stem\n",
    "tfidf_vectorizer = TfidfVectorizer(stop_words=stop_words2, use_idf=True, smooth_idf=True)\n",
    "# reindexed_data = reindexed_data.values\n",
    "document_term_matrix = tfidf_vectorizer.fit_transform(reindexed_data)"
   ]
  },
  {
   "cell_type": "code",
   "execution_count": 81,
   "metadata": {},
   "outputs": [],
   "source": [
    "n_topics = 6\n",
    "lsa_model = TruncatedSVD(n_components=n_topics)\n",
    "lsa_topic_matrix = lsa_model.fit_transform(document_term_matrix)"
   ]
  },
  {
   "cell_type": "code",
   "execution_count": 82,
   "metadata": {},
   "outputs": [],
   "source": [
    "def get_keys(topic_matrix):\n",
    "    '''\n",
    "    returns an integer list of predicted topic \n",
    "    categories for a given topic matrix\n",
    "    '''\n",
    "    keys = topic_matrix.argmax(axis=1).tolist()\n",
    "    return keys\n",
    "\n",
    "def keys_to_counts(keys):\n",
    "    '''\n",
    "    returns a tuple of topic categories and their \n",
    "    accompanying magnitudes for a given list of keys\n",
    "    '''\n",
    "    count_pairs = Counter(keys).items()\n",
    "    categories = [pair[0] for pair in count_pairs]\n",
    "    counts = [pair[1] for pair in count_pairs]\n",
    "    return (categories, counts)"
   ]
  },
  {
   "cell_type": "code",
   "execution_count": 83,
   "metadata": {},
   "outputs": [],
   "source": [
    "lsa_keys = get_keys(lsa_topic_matrix)\n",
    "lsa_categories, lsa_counts = keys_to_counts(lsa_keys)"
   ]
  },
  {
   "cell_type": "code",
   "execution_count": 84,
   "metadata": {},
   "outputs": [],
   "source": [
    "def get_top_n_words(n, keys, document_term_matrix, tfidf_vectorizer):\n",
    "    '''\n",
    "    returns a list of n_topic strings, where each string contains the n most common \n",
    "    words in a predicted category, in order\n",
    "    '''\n",
    "    top_word_indices = []\n",
    "    for topic in range(n_topics):\n",
    "        temp_vector_sum = 0\n",
    "        for i in range(len(keys)):\n",
    "            if keys[i] == topic:\n",
    "                temp_vector_sum += document_term_matrix[i]\n",
    "        temp_vector_sum = temp_vector_sum.toarray()\n",
    "        top_n_word_indices = np.flip(np.argsort(temp_vector_sum)[0][-n:],0)\n",
    "        top_word_indices.append(top_n_word_indices)   \n",
    "    top_words = []\n",
    "    for topic in top_word_indices:\n",
    "        topic_words = []\n",
    "        for index in topic:\n",
    "            temp_word_vector = np.zeros((1,document_term_matrix.shape[1]))\n",
    "            temp_word_vector[:,index] = 1\n",
    "            the_word = tfidf_vectorizer.inverse_transform(temp_word_vector)[0][0]\n",
    "            topic_words.append(the_word.encode('ascii').decode('utf-8'))\n",
    "        top_words.append(\" \".join(topic_words))         \n",
    "    return top_words"
   ]
  },
  {
   "cell_type": "code",
   "execution_count": 85,
   "metadata": {},
   "outputs": [
    {
     "name": "stdout",
     "output_type": "stream",
     "text": [
      "Topic 1:  complete tasks wait workload following\n",
      "Topic 2:  create project service add script\n",
      "Topic 3:  set restart fact run fail\n",
      "Topic 4:  ensure directory exists legacy workspace\n",
      "Topic 5:  copy file software generate config\n",
      "Topic 6:  user remove check get files\n"
     ]
    }
   ],
   "source": [
    "top_n_words_lsa = get_top_n_words(, lsa_keys, document_term_matrix, tfidf_vectorizer)\n",
    "\n",
    "for i in range(len(top_n_words_lsa)):\n",
    "    print(\"Topic {}: \".format(i+1), top_n_words_lsa[i])"
   ]
  },
  {
   "cell_type": "code",
   "execution_count": 86,
   "metadata": {},
   "outputs": [
    {
     "data": {
      "image/png": "[encoded data removed]",
      "text/plain": [
       "<Figure size 1152x576 with 1 Axes>"
      ]
     },
     "metadata": {
      "needs_background": "light"
     },
     "output_type": "display_data"
    }
   ],
   "source": [
    "top_3_words = get_top_n_words(3, lsa_keys, document_term_matrix, tfidf_vectorizer)\n",
    "labels = ['Topic {}: \\n'.format(i) + top_3_words[i] for i in lsa_categories]\n",
    "\n",
    "fig, ax = plt.subplots(figsize=(16,8))\n",
    "ax.grid(False)\n",
    "ax.bar(lsa_categories, lsa_counts);\n",
    "ax.set_xticks(lsa_categories);\n",
    "ax.set_xticklabels(labels);\n",
    "# ax.set_ylabel('Number of tasks');\n",
    "ax.set_title('LSA topic counts');\n",
    "# plt.bar(lsa_categories,lsa_counts)\n",
    "plt.xticks(fontsize=11,rotation=0)\n",
    "# plt.yticks(fontsize=14)\n",
    "# plt.xlabel('Top words per topic', fontsize=15,labelpad=15)\n",
    "plt.ylabel('Number of tasks',fontsize=12,rotation=0,labelpad=55)\n",
    "# plt.savefig('lsa_tasks.jpg',bbox_inches = 'tight')\n",
    "plt.show()"
   ]
  },
  {
   "cell_type": "code",
   "execution_count": 77,
   "metadata": {
    "scrolled": false
   },
   "outputs": [
    {
     "name": "stdout",
     "output_type": "stream",
     "text": [
      "[t-SNE] Computing 151 nearest neighbors...\n",
      "[t-SNE] Indexed 10396 samples in 0.010s...\n",
      "[t-SNE] Computed neighbors for 10396 samples in 0.764s...\n",
      "[t-SNE] Computed conditional probabilities for sample 1000 / 10396\n",
      "[t-SNE] Computed conditional probabilities for sample 2000 / 10396\n",
      "[t-SNE] Computed conditional probabilities for sample 3000 / 10396\n",
      "[t-SNE] Computed conditional probabilities for sample 4000 / 10396\n",
      "[t-SNE] Computed conditional probabilities for sample 5000 / 10396\n",
      "[t-SNE] Computed conditional probabilities for sample 6000 / 10396\n",
      "[t-SNE] Computed conditional probabilities for sample 7000 / 10396\n",
      "[t-SNE] Computed conditional probabilities for sample 8000 / 10396\n",
      "[t-SNE] Computed conditional probabilities for sample 9000 / 10396\n",
      "[t-SNE] Computed conditional probabilities for sample 10000 / 10396\n",
      "[t-SNE] Computed conditional probabilities for sample 10396 / 10396\n",
      "[t-SNE] Mean sigma: 0.000000\n",
      "[t-SNE] KL divergence after 250 iterations with early exaggeration: 63.655609\n",
      "[t-SNE] KL divergence after 2000 iterations: 0.452543\n"
     ]
    }
   ],
   "source": [
    "tsne_lsa_model = TSNE(n_components=2, perplexity=50, learning_rate=100, \n",
    "                        n_iter=2000, verbose=1, random_state=0, angle=0.75)\n",
    "tsne_lsa_vectors = tsne_lsa_model.fit_transform(lsa_topic_matrix)"
   ]
  },
  {
   "cell_type": "code",
   "execution_count": 79,
   "metadata": {},
   "outputs": [],
   "source": [
    "def get_mean_topic_vectors(keys, two_dim_vectors):\n",
    "    '''\n",
    "    returns a list of centroid vectors from each predicted topic category\n",
    "    '''\n",
    "    mean_topic_vectors = []\n",
    "    for t in range(n_topics):\n",
    "        reviews_in_that_topic = []\n",
    "        for i in range(len(keys)):\n",
    "            if keys[i] == t:\n",
    "                reviews_in_that_topic.append(two_dim_vectors[i])    \n",
    "        \n",
    "        reviews_in_that_topic = np.vstack(reviews_in_that_topic)\n",
    "        mean_review_in_that_topic = np.mean(reviews_in_that_topic, axis=0)\n",
    "        mean_topic_vectors.append(mean_review_in_that_topic)\n",
    "    return mean_topic_vectors"
   ]
  },
  {
   "cell_type": "code",
   "execution_count": 80,
   "metadata": {},
   "outputs": [],
   "source": [
    "colormap = np.array([\n",
    "    \"#1f77b4\", \"#aec7e8\", \"#ff7f0e\", \"#ffbb78\", \"#2ca02c\",\n",
    "    \"#98df8a\", \"#d62728\", \"#ff9896\", \"#9467bd\", \"#c5b0d5\",\n",
    "    \"#8c564b\", \"#c49c94\", \"#e377c2\", \"#f7b6d2\", \"#7f7f7f\",\n",
    "    \"#c7c7c7\", \"#bcbd22\", \"#dbdb8d\", \"#17becf\", \"#9edae5\" ])\n",
    "colormap = colormap[:n_topics]"
   ]
  },
  {
   "cell_type": "code",
   "execution_count": 82,
   "metadata": {},
   "outputs": [
    {
     "name": "stderr",
     "output_type": "stream",
     "text": [
      "BokehUserWarning: ColumnDataSource's columns must be of the same length. Current lengths: ('color', 6), ('label', 6), ('x', 10396), ('y', 10396)\n"
     ]
    }
   ],
   "source": [
    "top_3_words_lsa = get_top_n_words(3, lsa_keys, document_term_matrix, tfidf_vectorizer)\n",
    "lsa_mean_topic_vectors = get_mean_topic_vectors(lsa_keys, tsne_lsa_vectors)\n",
    "\n",
    "source = ColumnDataSource(dict(\n",
    "    x=tsne_lsa_vectors[:,0],\n",
    "    y=tsne_lsa_vectors[:,1],\n",
    "    color=colormap,\n",
    "    label=top_3_words_lsa,\n",
    "))\n",
    "\n",
    "plot = figure(title=\"t-SNE Clustering of {} LSA Topics\".format(n_topics), plot_width=700, plot_height=700)\n",
    "plot.scatter(x='x', y='y', color='color',legend_field='label', source = source)\n",
    "    \n",
    "show(plot)"
   ]
  },
  {
   "cell_type": "code",
   "execution_count": null,
   "metadata": {},
   "outputs": [],
   "source": []
  }
 ],
 "metadata": {
  "kernelspec": {
   "display_name": "Python 3",
   "language": "python",
   "name": "python3"
  },
  "language_info": {
   "codemirror_mode": {
    "name": "ipython",
    "version": 3
   },
   "file_extension": ".py",
   "mimetype": "text/x-python",
   "name": "python",
   "nbconvert_exporter": "python",
   "pygments_lexer": "ipython3",
   "version": "3.7.4"
  }
 },
 "nbformat": 4,
 "nbformat_minor": 4
}
