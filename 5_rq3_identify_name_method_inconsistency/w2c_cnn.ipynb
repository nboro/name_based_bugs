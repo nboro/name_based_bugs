{
  "nbformat": 4,
  "nbformat_minor": 0,
  "metadata": {
    "colab": {
      "name": "w2c_cnn.ipynb",
      "provenance": [],
      "collapsed_sections": []
    },
    "kernelspec": {
      "name": "python3",
      "display_name": "Python 3"
    }
  },
  "cells": [
    {
      "cell_type": "code",
      "metadata": {
        "id": "NJE-YBQj_9gm",
        "colab_type": "code",
        "colab": {}
      },
      "source": [
        "from google.colab import drive\n",
        "import gensim\n",
        "import keras\n",
        "from keras import metrics"
      ],
      "execution_count": 210,
      "outputs": []
    },
    {
      "cell_type": "code",
      "metadata": {
        "id": "I8QKgauQ_-hm",
        "colab_type": "code",
        "colab": {
          "base_uri": "https://localhost:8080/",
          "height": 34
        },
        "outputId": "6872e7e3-f2bc-4893-ed7c-0f1e2bf174cc"
      },
      "source": [
        "drive.mount('/content/drive')"
      ],
      "execution_count": 211,
      "outputs": [
        {
          "output_type": "stream",
          "text": [
            "Drive already mounted at /content/drive; to attempt to forcibly remount, call drive.mount(\"/content/drive\", force_remount=True).\n"
          ],
          "name": "stdout"
        }
      ]
    },
    {
      "cell_type": "code",
      "metadata": {
        "id": "kcP0hj6SADHg",
        "colab_type": "code",
        "colab": {
          "base_uri": "https://localhost:8080/",
          "height": 34
        },
        "outputId": "09eaf88e-e74c-4d92-e670-d790417be75a"
      },
      "source": [
        "%cd \"/content/drive/My Drive/1_processing/w2v_cnn\""
      ],
      "execution_count": 212,
      "outputs": [
        {
          "output_type": "stream",
          "text": [
            "/content/drive/My Drive/1_processing/w2v_cnn\n"
          ],
          "name": "stdout"
        }
      ]
    },
    {
      "cell_type": "code",
      "metadata": {
        "id": "EDd_DUT9ATPR",
        "colab_type": "code",
        "colab": {}
      },
      "source": [
        "import pandas as pd\n",
        "import numpy as np\n",
        "import pickle"
      ],
      "execution_count": 213,
      "outputs": []
    },
    {
      "cell_type": "code",
      "metadata": {
        "id": "J8chOgcVAXP_",
        "colab_type": "code",
        "colab": {}
      },
      "source": [
        "import spacy \n",
        "from gensim.models import Word2Vec\n",
        "from gensim.models import KeyedVectors\n",
        "from keras.preprocessing.text import Tokenizer\n",
        "from keras.preprocessing.sequence import pad_sequences\n",
        "from keras.utils import to_categorical\n",
        "import tensorflow as tf\n",
        "tf.compat.v1.disable_eager_execution()"
      ],
      "execution_count": 214,
      "outputs": []
    },
    {
      "cell_type": "code",
      "metadata": {
        "id": "coS5FA83Io8J",
        "colab_type": "code",
        "colab": {}
      },
      "source": [
        "from tensorflow.python.keras.metrics import Metric"
      ],
      "execution_count": 215,
      "outputs": []
    },
    {
      "cell_type": "code",
      "metadata": {
        "id": "nP9syyD5s33a",
        "colab_type": "code",
        "colab": {}
      },
      "source": [
        "from tensorflow.python.keras import layers\n",
        "from tensorflow.python.keras.models import Sequential\n",
        "from tensorflow.python.keras.models import Model\n",
        "from tensorflow.python.keras.layers import Input, Dense, Embedding, Conv2D, MaxPool2D, Conv1D, MaxPooling1D, GlobalMaxPooling1D,MaxPooling2D, GlobalMaxPooling2D\n",
        "from tensorflow.python.keras.layers import Reshape, Flatten, Dropout, Concatenate,BatchNormalization\n",
        "from keras.layers.core import Reshape\n",
        "from tensorflow.python.keras.optimizers import RMSprop\n",
        "from tensorflow.python.keras.callbacks import ModelCheckpoint\n",
        "from tensorflow.python.keras.optimizers import Adam,SGD,Adadelta, Adagrad\n",
        "from tensorflow.python.keras.preprocessing.text import Tokenizer\n",
        "from tensorflow.python.keras.preprocessing.sequence import pad_sequences\n",
        "from tensorflow.python.keras import regularizers\n",
        "# from tensorflow.keras.callbacks import EarlyStopping\n",
        "# tf.compat.v1.disable_eager_execution()"
      ],
      "execution_count": 216,
      "outputs": []
    },
    {
      "cell_type": "code",
      "metadata": {
        "id": "ywnRdciRpzmd",
        "colab_type": "code",
        "colab": {
          "base_uri": "https://localhost:8080/",
          "height": 136
        },
        "outputId": "cf7f2f7c-caa3-43de-afab-7aebc91f960e"
      },
      "source": [
        "with open('mutated.pkl', 'rb') as input_file:\n",
        "    mutated = pickle.load(input_file)   \n",
        "print(mutated.columns)\n",
        "mutated.shape"
      ],
      "execution_count": 1138,
      "outputs": [
        {
          "output_type": "stream",
          "text": [
            "Index(['repo_count', 'task_name', 'method_description', 'mod_keys_found',\n",
            "       'mod_values_found', 'key_module_text', 'value_module_text',\n",
            "       'mod_keys_found_string', 'found_used_parameters', 'has_params',\n",
            "       'third_ast', 'third_tokens', 'token_task_names', 'descr_one_string',\n",
            "       'consistent', 'task_com', 'task_complete'],\n",
            "      dtype='object')\n"
          ],
          "name": "stdout"
        },
        {
          "output_type": "execute_result",
          "data": {
            "text/plain": [
              "(20792, 17)"
            ]
          },
          "metadata": {
            "tags": []
          },
          "execution_count": 1138
        }
      ]
    },
    {
      "cell_type": "code",
      "metadata": {
        "id": "wXJoNEzrdYJu",
        "colab_type": "code",
        "colab": {
          "base_uri": "https://localhost:8080/",
          "height": 187
        },
        "outputId": "779a6da2-57fb-4e2b-bddc-aa2f20eb1474"
      },
      "source": [
        "with open('top10_list.pkl', 'rb') as input_file:\n",
        "    top10_list = pickle.load(input_file)   \n",
        "top10_list"
      ],
      "execution_count": 1139,
      "outputs": [
        {
          "output_type": "execute_result",
          "data": {
            "text/plain": [
              "['shell',\n",
              " 'command',\n",
              " 'set_fact',\n",
              " 'template',\n",
              " 'file',\n",
              " 'gather_facts',\n",
              " 'copy',\n",
              " 'service',\n",
              " 'debug',\n",
              " 'fail']"
            ]
          },
          "metadata": {
            "tags": []
          },
          "execution_count": 1139
        }
      ]
    },
    {
      "cell_type": "code",
      "metadata": {
        "id": "5OI52wjKGC_0",
        "colab_type": "code",
        "colab": {
          "base_uri": "https://localhost:8080/",
          "height": 34
        },
        "outputId": "72d6e9dc-aa0b-438b-a294-4232f1c01926"
      },
      "source": [
        "mutated = mutated[mutated['mod_keys_found_string'] == 'template']\n",
        "mutated.shape"
      ],
      "execution_count": 1140,
      "outputs": [
        {
          "output_type": "execute_result",
          "data": {
            "text/plain": [
              "(2396, 17)"
            ]
          },
          "metadata": {
            "tags": []
          },
          "execution_count": 1140
        }
      ]
    },
    {
      "cell_type": "code",
      "metadata": {
        "id": "YSdIADOcp9ix",
        "colab_type": "code",
        "colab": {}
      },
      "source": [
        "train_set, val_set, test_set = np.split(mutated.sample(frac=1), [int(.6*len(mutated)), int(.8*len(mutated))])"
      ],
      "execution_count": 1141,
      "outputs": []
    },
    {
      "cell_type": "code",
      "metadata": {
        "id": "NU0YkDycp9nR",
        "colab_type": "code",
        "colab": {
          "base_uri": "https://localhost:8080/",
          "height": 68
        },
        "outputId": "17f7e98f-5cad-4019-cf26-6783e08183da"
      },
      "source": [
        "print(train_set.shape)\n",
        "print(val_set.shape)\n",
        "test_set.shape"
      ],
      "execution_count": 1142,
      "outputs": [
        {
          "output_type": "stream",
          "text": [
            "(1437, 17)\n",
            "(479, 17)\n"
          ],
          "name": "stdout"
        },
        {
          "output_type": "execute_result",
          "data": {
            "text/plain": [
              "(480, 17)"
            ]
          },
          "metadata": {
            "tags": []
          },
          "execution_count": 1142
        }
      ]
    },
    {
      "cell_type": "code",
      "metadata": {
        "id": "CcQEwAb_qkcF",
        "colab_type": "code",
        "colab": {}
      },
      "source": [
        "# train_set = train_set.reset_index(drop=True)\n",
        "# test_set = train_set.reset_index(drop=True)\n",
        "# val_set = train_set.reset_index(drop=True)"
      ],
      "execution_count": 1143,
      "outputs": []
    },
    {
      "cell_type": "markdown",
      "metadata": {
        "id": "MEL5VXpJr8tK",
        "colab_type": "text"
      },
      "source": [
        "<h4>Word2vec</h4>\n",
        "\n",
        "\n"
      ]
    },
    {
      "cell_type": "code",
      "metadata": {
        "id": "vqUSS799sJWn",
        "colab_type": "code",
        "colab": {}
      },
      "source": [
        "tasks_sent_train = [row for row in train_set['task_complete']]"
      ],
      "execution_count": 1144,
      "outputs": []
    },
    {
      "cell_type": "code",
      "metadata": {
        "id": "MeEENPAwsJgt",
        "colab_type": "code",
        "colab": {}
      },
      "source": [
        "model_tasks3 = Word2Vec(tasks_sent_train, sg = 0, size=100, window=6, min_count=1, workers=4, iter= 1000)"
      ],
      "execution_count": 1145,
      "outputs": []
    },
    {
      "cell_type": "markdown",
      "metadata": {
        "id": "lMtckm_8t7rO",
        "colab_type": "text"
      },
      "source": [
        "<h4>CNN</h4>"
      ]
    },
    {
      "cell_type": "code",
      "metadata": {
        "id": "Lvgr1KOyzeUY",
        "colab_type": "code",
        "colab": {}
      },
      "source": [
        "def list_to_string(lst):\n",
        "\n",
        "  one_string = ' '.join(lst)\n",
        "\n",
        "  return one_string"
      ],
      "execution_count": 1146,
      "outputs": []
    },
    {
      "cell_type": "code",
      "metadata": {
        "id": "wdtnsLzxxvxG",
        "colab_type": "code",
        "colab": {}
      },
      "source": [
        "train_set['task_complete_one_string'] = train_set['task_complete'].apply(lambda x: list_to_string(x))\n",
        "test_set['task_complete_one_string'] = test_set['task_complete'].apply(lambda x: list_to_string(x))\n",
        "val_set['task_complete_one_string'] = val_set['task_complete'].apply(lambda x: list_to_string(x))"
      ],
      "execution_count": 1147,
      "outputs": []
    },
    {
      "cell_type": "code",
      "metadata": {
        "id": "m63-rYAr0G6Q",
        "colab_type": "code",
        "colab": {}
      },
      "source": [
        "# train_set['task_complete_one_string'][11548]"
      ],
      "execution_count": 1148,
      "outputs": []
    },
    {
      "cell_type": "code",
      "metadata": {
        "id": "N604FxtW5s09",
        "colab_type": "code",
        "colab": {
          "base_uri": "https://localhost:8080/",
          "height": 170
        },
        "outputId": "349104e3-b373-499e-a237-f231d2f70c7a"
      },
      "source": [
        "y_train = train_set['consistent'].astype(int)\n",
        "print(y_train.value_counts(),y_train.shape)\n",
        "\n",
        "y_test = test_set['consistent'].astype(int)\n",
        "print(y_test.value_counts(),y_test.shape)\n",
        "\n",
        "y_val = val_set['consistent'].astype(int)\n",
        "print(y_val.value_counts(),y_val.shape)"
      ],
      "execution_count": 1149,
      "outputs": [
        {
          "output_type": "stream",
          "text": [
            "1    727\n",
            "0    710\n",
            "Name: consistent, dtype: int64 (1437,)\n",
            "0    249\n",
            "1    231\n",
            "Name: consistent, dtype: int64 (480,)\n",
            "1    240\n",
            "0    239\n",
            "Name: consistent, dtype: int64 (479,)\n"
          ],
          "name": "stdout"
        }
      ]
    },
    {
      "cell_type": "code",
      "metadata": {
        "id": "yh6WwQSUKUkL",
        "colab_type": "code",
        "colab": {
          "base_uri": "https://localhost:8080/",
          "height": 34
        },
        "outputId": "25b69d2c-4529-4bf7-8c81-c00bbea01a8c"
      },
      "source": [
        "test_set.shape"
      ],
      "execution_count": 1150,
      "outputs": [
        {
          "output_type": "execute_result",
          "data": {
            "text/plain": [
              "(480, 18)"
            ]
          },
          "metadata": {
            "tags": []
          },
          "execution_count": 1150
        }
      ]
    },
    {
      "cell_type": "code",
      "metadata": {
        "id": "6TtYJ-8uMkPH",
        "colab_type": "code",
        "colab": {
          "base_uri": "https://localhost:8080/",
          "height": 34
        },
        "outputId": "ffe3d55e-8868-41fe-fa84-1ef98dfa0a8b"
      },
      "source": [
        "word_vectors = model_tasks3.wv\n",
        "type(word_vectors)"
      ],
      "execution_count": 1152,
      "outputs": [
        {
          "output_type": "execute_result",
          "data": {
            "text/plain": [
              "gensim.models.keyedvectors.Word2VecKeyedVectors"
            ]
          },
          "metadata": {
            "tags": []
          },
          "execution_count": 1152
        }
      ]
    },
    {
      "cell_type": "code",
      "metadata": {
        "id": "IOW-qkwGRVo6",
        "colab_type": "code",
        "colab": {
          "base_uri": "https://localhost:8080/",
          "height": 34
        },
        "outputId": "04efe73a-b4b5-4dad-f760-bb6fb72ccb54"
      },
      "source": [
        "len(word_vectors.vocab)"
      ],
      "execution_count": 1153,
      "outputs": [
        {
          "output_type": "execute_result",
          "data": {
            "text/plain": [
              "5018"
            ]
          },
          "metadata": {
            "tags": []
          },
          "execution_count": 1153
        }
      ]
    },
    {
      "cell_type": "code",
      "metadata": {
        "id": "ppiBlWzC0CRu",
        "colab_type": "code",
        "colab": {
          "base_uri": "https://localhost:8080/",
          "height": 68
        },
        "outputId": "c75f8901-7e95-48eb-8421-afcec12c6bf3"
      },
      "source": [
        "tokenizer_train = Tokenizer(lower=False) \n",
        "tokenizer_train.fit_on_texts(train_set['task_complete'])\n",
        "print(tokenizer_train)\n",
        "\n",
        "tokenizer_test = Tokenizer(lower=False) \n",
        "tokenizer_test.fit_on_texts(test_set['task_complete'])\n",
        "print(tokenizer_test)\n",
        "\n",
        "tokenizer_val = Tokenizer(lower=False) \n",
        "tokenizer_val.fit_on_texts(val_set['task_complete'])\n",
        "tokenizer_val"
      ],
      "execution_count": 1154,
      "outputs": [
        {
          "output_type": "stream",
          "text": [
            "<keras_preprocessing.text.Tokenizer object at 0x7fceb9f7a470>\n",
            "<keras_preprocessing.text.Tokenizer object at 0x7fceaaa75fd0>\n"
          ],
          "name": "stdout"
        },
        {
          "output_type": "execute_result",
          "data": {
            "text/plain": [
              "<keras_preprocessing.text.Tokenizer at 0x7fceab48a748>"
            ]
          },
          "metadata": {
            "tags": []
          },
          "execution_count": 1154
        }
      ]
    },
    {
      "cell_type": "code",
      "metadata": {
        "id": "lxRmJbsY0hsA",
        "colab_type": "code",
        "colab": {
          "base_uri": "https://localhost:8080/",
          "height": 187
        },
        "outputId": "d28c9226-bac8-4491-9a2e-4f20279f84a2"
      },
      "source": [
        "list(tokenizer_train.word_index)[0:10]"
      ],
      "execution_count": 1155,
      "outputs": [
        {
          "output_type": "execute_result",
          "data": {
            "text/plain": [
              "['AnsibleTask',\n",
              " 'TaskName',\n",
              " 'TaskDescription',\n",
              " 'template',\n",
              " 'dest',\n",
              " 'src',\n",
              " 'file',\n",
              " 'when',\n",
              " 'True',\n",
              " 'notify']"
            ]
          },
          "metadata": {
            "tags": []
          },
          "execution_count": 1155
        }
      ]
    },
    {
      "cell_type": "code",
      "metadata": {
        "id": "yACwc0TP0hut",
        "colab_type": "code",
        "colab": {
          "base_uri": "https://localhost:8080/",
          "height": 34
        },
        "outputId": "a2d9a674-12b4-4f14-da9f-cfbb79130f37"
      },
      "source": [
        "print(\"len(tokenizer) :\",len(list(tokenizer_train.word_index)))"
      ],
      "execution_count": 1156,
      "outputs": [
        {
          "output_type": "stream",
          "text": [
            "len(tokenizer) : 5018\n"
          ],
          "name": "stdout"
        }
      ]
    },
    {
      "cell_type": "code",
      "metadata": {
        "id": "mijaHfH208z4",
        "colab_type": "code",
        "colab": {}
      },
      "source": [
        "tasks_train_tokens = tokenizer_train.texts_to_sequences(train_set['task_complete_one_string'])\n",
        "tasks_test_tokens = tokenizer_test.texts_to_sequences(test_set['task_complete_one_string'])\n",
        "tasks_val_tokens = tokenizer_val.texts_to_sequences(val_set['task_complete_one_string'])"
      ],
      "execution_count": 1157,
      "outputs": []
    },
    {
      "cell_type": "code",
      "metadata": {
        "id": "NK0MQqs-1I_w",
        "colab_type": "code",
        "colab": {}
      },
      "source": [
        "# print(tasks_train_tokens[800])"
      ],
      "execution_count": 1158,
      "outputs": []
    },
    {
      "cell_type": "code",
      "metadata": {
        "id": "cK35303c1JC0",
        "colab_type": "code",
        "colab": {}
      },
      "source": [
        "num_tokens = [len(tokens) for tokens in tasks_train_tokens]\n",
        "num_tokens = np.array(num_tokens)"
      ],
      "execution_count": 1159,
      "outputs": []
    },
    {
      "cell_type": "code",
      "metadata": {
        "id": "hxd--XHz1JLo",
        "colab_type": "code",
        "colab": {
          "base_uri": "https://localhost:8080/",
          "height": 34
        },
        "outputId": "fcc48ae6-d8d5-43fb-89e8-c973a0ad8612"
      },
      "source": [
        "len(num_tokens)"
      ],
      "execution_count": 1160,
      "outputs": [
        {
          "output_type": "execute_result",
          "data": {
            "text/plain": [
              "1437"
            ]
          },
          "metadata": {
            "tags": []
          },
          "execution_count": 1160
        }
      ]
    },
    {
      "cell_type": "code",
      "metadata": {
        "id": "JeZ1pI3E1deh",
        "colab_type": "code",
        "colab": {
          "base_uri": "https://localhost:8080/",
          "height": 34
        },
        "outputId": "27088c42-47a5-4dd7-b7d2-7cf728f1365d"
      },
      "source": [
        "np.max(num_tokens)"
      ],
      "execution_count": 1161,
      "outputs": [
        {
          "output_type": "execute_result",
          "data": {
            "text/plain": [
              "139"
            ]
          },
          "metadata": {
            "tags": []
          },
          "execution_count": 1161
        }
      ]
    },
    {
      "cell_type": "code",
      "metadata": {
        "id": "bODkCxiS1dg0",
        "colab_type": "code",
        "colab": {
          "base_uri": "https://localhost:8080/",
          "height": 34
        },
        "outputId": "8ed5078a-4a5e-47f3-d209-b1942d5f0bf8"
      },
      "source": [
        "np.argmax(num_tokens)"
      ],
      "execution_count": 1162,
      "outputs": [
        {
          "output_type": "execute_result",
          "data": {
            "text/plain": [
              "1210"
            ]
          },
          "metadata": {
            "tags": []
          },
          "execution_count": 1162
        }
      ]
    },
    {
      "cell_type": "code",
      "metadata": {
        "id": "osn2Cu771dps",
        "colab_type": "code",
        "colab": {
          "base_uri": "https://localhost:8080/",
          "height": 34
        },
        "outputId": "315785e0-d524-4c83-cad3-080ab20e5292"
      },
      "source": [
        "max_tokens = np.mean(num_tokens) + 2 * np.std(num_tokens)\n",
        "max_tokens = int(max_tokens)\n",
        "max_tokens"
      ],
      "execution_count": 1164,
      "outputs": [
        {
          "output_type": "execute_result",
          "data": {
            "text/plain": [
              "51"
            ]
          },
          "metadata": {
            "tags": []
          },
          "execution_count": 1164
        }
      ]
    },
    {
      "cell_type": "code",
      "metadata": {
        "id": "ISW3pUnI1dsd",
        "colab_type": "code",
        "colab": {
          "base_uri": "https://localhost:8080/",
          "height": 34
        },
        "outputId": "d39a2a51-f0b1-4904-930a-709ab20fd0f5"
      },
      "source": [
        "np.sum(num_tokens < max_tokens) / len(num_tokens)"
      ],
      "execution_count": 1165,
      "outputs": [
        {
          "output_type": "execute_result",
          "data": {
            "text/plain": [
              "0.9554627696590118"
            ]
          },
          "metadata": {
            "tags": []
          },
          "execution_count": 1165
        }
      ]
    },
    {
      "cell_type": "code",
      "metadata": {
        "id": "Y8x_yJAA1d04",
        "colab_type": "code",
        "colab": {}
      },
      "source": [
        "tasks_train_pad = pad_sequences(tasks_train_tokens, maxlen=max_tokens,padding='post')\n",
        "tasks_test_pad = pad_sequences(tasks_test_tokens, maxlen=max_tokens,padding='post')\n",
        "tasks_val_pad = pad_sequences(tasks_val_tokens, maxlen=max_tokens,padding='post')"
      ],
      "execution_count": 1166,
      "outputs": []
    },
    {
      "cell_type": "code",
      "metadata": {
        "id": "RnngGpBQJUNF",
        "colab_type": "code",
        "colab": {
          "base_uri": "https://localhost:8080/",
          "height": 34
        },
        "outputId": "02ceb1d1-33bf-4b65-9e95-df63fb34c7f2"
      },
      "source": [
        "tasks_train_pad.shape[0]"
      ],
      "execution_count": 1167,
      "outputs": [
        {
          "output_type": "execute_result",
          "data": {
            "text/plain": [
              "1437"
            ]
          },
          "metadata": {
            "tags": []
          },
          "execution_count": 1167
        }
      ]
    },
    {
      "cell_type": "code",
      "metadata": {
        "id": "iCfHqoJs1d5m",
        "colab_type": "code",
        "colab": {
          "base_uri": "https://localhost:8080/",
          "height": 105
        },
        "outputId": "e91b5836-795b-41a2-bb90-c83d632a859a"
      },
      "source": [
        "print(\"x_train_tokens :\",tasks_train_tokens[0])\n",
        "print(\"x_train_pad :\",tasks_train_pad[0])"
      ],
      "execution_count": 1168,
      "outputs": [
        {
          "output_type": "stream",
          "text": [
            "x_train_tokens : [1, 2, 14, 12, 381, 84, 20, 51, 3, 71, 24, 381, 51, 4, 6, 33, 5, 570, 35, 83, 381, 381, 84, 165, 13, 9, 100, 749, 628, 570, 346, 35, 381, 529, 381, 84, 570, 346, 35, 381, 381, 84, 570, 346, 35, 381, 84, 381, 84, 8, 529, 23, 36, 24, 19, 24, 145, 25, 10, 29, 381, 45]\n",
            "x_train_pad : [381  51   4   6  33   5 570  35  83 381 381  84 165  13   9 100 749 628\n",
            " 570 346  35 381 529 381  84 570 346  35 381 381  84 570 346  35 381  84\n",
            " 381  84   8 529  23  36  24  19  24 145  25  10  29 381  45]\n"
          ],
          "name": "stdout"
        }
      ]
    },
    {
      "cell_type": "code",
      "metadata": {
        "id": "pXmhJOcI1d-U",
        "colab_type": "code",
        "colab": {
          "base_uri": "https://localhost:8080/",
          "height": 34
        },
        "outputId": "b1fd6df0-703a-4262-e92a-e7f22628da3d"
      },
      "source": [
        "print(\"x_train_pad.shape :\",tasks_train_pad.shape)"
      ],
      "execution_count": 1169,
      "outputs": [
        {
          "output_type": "stream",
          "text": [
            "x_train_pad.shape : (1437, 51)\n"
          ],
          "name": "stdout"
        }
      ]
    },
    {
      "cell_type": "code",
      "metadata": {
        "id": "69whe6dV1eC0",
        "colab_type": "code",
        "colab": {}
      },
      "source": [
        "idx = tokenizer_train.word_index\n",
        "inverse_map = dict(zip(idx.values(), idx.keys()))"
      ],
      "execution_count": 1170,
      "outputs": []
    },
    {
      "cell_type": "code",
      "metadata": {
        "id": "3BUxf7ZC1eHS",
        "colab_type": "code",
        "colab": {}
      },
      "source": [
        "def tokens_to_string(tokens):\n",
        "    words = [inverse_map[token] for token in tokens if token!=0]\n",
        "    text = ' '.join(words)\n",
        "    return text"
      ],
      "execution_count": 1171,
      "outputs": []
    },
    {
      "cell_type": "code",
      "metadata": {
        "id": "soXSqDWK1ePF",
        "colab_type": "code",
        "colab": {}
      },
      "source": [
        "embedding_size = 100"
      ],
      "execution_count": 1173,
      "outputs": []
    },
    {
      "cell_type": "code",
      "metadata": {
        "id": "T_xzrQGy1eNU",
        "colab_type": "code",
        "colab": {
          "base_uri": "https://localhost:8080/",
          "height": 34
        },
        "outputId": "d749b6e3-b2fa-496f-fe05-8c753ae85ff3"
      },
      "source": [
        "num_words = len(list(tokenizer_train.word_index))+1\n",
        "num_words"
      ],
      "execution_count": 1174,
      "outputs": [
        {
          "output_type": "execute_result",
          "data": {
            "text/plain": [
              "5019"
            ]
          },
          "metadata": {
            "tags": []
          },
          "execution_count": 1174
        }
      ]
    },
    {
      "cell_type": "code",
      "metadata": {
        "id": "q69r_v1S1eFX",
        "colab_type": "code",
        "colab": {
          "base_uri": "https://localhost:8080/",
          "height": 51
        },
        "outputId": "55a0adb5-127e-4ce6-aced-0130ce81b3f3"
      },
      "source": [
        "embedding_matrix = np.random.uniform(-1, 1, (num_words, embedding_size))\n",
        "for word, i in tokenizer_train.word_index.items():\n",
        "    if i < num_words:\n",
        "        embedding_vector = model_tasks3[word]\n",
        "        if embedding_vector is not None:\n",
        "            embedding_matrix[i] = embedding_vector"
      ],
      "execution_count": 1175,
      "outputs": [
        {
          "output_type": "stream",
          "text": [
            "/usr/local/lib/python3.6/dist-packages/ipykernel_launcher.py:4: DeprecationWarning: Call to deprecated `__getitem__` (Method will be removed in 4.0.0, use self.wv.__getitem__() instead).\n",
            "  after removing the cwd from sys.path.\n"
          ],
          "name": "stderr"
        }
      ]
    },
    {
      "cell_type": "code",
      "metadata": {
        "id": "wfGfELu31eBN",
        "colab_type": "code",
        "colab": {
          "base_uri": "https://localhost:8080/",
          "height": 34
        },
        "outputId": "ca3fecbb-9471-4591-f1e1-bf417b32c26f"
      },
      "source": [
        "embedding_matrix.shape"
      ],
      "execution_count": 1176,
      "outputs": [
        {
          "output_type": "execute_result",
          "data": {
            "text/plain": [
              "(5019, 100)"
            ]
          },
          "metadata": {
            "tags": []
          },
          "execution_count": 1176
        }
      ]
    },
    {
      "cell_type": "code",
      "metadata": {
        "id": "HJ1Am2Vc1d8n",
        "colab_type": "code",
        "colab": {
          "base_uri": "https://localhost:8080/",
          "height": 238
        },
        "outputId": "ea8f6e1f-5d41-4647-ac48-93b47b785359"
      },
      "source": [
        "embedding_matrix"
      ],
      "execution_count": 1177,
      "outputs": [
        {
          "output_type": "execute_result",
          "data": {
            "text/plain": [
              "array([[-0.88539008, -0.81474974, -0.17423336, ...,  0.24740552,\n",
              "         0.42738232,  0.81563106],\n",
              "       [-0.94099486,  1.74128103,  2.87256718, ...,  4.27785015,\n",
              "        -4.63165283, -3.41396356],\n",
              "       [ 2.36465836,  1.29765427,  2.10157108, ...,  2.28315616,\n",
              "        -3.77031183, -1.92244136],\n",
              "       ...,\n",
              "       [-0.46344689,  0.53325528,  0.98430526, ..., -0.42692557,\n",
              "        -0.60548502, -0.72591448],\n",
              "       [-0.13080975, -0.03138974,  0.18106954, ...,  0.133011  ,\n",
              "        -0.55444998, -0.04984037],\n",
              "       [-0.13481465, -0.11191131,  0.02377787, ...,  0.23642012,\n",
              "        -0.42002228,  0.15169679]])"
            ]
          },
          "metadata": {
            "tags": []
          },
          "execution_count": 1177
        }
      ]
    },
    {
      "cell_type": "code",
      "metadata": {
        "id": "7PnM3i8A1d3z",
        "colab_type": "code",
        "colab": {}
      },
      "source": [
        "sequence_length = max_tokens\n",
        "vocabulary_size = num_words\n",
        "embedding_dim = embedding_size\n",
        "filter_sizes = [3,4,5]\n",
        "batch_size = 256\n",
        "# num_filters = 512\n",
        "# drop = 0.5"
      ],
      "execution_count": 1178,
      "outputs": []
    },
    {
      "cell_type": "code",
      "metadata": {
        "id": "4AXPrFArfAWM",
        "colab_type": "code",
        "colab": {
          "base_uri": "https://localhost:8080/",
          "height": 34
        },
        "outputId": "a570226c-a937-4d51-c049-92ab033fc1d6"
      },
      "source": [
        "embedding_layer = Embedding(input_dim=num_words,output_dim=embedding_size,weights= [embedding_matrix],input_length=max_tokens, trainable=False,name='embedding_layer')\n",
        "inputs = Input(shape=(sequence_length,))\n",
        "embedding = embedding_layer(inputs)\n",
        "embedding"
      ],
      "execution_count": 1179,
      "outputs": [
        {
          "output_type": "execute_result",
          "data": {
            "text/plain": [
              "<tf.Tensor 'embedding_layer_32/embedding_lookup/Identity_1:0' shape=(None, 51, 100) dtype=float32>"
            ]
          },
          "metadata": {
            "tags": []
          },
          "execution_count": 1179
        }
      ]
    },
    {
      "cell_type": "code",
      "metadata": {
        "id": "QTJfYrqYlIEj",
        "colab_type": "code",
        "colab": {
          "base_uri": "https://localhost:8080/",
          "height": 51
        },
        "outputId": "75c1047e-4fc1-4f9c-dd7a-b36b009a009d"
      },
      "source": [
        "sample_size = tasks_train_pad.shape\n",
        "print(sample_size)\n",
        "print(len(tasks_train_pad[0]))"
      ],
      "execution_count": 1181,
      "outputs": [
        {
          "output_type": "stream",
          "text": [
            "(1437, 51)\n",
            "51\n"
          ],
          "name": "stdout"
        }
      ]
    },
    {
      "cell_type": "code",
      "metadata": {
        "id": "DtZSKAUo1dwl",
        "colab_type": "code",
        "colab": {
          "base_uri": "https://localhost:8080/",
          "height": 1000
        },
        "outputId": "d8bbe287-2fec-470d-eca5-845462067ce3"
      },
      "source": [
        "#CNN architecture\n",
        "\n",
        "num_classes = 2\n",
        "\n",
        "#Training params\n",
        "# batch_size = 256 \n",
        "num_epochs = 20\n",
        "\n",
        "#Model parameters\n",
        "num_filters = 64  \n",
        "embed_dim = embedding_size \n",
        "weight_decay = 1e-4\n",
        "\n",
        "print(\"training CNN ...\")\n",
        "model = Sequential()\n",
        "\n",
        "#Model add word2vec embedding\n",
        "\n",
        "model.add(Embedding(input_dim=num_words,\n",
        "                    output_dim=embedding_size,\n",
        "                    weights= [embedding_matrix],\n",
        "                    input_length=max_tokens,        \n",
        "                    trainable=True,              #the layer is trained\n",
        "                    name='embedding_layer'))\n",
        "model.add(layers.Conv1D(filters = num_filters, kernel_size = max_tokens, activation='relu', padding='same',kernel_regularizer=regularizers.l2(weight_decay)))\n",
        "model.add(layers.MaxPooling1D(2))\n",
        "model.add(Dropout(0.25))\n",
        "\n",
        "model.add(layers.Conv1D(filters = num_filters+num_filters, kernel_size = max_tokens, activation='relu', padding='same',kernel_regularizer=regularizers.l2(weight_decay)))\n",
        "model.add(layers.GlobalMaxPooling1D())\n",
        "model.add(Dropout(0.25))\n",
        "\n",
        "model.add(layers.Flatten())\n",
        "model.add(layers.Dense(128, activation='relu', kernel_regularizer=regularizers.l2(weight_decay)))\n",
        "# model.add(BatchNormalization())\n",
        "model.add(layers.Dense(num_classes, activation='softmax'))\n",
        "\n",
        "adam = Adam(lr=0.001, beta_1=0.9, beta_2=0.999, epsilon=1e-08, decay=0.0)\n",
        "sgd = SGD(lr=1e-2, decay=1e-6, momentum=0.9, nesterov=True)\n",
        "model.compile(loss=tf.keras.losses.MeanAbsoluteError(), optimizer = sgd,metrics=['accuracy'])\n",
        "model.summary()\n",
        "\n",
        "\n",
        "history = model.fit(tasks_train_pad, to_categorical(y_train), batch_size=batch_size, epochs=num_epochs, validation_data=(tasks_test_pad, to_categorical(y_test)),\n",
        "                 shuffle=True, verbose=2)"
      ],
      "execution_count": 1184,
      "outputs": [
        {
          "output_type": "stream",
          "text": [
            "training CNN ...\n",
            "Model: \"sequential_18\"\n",
            "_________________________________________________________________\n",
            "Layer (type)                 Output Shape              Param #   \n",
            "=================================================================\n",
            "embedding_layer (Embedding)  (None, 51, 100)           501900    \n",
            "_________________________________________________________________\n",
            "conv1d_36 (Conv1D)           (None, 51, 64)            326464    \n",
            "_________________________________________________________________\n",
            "max_pooling1d_18 (MaxPooling (None, 25, 64)            0         \n",
            "_________________________________________________________________\n",
            "dropout_36 (Dropout)         (None, 25, 64)            0         \n",
            "_________________________________________________________________\n",
            "conv1d_37 (Conv1D)           (None, 25, 128)           417920    \n",
            "_________________________________________________________________\n",
            "global_max_pooling1d_18 (Glo (None, 128)               0         \n",
            "_________________________________________________________________\n",
            "dropout_37 (Dropout)         (None, 128)               0         \n",
            "_________________________________________________________________\n",
            "flatten_18 (Flatten)         (None, 128)               0         \n",
            "_________________________________________________________________\n",
            "dense_36 (Dense)             (None, 128)               16512     \n",
            "_________________________________________________________________\n",
            "dense_37 (Dense)             (None, 2)                 258       \n",
            "=================================================================\n",
            "Total params: 1,263,054\n",
            "Trainable params: 1,263,054\n",
            "Non-trainable params: 0\n",
            "_________________________________________________________________\n",
            "Train on 1437 samples, validate on 480 samples\n",
            "Epoch 1/20\n",
            "1437/1437 - 7s - loss: 0.5104 - accuracy: 0.5108 - val_loss: 0.4831 - val_accuracy: 0.6042\n",
            "Epoch 2/20\n",
            "1437/1437 - 6s - loss: 0.3548 - accuracy: 0.7230 - val_loss: 0.3410 - val_accuracy: 0.7083\n",
            "Epoch 3/20\n",
            "1437/1437 - 6s - loss: 0.1763 - accuracy: 0.8782 - val_loss: 0.2306 - val_accuracy: 0.8292\n",
            "Epoch 4/20\n",
            "1437/1437 - 6s - loss: 0.1272 - accuracy: 0.9068 - val_loss: 0.1960 - val_accuracy: 0.8521\n",
            "Epoch 5/20\n",
            "1437/1437 - 6s - loss: 0.1170 - accuracy: 0.9130 - val_loss: 0.1814 - val_accuracy: 0.8542\n",
            "Epoch 6/20\n",
            "1437/1437 - 6s - loss: 0.1011 - accuracy: 0.9304 - val_loss: 0.1773 - val_accuracy: 0.8562\n",
            "Epoch 7/20\n",
            "1437/1437 - 6s - loss: 0.0931 - accuracy: 0.9374 - val_loss: 0.2143 - val_accuracy: 0.8250\n",
            "Epoch 8/20\n",
            "1437/1437 - 6s - loss: 0.0839 - accuracy: 0.9492 - val_loss: 0.2051 - val_accuracy: 0.8313\n",
            "Epoch 9/20\n",
            "1437/1437 - 6s - loss: 0.0794 - accuracy: 0.9527 - val_loss: 0.1781 - val_accuracy: 0.8542\n",
            "Epoch 10/20\n",
            "1437/1437 - 6s - loss: 0.0765 - accuracy: 0.9541 - val_loss: 0.1881 - val_accuracy: 0.8438\n",
            "Epoch 11/20\n",
            "1437/1437 - 6s - loss: 0.0737 - accuracy: 0.9576 - val_loss: 0.1952 - val_accuracy: 0.8417\n",
            "Epoch 12/20\n",
            "1437/1437 - 6s - loss: 0.0687 - accuracy: 0.9645 - val_loss: 0.1919 - val_accuracy: 0.8417\n",
            "Epoch 13/20\n",
            "1437/1437 - 6s - loss: 0.0633 - accuracy: 0.9673 - val_loss: 0.1966 - val_accuracy: 0.8313\n",
            "Epoch 14/20\n",
            "1437/1437 - 6s - loss: 0.0624 - accuracy: 0.9680 - val_loss: 0.1779 - val_accuracy: 0.8542\n",
            "Epoch 15/20\n",
            "1437/1437 - 6s - loss: 0.0586 - accuracy: 0.9736 - val_loss: 0.1758 - val_accuracy: 0.8562\n",
            "Epoch 16/20\n",
            "1437/1437 - 6s - loss: 0.0555 - accuracy: 0.9743 - val_loss: 0.1805 - val_accuracy: 0.8500\n",
            "Epoch 17/20\n",
            "1437/1437 - 6s - loss: 0.0549 - accuracy: 0.9756 - val_loss: 0.1814 - val_accuracy: 0.8521\n",
            "Epoch 18/20\n",
            "1437/1437 - 6s - loss: 0.0548 - accuracy: 0.9763 - val_loss: 0.1760 - val_accuracy: 0.8604\n",
            "Epoch 19/20\n",
            "1437/1437 - 6s - loss: 0.0544 - accuracy: 0.9763 - val_loss: 0.1756 - val_accuracy: 0.8542\n",
            "Epoch 20/20\n",
            "1437/1437 - 6s - loss: 0.0528 - accuracy: 0.9777 - val_loss: 0.1727 - val_accuracy: 0.8562\n"
          ],
          "name": "stdout"
        }
      ]
    },
    {
      "cell_type": "code",
      "metadata": {
        "id": "qvZkJXMBXP0_",
        "colab_type": "code",
        "colab": {}
      },
      "source": [
        "from matplotlib import pyplot"
      ],
      "execution_count": 1185,
      "outputs": []
    },
    {
      "cell_type": "code",
      "metadata": {
        "id": "c1Q1BarscvqA",
        "colab_type": "code",
        "colab": {
          "base_uri": "https://localhost:8080/",
          "height": 295
        },
        "outputId": "505262c6-8fb2-493e-805a-f6aac860a8d9"
      },
      "source": [
        "pyplot.plot(history.history['loss'])\n",
        "pyplot.plot(history.history['val_loss'])\n",
        "pyplot.title('model loss')\n",
        "pyplot.ylabel('loss')\n",
        "pyplot.xlabel('epoch')\n",
        "pyplot.legend(['train', 'test'], loc='upper left')\n",
        "pyplot.savefig('loss/loss_template.jpg')\n",
        "pyplot.show()"
      ],
      "execution_count": 1188,
      "outputs": [
        {
          "output_type": "display_data",
          "data": {
            "image/png": "[encoded data removed]",
            "text/plain": [
              "<Figure size 432x288 with 1 Axes>"
            ]
          },
          "metadata": {
            "tags": [],
            "needs_background": "light"
          }
        }
      ]
    },
    {
      "cell_type": "code",
      "metadata": {
        "id": "GgsJ0lcddco6",
        "colab_type": "code",
        "colab": {
          "base_uri": "https://localhost:8080/",
          "height": 295
        },
        "outputId": "ef708359-47dd-414e-9b86-b2b6a85bbb84"
      },
      "source": [
        "pyplot.plot(history.history['accuracy'])\n",
        "pyplot.plot(history.history['val_accuracy'])\n",
        "pyplot.title('model accuracy')\n",
        "pyplot.ylabel('accuracy')\n",
        "pyplot.xlabel('epoch')\n",
        "pyplot.legend(['train', 'test'], loc='upper left')\n",
        "pyplot.savefig('accs/acc_template.jpg')\n",
        "pyplot.show()"
      ],
      "execution_count": 1191,
      "outputs": [
        {
          "output_type": "display_data",
          "data": {
            "image/png": "[encoded data removed]",
            "text/plain": [
              "<Figure size 432x288 with 1 Axes>"
            ]
          },
          "metadata": {
            "tags": [],
            "needs_background": "light"
          }
        }
      ]
    },
    {
      "cell_type": "code",
      "metadata": {
        "id": "mvl0Ihfr5wKQ",
        "colab_type": "code",
        "colab": {}
      },
      "source": [
        "score = model.evaluate(tasks_val_pad, to_categorical(y_val), verbose=0)"
      ],
      "execution_count": 1192,
      "outputs": []
    },
    {
      "cell_type": "code",
      "metadata": {
        "id": "nFBRl3S21doV",
        "colab_type": "code",
        "colab": {
          "base_uri": "https://localhost:8080/",
          "height": 51
        },
        "outputId": "70ef56d9-255c-4f1c-f0c3-b6f958ef5fa0"
      },
      "source": [
        "print('loss:', score[0])\n",
        "print('Validation accuracy:', score[1])"
      ],
      "execution_count": 1193,
      "outputs": [
        {
          "output_type": "stream",
          "text": [
            "loss: 0.1497260175318708\n",
            "Validation accuracy: 0.8830898\n"
          ],
          "name": "stdout"
        }
      ]
    },
    {
      "cell_type": "code",
      "metadata": {
        "id": "nLa57Nr2Jkp-",
        "colab_type": "code",
        "colab": {}
      },
      "source": [
        "y_pred=model.predict_classes(tasks_val_pad)"
      ],
      "execution_count": 1194,
      "outputs": []
    },
    {
      "cell_type": "code",
      "metadata": {
        "id": "vzD0liqj1djU",
        "colab_type": "code",
        "colab": {}
      },
      "source": [
        "from sklearn.metrics import confusion_matrix"
      ],
      "execution_count": 1195,
      "outputs": []
    },
    {
      "cell_type": "code",
      "metadata": {
        "id": "g7XsxKB6J8rR",
        "colab_type": "code",
        "colab": {
          "base_uri": "https://localhost:8080/",
          "height": 51
        },
        "outputId": "fd22e5fd-552b-44c9-e095-a142d54ffcbb"
      },
      "source": [
        "cm = confusion_matrix(y_val, y_pred)\n",
        "print(cm)"
      ],
      "execution_count": 1196,
      "outputs": [
        {
          "output_type": "stream",
          "text": [
            "[[209  30]\n",
            " [ 26 214]]\n"
          ],
          "name": "stdout"
        }
      ]
    },
    {
      "cell_type": "code",
      "metadata": {
        "id": "6uNzyGbWQ37m",
        "colab_type": "code",
        "colab": {}
      },
      "source": [
        "tp = cm[1][1]\n",
        "fp = cm[0][1]\n",
        "fn = cm[1][0]\n",
        "tn= cm[0][0]\n",
        "all_val = tp+fp+fn+tn"
      ],
      "execution_count": 1197,
      "outputs": []
    },
    {
      "cell_type": "code",
      "metadata": {
        "id": "hM7JN5GFh5_S",
        "colab_type": "code",
        "colab": {}
      },
      "source": [
        "precision = round(tp/(tp+fp),2)"
      ],
      "execution_count": 1198,
      "outputs": []
    },
    {
      "cell_type": "code",
      "metadata": {
        "id": "JiHyJuO7iNnh",
        "colab_type": "code",
        "colab": {
          "base_uri": "https://localhost:8080/",
          "height": 34
        },
        "outputId": "91ab4c93-e0a0-4979-b2a6-cdb4c7bf036b"
      },
      "source": [
        "recall = round(tp/(tp+fn), 2)\n",
        "recall"
      ],
      "execution_count": 1199,
      "outputs": [
        {
          "output_type": "execute_result",
          "data": {
            "text/plain": [
              "0.89"
            ]
          },
          "metadata": {
            "tags": []
          },
          "execution_count": 1199
        }
      ]
    },
    {
      "cell_type": "code",
      "metadata": {
        "id": "SLEroscui3QI",
        "colab_type": "code",
        "colab": {
          "base_uri": "https://localhost:8080/",
          "height": 34
        },
        "outputId": "066828c7-1ae4-4c2e-cbbf-b523482fa1ef"
      },
      "source": [
        "f1_score = (2*precision*recall)/(precision+recall)\n",
        "f1_score"
      ],
      "execution_count": 1200,
      "outputs": [
        {
          "output_type": "execute_result",
          "data": {
            "text/plain": [
              "0.8849717514124293"
            ]
          },
          "metadata": {
            "tags": []
          },
          "execution_count": 1200
        }
      ]
    },
    {
      "cell_type": "code",
      "metadata": {
        "id": "WULeRW36-TSK",
        "colab_type": "code",
        "colab": {
          "base_uri": "https://localhost:8080/",
          "height": 34
        },
        "outputId": "4f21e55c-6ecc-4268-eb4b-279919997fe2"
      },
      "source": [
        "precision_neg = round(tn/(tn+fn),2)\n",
        "precision_neg"
      ],
      "execution_count": 1201,
      "outputs": [
        {
          "output_type": "execute_result",
          "data": {
            "text/plain": [
              "0.89"
            ]
          },
          "metadata": {
            "tags": []
          },
          "execution_count": 1201
        }
      ]
    },
    {
      "cell_type": "code",
      "metadata": {
        "id": "rReXnIFz-TcW",
        "colab_type": "code",
        "colab": {
          "base_uri": "https://localhost:8080/",
          "height": 34
        },
        "outputId": "4813f8a9-673b-4557-dcac-f9e3aca3465e"
      },
      "source": [
        "recall_neg = round(tn/(tn+fp), 2)\n",
        "recall_neg"
      ],
      "execution_count": 1202,
      "outputs": [
        {
          "output_type": "execute_result",
          "data": {
            "text/plain": [
              "0.87"
            ]
          },
          "metadata": {
            "tags": []
          },
          "execution_count": 1202
        }
      ]
    },
    {
      "cell_type": "code",
      "metadata": {
        "id": "7vJM60OQ-Tpf",
        "colab_type": "code",
        "colab": {
          "base_uri": "https://localhost:8080/",
          "height": 34
        },
        "outputId": "9dfdd964-ec82-4509-dcb7-01d9520aa435"
      },
      "source": [
        "f1_score = (2*precision_neg*recall_neg)/(precision_neg+recall_neg)\n",
        "f1_score"
      ],
      "execution_count": 1203,
      "outputs": [
        {
          "output_type": "execute_result",
          "data": {
            "text/plain": [
              "0.8798863636363636"
            ]
          },
          "metadata": {
            "tags": []
          },
          "execution_count": 1203
        }
      ]
    },
    {
      "cell_type": "code",
      "metadata": {
        "id": "6tunPUyTjvVP",
        "colab_type": "code",
        "colab": {}
      },
      "source": [
        "from sklearn.metrics import roc_curve\n",
        "from sklearn.metrics import roc_auc_score\n",
        "from matplotlib import pyplot"
      ],
      "execution_count": 1204,
      "outputs": []
    },
    {
      "cell_type": "code",
      "metadata": {
        "id": "PmO_NxctrFgI",
        "colab_type": "code",
        "colab": {}
      },
      "source": [
        "ns_probs = [0 for _ in range(len(y_val))]"
      ],
      "execution_count": 1205,
      "outputs": []
    },
    {
      "cell_type": "code",
      "metadata": {
        "id": "EFR6XmR0rHLn",
        "colab_type": "code",
        "colab": {}
      },
      "source": [
        "ns_auc = roc_auc_score(y_val, ns_probs)\n",
        "lr_auc = roc_auc_score(y_val, y_pred)"
      ],
      "execution_count": 1206,
      "outputs": []
    },
    {
      "cell_type": "code",
      "metadata": {
        "id": "B130-0eQrHOu",
        "colab_type": "code",
        "colab": {
          "base_uri": "https://localhost:8080/",
          "height": 51
        },
        "outputId": "13e833b7-a1d9-46a5-e3de-9b763cf15042"
      },
      "source": [
        "print('No Skill: ROC AUC=%.3f' % (ns_auc))\n",
        "print('Our model: ROC AUC=%.3f' % (lr_auc))"
      ],
      "execution_count": 1207,
      "outputs": [
        {
          "output_type": "stream",
          "text": [
            "No Skill: ROC AUC=0.500\n",
            "Our model: ROC AUC=0.883\n"
          ],
          "name": "stdout"
        }
      ]
    },
    {
      "cell_type": "code",
      "metadata": {
        "id": "bMl6xPm8fuW3",
        "colab_type": "code",
        "colab": {
          "base_uri": "https://localhost:8080/",
          "height": 279
        },
        "outputId": "33da9bbd-3b50-4c4a-b29a-0f8f2744a93d"
      },
      "source": [
        "# calculate roc curves\n",
        "ns_fpr, ns_tpr, _ = roc_curve(y_val, ns_probs)\n",
        "\n",
        "lr_fpr, lr_tpr, _ = roc_curve(y_val, y_pred)\n",
        "# plot the roc curve for the model\n",
        "pyplot.plot(ns_fpr, ns_tpr, linestyle='--', label='Random Choice')\n",
        "pyplot.plot(lr_fpr, lr_tpr, marker='.', label='Our Model')\n",
        "# axis labels\n",
        "pyplot.xlabel('False Positive Rate')\n",
        "pyplot.ylabel('True Positive Rate')\n",
        "# show the legend\n",
        "pyplot.legend()\n",
        "pyplot.savefig('rocs/roc_template.jpg')\n",
        "# show the plot\n",
        "pyplot.show()"
      ],
      "execution_count": 1208,
      "outputs": [
        {
          "output_type": "display_data",
          "data": {
            "image/png": "[encoded data removed]",
            "text/plain": [
              "<Figure size 432x288 with 1 Axes>"
            ]
          },
          "metadata": {
            "tags": [],
            "needs_background": "light"
          }
        }
      ]
    },
    {
      "cell_type": "code",
      "metadata": {
        "id": "C5rm-pUtjofX",
        "colab_type": "code",
        "colab": {}
      },
      "source": [
        ""
      ],
      "execution_count": 1208,
      "outputs": []
    }
  ]
}